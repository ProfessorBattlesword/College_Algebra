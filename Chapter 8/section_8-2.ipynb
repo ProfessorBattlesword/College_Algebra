{
 "cells": [
  {
   "cell_type": "markdown",
   "metadata": {
    "slideshow": {
     "slide_type": "slide"
    }
   },
   "source": [
    "### Section 8.2: Arithmetic Sequences"
   ]
  },
  {
   "cell_type": "markdown",
   "metadata": {
    "slideshow": {
     "slide_type": "slide"
    }
   },
   "source": [
    "##### Objective 1: Writing Terms of an Arithmetic Sequence"
   ]
  },
  {
   "cell_type": "markdown",
   "metadata": {
    "slideshow": {
     "slide_type": "fragment"
    }
   },
   "source": [
    "##### Definition:\n",
    "\n",
    "An <em><b>arithmetic sequence</b></em> is a sequence in which each term after the first differs from the preceding term by a constant amount.\n",
    "\n",
    "The difference between <em>consecutive</em> terms is called the <em><b>common difference</b></em> of the sequence.\n",
    "\n",
    "An arithmetic sequence is a linear function whose domain is the set of positive integers."
   ]
  },
  {
   "cell_type": "markdown",
   "metadata": {
    "slideshow": {
     "slide_type": "fragment"
    }
   },
   "source": [
    "##### Example:\n",
    "\n",
    "Write the first six terms of the arithmetic sequence witht he given first term ($a_1$) and common difference ($d$): $a_1 = 300, d = 50$"
   ]
  },
  {
   "cell_type": "markdown",
   "metadata": {
    "slideshow": {
     "slide_type": "fragment"
    }
   },
   "source": [
    "##### Solution:\n",
    "\n",
    "First term (given): $\\boxed{a_1 = 300}$\n",
    "\n",
    "Common difference (given): $d = 50$\n",
    "\n",
    "This means that $a_2 = a_1 + d \\Rightarrow a_2 = 300 + 50  \\Rightarrow \\boxed{a_2 = 350}$.\n",
    "\n",
    "Therefore, $a_3 = a_2 + d \\Rightarrow a_3 = 350 + 50 \\Rightarrow \\boxed{a_3 = 400}$.\n",
    "\n",
    "Continuing in a similar fashion:\n",
    "\n",
    "$$\\boxed{a_4 = 450}, \\boxed{a_5 = 500}, \\boxed{a_6 = 550}$$"
   ]
  },
  {
   "cell_type": "markdown",
   "metadata": {
    "slideshow": {
     "slide_type": "slide"
    }
   },
   "source": [
    "##### Example:\n",
    "\n",
    "Write the first six terms of the arithmetic sequence with the given first term and common difference: $a_1 = 190, d = -20$."
   ]
  },
  {
   "cell_type": "markdown",
   "metadata": {
    "slideshow": {
     "slide_type": "fragment"
    }
   },
   "source": [
    "##### Solution:\n",
    "\n",
    "Given: $\\boxed{a_1 = 190}$ and $d = -20 \\Rightarrow$\n",
    "\n",
    "$$\\boxed{a_2 = a_1 + d = 170} \\\\ \\Downarrow \\\\ \\boxed{a_3 = a_2 + d = 150} \\\\ \\Downarrow \\\\ \\boxed{a_4 = a_3 + d = 130 }\\\\ \\Downarrow \\\\ \\boxed{a_5 = a_4 + d = 110} \\\\ \\Downarrow \\\\ \\boxed{a_6 = a_5 + d = 90}$$"
   ]
  },
  {
   "cell_type": "markdown",
   "metadata": {
    "slideshow": {
     "slide_type": "slide"
    }
   },
   "source": [
    "##### Objective 2: Using the Formula for the General Term of an Arithmetic Sequence"
   ]
  },
  {
   "cell_type": "markdown",
   "metadata": {
    "slideshow": {
     "slide_type": "fragment"
    }
   },
   "source": [
    "##### Definition:\n",
    "\n",
    "The $n$th term of a sequence is also referred to as the <em><b>general term</b></em> of a sequence.\n",
    "\n",
    "For an arithmetic sequence, the general term is given by $a_n = a_1 + (n-1)d$ where $a_1$ is the first term in the arithmetic sequence and $d$ is the common difference of the arithmetic sequence."
   ]
  },
  {
   "cell_type": "markdown",
   "metadata": {
    "slideshow": {
     "slide_type": "fragment"
    }
   },
   "source": [
    "##### Example:\n",
    "\n",
    "Use the formula for the general term ($n$th term) of an arithmetic sequence to find the $50$th term of the arithmetic sequence for which its first term is $a_1 = 4$ and its common difference is $d = 3$."
   ]
  },
  {
   "cell_type": "markdown",
   "metadata": {
    "slideshow": {
     "slide_type": "fragment"
    }
   },
   "source": [
    "##### Solution:\n",
    "\n",
    "We simply need to identify what we know and use the formula.\n",
    "\n",
    "The formula for an arithmetic sequence: $a_n = a_1 + (n-1)d$.\n",
    "\n",
    "What we know: $a_1 = 4$, $d= 3$, and we are looking for the $50$the term $\\Rightarrow n = 50$.\n",
    "\n",
    "Put it all together:\n",
    "\n",
    "$$a_{50} = a_1 + (50-1)d \\\\ a_{50} = 4 + (50 - 1) \\cdot 3 \\\\ a_{50} = 4 + 49 \\cdot 3 \\\\ \\boxed{a_{50} = 151}$$"
   ]
  },
  {
   "cell_type": "markdown",
   "metadata": {
    "slideshow": {
     "slide_type": "slide"
    }
   },
   "source": [
    "##### Example:\n",
    "\n",
    "Use the formula for the general term ($n$th term) of an arithmetic sequence to find the $90$th term of the arithmetic sequence for which its first term is $a_1 = 4$ and its common difference is $d=3$."
   ]
  },
  {
   "cell_type": "markdown",
   "metadata": {
    "slideshow": {
     "slide_type": "fragment"
    }
   },
   "source": [
    "##### Solution:\n",
    "\n",
    "We need to identify what we know and use the formula.\n",
    "\n",
    "The formula for an arithmetic sequence: $a_n = a_1 + (n-1)d$.\n",
    "\n",
    "What we know: $a_1 = 4$, $d= 3$, and we are looking for the $90$the term $\\Rightarrow n = 90$.\n",
    "\n",
    "Put it all together:\n",
    "\n",
    "$$a_{90} = a_1 + (90-1)d \\\\ a_{90} = 4 + (90 - 1) \\cdot 3 \\\\ a_{90} = 4 + 89 \\cdot 3 \\\\ \\boxed{a_{90} = 271}$$"
   ]
  },
  {
   "cell_type": "markdown",
   "metadata": {
    "slideshow": {
     "slide_type": "slide"
    }
   },
   "source": [
    "##### Example:\n",
    "\n",
    "Write the formula for the general term of the arithmetic squence given. Then use the formula for $a_n$ to find the $20$th term of the sequence.\n",
    "\n",
    "$$1, 9, 17, 25, \\dots$$"
   ]
  },
  {
   "cell_type": "markdown",
   "metadata": {
    "slideshow": {
     "slide_type": "fragment"
    }
   },
   "source": [
    "##### Solution:\n",
    "\n",
    "We are given the first few terms of the sequence (note that $a_1 = 1$) and told that the sequence is arithmetic. So we need to find the common difference."
   ]
  },
  {
   "cell_type": "markdown",
   "metadata": {
    "slideshow": {
     "slide_type": "fragment"
    }
   },
   "source": [
    "We can identify the common difference by taking any two <em>consecutive</em> terms and subtract the former from the latter:\n",
    "\n",
    "$$d = 9 - 1 = 8$$"
   ]
  },
  {
   "cell_type": "markdown",
   "metadata": {
    "slideshow": {
     "slide_type": "fragment"
    }
   },
   "source": [
    "Since we know $a_1=1$, we can now use the general term formula for arithmetic sequences to find the $20$th term:\n",
    "\n",
    "$$a_n = a_1 + (n-1)d \\\\ a_{20} = a_1 + (20-1)d \\\\ a_{20} = 1 + 19 \\cdot 8 \\\\ \\boxed{a_{20} = 153}$$"
   ]
  },
  {
   "cell_type": "markdown",
   "metadata": {
    "slideshow": {
     "slide_type": "slide"
    }
   },
   "source": [
    "##### Example:\n",
    "\n",
    "Write the formula for the general term of the arithmetic sequence given. Then use the formula for $a_n$ to find the $15$th term of the sequence.\n",
    "\n",
    "$$4,-1,-6,-11, \\dots$$"
   ]
  },
  {
   "cell_type": "markdown",
   "metadata": {
    "slideshow": {
     "slide_type": "fragment"
    }
   },
   "source": [
    "##### Solution:\n",
    "\n",
    "Again, we note that $a_1 =4$ and find the common difference:\n",
    "\n",
    "$$d = -1 - 4 = -5 \\\\ \\Downarrow$$\n",
    "\n",
    "$$a_n = a_1 + (n-1)d \\\\ a_{15} = a_1 + (15-1)d \\\\ a_{15} = 4 + 14 \\cdot (-5) \\\\ \\boxed{a_{15} = -66}$$"
   ]
  },
  {
   "cell_type": "markdown",
   "metadata": {
    "slideshow": {
     "slide_type": "slide"
    }
   },
   "source": [
    "##### Objective 3: Using the Formula for the Sum of the First $n$ Terms of an Arithmetic Sequence"
   ]
  },
  {
   "cell_type": "markdown",
   "metadata": {
    "slideshow": {
     "slide_type": "fragment"
    }
   },
   "source": [
    "##### Definition:\n",
    "\n",
    "The <em><b>sum, $S_n$, of the first $n$ terms of an arithmetic sequence</b></em> is given by $S_n = \\frac{n}{2} (a_1 + a_n)$, where $a_1$ is the first term of the arithmetic sequence and $a_n$ is the $n$th term of the arithmetic sequence."
   ]
  },
  {
   "cell_type": "markdown",
   "metadata": {
    "slideshow": {
     "slide_type": "slide"
    }
   },
   "source": [
    "##### Example:\n",
    "\n",
    "Find the sum of the first $20$ terms of the sequence $4, 10, 16, 22, \\dots$."
   ]
  },
  {
   "cell_type": "markdown",
   "metadata": {
    "slideshow": {
     "slide_type": "fragment"
    }
   },
   "source": [
    "##### Solution:\n",
    "\n",
    "Since we desire the sum of the first $20$ terms we have\n",
    "\n",
    "$$S_{20} = \\frac{20}{2} (a_1 + a_{20})$$\n",
    "\n",
    "But this means we need to find $a_{20}$.\n",
    "\n",
    "To do this we need the first term and the common difference and then use the formula for the $n$th term of an arithmetic sequence."
   ]
  },
  {
   "cell_type": "markdown",
   "metadata": {
    "slideshow": {
     "slide_type": "fragment"
    }
   },
   "source": [
    "So we have $a_1 = 4$ and $d = 10 - 4 = 6$ which gives us\n",
    "\n",
    "$$a_{n} = a_1 + (n-1)d \\\\ a_{20} = 4 + (20-1) \\cdot 6 \\\\ a_{20} = 118$$"
   ]
  },
  {
   "cell_type": "markdown",
   "metadata": {
    "slideshow": {
     "slide_type": "fragment"
    }
   },
   "source": [
    "Now we apply this to the summation formula:\n",
    "\n",
    "$$S_{20} = \\frac{20}{2} (a_1 + a_{20}) \\\\ S_{20} = 10 \\cdot (4 + 118) \\\\ S_{20} = 1220$$"
   ]
  },
  {
   "cell_type": "markdown",
   "metadata": {
    "slideshow": {
     "slide_type": "slide"
    }
   },
   "source": [
    "##### Example:\n",
    "\n",
    "Find the sum of the first $20$ terms of the sequence $-10, -4, 2, 8, \\dots$."
   ]
  },
  {
   "cell_type": "markdown",
   "metadata": {
    "slideshow": {
     "slide_type": "fragment"
    }
   },
   "source": [
    "##### Solution:\n",
    "\n",
    "Again, we need to use the formula $S_n = \\frac{n}{2} (a_1 + a_n)$, which means we need to find $a_n$ for the desired number of terms $n$. In this case $n=20$, $a_1 = -10$, and $d = -4 - (-10) = 6$ so we have\n",
    "\n",
    "$$a_{20} = -10 + (20-1) \\cdot 6 \\\\ a_{20} = 104 \\\\ \\Downarrow \\\\ S_{20} = \\frac{20}{2} (-10 + 104) \\\\ S_{20} = 10 \\cdot (94) \\\\ S_{20} = 940$$"
   ]
  },
  {
   "cell_type": "markdown",
   "metadata": {
    "slideshow": {
     "slide_type": "slide"
    }
   },
   "source": [
    "##### End of Section"
   ]
  }
 ],
 "metadata": {
  "celltoolbar": "Slideshow",
  "kernelspec": {
   "display_name": "Python 3",
   "language": "python",
   "name": "python3"
  },
  "language_info": {
   "codemirror_mode": {
    "name": "ipython",
    "version": 3
   },
   "file_extension": ".py",
   "mimetype": "text/x-python",
   "name": "python",
   "nbconvert_exporter": "python",
   "pygments_lexer": "ipython3",
   "version": "3.7.6"
  },
  "rise": {
   "enable_chalkboard": true,
   "theme": "sky",
   "transition": "zoom"
  }
 },
 "nbformat": 4,
 "nbformat_minor": 4
}
