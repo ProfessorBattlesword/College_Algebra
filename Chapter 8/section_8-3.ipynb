{
 "cells": [
  {
   "cell_type": "markdown",
   "metadata": {
    "slideshow": {
     "slide_type": "slide"
    }
   },
   "source": [
    "### Section 8.3: Geometric Sequences and Series"
   ]
  },
  {
   "cell_type": "markdown",
   "metadata": {
    "slideshow": {
     "slide_type": "slide"
    }
   },
   "source": [
    "##### Objective 1: Writing Terms of a Geometric Sequence"
   ]
  },
  {
   "cell_type": "markdown",
   "metadata": {
    "slideshow": {
     "slide_type": "fragment"
    }
   },
   "source": [
    "##### Definition:\n",
    "\n",
    "A <em><b>geometric sequence</b></em> is a sequence in which each term after the first is obtained by multiplying the preceding term by a fixed, nonzero constant.\n",
    "\n",
    "The amount by which we multiply each time is called the <em><b>common ratio</b></em> of the sequence and is denoted by $r$.\n",
    "\n",
    "A geometric sequence with a positive common ratio other than $1$ is an exponential function whose domain is the set of positive integers."
   ]
  },
  {
   "cell_type": "markdown",
   "metadata": {
    "slideshow": {
     "slide_type": "fragment"
    }
   },
   "source": [
    "##### Example:\n",
    "\n",
    "Write the first five terms of the geometric sequence with the given first term and common ratio: $a_1 = 1, r=2$."
   ]
  },
  {
   "cell_type": "markdown",
   "metadata": {
    "slideshow": {
     "slide_type": "fragment"
    }
   },
   "source": [
    "##### Solution:\n",
    "\n",
    "We are given $\\boxed{a_1 = 1}$. Since the common ratio given here is $r = 2$, we multiply the firs term of the sequence by $r=2$ to obtain $a_2$. And then we continue to multiply by $r=2$ to obtian the other terms:\n",
    "\n",
    "$$\\boxed{a_2 = 1 \\cdot 2 = 2} \\\\ \\Downarrow \\\\ \\boxed{a_3 = 2 \\cdot 2 = 4} \\\\ \\Downarrow \\\\ \\boxed{a_4 = 4 \\cdot 2 = 8} \\\\ \\Downarrow \\\\ \\boxed{a_5 = 8 \\cdot 2 = 16}$$"
   ]
  },
  {
   "cell_type": "markdown",
   "metadata": {
    "slideshow": {
     "slide_type": "slide"
    }
   },
   "source": [
    "##### Example:\n",
    "\n",
    "Write the first five terms of the geometric sequence with the given first term and common ratio: $a_1 = 243, r = \\frac{1}{3}$."
   ]
  },
  {
   "cell_type": "markdown",
   "metadata": {
    "slideshow": {
     "slide_type": "fragment"
    }
   },
   "source": [
    "##### Solution:\n",
    "\n",
    "Given: $\\boxed{a_1 = 243} \\Rightarrow$\n",
    "\n",
    "$$\\boxed{a_2 = 243 \\cdot \\frac{1}{3} = 81} \\\\ \\Downarrow \\\\ \\boxed{a_3 = 81 \\cdot \\frac{1}{3} = 27} \\\\ \\Downarrow \\\\ \\boxed{a_4 = 27 \\cdot \\frac{1}{3} = 9} \\\\ \\Downarrow \\\\ \\boxed{a_5 = 9 \\cdot \\frac{1}{3} = 3}$$"
   ]
  },
  {
   "cell_type": "markdown",
   "metadata": {
    "slideshow": {
     "slide_type": "slide"
    }
   },
   "source": [
    "##### Objective 2: Using the Formula for the General Term of a Geometric Sequence"
   ]
  },
  {
   "cell_type": "markdown",
   "metadata": {
    "slideshow": {
     "slide_type": "fragment"
    }
   },
   "source": [
    "##### Formula for Geometric Sequence:\n",
    "\n",
    "The general term of a geometric sequence with first term $a_1$ and common ratio $r$ is\n",
    "\n",
    "$$a_n = a_1 \\cdot r^{n-1}$$"
   ]
  },
  {
   "cell_type": "markdown",
   "metadata": {
    "slideshow": {
     "slide_type": "fragment"
    }
   },
   "source": [
    "##### Example:\n",
    "\n",
    "Use the formula for the general term of a geometric sequence to find the $6$th term of the sequence with the given first term and common ratio: $a_1 = 3, r=-4$."
   ]
  },
  {
   "cell_type": "markdown",
   "metadata": {
    "slideshow": {
     "slide_type": "fragment"
    }
   },
   "source": [
    "##### Solution:\n",
    "\n",
    "Using the formula $a_n = a_1 \\cdot r^{n-1}$ to find the $6$th term we have\n",
    "\n",
    "$$a_6 = 3 \\cdot (-4)^{6-1} \\\\ a_6 = 3 \\cdot (-4)^5 \\\\ \\boxed{a_6 = -3072}$$"
   ]
  },
  {
   "cell_type": "markdown",
   "metadata": {
    "slideshow": {
     "slide_type": "slide"
    }
   },
   "source": [
    "##### Example:\n",
    "\n",
    "Use the formula for the general term of a geometric sequence to find the $8$th term of the sequence with the given first term and common ratio: $a_1 = 4000000, r= 0.1$."
   ]
  },
  {
   "cell_type": "markdown",
   "metadata": {
    "slideshow": {
     "slide_type": "fragment"
    }
   },
   "source": [
    "##### Solution:\n",
    "\n",
    "Using the formula $a_n = a_1 \\cdot r^{n-1}$ to find the $8$th term we have\n",
    "\n",
    "$$a_8 = 4000000 \\cdot (0.1)^{8-1} \\\\ a_8 = 4000000 \\cdot (0.1)^7 \\\\ \\boxed{a_8 = 0.4}$$"
   ]
  },
  {
   "cell_type": "markdown",
   "metadata": {
    "slideshow": {
     "slide_type": "slide"
    }
   },
   "source": [
    "##### Example:\n",
    "\n",
    "Write the formula for the $n$th term of the following geometric sequence. Then use the formula for $a_n$ to find the $7$th term of the sequence.\n",
    "\n",
    "$$4, 12, 36, \\dots$$"
   ]
  },
  {
   "cell_type": "markdown",
   "metadata": {
    "slideshow": {
     "slide_type": "fragment"
    }
   },
   "source": [
    "##### Solution:\n",
    "\n",
    "We note that $a_1 = 4$ and we can find the common ratio of the sequence by taking any two <em>consecutive</em> terms and divide the latter by the former and then we use the general term formula:\n",
    "\n",
    "$$r = \\frac{12}{4} = 3 \\\\ \\Downarrow \\\\ a_7 = 4 \\cdot 3^{7-1} \\\\ a_7 = 4 \\cdot 3^6 \\\\ \\boxed{a_7 = 2916}$$"
   ]
  },
  {
   "cell_type": "markdown",
   "metadata": {
    "slideshow": {
     "slide_type": "slide"
    }
   },
   "source": [
    "##### Example:\n",
    "\n",
    "Write the formula for the $n$th term of the following geometric sequence. Then use the formula for $a_n$ to find the $12$th term of the sequence.\n",
    "\n",
    "$$9, 3, 1, \\frac{1}{3}, \\dots$$"
   ]
  },
  {
   "cell_type": "markdown",
   "metadata": {
    "slideshow": {
     "slide_type": "fragment"
    }
   },
   "source": [
    "##### Solution:\n",
    "\n",
    "We note that $a_1 = 9$ and $r = \\frac{3}{9} = \\frac{1}{3} \\Rightarrow$\n",
    "\n",
    "$$a_{12} = 9 \\cdot \\left( \\frac{1}{3} \\right)^{12-1} \\\\ a_{12} = 9 \\cdot \\left( \\frac{1}{3} \\right)^{11} \\\\ \\boxed{a_{12} = \\frac{1}{19683} \\approx 0.00005}$$"
   ]
  },
  {
   "cell_type": "markdown",
   "metadata": {
    "slideshow": {
     "slide_type": "slide"
    }
   },
   "source": [
    "##### Objective 3: Using the Formula for the Sum of the First $n$ Terms of a Geometric Sequence"
   ]
  },
  {
   "cell_type": "markdown",
   "metadata": {
    "slideshow": {
     "slide_type": "fragment"
    }
   },
   "source": [
    "##### Defintion:\n",
    "\n",
    "The <em><b>sum, $S_n$, of the first $n$ terms of a geometric sequence</b></em> is given by \n",
    "\n",
    "$$S_n = \\frac{a_1 (1 - r^n)}{1-r}$$\n",
    "\n",
    "where $a_1$ is the first term of the sequence and $r$ is the common ratio ($r \\neq 1$)."
   ]
  },
  {
   "cell_type": "markdown",
   "metadata": {
    "slideshow": {
     "slide_type": "fragment"
    }
   },
   "source": [
    "##### Example:\n",
    "\n",
    "Find the sum of the first $11$ terms of the geometric sequence.\n",
    "\n",
    "$$3, 6, 12, 24, \\dots$$"
   ]
  },
  {
   "cell_type": "markdown",
   "metadata": {
    "slideshow": {
     "slide_type": "fragment"
    }
   },
   "source": [
    "##### Solution:\n",
    "\n",
    "Note that $a_1 = 3$ and $r = \\frac{6}{3} = 2 \\Rightarrow$\n",
    "\n",
    "$$S_{11} = \\frac{3 (1-2^{11})}{1 - 2} \\\\ S_{11} = \\frac{3 \\cdot (-2047)}{-1} \\\\ S_{11}= \\boxed{6141}$$"
   ]
  },
  {
   "cell_type": "markdown",
   "metadata": {
    "slideshow": {
     "slide_type": "slide"
    }
   },
   "source": [
    "##### Example:\n",
    "\n",
    "Find the sum of the first $9$ terms of the geometric series.\n",
    "\n",
    "$$7, 21, 63, 189, \\dots$$"
   ]
  },
  {
   "cell_type": "markdown",
   "metadata": {
    "slideshow": {
     "slide_type": "fragment"
    }
   },
   "source": [
    "##### Solution:\n",
    "\n",
    "Note that $a_1 = 7$ and $r = \\frac{21}{7} = 3 \\Rightarrow$\n",
    "\n",
    "$$S_9 = \\frac{7 (1 - 3^9)}{1-3} \\\\ S_9 = \\frac{7 \\cdot (-19682)}{-2} \\\\ S_9 = \\frac{-137774}{-2} \\\\ S_9 = \\boxed{68887}$$"
   ]
  },
  {
   "cell_type": "markdown",
   "metadata": {
    "slideshow": {
     "slide_type": "slide"
    }
   },
   "source": [
    "##### Objective 4: Using the Formula for the Sum of a Geometric Series"
   ]
  },
  {
   "cell_type": "markdown",
   "metadata": {
    "slideshow": {
     "slide_type": "fragment"
    }
   },
   "source": [
    "##### Definition:\n",
    "\n",
    "If $-1 < r < 1$ (in other words, $|r| < 1$), then the <em><b>sum of the infinite geometric sequence</b></em> $$a_1 + a_1r + a_1 r^2 + a_1r^3+\\cdots$$\n",
    "\n",
    "is given by the formula\n",
    "\n",
    "$$S = \\frac{a_1}{1-r}$$\n",
    "\n",
    "where $a_1$ is the first term of the geometric sequence and $r$ is the common ratio.\n",
    "\n",
    "If $|r|\\geq1$, the infinite series does not have a sum (the sum diverges)."
   ]
  },
  {
   "cell_type": "markdown",
   "metadata": {
    "slideshow": {
     "slide_type": "fragment"
    }
   },
   "source": [
    "##### Example:\n",
    "\n",
    "Find the sum of the infinite geometric series.\n",
    "\n",
    "$$1 + \\frac{1}{8} + \\frac{1}{64} + \\frac{1}{512} + \\cdots$$"
   ]
  },
  {
   "cell_type": "markdown",
   "metadata": {
    "slideshow": {
     "slide_type": "fragment"
    }
   },
   "source": [
    "##### Solution:\n",
    "\n",
    "First, we observe that we are adding <em>infinitely many</em> terms since we have the \"$\\cdots$\" indicating we do not terminate the sum at any point. So we need the formula $S = \\frac{a_1}{1-r}$.\n",
    "\n",
    "Note that $a_1 = 1$ and $r = \\frac{1/8}{1} = \\frac{1}{8} \\Rightarrow$\n",
    "\n",
    "$$S = \\frac{1}{1 - \\frac{1}{8}} \\\\ S = \\frac{1}{7/8} \\\\ \\boxed{S = \\frac{8}{7}}$$\n",
    "\n",
    "So even though we are adding <em>infinite</em> values together, we will approach the value $S = \\frac{8}{7}$."
   ]
  },
  {
   "cell_type": "markdown",
   "metadata": {
    "slideshow": {
     "slide_type": "slide"
    }
   },
   "source": [
    "##### Example:\n",
    "\n",
    "Find the sum of the infinite geometric series.\n",
    "\n",
    "$$4 - \\frac{4}{5} + \\frac{4}{25} - \\frac{4}{125} + \\cdots$$"
   ]
  },
  {
   "cell_type": "markdown",
   "metadata": {
    "slideshow": {
     "slide_type": "fragment"
    }
   },
   "source": [
    "##### Solution:\n",
    "\n",
    "Again, we have infinitely many terms we are adding so we'll need to use $S=\\frac{a_1}{1-r}$.\n",
    "\n",
    "Note that we have $a_1 = 4$ and $r = \\frac{-4/5}{4} = -\\frac{1}{5} \\Rightarrow$\n",
    "\n",
    "$$S = \\frac{4}{1 - \\left( -\\frac{1}{5} \\right)} \\\\ S = \\frac{4}{1 + \\frac{1}{5}} \\\\ S = \\frac{4}{\\frac{6}{5}} \\\\ \\boxed{S = \\frac{10}{3}}$$"
   ]
  },
  {
   "cell_type": "markdown",
   "metadata": {
    "slideshow": {
     "slide_type": "slide"
    }
   },
   "source": [
    "##### End of Section"
   ]
  }
 ],
 "metadata": {
  "celltoolbar": "Slideshow",
  "kernelspec": {
   "display_name": "Python 3",
   "language": "python",
   "name": "python3"
  },
  "language_info": {
   "codemirror_mode": {
    "name": "ipython",
    "version": 3
   },
   "file_extension": ".py",
   "mimetype": "text/x-python",
   "name": "python",
   "nbconvert_exporter": "python",
   "pygments_lexer": "ipython3",
   "version": "3.7.6"
  },
  "rise": {
   "enable_chalkboard": true,
   "theme": "sky",
   "transition": "zoom"
  }
 },
 "nbformat": 4,
 "nbformat_minor": 4
}
