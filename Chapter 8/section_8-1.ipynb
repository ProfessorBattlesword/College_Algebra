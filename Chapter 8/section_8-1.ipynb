{
 "cells": [
  {
   "cell_type": "markdown",
   "metadata": {
    "slideshow": {
     "slide_type": "slide"
    }
   },
   "source": [
    "### Section 8.1: Sequence and Summation Notation"
   ]
  },
  {
   "cell_type": "markdown",
   "metadata": {
    "slideshow": {
     "slide_type": "slide"
    }
   },
   "source": [
    "##### Objective 1: Finding Terms of a Sequence From the General Term"
   ]
  },
  {
   "cell_type": "markdown",
   "metadata": {
    "slideshow": {
     "slide_type": "fragment"
    }
   },
   "source": [
    "##### Definitions and Notation:\n",
    "\n",
    "An <em><b>infitite sequence</b></em> is a function whose domain (input values) is confined to the set of positive integers.\n",
    "\n",
    "The function values, or <em><b>terms</b></em> of the sequence are represented by $f(n) = a_n$, where $n$ represents the $n$th term of the sequence.\n",
    "\n",
    "The collection of <em>all</em> terms defines the sequence. So if we write $\\left\\{ a_n \\right\\}_{n=1}^{\\infty}$, we are representing an infinite sequence whose first term starts at $n = 1$ and continues indefinitely off to infinity. This notation is representing the <em>entire</em> collection of all possible terms in that sequence.\n",
    "\n",
    "We often shorten an infinite sequence with the notation\n",
    "\n",
    "$$\\left\\{ a_n \\right\\} = \\left\\{ a_n \\right\\}_{n=1}^{\\infty}$$\n",
    "\n",
    "So we do not need to necessarily specify that $n$ is starting at $1$ and $n$ is going off to $\\infty$ every time.\n",
    "\n",
    "\n",
    "\n",
    "A sequence whose domain consists only of the first $n$ positive integers is called a <em><b>finite sequence</b></em>."
   ]
  },
  {
   "cell_type": "markdown",
   "metadata": {
    "slideshow": {
     "slide_type": "fragment"
    }
   },
   "source": [
    "##### Example:\n",
    "\n",
    "Write the first four terms of the sequence whose $n$th term is $a_n = -3n+4$."
   ]
  },
  {
   "cell_type": "markdown",
   "metadata": {
    "slideshow": {
     "slide_type": "fragment"
    }
   },
   "source": [
    "##### Solution:\n",
    "\n",
    "First, imagine that our terms of the sequence are represented with the notation $f(n) = a_n = -3n+4$.\n",
    "\n",
    "We just need to write the first four terms, so we really are looking for\n",
    "\n",
    "$$f(1) = a_1, f(2) = a_2, f(3) = a_3, \\text{ and, } f(4) = a_4$$"
   ]
  },
  {
   "cell_type": "markdown",
   "metadata": {
    "slideshow": {
     "slide_type": "fragment"
    }
   },
   "source": [
    "This means that\n",
    "\n",
    "$$f(1) = a_1 = -3(1)+4 = -3 + 4 = 1$$\n",
    "\n",
    "So $\\boxed{a_1 = 1}$\n",
    "\n",
    "$$f(2) = a_2 = -3(2)+4 = -6 + 4 = -2$$\n",
    "\n",
    "So $\\boxed{a_2 = -2}$.\n",
    "\n",
    "$$f(3) = a_3 = -3(3)+4 = -9 + 4 = -5$$\n",
    "\n",
    "So $\\boxed{a_3 = -5}$.\n",
    "\n",
    "$$f(4) = a_4 = -3(4)+4 = -12 + 4 = -8$$\n",
    "\n",
    "So $\\boxed{a_4 = -8}$."
   ]
  },
  {
   "cell_type": "markdown",
   "metadata": {
    "slideshow": {
     "slide_type": "slide"
    }
   },
   "source": [
    "##### Example:\n",
    "\n",
    "Write the first four terms of the sequence whose $n$th term is $a_n = \\frac{2^n}{n+1}$."
   ]
  },
  {
   "cell_type": "markdown",
   "metadata": {
    "slideshow": {
     "slide_type": "fragment"
    }
   },
   "source": [
    "##### Solution:\n",
    "\n",
    "Again, we can use the same idea as the first example:\n",
    "\n",
    "$$f(1) = a_1 = \\frac{2^1}{1+1} = \\frac{2}{2} = 1$$\n",
    "\n",
    "So $\\boxed{a_1 = 1}$\n",
    "\n",
    "$$f(2) = a_2 = \\frac{2^2}{2+1} = \\frac{4}{3}$$\n",
    "\n",
    "So $\\boxed{a_2 = \\frac{4}{3}}$.\n",
    "\n",
    "$$f(3) = a_3 =\\frac{2^3}{3+1} = \\frac{8}{4} = 2$$\n",
    "\n",
    "So $\\boxed{a_3 = 2}$.\n",
    "\n",
    "$$f(4) = a_4 = \\frac{2^4}{4+1} = \\frac{16}{5}$$\n",
    "\n",
    "So $\\boxed{a_4 = \\frac{16}{5}}$.\n",
    "\n",
    "You don't have to use the $f(n)$ notation just so long as you keep in mind that the <em>subscript</em> is representing the <em>input</em> to your function and that input must be a <em>positive integer</em>, which represents which term you're finding."
   ]
  },
  {
   "cell_type": "markdown",
   "metadata": {
    "slideshow": {
     "slide_type": "slide"
    }
   },
   "source": [
    "##### Objective 2: Using Recursion Formulas"
   ]
  },
  {
   "cell_type": "markdown",
   "metadata": {
    "slideshow": {
     "slide_type": "fragment"
    }
   },
   "source": [
    "##### Definition:\n",
    "\n",
    "A <em><b>recursion formula</b></em> defines the $n$th term of a sequence as a function of previous terms.\n",
    "\n",
    "Generally, for a sequence defined recursively, you'll be given previous term(s) and you will calculate new terms to build the sequence from those initial terms."
   ]
  },
  {
   "cell_type": "markdown",
   "metadata": {
    "slideshow": {
     "slide_type": "fragment"
    }
   },
   "source": [
    "##### Example:\n",
    "\n",
    "Find the first four terms of a sequence given that $a_1 = 2$ and $a_n = 3 \\cdot a_{n-1}$."
   ]
  },
  {
   "cell_type": "markdown",
   "metadata": {
    "slideshow": {
     "slide_type": "fragment"
    }
   },
   "source": [
    "##### Solution:\n",
    "\n",
    "We are given that the first term is $\\boxed{\\color{blue}{a_1 = 2}}$. So we will use this to find the terms that come after it."
   ]
  },
  {
   "cell_type": "markdown",
   "metadata": {
    "slideshow": {
     "slide_type": "fragment"
    }
   },
   "source": [
    "To find the second term ($n = 2$), we have $a_2 = 3 \\cdot \\color{red}{a_{2-1}} = 3 \\cdot \\color{blue}{a_1} = 3 \\cdot \\color{blue}{2} = 6$\n",
    "\n",
    "Notice what happens in the red! We are \"plugging in\" $n = 2$ into our formula, and the <em>subscript</em> has a formula of its own ($n-1$). So we must simplify that subscript and that tells us what term we are mulitplying $3$ with.\n",
    "\n",
    "So we have $\\boxed{a_2 = 6}$"
   ]
  },
  {
   "cell_type": "markdown",
   "metadata": {
    "slideshow": {
     "slide_type": "fragment"
    }
   },
   "source": [
    "For the next two terms we have\n",
    "\n",
    "$$a_3 = 3 \\cdot a_{3-1} \\\\ a_3 = 3 \\cdot a_2 \\\\ a_3 = 3 \\cdot 6 \\\\ \\boxed{a_3 = 18}$$\n",
    "\n",
    "$$\\text{and}$$\n",
    "\n",
    "$$a_4 = 3 \\cdot a_{4-1} \\\\ a_4 = 3 \\cdot a_3 \\\\ a_4 = 3 \\cdot 18 \\\\ \\boxed{a_4 = 54}$$"
   ]
  },
  {
   "cell_type": "markdown",
   "metadata": {
    "slideshow": {
     "slide_type": "slide"
    }
   },
   "source": [
    "##### Example:\n",
    "\n",
    "Find the first four terms of a sequence given that $a_1 = 4$ and $a_n = 2 (a_{n-1}+5)$."
   ]
  },
  {
   "cell_type": "markdown",
   "metadata": {
    "slideshow": {
     "slide_type": "fragment"
    }
   },
   "source": [
    "##### Solution:\n",
    "\n",
    "Given: $a_1 = 4 \\Rightarrow$"
   ]
  },
  {
   "cell_type": "markdown",
   "metadata": {
    "slideshow": {
     "slide_type": "fragment"
    }
   },
   "source": [
    "$$a_2 = 2(a_{2-1}+5) \\\\ a_2 = 2(a_1 + 5) \\\\ a_2 = 2(4 + 5) \\\\ a_2 = 2 (9) \\\\ \\boxed{a_2 = 18} \\\\ \\Downarrow$$"
   ]
  },
  {
   "cell_type": "markdown",
   "metadata": {
    "slideshow": {
     "slide_type": "fragment"
    }
   },
   "source": [
    "$$a_3 = 2(a_{3-1} + 5) \\\\ a_3 = 2(a_2 + 5) \\\\ a_3 = 2(18 + 5) \\\\ a_3 = 2 (23) \\\\ \\boxed{a_3 = 46} \\\\ \\Downarrow$$"
   ]
  },
  {
   "cell_type": "markdown",
   "metadata": {
    "slideshow": {
     "slide_type": "fragment"
    }
   },
   "source": [
    "$$a_4 = 2(a_{4-1} + 5) \\\\ a_4 = 2(a_3 + 5) \\\\ a_4 = 2(46 + 5) \\\\ a_4 = 2(51) \\\\ \\boxed{a _4 = 102}$$"
   ]
  },
  {
   "cell_type": "markdown",
   "metadata": {
    "slideshow": {
     "slide_type": "slide"
    }
   },
   "source": [
    "##### Objective 3: Using summation notation"
   ]
  },
  {
   "cell_type": "markdown",
   "metadata": {
    "slideshow": {
     "slide_type": "fragment"
    }
   },
   "source": [
    "##### Definitions and Notation:\n",
    "\n",
    "The sum of the first $n$ terms of a sequence is represented by the <em><b>summation notation:</b></em>\n",
    "\n",
    "$$\\sum_{i = 1}^{n} a_i = a_1 + a_2 + a_3 + a_4 + \\dots + a_n$$\n",
    "\n",
    "where $i$ is the <em><b>index of summation</b></em>, $n$ is the <em><b>upper limit of summation</b></em> , and $i = 1$ is the <em><b>lower limit of summation</b></em>."
   ]
  },
  {
   "cell_type": "markdown",
   "metadata": {
    "slideshow": {
     "slide_type": "fragment"
    }
   },
   "source": [
    "##### Example:\n",
    "\n",
    "Expand and evaluate the sum $\\sum_{i=1}^{5} (i^2 - 1)$."
   ]
  },
  {
   "cell_type": "markdown",
   "metadata": {
    "slideshow": {
     "slide_type": "fragment"
    }
   },
   "source": [
    "##### Solution:\n",
    "\n",
    "\\begin{eqnarray}\n",
    "\\nonumber \\sum_{i = 1}^{5} (i^2 -1) & = & (1^2 -1) + (2^2 -1) + (3^2-1) + (4^2-1) + (5^2-1) \\\\\n",
    "\\nonumber \\sum_{i = 1}^{5} (i^2 -1) & = & (1-1) + (4 - 1) + (9 - 1) + (16 - 1) + (25 - 1) \\\\\n",
    "\\nonumber \\sum_{i = 1}^{5} (i^2 -1) & = & 0 + 3 + 8 + 15 + 24 \\\\\n",
    "\\nonumber \\sum_{i = 1}^{5} (i^2 -1) & = & \\boxed{50}\n",
    "\\end{eqnarray}"
   ]
  },
  {
   "cell_type": "markdown",
   "metadata": {
    "slideshow": {
     "slide_type": "slide"
    }
   },
   "source": [
    "##### Example:\n",
    "\n",
    "Expand and evaluate the sum $\\sum_{i = 3}^{5} (i+1) (i+2)$."
   ]
  },
  {
   "cell_type": "markdown",
   "metadata": {
    "slideshow": {
     "slide_type": "fragment"
    }
   },
   "source": [
    "##### Solution:\n",
    "\n",
    "\\begin{eqnarray}\n",
    "\\nonumber \\sum_{i = 3}^{5} (i + 1)(i + 2) & = & (3+1)(3+2) + (4+1)(4+2) + (5+1)(5+2) \\\\\n",
    "\\nonumber \\sum_{i = 3}^{5} (i + 1)(i + 2) & = & (4)(5) + (5)(6) + (6)(7) \\\\\n",
    "\\nonumber \\sum_{i = 3}^{5} (i + 1)(i + 2) & = & 20 + 30 + 42 \\\\\n",
    "\\nonumber \\sum_{i = 3}^{5} (i + 1)(i + 2) & = & \\boxed{92}\n",
    "\\end{eqnarray}"
   ]
  },
  {
   "cell_type": "markdown",
   "metadata": {
    "slideshow": {
     "slide_type": "slide"
    }
   },
   "source": [
    "##### Example:\n",
    "\n",
    "Expand and evaluate the sum $\\sum_{i = 2}^{4} 2^i$."
   ]
  },
  {
   "cell_type": "markdown",
   "metadata": {
    "slideshow": {
     "slide_type": "fragment"
    }
   },
   "source": [
    "##### Solution:\n",
    "\n",
    "\\begin{eqnarray}\n",
    "\\nonumber \\sum_{i=2}^{4} 2^i & = & 2^2 + 2^3 + 2^4 \\\\\n",
    "\\nonumber \\sum_{i=2}^{4} 2^i & = & 4 + 8 + 16 \\\\\n",
    "\\nonumber \\sum_{i=2}^{4} 2^i & = & \\boxed{28}\n",
    "\\end{eqnarray}"
   ]
  },
  {
   "cell_type": "markdown",
   "metadata": {
    "slideshow": {
     "slide_type": "slide"
    }
   },
   "source": [
    "##### End of Section"
   ]
  }
 ],
 "metadata": {
  "celltoolbar": "Slideshow",
  "kernelspec": {
   "display_name": "Python 3",
   "language": "python",
   "name": "python3"
  },
  "language_info": {
   "codemirror_mode": {
    "name": "ipython",
    "version": 3
   },
   "file_extension": ".py",
   "mimetype": "text/x-python",
   "name": "python",
   "nbconvert_exporter": "python",
   "pygments_lexer": "ipython3",
   "version": "3.7.6"
  },
  "rise": {
   "enable_chalkboard": true,
   "theme": "sky",
   "transition": "zoom"
  }
 },
 "nbformat": 4,
 "nbformat_minor": 4
}
