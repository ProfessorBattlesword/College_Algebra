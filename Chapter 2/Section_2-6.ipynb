{
 "cells": [
  {
   "cell_type": "markdown",
   "metadata": {
    "slideshow": {
     "slide_type": "slide"
    }
   },
   "source": [
    "# Chapter 2: Functions and Graphs"
   ]
  },
  {
   "cell_type": "markdown",
   "metadata": {
    "slideshow": {
     "slide_type": "slide"
    }
   },
   "source": [
    "### Section 2.6: Combinations of Functions; Composite Functions\n",
    "\n",
    "### Objectives:\n",
    "\n",
    "##### Objective 1: Find the domain of a function\n",
    "\n",
    "##### Objective 2: Combine functions using the algebra of functions, specifying domain\n",
    "\n",
    "##### Objective 3: Form composite functions"
   ]
  },
  {
   "cell_type": "markdown",
   "metadata": {
    "slideshow": {
     "slide_type": "slide"
    }
   },
   "source": [
    "##### Objective 1: Find the domain of a function"
   ]
  },
  {
   "cell_type": "markdown",
   "metadata": {
    "slideshow": {
     "slide_type": "fragment"
    }
   },
   "source": [
    "##### Finding a Function's Domain\n",
    "\n",
    "* If a function $f$ does not model data or verbal conditions, its domain is the largest set of real numbers for which the value of $f(x)$ is a real number\n",
    "\n",
    "* Exclude from a function's domain any real number(s) that cause *division by zero* and any real numbers that result in an *even root of a negative number* (imaginary numbers)\n",
    "    \n",
    "    * e.g. the domain for the function $f(x) = \\sqrt{x}$ cannot contain any negative numbers since the square root of a negative number is an imaginary number"
   ]
  },
  {
   "cell_type": "markdown",
   "metadata": {
    "slideshow": {
     "slide_type": "fragment"
    }
   },
   "source": [
    "<table style=\"width: 50%\">\n",
    "    <tr>\n",
    "        <th>\n",
    "            Function\n",
    "        </th>\n",
    "        <th>\n",
    "            Domain\n",
    "        </th>\n",
    "    </tr>\n",
    "    <tr>\n",
    "        <td>\n",
    "            Line: $f(x) = mx + b$\n",
    "        </td>\n",
    "        <td>\n",
    "            $(-\\infty, \\infty)$\n",
    "        </td>\n",
    "    </tr>\n",
    "    <tr>\n",
    "        <td>\n",
    "            Quadratic: $f(x) = ax^2 + bx + c$\n",
    "        </td>\n",
    "        <td>\n",
    "            $(-\\infty, \\infty)$\n",
    "        </td>\n",
    "    </tr>\n",
    "    <tr>\n",
    "        <td>\n",
    "            Square root: $f(x) = \\sqrt{g(x)}$\n",
    "        </td>\n",
    "        <td>\n",
    "            Set the expression under the radical greater than or equal to zero ($\\ge$) and then solve for $x$\n",
    "        </td>\n",
    "    </tr>\n",
    "    <tr>\n",
    "        <td>\n",
    "            Rational: $R(x) = \\frac{f(x)}{g(x)}$\n",
    "        </td>\n",
    "        <td>\n",
    "            Denominator $\\ne 0$ (solve the denominator for $x$ and toss out these values)\n",
    "        </td>\n",
    "    </tr>\n",
    "</table>"
   ]
  },
  {
   "cell_type": "markdown",
   "metadata": {
    "slideshow": {
     "slide_type": "fragment"
    }
   },
   "source": [
    "##### Example 1\n",
    "\n",
    "Find the domain of each function:\n",
    "\n",
    "**(a)** $f(x) = -5x + 4$\n",
    "\n",
    "**(b)** $f(x) = x^2 - 1$\n",
    "\n",
    "**(c)** $f(x) = \\sqrt{x - 3}$\n",
    "\n",
    "**(d)** $\\displaystyle f(x) = \\frac{4}{x - 6}$\n",
    "\n",
    "**(e)** $f(x) = -x^2 + 4$\n",
    "\n",
    "**(f)** $f(x) = \\sqrt{2 - x}$\n",
    "\n",
    "**(g)** $f(x) = \\sqrt{-x + 4}$\n",
    "\n",
    "**(h)** $\\displaystyle f(x) = \\frac{x - 2}{x^2 - 9}$"
   ]
  },
  {
   "cell_type": "markdown",
   "metadata": {
    "slideshow": {
     "slide_type": "fragment"
    }
   },
   "source": [
    "##### Solution:\n",
    "\n",
    "**(a)** $f(x) = -5x + 4$\n",
    "\n",
    "* This is a linear function and therefore its domain consists of *all real numbers:* $(-\\infty, \\infty)$"
   ]
  },
  {
   "cell_type": "markdown",
   "metadata": {
    "slideshow": {
     "slide_type": "fragment"
    }
   },
   "source": [
    "**(b)** $f(x) = x^2 - 1$\n",
    "\n",
    "* This is a quadratic function and therefore its domain consists of *all real numbers:* $(-\\infty, \\infty)$"
   ]
  },
  {
   "cell_type": "markdown",
   "metadata": {
    "slideshow": {
     "slide_type": "fragment"
    }
   },
   "source": [
    "**(c)** $f(x) = \\sqrt{x - 3}$\n",
    "\n",
    "* Since we have a radical with a variable expression inside of it we must set everything inside the radical greater than or equal to zero: $x - 3 \\ge 0$"
   ]
  },
  {
   "cell_type": "markdown",
   "metadata": {
    "slideshow": {
     "slide_type": "fragment"
    }
   },
   "source": [
    "* Solving this inequality:\n",
    "\n",
    "\\begin{align}\n",
    "    x - 3 & \\ge 0 \\\\\n",
    "    x - 3 \\color{blue}{+ 3} & \\ge 0 \\color{blue}{+ 3} \\\\\n",
    "    x & \\ge 3\n",
    "\\end{align}"
   ]
  },
  {
   "cell_type": "markdown",
   "metadata": {
    "slideshow": {
     "slide_type": "fragment"
    }
   },
   "source": [
    "* The domain in interval notation: $[3, \\infty)$"
   ]
  },
  {
   "cell_type": "markdown",
   "metadata": {
    "slideshow": {
     "slide_type": "fragment"
    }
   },
   "source": [
    "**(d)** $\\displaystyle f(x) = \\frac{4}{x - 6}$\n",
    "\n",
    "* We need to remove any values that might make the denominator equal to zero since then we would be dividing by zero"
   ]
  },
  {
   "cell_type": "markdown",
   "metadata": {
    "slideshow": {
     "slide_type": "fragment"
    }
   },
   "source": [
    "* Since $x \\neq 6$ we then are left with all real numbers that *are not* 6"
   ]
  },
  {
   "cell_type": "markdown",
   "metadata": {
    "slideshow": {
     "slide_type": "fragment"
    }
   },
   "source": [
    "* The domain in interval notation: $(-\\infty, 6) \\cup (6, \\infty)$"
   ]
  },
  {
   "cell_type": "markdown",
   "metadata": {
    "slideshow": {
     "slide_type": "fragment"
    }
   },
   "source": [
    "**(e)** $f(x) = -x^2 + 4$\n",
    "\n",
    "* The function is quadratic and therefore its domain is $(-\\infty, \\infty)$ or all real numbers"
   ]
  },
  {
   "cell_type": "markdown",
   "metadata": {
    "slideshow": {
     "slide_type": "fragment"
    }
   },
   "source": [
    "**(f)** $f(x) = \\sqrt{2 - x}$\n",
    "\n",
    "* We set the expression inside the radical greater than or equal to zero and solve:\n",
    "\n",
    "\\begin{align}\n",
    "    2 - x & \\geq 0 \\\\\n",
    "    2 - x \\color{blue}{+ x} & \\geq 0 \\color{blue}{+ x} \\\\\n",
    "    2 & \\geq x \\\\\n",
    "    x & \\leq 2\n",
    "\\end{align}"
   ]
  },
  {
   "cell_type": "markdown",
   "metadata": {
    "slideshow": {
     "slide_type": "fragment"
    }
   },
   "source": [
    "* The domain in interval notation: $(-\\infty, 2]$"
   ]
  },
  {
   "cell_type": "markdown",
   "metadata": {
    "slideshow": {
     "slide_type": "fragment"
    }
   },
   "source": [
    "**(g)** $f(x) = \\sqrt{-x + 4}$\n",
    "\n",
    "* We set the expression inside the radical geater than or equal to zero and solve:\n",
    "\\begin{align}\n",
    "    -x + 4 & \\geq 0 \\\\\n",
    "    -x + 4 & \\color{blue}{- 4} \\geq 0 \\color{blue}{-4} \\\\\n",
    "    -x & \\geq -4 \\\\\n",
    "    \\frac{-x}{\\color{blue}{-1}} & \\geq \\frac{-4}{\\color{blue}{-1}} \\\\\n",
    "    x & \\color{\\blue}{\\leq} 4\n",
    "\\end{align}\n",
    "    * Notice the change in inequality sign when multiplying/dividing by a negative!"
   ]
  },
  {
   "cell_type": "markdown",
   "metadata": {
    "slideshow": {
     "slide_type": "fragment"
    }
   },
   "source": [
    "* The domain in interval notation: $(-\\infty, 4]$"
   ]
  },
  {
   "cell_type": "markdown",
   "metadata": {
    "slideshow": {
     "slide_type": "fragment"
    }
   },
   "source": [
    "**(h)** $\\displaystyle f(x) = \\frac{x - 2}{x^2 - 9}$\n",
    "\n",
    "* We cannot divide by zero and therefore we need to check where the denominator results in zero:\n",
    "\n",
    "\\begin{align}\n",
    "    x^2 - 9 & = 0 \\\\\n",
    "    x^2 - 9 \\color{blue}{+ 9} & = 0 \\color{blue}{+ 9} \\\\\n",
    "    x^2 & = 9 \\\\\n",
    "    \\color{blue}{\\sqrt{x^2}} & = \\color{blue}{\\pm \\sqrt{9}} \\\\\n",
    "    x & = \\pm 3\n",
    "\\end{align}"
   ]
  },
  {
   "cell_type": "markdown",
   "metadata": {
    "slideshow": {
     "slide_type": "fragment"
    }
   },
   "source": [
    "* This means that we *cannot* use the values $x = -3$ and $x = 3$ in the function (but all other real numbers are fine)"
   ]
  },
  {
   "cell_type": "markdown",
   "metadata": {
    "slideshow": {
     "slide_type": "fragment"
    }
   },
   "source": [
    "* The domain in interval notation: $(-\\infty, -3) \\cup (-3, 3) \\cup (3, \\infty)$"
   ]
  },
  {
   "cell_type": "markdown",
   "metadata": {
    "slideshow": {
     "slide_type": "slide"
    }
   },
   "source": [
    "##### Objective 2: Combine functions using the algebra of functions, specifying domain"
   ]
  },
  {
   "cell_type": "markdown",
   "metadata": {
    "slideshow": {
     "slide_type": "fragment"
    }
   },
   "source": [
    "* Since the output of real-valued functions are real numbers, we can define mathematical operations on functions as though they were numerical values\n",
    "\n",
    "* If $f(x)$ and $g(x)$ are two real-valued functions, then the sum $f + g$, the difference $f - g$, the product $f \\cdot g$, and the quotient $\\frac{f}{g}$ are functions whose domains are the set of all real numbers common to the domain of $f$ and $g \\left( D_f \\cap D_g \\right)$, defined as follows:\n",
    "\n",
    "\\begin{align}\n",
    "    \\text{Sum} & : & (f + g)(x) & = f(x) + g(x) \\\\\n",
    "    \\text{Difference} & : & (f - g)(x) & = f(x) - g(x) \\\\\n",
    "    \\text{Product} & : & (f g)(x) & = f(x) \\cdot g(x) \\\\\n",
    "    \\text{Quotient} & : & \\left( \\frac{f}{g} \\right)(x) & = \\frac{f(x)}{g(x)}, g(x) \\neq 0\n",
    "\\end{align}"
   ]
  },
  {
   "cell_type": "markdown",
   "metadata": {
    "slideshow": {
     "slide_type": "fragment"
    }
   },
   "source": [
    "##### Example 2\n",
    "\n",
    "Let $f(x) = 2x + 1$ and $g(x) = x^2 - 4$. Find **(a)** $f + g$, **(b)** $f - g$, **(c)** $fg$, and **(d)** $\\frac{f}{g}$ and determine the domain for each."
   ]
  },
  {
   "cell_type": "markdown",
   "metadata": {
    "slideshow": {
     "slide_type": "fragment"
    }
   },
   "source": [
    "##### Solution:\n",
    "\n",
    "**(a)** $(f + g)(x)$"
   ]
  },
  {
   "cell_type": "markdown",
   "metadata": {
    "slideshow": {
     "slide_type": "fragment"
    }
   },
   "source": [
    "* By definition we need to compute and simplify $(f + g)(x) = f(x) + g(x)$:\n",
    "\n",
    "\\begin{align}\n",
    "    (f + g)(x) & = \\color{blue}{f(x)} + \\color{purple}{g(x)} \\\\\n",
    "    & = \\color{blue}{(2x + 1)} + \\color{purple}{(x^2 - 4)} \\\\\n",
    "    & = 2x + 1 + x^2 - 4 \\\\\n",
    "    & = x^2 + 2x \\color{blue}{- 3} \\\\\n",
    "    (f + g)(x) & = \\boxed{x^2 + 2x - 3}\n",
    "\\end{align}"
   ]
  },
  {
   "cell_type": "markdown",
   "metadata": {
    "slideshow": {
     "slide_type": "fragment"
    }
   },
   "source": [
    "* Domain: $(-\\infty, \\infty)$"
   ]
  },
  {
   "cell_type": "markdown",
   "metadata": {
    "slideshow": {
     "slide_type": "fragment"
    }
   },
   "source": [
    "**(b)** $(f - g)(x)$"
   ]
  },
  {
   "cell_type": "markdown",
   "metadata": {
    "slideshow": {
     "slide_type": "fragment"
    }
   },
   "source": [
    "* By definition we need to compute and simplify $(f - g)(x) = f(x) - g(x)$:\n",
    "\n",
    "\\begin{align}\n",
    "    (f - g)(x) & = \\color{blue}{f(x)} - \\color{purple}{g(x)} \\\\\n",
    "    & = \\color{blue}{(2x + 1)} - \\color{purple}{(x^2 - 4)} \\\\\n",
    "    & = \\color{blue}{2x + 1} - (x^2 - 4) \\\\\n",
    "    & = 2x + 1 \\color{blue}{- x^2 + 4} \\\\\n",
    "    & = 2x + 1 - x^2 + 4 \\\\\n",
    "    & = - x^2 + 2x \\color{blue}{+ 5} \\\\\n",
    "    (f - g)(x) & = \\boxed{- x^2 + 2x + 5}\n",
    "\\end{align}"
   ]
  },
  {
   "cell_type": "markdown",
   "metadata": {
    "slideshow": {
     "slide_type": "fragment"
    }
   },
   "source": [
    "* Domain: $(-\\infty, \\infty)$"
   ]
  },
  {
   "cell_type": "markdown",
   "metadata": {
    "slideshow": {
     "slide_type": "fragment"
    }
   },
   "source": [
    "**(c)** $(fg)(x)$"
   ]
  },
  {
   "cell_type": "markdown",
   "metadata": {
    "slideshow": {
     "slide_type": "fragment"
    }
   },
   "source": [
    "* By definition we need to compute and simplify $(fg)(x) = f(x) \\cdot g(x)$:\n",
    "\n",
    "\\begin{align}\n",
    "    (fg)(x) & = \\color{blue}{f(x)} \\cdot \\color{purple}{g(x)} \\\\\n",
    "    & = \\color{blue}{(2x + 1)} \\cdot \\color{purple}{(x^2 - 4)} \\\\\n",
    "    & = (2x + 1) \\cdot (x^2 - 4) \\\\\n",
    "    & = \\color{blue}{2x^3 - 8x + x^2 - 4} \\\\\n",
    "    (fg)(x) & = \\boxed{2x^3 + x^2 - 8x - 4}\n",
    "\\end{align}"
   ]
  },
  {
   "cell_type": "markdown",
   "metadata": {
    "slideshow": {
     "slide_type": "fragment"
    }
   },
   "source": [
    "* Domain of $f(x)$: $(-\\infty, \\infty)$\n",
    "\n",
    "* Domain of $g(x)$: $(-\\infty, \\infty)$\n",
    "\n",
    "* Domain of $(fg)(x)$: $(-\\infty, \\infty)$"
   ]
  },
  {
   "cell_type": "markdown",
   "metadata": {
    "slideshow": {
     "slide_type": "fragment"
    }
   },
   "source": [
    "**(d)** $\\left( \\frac{f}{g} \\right)(x)$"
   ]
  },
  {
   "cell_type": "markdown",
   "metadata": {
    "slideshow": {
     "slide_type": "fragment"
    }
   },
   "source": [
    "* By definition we need to compute and simplify $\\left( \\frac{f}{g} \\right)(x) = \\frac{f(x)}{g(x)}$:\n",
    "\n",
    "\\begin{align}\n",
    "    \\left( \\frac{f}{g} \\right)(x) & = \\frac{\\color{blue}{f(x)}}{\\color{purple}{g(x)}} \\\\\n",
    "    & = \\frac{\\color{blue}{(2x + 1)}}{\\color{purple}{(x^2 - 4)}} \\\\\n",
    "    \\left( \\frac{f}{g} \\right)(x) & = \\frac{2x + 1}{x^2 - 4} \\\\\n",
    "    \\left( \\frac{f}{g} \\right)(x) & = \\frac{2x + 1}{\\color{blue}{(x - 2)(x + 2)}}\n",
    "\\end{align}\n",
    "\n",
    "* Since no factors are common in the numerator and denominator we can leave this function in either of the last two forms:\n",
    "\n",
    "\\begin{align}\n",
    "    \\left( \\frac{f}{g} \\right)(x) & = \\boxed{\\frac{2x + 1}{x^2 - 4}} \\\\\n",
    "    & \\text{or} \\\\\n",
    "    \\left( \\frac{f}{g} \\right)(x) & = \\boxed{\\frac{2x + 1}{(x - 2)(x + 2)}}\n",
    "\\end{align}"
   ]
  },
  {
   "cell_type": "markdown",
   "metadata": {
    "slideshow": {
     "slide_type": "fragment"
    }
   },
   "source": [
    "* Domain of $f(x)$: $(-\\infty, \\infty)$\n",
    "\n",
    "* Domain of $g(x)$: $(-\\infty, \\infty)$\n",
    "\n",
    "* To find the domain for the function $\\left( \\frac{f}{g} \\right)(x)$ we note that we must require $g(x) \\neq 0$"
   ]
  },
  {
   "cell_type": "markdown",
   "metadata": {
    "slideshow": {
     "slide_type": "fragment"
    }
   },
   "source": [
    "* We determine where the denominator is equal to zero:\n",
    "\n",
    "\\begin{align}\n",
    "    x^2 - 4 & = 0 \\\\\n",
    "    \\color{blue}{(x - 2)(x + 2)} & = 0 \\\\\n",
    "    & \\Downarrow \\\\\n",
    "    x - 2 & = 0 \\\\\n",
    "    & \\text{or} \\\\\n",
    "    x + 2 & = 0 \\\\\n",
    "    & \\Downarrow \\\\\n",
    "    x & = 2 \\\\\n",
    "    & \\text{or} \\\\\n",
    "    x & = -2\n",
    "\\end{align}\n",
    "\n",
    "* Therefore, we must elimate $x = -2$ and $x = 2$ from the set of all real numbers"
   ]
  },
  {
   "cell_type": "markdown",
   "metadata": {
    "slideshow": {
     "slide_type": "fragment"
    }
   },
   "source": [
    "* Domain of $\\left( \\frac{f}{g} \\right)(x)$:  $(-\\infty, -2) \\cup (-2, 2) \\cup (2, \\infty)$"
   ]
  },
  {
   "cell_type": "markdown",
   "metadata": {
    "slideshow": {
     "slide_type": "fragment"
    }
   },
   "source": [
    "##### Example 3\n",
    "\n",
    "Let $f(x) = 3x^2 + 4x - 2$ and $g(x) = x - 5$. Find **(a)** $f + g$, **(b)** $f - g$, **(c)** $fg$, and **(d)** $\\frac{f}{g}$ and determine the domain for each."
   ]
  },
  {
   "cell_type": "markdown",
   "metadata": {
    "slideshow": {
     "slide_type": "fragment"
    }
   },
   "source": [
    "##### Solution:\n",
    "\n",
    "**(a)** $(f + g)(x)$"
   ]
  },
  {
   "cell_type": "markdown",
   "metadata": {
    "slideshow": {
     "slide_type": "fragment"
    }
   },
   "source": [
    "* By definition we need to compute and simplify $(f + g)(x) = f(x) + g(x)$:\n",
    "\n",
    "\\begin{align}\n",
    "    (f + g)(x) & = \\color{blue}{f(x)} + \\color{purple}{g(x)} \\\\\n",
    "    & = \\color{blue}{(3x^2 + 4x - 2)} + \\color{purple}{(x - 5)} \\\\\n",
    "    & = 3x^2 + 4x - 2 + x - 5 \\\\\n",
    "    & = 3x^2 \\color{blue}{+ 5x - 7} \\\\\n",
    "    (f + g)(x) & = \\boxed{3x^2 + 5x - 7}\n",
    "\\end{align}"
   ]
  },
  {
   "cell_type": "markdown",
   "metadata": {
    "slideshow": {
     "slide_type": "fragment"
    }
   },
   "source": [
    "* Domain of $f(x)$: $(-\\infty, \\infty)$\n",
    "\n",
    "* Domain of $g(x)$: $(-\\infty, \\infty)$\n",
    "\n",
    "* Domain of $(f + g)(x)$: $(-\\infty, \\infty)$"
   ]
  },
  {
   "cell_type": "markdown",
   "metadata": {
    "slideshow": {
     "slide_type": "fragment"
    }
   },
   "source": [
    "**(b)** $(f - g)(x)$"
   ]
  },
  {
   "cell_type": "markdown",
   "metadata": {
    "slideshow": {
     "slide_type": "fragment"
    }
   },
   "source": [
    "* By definition we need to compute and simplify $(f - g)(x) = f(x) - g(x)$:\n",
    "\n",
    "\\begin{align}\n",
    "    (f - g)(x) & = \\color{blue}{f(x)} - \\color{purple}{g(x)} \\\\\n",
    "    & = \\color{blue}{(3x^2 + 4x - 2)} - \\color{purple}{(x - 5)} \\\\\n",
    "    & = 3x^2 + 4x - 2 - (x - 5) \\\\\n",
    "    & = 3x^2 + 4x - 2 \\color{blue}{- x + 5} \\\\\n",
    "    & = 3x^2 \\color{blue}{+ 3x + 3} \\\\\n",
    "    (f - g)(x) & = \\boxed{3x^2 + 3x + 3}\n",
    "\\end{align}"
   ]
  },
  {
   "cell_type": "markdown",
   "metadata": {
    "slideshow": {
     "slide_type": "fragment"
    }
   },
   "source": [
    "* Domain of $f(x)$: $(-\\infty, \\infty)$\n",
    "\n",
    "* Domain of $g(x)$: $(-\\infty, \\infty)$\n",
    "\n",
    "* Domain of $(f - g)(x)$: $(-\\infty, \\infty)$"
   ]
  },
  {
   "cell_type": "markdown",
   "metadata": {
    "slideshow": {
     "slide_type": "fragment"
    }
   },
   "source": [
    "**(c)** $(fg)(x)$"
   ]
  },
  {
   "cell_type": "markdown",
   "metadata": {
    "slideshow": {
     "slide_type": "fragment"
    }
   },
   "source": [
    "* By definition we need to compute and simplify $(fg)(x) = f(x) \\cdot g(x)$:\n",
    "\n",
    "\\begin{align}\n",
    "    (fg)(x) & = \\color{blue}{f(x)} \\cdot \\color{purple}{g(x)} \\\\\n",
    "    & = \\color{blue}{(3x^2 + 4x - 2)} \\cdot \\color{purple}{(x - 5)} \\\\\n",
    "    & = \\color{blue}{3x^3 - 15x^2 + 4x^2 - 20x - 2x + 10} \\\\\n",
    "    & = 3x^3 \\color{blue}{-11x^2 - 22x} + 10 \\\\\n",
    "    (fg)(x) & = \\boxed{3x^3 -11x^2 - 22x + 10}\n",
    "\\end{align}"
   ]
  },
  {
   "cell_type": "markdown",
   "metadata": {
    "slideshow": {
     "slide_type": "fragment"
    }
   },
   "source": [
    "* Domain of $f(x)$: $(-\\infty, \\infty)$\n",
    "\n",
    "* Domain of $g(x)$: $(-\\infty, \\infty)$\n",
    "\n",
    "* Domain of $(fg)(x)$: $(-\\infty, \\infty)$"
   ]
  },
  {
   "cell_type": "markdown",
   "metadata": {
    "slideshow": {
     "slide_type": "fragment"
    }
   },
   "source": [
    "**(d)** $\\left( \\frac{f}{g} \\right)(x)$"
   ]
  },
  {
   "cell_type": "markdown",
   "metadata": {
    "slideshow": {
     "slide_type": "fragment"
    }
   },
   "source": [
    "* By definition we need to compute and simplify $\\left( \\frac{f}{g} \\right)(x) = \\frac{f(x)}{g(x)}$:\n",
    "\n",
    "\\begin{align}\n",
    "    \\left( \\frac{f}{g} \\right)(x) & = \\frac{\\color{blue}{f(x)}}{\\color{purple}{g(x)}} \\\\\n",
    "    & = \\frac{\\color{blue}{(3x^2 + 4x - 2)}}{\\color{purple}{(x - 5)}} \\\\\n",
    "    \\left( \\frac{f}{g} \\right)(x) & = \\boxed{\\frac{3x^2 + 4x - 2}{x - 5}}\n",
    "\\end{align}\n",
    "\n",
    "* The numerator is *NOT* factorable and is *prime* so we leave it in the form of the last line"
   ]
  },
  {
   "cell_type": "markdown",
   "metadata": {
    "slideshow": {
     "slide_type": "fragment"
    }
   },
   "source": [
    "* Domain of $f(x)$: $(-\\infty, \\infty)$\n",
    "\n",
    "* Domain of $g(x)$: $(-\\infty, \\infty)$\n",
    "\n",
    "* To find the domain for the function $\\left( \\frac{f}{g} \\right)(x)$ we note that we must require $g(x) \\neq 0$"
   ]
  },
  {
   "cell_type": "markdown",
   "metadata": {
    "slideshow": {
     "slide_type": "fragment"
    }
   },
   "source": [
    "* We determine where the denominator is equal to zero:\n",
    "\n",
    "\\begin{align}\n",
    "    x - 5 & = 0 \\\\\n",
    "    & \\Downarrow \\\\\n",
    "    x & = 5\n",
    "\\end{align}\n",
    "\n",
    "* Therefore, we must elimate $x = 5$ from the set of all real numbers"
   ]
  },
  {
   "cell_type": "markdown",
   "metadata": {
    "slideshow": {
     "slide_type": "fragment"
    }
   },
   "source": [
    "* Domain of $\\left( \\frac{f}{g} \\right)(x)$:  $(-\\infty, 5) \\cup (5, \\infty)$"
   ]
  },
  {
   "cell_type": "markdown",
   "metadata": {
    "slideshow": {
     "slide_type": "slide"
    }
   },
   "source": [
    "##### Objective 3: Form composite functions"
   ]
  },
  {
   "cell_type": "markdown",
   "metadata": {
    "slideshow": {
     "slide_type": "fragment"
    }
   },
   "source": [
    "##### Composition of Functions\n",
    "\n",
    "* Another operation we can perform with functions is **function composition**\n",
    "\n",
    "* The composition of the function $f$ with the function $g$ is denoted by $f \\circ g$ and is defined by the equation\n",
    "$$\n",
    "    \\left( f \\circ g \\right)(x) = f\\left( g(x) \\right)\n",
    "$$\n",
    "\n",
    "* The domain of the composite function $f \\circ g$ is the set of all real numbers $x$ such that $x$ is contained within the domain of $g$, and function values determined by $g(x)$ are contained within the domain of $f$"
   ]
  },
  {
   "cell_type": "markdown",
   "metadata": {
    "slideshow": {
     "slide_type": "fragment"
    }
   },
   "source": [
    "##### Example 4\n",
    "\n",
    "For $f(x) = 3x - 4$ and $g(x) = x^2 + 6$, find the following functions and their domains.\n",
    "\n",
    "**(a)** $\\left( f \\circ g \\right)(x)$\n",
    "\n",
    "**(b)** $\\left( g \\circ f \\right)(x)$"
   ]
  },
  {
   "cell_type": "markdown",
   "metadata": {
    "slideshow": {
     "slide_type": "fragment"
    }
   },
   "source": [
    "##### Solution:\n",
    "\n",
    "**(a)** $\\left( f \\circ g \\right)(x)$"
   ]
  },
  {
   "cell_type": "markdown",
   "metadata": {
    "slideshow": {
     "slide_type": "fragment"
    }
   },
   "source": [
    "* By definition the composition of $f$ with $g$ is given by $(f \\circ g)(x) = f\\left( g(x) \\right)$\n",
    "\n",
    "* This means we treat the whole function $g(x)$ as the *input of $f(x)$*:\n",
    "\n",
    "\\begin{align}\n",
    "    (f \\circ g)(x) & = f\\left( \\color{purple}{g(x)} \\right) \\\\\n",
    "    & = f\\left( \\color{purple}{x^2 + 6} \\right) \\\\\n",
    "    & = 3 (\\overbrace{\\underbrace{\\color{purple}{x^2 + 6}}_{\\text{by $\\color{purple}{g(x)}$}}}^{\\text{Replace $x$ in $f(x)$}}) - 4\n",
    "\\end{align}"
   ]
  },
  {
   "cell_type": "markdown",
   "metadata": {
    "slideshow": {
     "slide_type": "fragment"
    }
   },
   "source": [
    "* Now simplify:\n",
    "\n",
    "\\begin{align}\n",
    "    (f \\circ g)(x) & = f(g(x)) \\\\\n",
    "    & = f(x^2 + 6) \\\\\n",
    "    & = 3(x^2 + 6) - 4 \\\\\n",
    "    & = \\color{blue}{3x^2 + 18} - 4 \\\\\n",
    "    (f \\circ g)(x) & = 3x^2 \\color{blue}{+ 14} \\\\\n",
    "    & = \\boxed{3x^2 + 14}\n",
    "\\end{align}"
   ]
  },
  {
   "cell_type": "markdown",
   "metadata": {
    "slideshow": {
     "slide_type": "fragment"
    }
   },
   "source": [
    "* Domain of $f(x)$: $(-\\infty, \\infty)$\n",
    "\n",
    "* Domain of $g(x)$: $(-\\infty, \\infty)$"
   ]
  },
  {
   "cell_type": "markdown",
   "metadata": {
    "slideshow": {
     "slide_type": "fragment"
    }
   },
   "source": [
    "* Domain of $(f \\circ g)(x)$: $(-\\infty, \\infty)$"
   ]
  },
  {
   "cell_type": "markdown",
   "metadata": {
    "slideshow": {
     "slide_type": "fragment"
    }
   },
   "source": [
    "**(b)** $\\left( g \\circ f \\right)(x)$"
   ]
  },
  {
   "cell_type": "markdown",
   "metadata": {
    "slideshow": {
     "slide_type": "fragment"
    }
   },
   "source": [
    "* By definition the composition of $g$ with $f$ is given by $(g \\circ f)(x) = g\\left( f(x) \\right)$\n",
    "\n",
    "* This means we treat the whole function $f(x)$ as the *input of $g(x)$*:\n",
    "\n",
    "\\begin{align}\n",
    "    (g \\circ f)(x) & = g\\left( \\color{purple}{f(x)} \\right) \\\\\n",
    "    & = g\\left( \\color{purple}{3x - 4} \\right) \\\\\n",
    "    & = (\\overbrace{\\underbrace{\\color{purple}{3x -4}}_{\\text{by $\\color{purple}{f(x)}$}}}^{\\text{Replace $x$ in $g(x)$}})^2 + 6\n",
    "\\end{align}"
   ]
  },
  {
   "cell_type": "markdown",
   "metadata": {
    "slideshow": {
     "slide_type": "fragment"
    }
   },
   "source": [
    "* Now simplify:\n",
    "\n",
    "\\begin{align}\n",
    "    (g \\circ f)(x) & = g(f(x)) \\\\\n",
    "    & = g(3x - 4) \\\\\n",
    "    & = (3x - 4)^2 + 6 \\\\\n",
    "    & = \\color{blue}{(3x - 4)(3x - 4)} + 6 \\\\\n",
    "    & = \\color{blue}{9x^2 -12x - 12x + 16} + 6 \\\\\n",
    "    & = 9x^2 \\color{blue}{- 24x + 22} \\\\\n",
    "    (g \\circ f)(x) & = \\boxed{9x^2 - 24x + 22}\n",
    "\\end{align}"
   ]
  },
  {
   "cell_type": "markdown",
   "metadata": {
    "slideshow": {
     "slide_type": "fragment"
    }
   },
   "source": [
    "* Domain of $g(x)$: $(-\\infty, \\infty)$\n",
    "\n",
    "* Domain of $f(x)$: $(-\\infty, \\infty)$"
   ]
  },
  {
   "cell_type": "markdown",
   "metadata": {
    "slideshow": {
     "slide_type": "fragment"
    }
   },
   "source": [
    "* Domain of $(g \\circ f)(x)$: $(-\\infty, \\infty)$"
   ]
  },
  {
   "cell_type": "markdown",
   "metadata": {
    "slideshow": {
     "slide_type": "fragment"
    }
   },
   "source": [
    "##### Example 5\n",
    "\n",
    "For $f(x) = 2x - 3$ and $g(x) = \\sqrt{x} + 2$, find the following functions and their domains.\n",
    "\n",
    "**(a)** $\\left( f \\circ g \\right)(x)$\n",
    "\n",
    "**(b)** $\\left( g \\circ f \\right)(x)$"
   ]
  },
  {
   "cell_type": "markdown",
   "metadata": {
    "slideshow": {
     "slide_type": "fragment"
    }
   },
   "source": [
    "##### Solution:\n",
    "\n",
    "**(a)** $\\left( f \\circ g \\right)(x)$"
   ]
  },
  {
   "cell_type": "markdown",
   "metadata": {
    "slideshow": {
     "slide_type": "fragment"
    }
   },
   "source": [
    "* By definition the composition of $f$ with $g$ is given by $(f \\circ g)(x) = f\\left( g(x) \\right)$\n",
    "\n",
    "* This means we treat the whole function $g(x)$ as the *input of $f(x)$*:\n",
    "\n",
    "\\begin{align}\n",
    "    (f \\circ g)(x) & = f(\\color{purple}{g(x)}) \\\\\n",
    "    & = f\\left( \\color{purple}{\\sqrt{x} + 2} \\right) \\\\\n",
    "    & = 2 \\left( \\sqrt{x} + 2 \\right) - 3 \\\\\n",
    "    & = \\color{blue}{2 \\sqrt{x} + 4} - 3 \\\\\n",
    "    & = 2 \\sqrt{x} \\color{blue}{+ 1} \\\\\n",
    "    (f \\circ g)(x) & = \\boxed{2 \\sqrt{x} + 1}\n",
    "\\end{align}"
   ]
  },
  {
   "cell_type": "markdown",
   "metadata": {
    "slideshow": {
     "slide_type": "fragment"
    }
   },
   "source": [
    "* Domain of $f(x)$: $(-\\infty, \\infty)$\n",
    "\n",
    "* Domain of $g(x)$: $[0, \\infty)$\n",
    "\n",
    "* Range of $g(x)$: $[2, \\infty)$\n",
    "    \n",
    "    * No $x$ values need to be removed since no values within the range violate the values within the domain of $f(x)$"
   ]
  },
  {
   "cell_type": "markdown",
   "metadata": {
    "slideshow": {
     "slide_type": "fragment"
    }
   },
   "source": [
    "* Domain of $(f \\circ g)(x)$: $[0, \\infty)$"
   ]
  },
  {
   "cell_type": "markdown",
   "metadata": {
    "slideshow": {
     "slide_type": "fragment"
    }
   },
   "source": [
    "**(b)** $\\left( g \\circ f \\right)(x)$"
   ]
  },
  {
   "cell_type": "markdown",
   "metadata": {
    "slideshow": {
     "slide_type": "fragment"
    }
   },
   "source": [
    "* By definition the composition of $g$ with $f$ is given by $(g \\circ f)(x) = g\\left( f(x) \\right)$\n",
    "\n",
    "* This means we treat the whole function $f(x)$ as the *input of $g(x)$*:\n",
    "\n",
    "\\begin{align}\n",
    "    (g \\circ f)(x) & = g(\\color{purple}{f(x)}) \\\\\n",
    "    & = g\\left( \\color{purple}{2x - 3} \\right) \\\\\n",
    "    (g \\circ f)(x) & = \\boxed{\\sqrt{2x - 3} + 2}\n",
    "\\end{align}"
   ]
  },
  {
   "cell_type": "markdown",
   "metadata": {
    "slideshow": {
     "slide_type": "fragment"
    }
   },
   "source": [
    "* Domain of $g(x)$: $[0, \\infty)$\n",
    "\n",
    "* Domain of $f(x)$: $(-\\infty, \\infty)$\n",
    "\n",
    "* Range of $f(x)$: $(-\\infty, \\infty)$"
   ]
  },
  {
   "cell_type": "markdown",
   "metadata": {
    "slideshow": {
     "slide_type": "fragment"
    }
   },
   "source": [
    "* Since the domain for $g$ is $[0, \\infty)$, we must restrict our domain to *at most* this set of values\n",
    "\n",
    "* We need to also check the domain of the final result of composing the two functions and consider *the range of $f(x)$ as an input*\n",
    "\n",
    "* Since our final result contains a radical, we need to make sure that the expression inside the radical is greater than or equal to zero:\n",
    "\n",
    "\\begin{align}\n",
    "    2x - 3 & \\geq 0 \\\\\n",
    "    2x - 3 \\color{blue}{+ 3} & \\geq 0 \\color{blue}{+ 3} \\\\\n",
    "    2x & \\geq 3 \\\\\n",
    "    \\frac{2x}{\\color{blue}{2}} & \\geq \\frac{3}{\\color{blue}{2}} \\\\\n",
    "    x & \\geq \\frac{3}{2}\n",
    "\\end{align}\n",
    "\n",
    "* The domain of $(g \\circ f)(x)$ must contain only those $x$ values for which this inequality is true, *which is a stronger restriction than that of the domain of $g$*"
   ]
  },
  {
   "cell_type": "markdown",
   "metadata": {
    "slideshow": {
     "slide_type": "fragment"
    }
   },
   "source": [
    "* Domain of $(g \\circ f)(x)$: $\\left[ \\frac{3}{2}, \\infty \\right)$"
   ]
  },
  {
   "cell_type": "markdown",
   "metadata": {
    "slideshow": {
     "slide_type": "fragment"
    }
   },
   "source": [
    "##### Example 6\n",
    "\n",
    "For $f(x) = 4x^2 + x - 3$ and $g(x) = 2x^2 - 2x - 6$, find the following functions values.\n",
    "\n",
    "**(a)** $\\left( f \\circ g \\right)(-1)$\n",
    "\n",
    "**(b)** $\\left( g \\circ f \\right)(0)$\n",
    "\n",
    "**(c)** $\\left( g \\circ g \\right)(-2)$"
   ]
  },
  {
   "cell_type": "markdown",
   "metadata": {
    "slideshow": {
     "slide_type": "fragment"
    }
   },
   "source": [
    "##### Solution:\n",
    "\n",
    "**(a)** $\\left( f \\circ g \\right)(-1)$"
   ]
  },
  {
   "cell_type": "markdown",
   "metadata": {
    "slideshow": {
     "slide_type": "fragment"
    }
   },
   "source": [
    "* Since $(f \\circ g)(x) = f(g(x))$, we can compute $g(-1)$ first, and then plug that result into $f$\n",
    "\n",
    "* Computing $g(-1)$:\n",
    "\n",
    "\\begin{align}\n",
    "    g(-1) & = 2(-1)^2 - 2(-1) - 6 \\\\\n",
    "    & = 2\\color{blue}{(1) + 2} - 6 \\\\\n",
    "    & = 2 + 2 - 6 \\\\\n",
    "    g(-1) & = -2\n",
    "\\end{align}"
   ]
  },
  {
   "cell_type": "markdown",
   "metadata": {
    "slideshow": {
     "slide_type": "fragment"
    }
   },
   "source": [
    "* Now that we have the result $g(-1) = -2$, we plug this into $f$:\n",
    "\n",
    "\\begin{align}\n",
    "    f(-2) & = 4(-2)^2 + (-2) - 3 \\\\\n",
    "    & = 4\\color{blue}{(4) - 2} - 3 \\\\\n",
    "    & = 16 - 2 - 3 \\\\\n",
    "    f(-2) & = 11 \\\\\n",
    "\\end{align}\n",
    "\n",
    "* Therefore, $(f \\circ g)(-1) = f(g(-1)) = \\boxed{11}$"
   ]
  },
  {
   "cell_type": "markdown",
   "metadata": {
    "slideshow": {
     "slide_type": "fragment"
    }
   },
   "source": [
    "**(b)** $\\left( g \\circ f \\right)(0)$"
   ]
  },
  {
   "cell_type": "markdown",
   "metadata": {
    "slideshow": {
     "slide_type": "fragment"
    }
   },
   "source": [
    "* Since $(g \\circ f)(x) = g(f(x))$, we can compute $f(0)$ first, and then plug that result into $g$\n",
    "\n",
    "* Computing $f(0)$:\n",
    "\n",
    "\\begin{align}\n",
    "    f(0) & = 4(0)^2 + (0) - 3 \\\\\n",
    "    f(0) & = -3\n",
    "\\end{align}"
   ]
  },
  {
   "cell_type": "markdown",
   "metadata": {
    "slideshow": {
     "slide_type": "fragment"
    }
   },
   "source": [
    "* Now that we have the result $f(0) = -3$, we plug this into $g$:\n",
    "\n",
    "\\begin{align}\n",
    "    g(-3) & = 2(-3)^2 - 2(-3) - 6 \\\\\n",
    "    & = 2(9) + 6 - 6 \\\\\n",
    "    g(-3) & = 18\n",
    "\\end{align}\n",
    "\n",
    "* Therefore, $(g \\circ f)(0) = g(f(0)) = \\boxed{18}$"
   ]
  },
  {
   "cell_type": "markdown",
   "metadata": {
    "slideshow": {
     "slide_type": "fragment"
    }
   },
   "source": [
    "**(c)** $\\left( g \\circ g \\right)(-2)$"
   ]
  },
  {
   "cell_type": "markdown",
   "metadata": {
    "slideshow": {
     "slide_type": "fragment"
    }
   },
   "source": [
    "* Since $(g \\circ g)(x) = g(g(x))$, we can compute $g(-2)$ first, and then plug that result into $g$\n",
    "\n",
    "* Computing $g(-2)$:\n",
    "\n",
    "\\begin{align}\n",
    "    g(-2) & = 2(-2)^2 - 2(-2) - 6 \\\\\n",
    "    & = 2(4) + 4 - 6 \\\\\n",
    "    & = 8 + 4 - 6 \\\\\n",
    "    & = 6\n",
    "\\end{align}"
   ]
  },
  {
   "cell_type": "markdown",
   "metadata": {
    "slideshow": {
     "slide_type": "fragment"
    }
   },
   "source": [
    "* Now that we have the result $g(-2) = 6$, we plug this result into $g$:\n",
    "\n",
    "\\begin{align}\n",
    "    g(6) & = 2(6)^2 - 2(6) - 6 \\\\\n",
    "    & = 2(36) - 12 - 6 \\\\\n",
    "    & = 72 - 12 - 6 \\\\\n",
    "    g(6) & = 54\n",
    "\\end{align}\n",
    "\n",
    "* Therefore, $(g \\circ g)(-2) = g(g(-2)) = \\boxed{54}$"
   ]
  },
  {
   "cell_type": "markdown",
   "metadata": {
    "slideshow": {
     "slide_type": "slide"
    }
   },
   "source": [
    "### End Section"
   ]
  }
 ],
 "metadata": {
  "celltoolbar": "Slideshow",
  "kernelspec": {
   "display_name": "Python 3",
   "language": "python",
   "name": "python3"
  },
  "language_info": {
   "codemirror_mode": {
    "name": "ipython",
    "version": 3
   },
   "file_extension": ".py",
   "mimetype": "text/x-python",
   "name": "python",
   "nbconvert_exporter": "python",
   "pygments_lexer": "ipython3",
   "version": "3.8.8"
  },
  "rise": {
   "enable_chalkboard": true,
   "theme": "sky",
   "transition": "zoom"
  }
 },
 "nbformat": 4,
 "nbformat_minor": 4
}
