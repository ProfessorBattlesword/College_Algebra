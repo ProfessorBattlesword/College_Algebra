{
 "cells": [
  {
   "cell_type": "markdown",
   "metadata": {
    "slideshow": {
     "slide_type": "slide"
    }
   },
   "source": [
    "# Chapter 2: Functions and Graphs"
   ]
  },
  {
   "cell_type": "markdown",
   "metadata": {
    "slideshow": {
     "slide_type": "slide"
    }
   },
   "source": [
    "### Section 2.7: Inverse Functions\n",
    "\n",
    "### Objectives:\n",
    "\n",
    "##### Objective 1: Find the inverse of a function\n",
    "\n",
    "##### Objective 2: Use the horizontal line test to determine if a function has an inverse function\n",
    "\n",
    "##### Objective 3: Use the graph of a one-to-one function to graph its inverse function\n",
    "\n",
    "##### Objective 4: Find the inverse of a function and graph both functions on the same axes"
   ]
  },
  {
   "cell_type": "markdown",
   "metadata": {
    "slideshow": {
     "slide_type": "slide"
    }
   },
   "source": [
    "##### Objective 1: Find the inverse of a function"
   ]
  },
  {
   "cell_type": "markdown",
   "metadata": {
    "slideshow": {
     "slide_type": "fragment"
    }
   },
   "source": [
    "##### Inverse Relation\n",
    "\n",
    "* Given any relation (a set of ordered pairs), the **inverse relation** is the relation obtained by swapping the position of the first and second elements of each ordered pair in the original relation"
   ]
  },
  {
   "cell_type": "markdown",
   "metadata": {
    "slideshow": {
     "slide_type": "fragment"
    }
   },
   "source": [
    "##### Inverse Function\n",
    "\n",
    "* Let $f$ and $g$ be two functions such that \n",
    "\n",
    "\\begin{align}\n",
    "    f\\left( g(x) \\right) & = x \\text{ for every $x$ in the domain of $g$} \\\\\n",
    "    & \\text{and} \\\\\n",
    "    g\\left( f(x) \\right) & = x \\text{ for every $x$ in the domain of $f$}.\n",
    "\\end{align}\n",
    "\n",
    "* The function $g$ is the **inverse of the function $f$**\n",
    "\n",
    "* The function $g$ is denoted by $f^{-1}(x)$ and read as \"$f$-inverse of $x$\"\n",
    "\n",
    "    * That is, $g(x) = f^{-1}(x)$\n",
    "\n",
    "* The domain and range of $f$ and $f^{-1}$ swap with each other:\n",
    "\n",
    "    * The domain of $f$ is equal to the range of $f^{-1}$\n",
    "\n",
    "    * The range of $f$ is equal to the domain of $f^{-1}$"
   ]
  },
  {
   "cell_type": "markdown",
   "metadata": {
    "slideshow": {
     "slide_type": "fragment"
    }
   },
   "source": [
    "##### Finding the Inverse of a Function\n",
    "\n",
    "1. Replace $f(x)$ with the variable $y$ (if necessary)\n",
    "\n",
    "2. Swap variables\n",
    "\n",
    "3. Solve the resulting equation from step 2 for $y$\n",
    "\n",
    "4. Replace the variable $y$ with $f^{-1}(x)$\n",
    "\n",
    "5. Determine the domain and range for $f^{-1}(x)$"
   ]
  },
  {
   "cell_type": "markdown",
   "metadata": {
    "slideshow": {
     "slide_type": "fragment"
    }
   },
   "source": [
    "##### Example 1\n",
    "\n",
    "Find the inverse function, $f^{-1}(x)$, for the function $f$ given below.\n",
    "\n",
    "$$\n",
    "    f(x) = 7x + 5\n",
    "$$"
   ]
  },
  {
   "cell_type": "markdown",
   "metadata": {
    "slideshow": {
     "slide_type": "fragment"
    }
   },
   "source": [
    "##### Solution:\n",
    "\n",
    "**Step 1:**\n",
    "\n",
    "* Replace $f(x)$ with $y$:\n",
    "\n",
    "\\begin{align}\n",
    "    f(x) & = 7x + 5 \\\\\n",
    "    & \\Downarrow \\\\\n",
    "    y & = 7x + 5\n",
    "\\end{align}"
   ]
  },
  {
   "cell_type": "markdown",
   "metadata": {
    "slideshow": {
     "slide_type": "fragment"
    }
   },
   "source": [
    "**Step 2:**\n",
    "\n",
    "* Swap $x$'s with $y$'s:\n",
    "\n",
    "\\begin{align}\n",
    "    y & = 7x + 5 \\\\\n",
    "    & \\Downarrow \\\\\n",
    "    x & = 7y + 5\n",
    "\\end{align}"
   ]
  },
  {
   "cell_type": "markdown",
   "metadata": {
    "slideshow": {
     "slide_type": "fragment"
    }
   },
   "source": [
    "**Step 3:**\n",
    "\n",
    "* Solve for $y$:\n",
    "\n",
    "\\begin{align}\n",
    "    x & = 7y + 5 \\\\\n",
    "    x \\color{blue}{- 5} & = 7y + 5 \\color{blue}{- 5} \\\\\n",
    "    & \\Downarrow \\\\\n",
    "    x - 5 & = 7y \\\\\n",
    "    \\frac{x - 5}{\\color{blue}{7}} & = \\frac{7y}{\\color{blue}{7}} \\\\\n",
    "    \\frac{x - 5}{7} & = y \\\\\n",
    "    & \\Downarrow \\\\\n",
    "    y & = \\frac{x - 5}{7}\n",
    "\\end{align}"
   ]
  },
  {
   "cell_type": "markdown",
   "metadata": {
    "slideshow": {
     "slide_type": "fragment"
    }
   },
   "source": [
    "**Step 4:**\n",
    "\n",
    "* Replace $y$ with $f^{-1}(x)$:\n",
    "\n",
    "\\begin{align}\n",
    "    y & = \\frac{x - 5}{7} \\\\\n",
    "    & \\Downarrow \\\\\n",
    "    f^{-1}(x) & = \\frac{x - 5}{7}\n",
    "\\end{align}"
   ]
  },
  {
   "cell_type": "markdown",
   "metadata": {
    "slideshow": {
     "slide_type": "fragment"
    }
   },
   "source": [
    "**Step 5:**\n",
    "\n",
    "* Determine the domain and range:\n",
    "\n",
    "    * Domain: $(-\\infty, \\infty)$\n",
    "    \n",
    "    * Range: $(-\\infty, \\infty)$\n",
    "    \n",
    "* **NOTE:** The domain of $f$ is the range of $f^{-1}$ and the range of $f$ is the domain of $f^{-1}$; this means that although every function $f$ has an *inverse relation*, the *inverse function* $f^{-1}$ *might not exist* for a particular function $f$"
   ]
  },
  {
   "cell_type": "markdown",
   "metadata": {
    "slideshow": {
     "slide_type": "slide"
    }
   },
   "source": [
    "##### Objective 2: Use the horizontal line test to determine if a function has an inverse function"
   ]
  },
  {
   "cell_type": "markdown",
   "metadata": {
    "slideshow": {
     "slide_type": "fragment"
    }
   },
   "source": [
    "##### One-to-One Functions and the Horizontal Line Test\n",
    "\n",
    "* A **one-to-one function** is a function in which no two different ordered pairs have the same second component\n",
    "\n",
    "* Only one-to-one functions have inverse functions\n",
    "\n",
    "* A function $f$ has an inverse, $f^{-1}$, if there is no horizontal line that intersects the graph of the function $f$ at more than one point"
   ]
  },
  {
   "cell_type": "markdown",
   "metadata": {
    "slideshow": {
     "slide_type": "fragment"
    }
   },
   "source": [
    "##### Example 2\n",
    "\n",
    "Determine which graphs below have an inverse function."
   ]
  },
  {
   "cell_type": "code",
   "execution_count": 1,
   "metadata": {
    "slideshow": {
     "slide_type": "fragment"
    }
   },
   "outputs": [],
   "source": [
    "import warnings\n",
    "warnings.filterwarnings('ignore')\n",
    "import numpy as np\n",
    "import matplotlib.pyplot as plt\n",
    "\n",
    "plt.style.use('fivethirtyeight')"
   ]
  },
  {
   "cell_type": "code",
   "execution_count": 2,
   "metadata": {
    "slideshow": {
     "slide_type": "fragment"
    }
   },
   "outputs": [
    {
     "data": {
      "image/png": "[encoded data removed]",
      "text/plain": [
       "<Figure size 1800x1080 with 3 Axes>"
      ]
     },
     "metadata": {},
     "output_type": "display_data"
    }
   ],
   "source": [
    "fig, ax = plt.subplots(1, 3, figsize=(25, 15))\n",
    "\n",
    "x = np.linspace(-10, 10, 100)\n",
    "\n",
    "y_1 = 3*x + 5\n",
    "ax[0].plot(x, y_1, color='b')\n",
    "ax[0].axhline(y=0, lw=2, color='k')\n",
    "ax[0].axvline(x=0, lw=2, color='k')\n",
    "ax[0].set_xlim(-10, 10)\n",
    "ax[0].set_xticks(np.arange(-10, 11, 1))\n",
    "ax[0].set_ylim(-10, 10)\n",
    "ax[0].set_yticks(np.arange(-10, 11, 1))\n",
    "ax[0].set_title('$(a)$', fontsize=35)\n",
    "ax[0].set_aspect(1)\n",
    "\n",
    "y_2 = np.abs(x - 4)\n",
    "ax[1].plot(x, y_2, color='b')\n",
    "ax[1].axhline(y=0, lw=2, color='k')\n",
    "ax[1].axvline(x=0, lw=2, color='k')\n",
    "ax[1].set_xlim(-10, 10)\n",
    "ax[1].set_xticks(np.arange(-10, 11, 1))\n",
    "ax[1].set_ylim(-10, 10)\n",
    "ax[1].set_yticks(np.arange(-10, 11, 1))\n",
    "ax[1].set_title('$(b)$', fontsize=35)\n",
    "ax[1].set_aspect(1)\n",
    "\n",
    "y_3 = x**2\n",
    "ax[2].plot(x, y_3, color='b')\n",
    "ax[2].axhline(y=0, lw=2, color='k')\n",
    "ax[2].axvline(x=0, lw=2, color='k')\n",
    "ax[2].set_xlim(-10, 10)\n",
    "ax[2].set_xticks(np.arange(-10, 11, 1))\n",
    "ax[2].set_ylim(-10, 10)\n",
    "ax[2].set_yticks(np.arange(-10, 11, 1))\n",
    "ax[2].set_title('$(c)$', fontsize=35)\n",
    "ax[2].set_aspect(1)"
   ]
  },
  {
   "cell_type": "markdown",
   "metadata": {
    "slideshow": {
     "slide_type": "fragment"
    }
   },
   "source": [
    "##### Solution:\n",
    "\n",
    "**(a)** Has an *inverse function*\n",
    "\n",
    "**(b)** Has an *inverse relation*, but does not have an *inverse function*\n",
    "\n",
    "**(c)** Has an *invsere relation*, but does not have an *inverse function*"
   ]
  },
  {
   "cell_type": "markdown",
   "metadata": {
    "slideshow": {
     "slide_type": "fragment"
    }
   },
   "source": [
    "##### Example 3\n",
    "\n",
    "Find the inverse function, $f^{-1}(x)$, for the function $f$ given below, if it exists.\n",
    "\n",
    "$$\n",
    "    f(x) = x^3 + 1\n",
    "$$"
   ]
  },
  {
   "cell_type": "markdown",
   "metadata": {
    "slideshow": {
     "slide_type": "fragment"
    }
   },
   "source": [
    "##### Solution:\n",
    "\n",
    "**Step 1:**\n",
    "\n",
    "* Replace $f(x)$ with $y$:\n",
    "\n",
    "\\begin{align}\n",
    "    f(x) & = x^3 + 1 \\\\\n",
    "    & \\Downarrow \\\\\n",
    "    y & = x^3 + 1\n",
    "\\end{align}"
   ]
  },
  {
   "cell_type": "markdown",
   "metadata": {
    "slideshow": {
     "slide_type": "fragment"
    }
   },
   "source": [
    "**Step 2:**\n",
    "\n",
    "* Swap $x$'s with $y$'s:\n",
    "\n",
    "\\begin{align}\n",
    "    y & = x^3 + 1 \\\\\n",
    "    & \\Downarrow \\\\\n",
    "    x & = y^3 + 1\n",
    "\\end{align}"
   ]
  },
  {
   "cell_type": "markdown",
   "metadata": {
    "slideshow": {
     "slide_type": "fragment"
    }
   },
   "source": [
    "**Step 3:**\n",
    "\n",
    "* Solve for $y$:\n",
    "\n",
    "\\begin{align}\n",
    "    x & = y^3 + 1 \\\\\n",
    "    x \\color{blue}{- 1} & = 7y + 1 \\color{blue}{- 1} \\\\\n",
    "    & \\Downarrow \\\\\n",
    "    x - 1 & = y^3 \\\\\n",
    "    \\left( x - 1 \\right)^{\\color{blue}{\\frac{1}{3}}} & = \\left( y^3 \\right)^{\\color{blue}{\\frac{1}{3}}} \\\\\n",
    "    \\left( x - 1 \\right)^{\\frac{1}{3}} & = y \\\\\n",
    "    & \\Downarrow \\\\\n",
    "    y & = \\left( x - 1 \\right)^{\\frac{1}{3}} \\\\\n",
    "    & \\text{or} \\\\\n",
    "    y & = \\sqrt[3]{x - 1}\n",
    "\\end{align}"
   ]
  },
  {
   "cell_type": "markdown",
   "metadata": {
    "slideshow": {
     "slide_type": "fragment"
    }
   },
   "source": [
    "**Step 4:**\n",
    "\n",
    "* Replace $y$ with $f^{-1}(x)$:\n",
    "\n",
    "\\begin{align}\n",
    "    y & = \\sqrt[3]{x - 1} \\\\\n",
    "    & \\Downarrow \\\\\n",
    "    f^{-1}(x) & = \\sqrt[3]{x - 1}\n",
    "\\end{align}"
   ]
  },
  {
   "cell_type": "markdown",
   "metadata": {
    "slideshow": {
     "slide_type": "fragment"
    }
   },
   "source": [
    "**Step 5:**\n",
    "\n",
    "* Since the domain and range for a cubic function as given by $f$ is $(-\\infty, \\infty)$ for both\n",
    "\n",
    "    * Domain of $f^{-1}$: $(-\\infty, \\infty)$\n",
    "    \n",
    "    * Range of $f^{-1}$: $(-\\infty, \\infty)$"
   ]
  },
  {
   "cell_type": "markdown",
   "metadata": {
    "slideshow": {
     "slide_type": "fragment"
    }
   },
   "source": [
    "##### Example 4\n",
    "\n",
    "Find the inverse function, $f^{-1}(x)$, for the function $f$ given below, if it exists.\n",
    "\n",
    "$$\n",
    "    f(x) = \\frac{1}{x} + 3\n",
    "$$"
   ]
  },
  {
   "cell_type": "markdown",
   "metadata": {
    "slideshow": {
     "slide_type": "fragment"
    }
   },
   "source": [
    "##### Solution:\n",
    "\n",
    "**Step 1:**\n",
    "\n",
    "* Replace $f(x)$ with $y$:\n",
    "\n",
    "\\begin{align}\n",
    "    f(x) & = \\frac{1}{x} + 3 \\\\\n",
    "    & \\Downarrow \\\\\n",
    "    y & = \\frac{1}{x} + 3\n",
    "\\end{align}"
   ]
  },
  {
   "cell_type": "markdown",
   "metadata": {
    "slideshow": {
     "slide_type": "fragment"
    }
   },
   "source": [
    "**Step 2:**\n",
    "\n",
    "* Swap $x$'s with $y$'s:\n",
    "\n",
    "\\begin{align}\n",
    "    y & =  \\frac{1}{x} + 3 \\\\\n",
    "    & \\Downarrow \\\\\n",
    "    x & =  \\frac{1}{y} + 3\n",
    "\\end{align}"
   ]
  },
  {
   "cell_type": "markdown",
   "metadata": {
    "slideshow": {
     "slide_type": "fragment"
    }
   },
   "source": [
    "**Step 3:**\n",
    "\n",
    "* Solve for $y$:\n",
    "\n",
    "\\begin{align}\n",
    "    x & =  \\frac{1}{y} + 3 \\\\\n",
    "    x \\color{blue}{- 3} & = \\frac{1}{y} + 3 \\color{blue}{- 3} \\\\\n",
    "    & \\Downarrow \\\\\n",
    "    x - 3 & = \\frac{1}{y} \\\\\n",
    "    (x - 3) \\cdot \\color{blue}{y} & = \\frac{1}{y} \\cdot \\color{blue}{y} \\\\\n",
    "    & \\Downarrow \\\\\n",
    "    (x - 3)y & = 1 \\\\\n",
    "    \\frac{(x - 3)y}{\\color{blue}{x - 3}} & = \\frac{1}{\\color{blue}{x - 3}} \\\\\n",
    "    & \\Downarrow \\\\\n",
    "    y & = \\frac{1}{x - 3}\n",
    "\\end{align}"
   ]
  },
  {
   "cell_type": "markdown",
   "metadata": {
    "slideshow": {
     "slide_type": "fragment"
    }
   },
   "source": [
    "**Step 4:**\n",
    "\n",
    "* Replace $y$ with $f^{-1}(x)$:\n",
    "\n",
    "\\begin{align}\n",
    "    y & = \\frac{1}{x - 3} \\\\\n",
    "    & \\Downarrow \\\\\n",
    "    f^{-1}(x) & = \\frac{1}{x - 3}\n",
    "\\end{align}"
   ]
  },
  {
   "cell_type": "markdown",
   "metadata": {
    "slideshow": {
     "slide_type": "fragment"
    }
   },
   "source": [
    "**Step 5:**\n",
    "\n",
    "* Domain for $f$: $(-\\infty, 0) \\cup (0, \\infty)$\n",
    "\n",
    "* Range for $f$: $(-\\infty, 3) \\cup (3, \\infty)$\n",
    "\n",
    "* Domain for $f^{-1}$: $(-\\infty, 3) \\cup (3, \\infty)$\n",
    "    \n",
    "* Range for $f^{-1}$: $(-\\infty, 0) \\cup (0, \\infty)$"
   ]
  },
  {
   "cell_type": "markdown",
   "metadata": {
    "slideshow": {
     "slide_type": "fragment"
    }
   },
   "source": [
    "##### Example 5\n",
    "\n",
    "Find the inverse function, $f^{-1}(x)$, for the function $f$ given below, if it exists.\n",
    "\n",
    "$$\n",
    "    f(x) = \\sqrt[3]{x + 4}\n",
    "$$"
   ]
  },
  {
   "cell_type": "markdown",
   "metadata": {
    "slideshow": {
     "slide_type": "fragment"
    }
   },
   "source": [
    "##### Solution:\n",
    "\n",
    "**Step 1:**\n",
    "\n",
    "* Replace $f(x)$ with $y$:\n",
    "\n",
    "\\begin{align}\n",
    "    f(x) & = \\sqrt[3]{x + 4} \\\\\n",
    "    & \\Downarrow \\\\\n",
    "    y & = \\sqrt[3]{x + 4}\n",
    "\\end{align}"
   ]
  },
  {
   "cell_type": "markdown",
   "metadata": {
    "slideshow": {
     "slide_type": "fragment"
    }
   },
   "source": [
    "**Step 2:**\n",
    "\n",
    "* Swap $x$'s with $y$'s:\n",
    "\n",
    "\\begin{align}\n",
    "    y & = \\sqrt[3]{x + 4} \\\\\n",
    "    & \\Downarrow \\\\\n",
    "    x & = \\sqrt[3]{y + 4}\n",
    "\\end{align}"
   ]
  },
  {
   "cell_type": "markdown",
   "metadata": {
    "slideshow": {
     "slide_type": "fragment"
    }
   },
   "source": [
    "**Step 3:**\n",
    "\n",
    "* Solve for $y$:\n",
    "\n",
    "\\begin{align}\n",
    "    x & = \\sqrt[3]{y + 4} \\\\\n",
    "    \\left( x \\right)^{\\color{blue}{3}} & = \\left( \\sqrt[3]{y + 4} \\right)^{\\color{blue}{3}} \\\\\n",
    "    & \\Downarrow \\\\\n",
    "    x^3 & = y + 4 \\\\\n",
    "    x^3 \\color{blue}{- 4} & = y + 4 \\color{blue}{- 4} \\\\\n",
    "    & \\Downarrow \\\\\n",
    "    x^3 - 4 & = y \\\\\n",
    "    & \\Downarrow \\\\\n",
    "    y & = x^3 - 4\n",
    "\\end{align}"
   ]
  },
  {
   "cell_type": "markdown",
   "metadata": {
    "slideshow": {
     "slide_type": "fragment"
    }
   },
   "source": [
    "**Step 4:**\n",
    "\n",
    "* Replace $y$ with $f^{-1}(x)$:\n",
    "\n",
    "\\begin{align}\n",
    "    y & = x^3 - 4 \\\\\n",
    "    & \\Downarrow \\\\\n",
    "    f^{-1}(x) & = x^3 - 4\n",
    "\\end{align}"
   ]
  },
  {
   "cell_type": "markdown",
   "metadata": {
    "slideshow": {
     "slide_type": "fragment"
    }
   },
   "source": [
    "**Step 5:**\n",
    "\n",
    "* Domain of $f$: $(-\\infty, \\infty)$\n",
    "\n",
    "* Range of $f$: $(-\\infty, \\infty)$\n",
    "\n",
    "* Domain of $f^{-1}$: $(-\\infty, \\infty)$\n",
    "    \n",
    "* Range of $f^{-1}$: $(-\\infty, \\infty)$"
   ]
  },
  {
   "cell_type": "markdown",
   "metadata": {
    "slideshow": {
     "slide_type": "fragment"
    }
   },
   "source": [
    "##### Example 6\n",
    "\n",
    "Find the inverse function, $f^{-1}(x)$, for the function $f$ given below, if it exists.\n",
    "\n",
    "$$\n",
    "    f(x) = x^2 - 1\n",
    "$$"
   ]
  },
  {
   "cell_type": "markdown",
   "metadata": {
    "slideshow": {
     "slide_type": "fragment"
    }
   },
   "source": [
    "##### Solution:\n",
    "\n",
    "* This is a quadratic function and is *not* a one-to-one function\n",
    "\n",
    "* Therefore, $f$ has no inverse function"
   ]
  },
  {
   "cell_type": "markdown",
   "metadata": {
    "slideshow": {
     "slide_type": "slide"
    }
   },
   "source": [
    "##### Objective 3: Use the graph of a one-to-one function to graph its inverse function"
   ]
  },
  {
   "cell_type": "markdown",
   "metadata": {
    "slideshow": {
     "slide_type": "fragment"
    }
   },
   "source": [
    "* Recall that the inverse of any relation (including functions) can be determined by simply swapping the order of the ordered pairs"
   ]
  },
  {
   "cell_type": "markdown",
   "metadata": {
    "slideshow": {
     "slide_type": "fragment"
    }
   },
   "source": [
    "##### Example 7\n",
    "\n",
    "Use the graph of $f$ to draw the graph of its inverse function."
   ]
  },
  {
   "cell_type": "code",
   "execution_count": 3,
   "metadata": {
    "slideshow": {
     "slide_type": "fragment"
    }
   },
   "outputs": [
    {
     "data": {
      "image/png": "[encoded data removed]",
      "text/plain": [
       "<Figure size 1800x1080 with 1 Axes>"
      ]
     },
     "metadata": {},
     "output_type": "display_data"
    }
   ],
   "source": [
    "x_1 = np.linspace(-7, 0, 100)\n",
    "x_2 = np.linspace(0, 2, 100)\n",
    "y_1 = x_1 + 2\n",
    "y_2 = x_2**2 + 2\n",
    "\n",
    "fig, ax = plt.subplots(figsize=(25, 15))\n",
    "\n",
    "ax.plot(x_1, y_1, color='b')\n",
    "ax.plot(x_2, y_2, color='b', \n",
    "        label=r'$f(x)$')\n",
    "ax.axhline(y=0, lw=2, color='k')\n",
    "ax.axvline(x=0, lw=2, color='k')\n",
    "ax.set_xlim(-10, 10)\n",
    "ax.set_xticks(np.arange(-10, 11, 1))\n",
    "ax.set_ylim(-10, 10)\n",
    "ax.set_yticks(np.arange(-10, 11, 1))\n",
    "ax.legend()\n",
    "ax.set_title(r'$f(x)$')\n",
    "ax.set_aspect(1)"
   ]
  },
  {
   "cell_type": "markdown",
   "metadata": {
    "slideshow": {
     "slide_type": "fragment"
    }
   },
   "source": [
    "##### Solution:\n",
    "\n",
    "* We identify some points on the graph of $f(x)$ and then we swap the order\n",
    "\n",
    "* We then plot those points (the ones that have had their order swapped)\n",
    "\n",
    "* Finally, connect these points\n",
    "\n",
    "* *All inverse functions* when graphed on the same coordinate axes with the original function are symmetric about the line $y = x$"
   ]
  },
  {
   "cell_type": "code",
   "execution_count": 7,
   "metadata": {
    "slideshow": {
     "slide_type": "fragment"
    }
   },
   "outputs": [
    {
     "data": {
      "image/png": "[encoded data removed]",
      "text/plain": [
       "<Figure size 1800x1080 with 1 Axes>"
      ]
     },
     "metadata": {},
     "output_type": "display_data"
    }
   ],
   "source": [
    "x_1 = np.linspace(-7, 0, 100)\n",
    "x_2 = np.linspace(0, 2, 100)\n",
    "y_1 = x_1 + 2\n",
    "y_2 = x_2**2 + 2\n",
    "\n",
    "fig, ax = plt.subplots(figsize=(25, 15))\n",
    "\n",
    "ax.plot(x_1, y_1, color='b')\n",
    "ax.plot(x_2, y_2, color='b', \n",
    "        label=r'$f(x)$')\n",
    "ax.plot(y_1, x_1, color='r')\n",
    "ax.plot(y_2, x_2, color='r', label=r'$f^{-1}(x)$')\n",
    "ax.plot(np.linspace(-10, 10, 100), \n",
    "        np.linspace(-10, 10, 100), \n",
    "        color='purple', ls='--', \n",
    "        label=r'$y = x$')\n",
    "ax.axhline(y=0, lw=2, color='k')\n",
    "ax.axvline(x=0, lw=2, color='k')\n",
    "ax.set_xlim(-10, 10)\n",
    "ax.set_xticks(np.arange(-10, 11, 1))\n",
    "ax.set_ylim(-10, 10)\n",
    "ax.set_yticks(np.arange(-10, 11, 1))\n",
    "ax.legend()\n",
    "ax.set_title(r'$f(x)$')\n",
    "ax.set_aspect(1)"
   ]
  },
  {
   "cell_type": "markdown",
   "metadata": {
    "slideshow": {
     "slide_type": "fragment"
    }
   },
   "source": [
    "##### Example 8\n",
    "\n",
    "For the function $f(x) = 3x - 6$ determine whether $f(x)$ is one-to-one. If so, find a formula for the inverse, give the domain and range of $f^{-1}$, and then graph both functions on the same axes."
   ]
  },
  {
   "cell_type": "markdown",
   "metadata": {
    "slideshow": {
     "slide_type": "fragment"
    }
   },
   "source": [
    "##### Solution:\n",
    "\n",
    "* $f(x)$ is a non-constant, linear function and therefore is one-to-one (passes the horizontal line test); therefore, an inverse function exists"
   ]
  },
  {
   "cell_type": "markdown",
   "metadata": {
    "slideshow": {
     "slide_type": "fragment"
    }
   },
   "source": [
    "* Finding the formula for the inverse function:\n",
    "\n",
    "\\begin{align}\n",
    "    f(x) & = 3x - 6 \\qquad (\\text{given}) \\\\\n",
    "    & \\Downarrow \\\\\n",
    "    y & = 3x - 6 \\qquad (\\text{rewrite}) \\\\\n",
    "    & \\Downarrow \\\\\n",
    "    x & = 3y - 6 \\qquad (\\text{swap}) \\\\\n",
    "    x \\color{blue}{+ 6} & = 3y - 6 \\color{blue}{+ 6} \\qquad (\\text{solving}) \\\\\n",
    "    x + 6 & = 3y \\\\\n",
    "    & \\Downarrow \\\\\n",
    "    \\frac{x + 6}{\\color{blue}{3}} & = \\frac{3y}{\\color{blue}{3}} \\\\\n",
    "    y & = \\frac{x + 6}{3} \\\\\n",
    "    & \\Downarrow \\\\\n",
    "    f^{-1}(x) & = \\frac{x + 6}{3}\n",
    "\\end{align}"
   ]
  },
  {
   "cell_type": "markdown",
   "metadata": {
    "slideshow": {
     "slide_type": "fragment"
    }
   },
   "source": [
    "* If we simplify just a bit further we can write the inverse in a familiar form ($f^{-1}(x) = mx + b$):\n",
    "\n",
    "\\begin{align}\n",
    "    f^{-1}(x) & = \\frac{x}{3} + \\frac{6}{3} \\\\\n",
    "    f^{-1}(x) & = \\frac{1}{3}x + 2\n",
    "\\end{align}"
   ]
  },
  {
   "cell_type": "markdown",
   "metadata": {
    "slideshow": {
     "slide_type": "fragment"
    }
   },
   "source": [
    "* Domain of $f$: $(-\\infty, \\infty)$\n",
    "\n",
    "* Range of $f$: $(-\\infty, \\infty)$\n",
    "\n",
    "* Domain of $f^{-1}$: $(-\\infty, \\infty)$\n",
    "\n",
    "* Range of $f^{-1}$: $(-\\infty, \\infty)$"
   ]
  },
  {
   "cell_type": "markdown",
   "metadata": {
    "slideshow": {
     "slide_type": "fragment"
    }
   },
   "source": [
    "* Graphing:"
   ]
  },
  {
   "cell_type": "code",
   "execution_count": 9,
   "metadata": {
    "slideshow": {
     "slide_type": "fragment"
    }
   },
   "outputs": [
    {
     "data": {
      "image/png": "[encoded data removed]",
      "text/plain": [
       "<Figure size 1800x1080 with 1 Axes>"
      ]
     },
     "metadata": {},
     "output_type": "display_data"
    }
   ],
   "source": [
    "x = np.linspace(-10, 10, 100)\n",
    "y = 3*x - 6\n",
    "\n",
    "fig, ax = plt.subplots(figsize=(25, 15))\n",
    "\n",
    "ax.plot(x, y, color='b', \n",
    "        label=r'$f(x)$')\n",
    "ax.plot(y, x, color='r', label=r'$f^{-1}(x)$')\n",
    "ax.plot(np.linspace(-10, 10, 100), \n",
    "        np.linspace(-10, 10, 100), \n",
    "        color='purple', ls='--', \n",
    "        label=r'$y = x$')\n",
    "ax.axhline(y=0, lw=2, color='k')\n",
    "ax.axvline(x=0, lw=2, color='k')\n",
    "ax.set_xlim(-10, 10)\n",
    "ax.set_xticks(np.arange(-10, 11, 1))\n",
    "ax.set_ylim(-10, 10)\n",
    "ax.set_yticks(np.arange(-10, 11, 1))\n",
    "ax.legend()\n",
    "ax.set_title(r'$f(x)$')\n",
    "ax.set_aspect(1)"
   ]
  },
  {
   "cell_type": "markdown",
   "metadata": {
    "slideshow": {
     "slide_type": "slide"
    }
   },
   "source": [
    "### End Section"
   ]
  }
 ],
 "metadata": {
  "celltoolbar": "Slideshow",
  "kernelspec": {
   "display_name": "Python 3",
   "language": "python",
   "name": "python3"
  },
  "language_info": {
   "codemirror_mode": {
    "name": "ipython",
    "version": 3
   },
   "file_extension": ".py",
   "mimetype": "text/x-python",
   "name": "python",
   "nbconvert_exporter": "python",
   "pygments_lexer": "ipython3",
   "version": "3.8.8"
  },
  "rise": {
   "enable_chalkboard": true,
   "theme": "sky",
   "transition": "zoom"
  }
 },
 "nbformat": 4,
 "nbformat_minor": 4
}
