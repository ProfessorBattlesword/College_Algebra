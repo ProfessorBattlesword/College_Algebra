{
 "cells": [
  {
   "cell_type": "markdown",
   "metadata": {
    "slideshow": {
     "slide_type": "slide"
    }
   },
   "source": [
    "### Section 6.3: Matrix Operations and Their Applications"
   ]
  },
  {
   "cell_type": "markdown",
   "metadata": {
    "slideshow": {
     "slide_type": "slide"
    }
   },
   "source": [
    "##### Objective 1: Using Matrix Notation"
   ]
  },
  {
   "cell_type": "markdown",
   "metadata": {
    "slideshow": {
     "slide_type": "fragment"
    }
   },
   "source": [
    "##### Definitions:\n",
    "\n",
    "A <em><b>matrix</b></em> is a rectangular array of values.\n",
    "\n",
    "Matrix example:\n",
    "\n",
    "$$A = \\left( \\begin{matrix} -6 & 4 & 9 \\\\ -2 & 1 & 0 \\end{matrix} \\right)$$\n",
    "\n",
    "The <em><b>element</b></em> of a matrix is a specific entry or value within the matrix.\n",
    "\n",
    "For example, the upper left-hand corner of the matrix $A$ contains an entry or <em>element</em> equal to $-6$."
   ]
  },
  {
   "cell_type": "markdown",
   "metadata": {
    "slideshow": {
     "slide_type": "fragment"
    }
   },
   "source": [
    "Capital letters are generally reserved for expressing an entire matrix, whereas subscripted, lower case letters are representative of specific elements. The subscripts specify the position of the element in question.\n",
    "\n",
    "So while $A$ represents the matrix shown above, $a_{ij}$ represents a specific element of the matrix $A$. The $i$ and $j$ subscripts represent which <em>row</em> and <em>column</em> the element is located in.\n",
    "\n",
    "Using this notation to specify the upper left-hand corner entry of $A$, we would have $a_{11}=-6$. The element is in the first row ($i=1$), and first column ($j=1$).\n",
    "\n",
    "Similarly, $a_{21} = -2$. The element in the second row ($i = 2$), and the first column ($j=1$)."
   ]
  },
  {
   "cell_type": "markdown",
   "metadata": {
    "slideshow": {
     "slide_type": "fragment"
    }
   },
   "source": [
    "The <em><b>order</b></em> or <em><b>dimensions</b></em> of a matrix are the total number of rows by the total number of columns expressed in shorthand by $m \\times n$, where $m$ is the total number of rows and $n$ is the total number of columns. When expressing the order/dimensions of a matrix, the <em>row is always the first number</em> and the <em>column is always the second number</em>."
   ]
  },
  {
   "cell_type": "markdown",
   "metadata": {
    "slideshow": {
     "slide_type": "fragment"
    }
   },
   "source": [
    "A matrix with $m = n$ is what we call a <em><b>square matrix</b></em>.\n",
    "\n",
    "So for example,\n",
    "\n",
    "$$B = \\left( \\begin{matrix} 2 & 9 & 0 \\\\ 3 & -2 & 0 \\\\ 4 & 4 & 4 \\end{matrix} \\right)$$\n",
    "\n",
    "is a square matrix since $B$ has three rows ($m=3$) and three columns ($n = 3$). So the order of the matrix is $m \\times n = 3 \\times 3$. Since $m$ and $n$ are the same, this is a <em>square matrix</em>."
   ]
  },
  {
   "cell_type": "markdown",
   "metadata": {
    "slideshow": {
     "slide_type": "fragment"
    }
   },
   "source": [
    "##### Example:\n",
    "\n",
    "Let $A = \\left( \\begin{matrix} -6 & 4 & 9 \\\\ -2 & 1 & 0 \\end{matrix} \\right)$.\n",
    "\n",
    "1. What is the order of $A$?\n",
    "\n",
    "2. Identify $a_{32}$ and $a_{23}$, if possible."
   ]
  },
  {
   "cell_type": "markdown",
   "metadata": {
    "slideshow": {
     "slide_type": "fragment"
    }
   },
   "source": [
    "##### Solution:\n",
    "\n",
    "1. There are two rows and three columns: $A$ has order $2 \\times 3$."
   ]
  },
  {
   "cell_type": "markdown",
   "metadata": {
    "slideshow": {
     "slide_type": "fragment"
    }
   },
   "source": [
    "2. $a_{32}$ does not exist since the first number represents the number of rows ($i=3$) and $A$ does not have three rows, while $a_{23} = 0$ (second row, third column)."
   ]
  },
  {
   "cell_type": "markdown",
   "metadata": {
    "slideshow": {
     "slide_type": "slide"
    }
   },
   "source": [
    "##### Example:\n",
    "\n",
    "Let $A = \\left( \\begin{matrix} 3 \\\\ -1 \\\\ 4 \\\\ 2 \\end{matrix} \\right)$.\n",
    "\n",
    "1. What is the order of $A$?\n",
    "\n",
    "2. Identify $a_{12}$ and $a_{21}$, if possible."
   ]
  },
  {
   "cell_type": "markdown",
   "metadata": {
    "slideshow": {
     "slide_type": "fragment"
    }
   },
   "source": [
    "##### Solution:\n",
    "\n",
    "1. The order of $A$ is $4 \\times 1$."
   ]
  },
  {
   "cell_type": "markdown",
   "metadata": {
    "slideshow": {
     "slide_type": "fragment"
    }
   },
   "source": [
    "2. $a_{12}$ does not exist ($A$ only has one column); $a_{21} = -1$ (second row, first column)"
   ]
  },
  {
   "cell_type": "markdown",
   "metadata": {
    "slideshow": {
     "slide_type": "slide"
    }
   },
   "source": [
    "##### Example:\n",
    "\n",
    "Let $A = \\left( \\begin{matrix} 1 & -3 & 3 \\\\ -4 & -5 & -1 \\\\ -2 & 6 & 4 \\end{matrix} \\right)$.\n",
    "\n",
    "1. What is the order of $A$?\n",
    "\n",
    "2. Identify $a_{23}$ and $a_{32}$, if possible."
   ]
  },
  {
   "cell_type": "markdown",
   "metadata": {
    "slideshow": {
     "slide_type": "fragment"
    }
   },
   "source": [
    "##### Solution:\n",
    "\n",
    "1. The order of $A$ is $3 \\times 3$.\n",
    "\n",
    "2. $a_{23} = -1$ and $a_{32} = 6$."
   ]
  },
  {
   "cell_type": "markdown",
   "metadata": {
    "slideshow": {
     "slide_type": "slide"
    }
   },
   "source": [
    "##### Objective 2: Understanding Equality of Matrices"
   ]
  },
  {
   "cell_type": "markdown",
   "metadata": {
    "slideshow": {
     "slide_type": "fragment"
    }
   },
   "source": [
    "Two matrices,$A$ and $B$, are <em><b>equal</b></em> if and only if both matrices have equal corresponding elements. That is, if and only if $a_{ij} = b_{ij}$ for $i = 1,2,3,\\dots,m$ and $j = 1,2,3,\\dots,n$.\n",
    "\n",
    "Notice that this means that both matrices <em>must</em> be of the <em>same order</em>."
   ]
  },
  {
   "cell_type": "markdown",
   "metadata": {
    "slideshow": {
     "slide_type": "fragment"
    }
   },
   "source": [
    "##### Example:\n",
    "\n",
    "Find the values for the variables so that the following matrices are equal.\n",
    "\n",
    "$$\\left( \\begin{matrix} x+1 & -y-2 \\\\ z & 8 \\end{matrix} \\right) = \\left( \\begin{matrix} 2 & 6 \\\\ -4 & 8 \\end{matrix} \\right)$$"
   ]
  },
  {
   "cell_type": "markdown",
   "metadata": {
    "slideshow": {
     "slide_type": "fragment"
    }
   },
   "source": [
    "##### Solution:\n",
    "\n",
    "Let $A = \\left( \\begin{matrix} x+1 & -y-2 \\\\ z & 8 \\end{matrix} \\right)$ and $B = \\left( \\begin{matrix} 2 & 6 \\\\ -4 & 8 \\end{matrix} \\right)$.\n",
    "\n",
    "We need $a_{11} = b_{11} \\Rightarrow x+1 = 2 \\Rightarrow \\boxed{x = 1}$"
   ]
  },
  {
   "cell_type": "markdown",
   "metadata": {
    "slideshow": {
     "slide_type": "fragment"
    }
   },
   "source": [
    "Likewise, we require that $a_{12} = b_{12} \\Rightarrow -y-2 = 6$ and $a_{21}=b_{21} \\Rightarrow \\boxed{z = -4}$ (notice $a_{22} = b_{22}=8$ so we don't need to solve anything here)."
   ]
  },
  {
   "cell_type": "markdown",
   "metadata": {
    "slideshow": {
     "slide_type": "fragment"
    }
   },
   "source": [
    "From $-y-2 = 6$, we get find that $\\boxed{y = -8}$"
   ]
  },
  {
   "cell_type": "markdown",
   "metadata": {
    "slideshow": {
     "slide_type": "slide"
    }
   },
   "source": [
    "##### Example:\n",
    "\n",
    "Find the values for the variables so that the following matrices are equal.\n",
    "\n",
    "$$\\left( \\begin{matrix} 3 & 4x & 5 \\\\ 6y-2 & 7 & 8 \\\\ -1 & 8 & 2z+3 \\end{matrix} \\right) = \\left( \\begin{matrix} 3 & 8 & 5 \\\\ 10 & 7 & 8 \\\\ -1 & 8 & 15 \\end{matrix} \\right)$$"
   ]
  },
  {
   "cell_type": "markdown",
   "metadata": {
    "slideshow": {
     "slide_type": "fragment"
    }
   },
   "source": [
    "##### Solution:\n",
    "\n",
    "Again, assuming that the left matrix is $A$ and the right matrix is $B$, we need to find the missing variables by requiring the following elements be equal:\n",
    "\n",
    "$a_{12} = b_{12}$, $a_{21} = b_{21}$, and $a_{33} = b_{33}$."
   ]
  },
  {
   "cell_type": "markdown",
   "metadata": {
    "slideshow": {
     "slide_type": "fragment"
    }
   },
   "source": [
    "This means that $4x = 8$, $6y-2 = 10$, and $2z+3=15$.\n",
    "\n",
    "Each of these equations are straightforward to solve and we get\n",
    "\n",
    "$$\\boxed{x = 2, y = 2, z = 6}$$"
   ]
  },
  {
   "cell_type": "markdown",
   "metadata": {
    "slideshow": {
     "slide_type": "slide"
    }
   },
   "source": [
    "##### Objective 3: Adding and Subtracting Matrices"
   ]
  },
  {
   "cell_type": "markdown",
   "metadata": {
    "slideshow": {
     "slide_type": "fragment"
    }
   },
   "source": [
    "##### Definitions:\n",
    "\n",
    "<em><b>Matrix addition</b></em> of two matrices, $A$ and $B$, produces a new matrix, $C$. The new matrix, $C$, is defined by adding each corresponding element of $A$ and $B$ with each other. That is, $c_{ij} = a_{ij} + b_{ij}$ for $i = 1,2,3,\\dots,m$ and $j=1,2,3.\\dots,n$. Notice, similar to equality of matrices, this means that $A$ and $B$ <em>must</em> have the same order. If $A$ and $B$ do not have the same order, then matrix addition cannot be performed with those matrices.\n",
    "\n",
    "<em><b>Matrix subtraction</b></em> is defined similarly as matrix addition, but instead of adding each corresponding element, we subtract in the order indicated. That is, $A - B$ indicates we would subtract elements of $B$ from corresponding elements in $A$. This also means that $A$ and $B$ <em>must</em> have the same order."
   ]
  },
  {
   "cell_type": "markdown",
   "metadata": {
    "slideshow": {
     "slide_type": "fragment"
    }
   },
   "source": [
    "##### Example:\n",
    "\n",
    "Perform the indicated operation:\n",
    "\n",
    "$$\\left( \\begin{matrix} -2 & 1 & -5 \\\\ 5 & -4 & 6 \\\\ -5 & 7 & -9 \\end{matrix} \\right) + \\left( \\begin{matrix} 4 & 6 & -9 \\\\ 3 & -2 & 1 \\\\ -6 & 8 & -2 \\end{matrix} \\right)$$"
   ]
  },
  {
   "cell_type": "markdown",
   "metadata": {
    "slideshow": {
     "slide_type": "fragment"
    }
   },
   "source": [
    "##### Solution:\n",
    "\n",
    "$$\\left( \\begin{matrix} -2 & 1 & -5 \\\\ 5 & -4 & 6 \\\\ -5 & 7 & -9 \\end{matrix} \\right) + \\left( \\begin{matrix} 4 & 6 & -9 \\\\ 3 & -2 & 1 \\\\ -6 & 8 & -2 \\end{matrix} \\right) \\\\\n",
    "= \\left( \\begin{matrix} -2 + 4 & 1 + 6 & -5 + -9 \\\\ 5 + 3 & -4 + -2 & 6 + 1 \\\\ -5 + -6 & 7 + 8 & -9 + -2 \\end{matrix} \\right)$$"
   ]
  },
  {
   "cell_type": "markdown",
   "metadata": {
    "slideshow": {
     "slide_type": "fragment"
    }
   },
   "source": [
    "$$\\left( \\begin{matrix} -2 & 1 & -5 \\\\ 5 & -4 & 6 \\\\ -5 & 7 & -9 \\end{matrix} \\right) + \\left( \\begin{matrix} 4 & 6 & -9 \\\\ 3 & -2 & 1 \\\\ -6 & 8 & -2 \\end{matrix} \\right) = \\boxed{\\left( \\begin{matrix} 2 & 7 & -14 \\\\ 8 & -6 & 7 \\\\ -11 & 15 & -11 \\end{matrix} \\right)}$$"
   ]
  },
  {
   "cell_type": "markdown",
   "metadata": {
    "slideshow": {
     "slide_type": "slide"
    }
   },
   "source": [
    "##### Example:\n",
    "\n",
    "Perform the indicated operation:\n",
    "\n",
    "$$\\left( \\begin{matrix} -2 & -1 \\\\ 6 & -4 \\end{matrix} \\right) - \\left( \\begin{matrix} 1 & 3 \\\\ -3 & 2 \\end{matrix} \\right)$$"
   ]
  },
  {
   "cell_type": "markdown",
   "metadata": {
    "slideshow": {
     "slide_type": "fragment"
    }
   },
   "source": [
    "##### Solution:\n",
    "\n",
    "$$\\left( \\begin{matrix} -2 & -1 \\\\ 6 & -4 \\end{matrix} \\right) - \\left( \\begin{matrix} 1 & 3 \\\\ -3 & 2 \\end{matrix} \\right) \\\\\n",
    "= \\left( \\begin{matrix} -2 - 1 & -1 - 3 \\\\ 6 - (-3) & -4 - 2 \\end{matrix} \\right)$$"
   ]
  },
  {
   "cell_type": "markdown",
   "metadata": {
    "slideshow": {
     "slide_type": "fragment"
    }
   },
   "source": [
    "$$\\left( \\begin{matrix} -2 & -1 \\\\ 6 & -4 \\end{matrix} \\right) - \\left( \\begin{matrix} 1 & 3 \\\\ -3 & 2 \\end{matrix} \\right) \\\\\n",
    "= \\boxed{\\left( \\begin{matrix} -3 & -4 \\\\ 9 & -6 \\end{matrix} \\right)}$$"
   ]
  },
  {
   "cell_type": "markdown",
   "metadata": {
    "slideshow": {
     "slide_type": "slide"
    }
   },
   "source": [
    "##### Example:\n",
    "\n",
    "Perform the indicated operation:\n",
    "\n",
    "$$\\left( \\begin{matrix} -6 & 2 & 4 \\end{matrix} \\right) - \\left( \\begin{matrix} 1 & 3 \\\\ -3 & 2 \\end{matrix} \\right)$$"
   ]
  },
  {
   "cell_type": "markdown",
   "metadata": {
    "slideshow": {
     "slide_type": "fragment"
    }
   },
   "source": [
    "##### Solution:\n",
    "\n",
    "These two matrices do <em>not</em> have the same order. The left matrix has order $1 \\times 3$ and the right matrix has order $2 \\times 2$. Since these matrices are not of the same order, we cannot perform the operation. So there is $\\boxed{\\text{no solution}}$."
   ]
  },
  {
   "cell_type": "markdown",
   "metadata": {
    "slideshow": {
     "slide_type": "slide"
    }
   },
   "source": [
    "##### Objective 4: Multiplying by a Scalar"
   ]
  },
  {
   "cell_type": "markdown",
   "metadata": {
    "slideshow": {
     "slide_type": "fragment"
    }
   },
   "source": [
    "##### Definition:\n",
    "\n",
    "A <em><b>scalar</b></em> (informally) is any real or complex number.\n",
    "\n",
    "We will only deal with real-valued scalars. So a scalar represents any real number.\n",
    "\n",
    "<em><b>Scalar multiplication</b></em> with a matrix, $A$, is the new matrix obtained by multiplying the scalar with each entry of the matrix $A$."
   ]
  },
  {
   "cell_type": "markdown",
   "metadata": {
    "slideshow": {
     "slide_type": "fragment"
    }
   },
   "source": [
    "##### Example:\n",
    "\n",
    "Perform the indicated operation:\n",
    "\n",
    "$$-3 \\left( \\begin{matrix} 2 & -5 \\\\ 7 & -6 \\end{matrix} \\right)$$"
   ]
  },
  {
   "cell_type": "markdown",
   "metadata": {
    "slideshow": {
     "slide_type": "fragment"
    }
   },
   "source": [
    "##### Solution:\n",
    "\n",
    "$$-3 \\left( \\begin{matrix} 2 & -5 \\\\ 7 & -6 \\end{matrix} \\right) = \\left( \\begin{matrix} -3 \\cdot 2 & -3 \\cdot -5 \\\\ -3 \\cdot 7 & -3 \\cdot -6 \\end{matrix} \\right)$$"
   ]
  },
  {
   "cell_type": "markdown",
   "metadata": {
    "slideshow": {
     "slide_type": "fragment"
    }
   },
   "source": [
    "$$-3 \\left( \\begin{matrix} 2 & -5 \\\\ 7 & -6 \\end{matrix} \\right) = \\boxed{\\left( \\begin{matrix} -6 & 15 \\\\ -21 & 18 \\end{matrix} \\right)}$$"
   ]
  },
  {
   "cell_type": "markdown",
   "metadata": {
    "slideshow": {
     "slide_type": "slide"
    }
   },
   "source": [
    "##### Example:\n",
    "\n",
    "Perform the indicated operation:\n",
    "\n",
    "If $A = \\left( \\begin{matrix} -2 & 5 \\\\ -1 & -4 \\end{matrix} \\right)$ and $B = \\left( \\begin{matrix} 4 & -3 \\\\ -2 & 0 \\end{matrix} \\right)$, find $2A-4B$."
   ]
  },
  {
   "cell_type": "markdown",
   "metadata": {
    "slideshow": {
     "slide_type": "fragment"
    }
   },
   "source": [
    "##### Solution:\n",
    "\n",
    "First, we find the scalar multiplication of $2A$ and $4B$. Then we can perform the subtraction.\n",
    "\n",
    "So we have $2A = \\left( \\begin{matrix} -4 & 10 \\\\ -2 & -8 \\end{matrix} \\right)$ and $4B = \\left( \\begin{matrix} 16 & -12 \\\\ -8 & 0 \\end{matrix} \\right)$."
   ]
  },
  {
   "cell_type": "markdown",
   "metadata": {
    "slideshow": {
     "slide_type": "fragment"
    }
   },
   "source": [
    "Subtracting:\n",
    "\n",
    "$$2A-4B = \\left( \\begin{matrix} -4 & 10 \\\\ -2 & -8 \\end{matrix} \\right) - \\left( \\begin{matrix} 16 & -12 \\\\ -8 & 0 \\end{matrix} \\right) \\\\\n",
    "= \\boxed{\\left( \\begin{matrix} -20 & 22 \\\\ 6 & -8 \\end{matrix} \\right)}$$"
   ]
  },
  {
   "cell_type": "markdown",
   "metadata": {
    "slideshow": {
     "slide_type": "slide"
    }
   },
   "source": [
    "##### Objective 5: Multiplying Matrices"
   ]
  },
  {
   "cell_type": "markdown",
   "metadata": {
    "slideshow": {
     "slide_type": "fragment"
    }
   },
   "source": [
    "##### Definition:\n",
    "\n",
    "The product of an $\\color{red}{m} \\times \\color{blue}{n}$ matrix, $A$, and an $\\color{blue}{n} \\times \\color{red}{p}$ matrix, $B$, is an $m \\times p$ matrix, $AB$, whose elements are found as follows. The element in the $i$th row and $j$th column of $AB$ is found by multiplying each element in the $i$th row of $A$ by the corresponding element in the $j$th column of $B$ and adding the products.\n",
    "\n",
    "Notice that for this process to work, we require that the number of <em>columns in the left matrix</em> of the multiplication must match the number of <em>rows in the right matrix</em> of the multiplication. This alone suggests that matrix multiplication, in general, is <em>not</em> commutative. So $AB \\neq BA$ in the general sense for two arbitrary matrices $A$ and $B$."
   ]
  },
  {
   "cell_type": "markdown",
   "metadata": {
    "slideshow": {
     "slide_type": "fragment"
    }
   },
   "source": [
    "##### Example:\n",
    "\n",
    "Find $AB$ given that $A = \\left( \\begin{matrix} -9 & -1 \\\\ -9 & 4 \\end{matrix} \\right)$ and $B = \\left( \\begin{matrix} -3 & 7 \\\\ 1 & 3 \\end{matrix} \\right)$."
   ]
  },
  {
   "cell_type": "markdown",
   "metadata": {
    "slideshow": {
     "slide_type": "fragment"
    }
   },
   "source": [
    "##### Solution:\n",
    "\n",
    "What are the dimensions of $A$? What are the dimensions of $B$?"
   ]
  },
  {
   "cell_type": "markdown",
   "metadata": {
    "slideshow": {
     "slide_type": "fragment"
    }
   },
   "source": [
    "Dimensions of $A$: $\\color{red}{2} \\times \\color{blue}{2}$\n",
    "\n",
    "Dimensions of $B$: $\\color{blue}{2} \\times \\color{red}{2}$\n",
    "\n",
    "$AB$ is only valid when the number of columns of $A$ are the same as the number of rows of $B$.\n",
    "\n",
    "The resulting matrix will have dimensions of $\\color{red}{2} \\times \\color{red}{2}$ (number of rows in $A$ by the number of columns in $B$)."
   ]
  },
  {
   "cell_type": "markdown",
   "metadata": {
    "slideshow": {
     "slide_type": "fragment"
    }
   },
   "source": [
    "So we'll end up with a matrix of the type shown:\n",
    "\n",
    "$$AB = \\left( \\begin{matrix} -9 & -1 \\\\ -9 & 4 \\end{matrix} \\right) \\left( \\begin{matrix} -3 & 7 \\\\ 1 & 3 \\end{matrix} \\right) \\\\\n",
    "=\\left( \\begin{matrix} \\boxed{?} & \\boxed{?} \\\\ \\boxed{?} & \\boxed{?} \\end{matrix} \\right)$$\n",
    "\n",
    "To obtain the unknown values indicated by $\\boxed{?}$, we must march through each row of the first matrix and each column of the second matrix, multiplying each corresponding element in the current row with each corresponding element in the current column."
   ]
  },
  {
   "cell_type": "markdown",
   "metadata": {
    "slideshow": {
     "slide_type": "fragment"
    }
   },
   "source": [
    "Marching throught he rows and columns as described.\n",
    "\n",
    "Our first march in this process is the first row of the first matrix and the first column in the second matrix. We multiply the first element in the first row by the first element in the first column and then multiply the second element in the first row with the second element in the first column and add the results.\n",
    "\n",
    "$$AB = \\left( \\begin{matrix} \\color{blue}{-9} & \\color{blue}{-1} \\\\ -9 & 4 \\end{matrix} \\right) \\left( \\begin{matrix} \\color{blue}{-3} & 7 \\\\ \\color{blue}{1} & 3 \\end{matrix} \\right) \\\\\n",
    "=\\left( \\begin{matrix} \\color{blue}{-9 \\cdot -3 + -1 \\cdot 1} & \\boxed{?} \\\\ \\boxed{?} & \\boxed{?} \\end{matrix} \\right) \\\\\n",
    "=\\left( \\begin{matrix} \\color{blue}{27 + -1} & \\boxed{?} \\\\ \\boxed{?} & \\boxed{?} \\end{matrix} \\right) \\\\\n",
    "=\\left( \\begin{matrix} \\color{blue}{26} & \\boxed{?} \\\\ \\boxed{?} & \\boxed{?} \\end{matrix} \\right)$$\n",
    "\n",
    "Since we are using the <em>first row</em> of matrix $A$ and the <em>first column</em> of matrix $B$, the new element we obtain will be located in the <em>first row and first column</em> of the new matrix. In this case, that element simplifies to $26$."
   ]
  },
  {
   "cell_type": "markdown",
   "metadata": {
    "slideshow": {
     "slide_type": "fragment"
    }
   },
   "source": [
    "We have already used the first row and the first column, so now we march to the next column in matrix $B$ before switching the row in matrix $A$ in the first matrix:\n",
    "\n",
    "$$AB = \\left( \\begin{matrix} \\color{blue}{-9} & \\color{blue}{-1} \\\\ -9 & 4 \\end{matrix} \\right) \\left( \\begin{matrix} -3 & \\color{blue}{7} \\\\ 1 & \\color{blue}{3} \\end{matrix} \\right) \\\\\n",
    "=\\left( \\begin{matrix} 26 & \\color{blue}{-9 \\cdot 7 + -1 \\cdot 3} \\\\ \\boxed{?} & \\boxed{?} \\end{matrix} \\right) \\\\\n",
    "=\\left( \\begin{matrix} 26 & \\color{blue}{-63 + -3} \\\\ \\boxed{?} & \\boxed{?} \\end{matrix} \\right) \\\\\n",
    "=\\left( \\begin{matrix} 26 & \\color{blue}{-66} \\\\ \\boxed{?} & \\boxed{?} \\end{matrix} \\right)$$"
   ]
  },
  {
   "cell_type": "markdown",
   "metadata": {
    "slideshow": {
     "slide_type": "fragment"
    }
   },
   "source": [
    "Now we have exhausted all of the columns in matrix $B$. Therefore, we now march to the second row in matrix $A$ and start fresh on the first column in matrix $B$:\n",
    "\n",
    "$$AB = \\left( \\begin{matrix} -9 & -1 \\\\ \\color{blue}{-9} & \\color{blue}{4} \\end{matrix} \\right) \\left( \\begin{matrix} \\color{blue}{-3} & 7 \\\\ \\color{blue}{1} & 3 \\end{matrix} \\right) \\\\\n",
    "=\\left( \\begin{matrix} 26 & -66 \\\\ \\color{blue}{-9 \\cdot -3 + 4 \\cdot 1} & \\boxed{?} \\end{matrix} \\right) \\\\\n",
    "=\\left( \\begin{matrix} 26 & -66 \\\\ \\color{blue}{27 + 4} & \\boxed{?} \\end{matrix} \\right) \\\\\n",
    "=\\left( \\begin{matrix} 26 & -66 \\\\ \\color{blue}{31} & \\boxed{?} \\end{matrix} \\right)$$"
   ]
  },
  {
   "cell_type": "markdown",
   "metadata": {
    "slideshow": {
     "slide_type": "fragment"
    }
   },
   "source": [
    "$$AB = \\left( \\begin{matrix} -9 & -1 \\\\ \\color{blue}{-9} & \\color{blue}{4} \\end{matrix} \\right) \\left( \\begin{matrix} -3 & \\color{blue}{7} \\\\ 1 & \\color{blue}{3} \\end{matrix} \\right) \\\\\n",
    "=\\left( \\begin{matrix} 26 & -66 \\\\ 31 & \\color{blue}{-9 \\cdot 7 + 4 \\cdot 3} \\end{matrix} \\right) \\\\\n",
    "=\\left( \\begin{matrix} 26 & -66 \\\\ 31 & \\color{blue}{-63 + 12} \\end{matrix} \\right) \\\\\n",
    "=\\left( \\begin{matrix} 26 & -66 \\\\ 31 & \\color{blue}{-51} \\end{matrix} \\right)$$\n",
    "\n",
    "So our final result is $\\boxed{AB = \\left( \\begin{matrix} 26 & -66 \\\\ 31 & -51 \\end{matrix} \\right)}$"
   ]
  },
  {
   "cell_type": "markdown",
   "metadata": {
    "slideshow": {
     "slide_type": "slide"
    }
   },
   "source": [
    "##### Example:\n",
    "\n",
    "Find $AB$ and $BA$ given that $A = \\left( \\begin{matrix} -3 & 7 \\\\ 1 & 3 \\end{matrix} \\right)$ and $B = \\left( \\begin{matrix} 4 & -4 \\\\ -7 & -6 \\\\ -2 & 0 \\end{matrix} \\right)$."
   ]
  },
  {
   "cell_type": "markdown",
   "metadata": {
    "slideshow": {
     "slide_type": "fragment"
    }
   },
   "source": [
    "##### Solution:\n",
    "\n",
    "For $AB$ we have:\n",
    "\n",
    "$$AB = \\left( \\begin{matrix} -3 & 7 \\\\ 1 & 3 \\end{matrix} \\right) \\left( \\begin{matrix} 4 & -4 \\\\ -7 & -6 \\\\ -2 & 0 \\end{matrix} \\right)$$\n",
    "\n",
    "Notice the order of each matrix though: $A$ has order $2 \\times \\color{blue}{2}$ while $B$ has order $\\color{blue}{3} \\times 2$. The columns of $A$ and the rows of $B$ don't match $\\Rightarrow$ cannot perform operation $\\Rightarrow \\boxed{\\text{no solution}}$."
   ]
  },
  {
   "cell_type": "markdown",
   "metadata": {
    "slideshow": {
     "slide_type": "fragment"
    }
   },
   "source": [
    "For $BA$ we have:\n",
    "\n",
    "$$BA = \\left( \\begin{matrix} 4 & -4 \\\\ -7 & -6 \\\\ -2 & 0 \\end{matrix} \\right) \\left( \\begin{matrix} -3 & 7 \\\\ 1 & 3 \\end{matrix} \\right)$$\n",
    "\n",
    "Examining the order of each matrix we now have a $3 \\times \\color{blue}{2}$ being multiplied with a $\\color{blue}{2} \\times 2$. Now the number of columns of the left matrix match the rows of the right matrix. So the operation <em>can</em> be performed and we should end up with a new matrix with order $3 \\times 2$. So we proceed:"
   ]
  },
  {
   "cell_type": "markdown",
   "metadata": {
    "slideshow": {
     "slide_type": "fragment"
    }
   },
   "source": [
    "We need to traverse the rows of the first matrix and the columns of the second matrix and fill in the missing elements.\n",
    "\n",
    "$$BA = \\left( \\begin{matrix} 4 & -4 \\\\ -7 & -6 \\\\ -2 & 0 \\end{matrix} \\right) \\left( \\begin{matrix} -3 & 7 \\\\ 1 & 3 \\end{matrix} \\right) \\\\\n",
    "=\\left( \\begin{matrix} \\boxed{?} & \\boxed{?} \\\\ \\boxed{?} & \\boxed{?} \\\\ \\boxed{?} & \\boxed{?} \\end{matrix} \\right)$$"
   ]
  },
  {
   "cell_type": "markdown",
   "metadata": {
    "slideshow": {
     "slide_type": "fragment"
    }
   },
   "source": [
    "$$BA = \\left( \\begin{matrix} \\color{blue}{4} & \\color{blue}{-4} \\\\ -7 & -6 \\\\ -2 & 0 \\end{matrix} \\right) \\left( \\begin{matrix} \\color{blue}{-3} & 7 \\\\ \\color{blue}{1} & 3 \\end{matrix} \\right) \\\\\n",
    "= \\left( \\begin{matrix} \\color{blue}{4 \\cdot -3 + -4 \\cdot 1} & \\boxed{?} \\\\ \\boxed{?} & \\boxed{?} \\\\ \\boxed{?} & \\boxed{?} \\end{matrix} \\right) \\\\\n",
    "= \\left( \\begin{matrix} \\color{blue}{-12 + -4} & \\boxed{?} \\\\ \\boxed{?} & \\boxed{?} \\\\ \\boxed{?} & \\boxed{?} \\end{matrix} \\right) \\\\\n",
    "\\left( \\begin{matrix} \\color{blue}{-16} & \\boxed{?} \\\\ \\boxed{?} & \\boxed{?} \\\\ \\boxed{?} & \\boxed{?} \\end{matrix} \\right)$$"
   ]
  },
  {
   "cell_type": "markdown",
   "metadata": {
    "slideshow": {
     "slide_type": "fragment"
    }
   },
   "source": [
    "$$BA = \\left( \\begin{matrix} \\color{blue}{4} & \\color{blue}{-4} \\\\ -7 & -6 \\\\ -2 & 0 \\end{matrix} \\right) \\left( \\begin{matrix} -3 & \\color{blue}{7} \\\\ 1 & \\color{blue}{3} \\end{matrix} \\right) \\\\\n",
    "= \\left( \\begin{matrix} -16 & \\color{blue}{4 \\cdot 7 + -4 \\cdot 3} \\\\ \\boxed{?} & \\boxed{?} \\\\ \\boxed{?} & \\boxed{?} \\end{matrix} \\right) \\\\\n",
    "= \\left( \\begin{matrix} -16 & \\color{blue}{28 + -12} \\\\ \\boxed{?} & \\boxed{?} \\\\ \\boxed{?} & \\boxed{?} \\end{matrix} \\right) \\\\\n",
    "\\left( \\begin{matrix} -16 & \\color{blue}{16} \\\\ \\boxed{?} & \\boxed{?} \\\\ \\boxed{?} & \\boxed{?} \\end{matrix} \\right)$$"
   ]
  },
  {
   "cell_type": "markdown",
   "metadata": {
    "slideshow": {
     "slide_type": "fragment"
    }
   },
   "source": [
    "$$BA = \\left( \\begin{matrix} 4 & -4 \\\\ \\color{blue}{-7} & \\color{blue}{-6} \\\\ -2 & 0 \\end{matrix} \\right) \\left( \\begin{matrix} \\color{blue}{-3} & 7 \\\\ \\color{blue}{1} & 3 \\end{matrix} \\right) \\\\\n",
    "= \\left( \\begin{matrix} -16 & 16 \\\\ \\color{blue}{-7 \\cdot -3 + -6 \\cdot 1} & \\boxed{?} \\\\ \\boxed{?} & \\boxed{?} \\end{matrix} \\right) \\\\\n",
    "= \\left( \\begin{matrix} -16 & 16 & \\\\ \\color{blue}{21 + -6} & \\boxed{?} & \\\\ \\boxed{?} & \\boxed{?} &  \\end{matrix} \\right) \\\\\n",
    "\\left( \\begin{matrix} -16 & 16 \\\\ \\color{blue}{15} & \\boxed{?} \\\\ \\boxed{?} & \\boxed{?} \\end{matrix} \\right)$$"
   ]
  },
  {
   "cell_type": "markdown",
   "metadata": {
    "slideshow": {
     "slide_type": "fragment"
    }
   },
   "source": [
    "$$BA = \\left( \\begin{matrix} 4 & -4 \\\\ \\color{blue}{-7} & \\color{blue}{-6} \\\\ -2 & 0 \\end{matrix} \\right) \\left( \\begin{matrix} -3 & \\color{blue}{7} \\\\ 1 & \\color{blue}{3} \\end{matrix} \\right) \\\\\n",
    "= \\left( \\begin{matrix} -16 & 16 \\\\ 15 & \\color{blue}{-7 \\cdot 7 + -6 \\cdot 3} \\\\ \\boxed{?} & \\boxed{?} \\end{matrix} \\right) \\\\\n",
    "= \\left( \\begin{matrix} -16 & 16 & \\\\ 15 & \\color{blue}{-49 + -18} & \\\\ \\boxed{?} & \\boxed{?} &  \\end{matrix} \\right) \\\\\n",
    "\\left( \\begin{matrix} -16 & 16 \\\\ 15 & \\color{blue}{-67} \\\\ \\boxed{?} & \\boxed{?} \\end{matrix} \\right)$$"
   ]
  },
  {
   "cell_type": "markdown",
   "metadata": {
    "slideshow": {
     "slide_type": "fragment"
    }
   },
   "source": [
    "$$BA = \\left( \\begin{matrix} 4 & -4 \\\\ -7 & -6 \\\\ \\color{blue}{-2} & \\color{blue}{0} \\end{matrix} \\right) \\left( \\begin{matrix} \\color{blue}{-3} & 7 \\\\ \\color{blue}{1} & 3 \\end{matrix} \\right) \\\\\n",
    "= \\left( \\begin{matrix} -16 & 16 \\\\ 15 & -67 \\\\ \\color{blue}{-2 \\cdot -3 + 0 \\cdot 1} & \\boxed{?} \\end{matrix} \\right) \\\\\n",
    "= \\left( \\begin{matrix} -16 & 16 & \\\\ 15 & -67 & \\\\ \\color{blue}{6 + 0} & \\boxed{?} &  \\end{matrix} \\right) \\\\\n",
    "\\left( \\begin{matrix} -16 & 16 \\\\ 15 & -67 \\\\ \\color{blue}{6} & \\boxed{?} \\end{matrix} \\right)$$"
   ]
  },
  {
   "cell_type": "markdown",
   "metadata": {
    "slideshow": {
     "slide_type": "fragment"
    }
   },
   "source": [
    "$$BA = \\left( \\begin{matrix} 4 & -4 \\\\ -7 & -6 \\\\ \\color{blue}{-2} & \\color{blue}{0} \\end{matrix} \\right) \\left( \\begin{matrix} -3 & \\color{blue}{7} \\\\ 1 & \\color{blue}{3} \\end{matrix} \\right) \\\\\n",
    "= \\left( \\begin{matrix} -16 & 16 \\\\ 15 & -67 \\\\ 6 & \\color{blue}{-2 \\cdot 7 + 0 \\cdot 3} \\end{matrix} \\right) \\\\\n",
    "= \\left( \\begin{matrix} -16 & 16 & \\\\ 15 & -67 & \\\\ 6 & \\color{blue}{-14 + 0} &  \\end{matrix} \\right) \\\\\n",
    "= \\boxed{\\left( \\begin{matrix} -16 & 16 \\\\ 15 & -67 \\\\ 6 & -14 \\end{matrix} \\right)}$$"
   ]
  },
  {
   "cell_type": "markdown",
   "metadata": {
    "slideshow": {
     "slide_type": "slide"
    }
   },
   "source": [
    "##### Example:\n",
    "\n",
    "Let $A = \\left( \\begin{matrix} -1 & 2 \\\\ 3 & -4 \\end{matrix} \\right), B = \\left( \\begin{matrix} -3 & -4 \\\\ 5 & 6 \\end{matrix} \\right)$, and $C = \\left( \\begin{matrix} 3 & 0 \\\\ -1 & -2 \\\\ -3 & 1 \\end{matrix} \\right)$.\n",
    "\n",
    "1. Find $A+B$.\n",
    "2. Find $C-B$.\n",
    "3. Find $2A$.\n",
    "4. Find $BA$.\n",
    "5. Find $CB$."
   ]
  },
  {
   "cell_type": "markdown",
   "metadata": {
    "slideshow": {
     "slide_type": "fragment"
    }
   },
   "source": [
    "##### Solution:\n",
    "\n",
    "Here I will just give the final results of each part so you can practice and compare your results:"
   ]
  },
  {
   "cell_type": "markdown",
   "metadata": {
    "slideshow": {
     "slide_type": "fragment"
    }
   },
   "source": [
    "1. $A+B = \\boxed{\\left( \\begin{matrix} -4 & -2 \\\\ 8 & 2 \\end{matrix} \\right)}$"
   ]
  },
  {
   "cell_type": "markdown",
   "metadata": {
    "slideshow": {
     "slide_type": "fragment"
    }
   },
   "source": [
    "2. $\\boxed{\\text{No solution}}$"
   ]
  },
  {
   "cell_type": "markdown",
   "metadata": {
    "slideshow": {
     "slide_type": "fragment"
    }
   },
   "source": [
    "3. $2A = \\boxed{\\left( \\begin{matrix} -2 & 4 \\\\ 6 & -8 \\end{matrix} \\right)}$"
   ]
  },
  {
   "cell_type": "markdown",
   "metadata": {
    "slideshow": {
     "slide_type": "fragment"
    }
   },
   "source": [
    "4. $BA = \\boxed{\\left( \\begin{matrix} -9 & 10 \\\\ 13 & -14 \\end{matrix} \\right)}$"
   ]
  },
  {
   "cell_type": "markdown",
   "metadata": {
    "slideshow": {
     "slide_type": "fragment"
    }
   },
   "source": [
    "5. $CB = \\boxed{\\left( \\begin{matrix} -9 & -12 \\\\ -7 & -8 \\\\ 14 & 18 \\end{matrix} \\right)}$"
   ]
  },
  {
   "cell_type": "markdown",
   "metadata": {
    "slideshow": {
     "slide_type": "slide"
    }
   },
   "source": [
    "##### End of Section"
   ]
  }
 ],
 "metadata": {
  "celltoolbar": "Slideshow",
  "kernelspec": {
   "display_name": "Python 3",
   "language": "python",
   "name": "python3"
  },
  "language_info": {
   "codemirror_mode": {
    "name": "ipython",
    "version": 3
   },
   "file_extension": ".py",
   "mimetype": "text/x-python",
   "name": "python",
   "nbconvert_exporter": "python",
   "pygments_lexer": "ipython3",
   "version": "3.7.7"
  },
  "rise": {
   "enable_chalkboard": true,
   "theme": "sky",
   "transition": "zoom"
  }
 },
 "nbformat": 4,
 "nbformat_minor": 4
}
