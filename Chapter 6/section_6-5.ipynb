{
 "cells": [
  {
   "cell_type": "markdown",
   "metadata": {
    "slideshow": {
     "slide_type": "slide"
    }
   },
   "source": [
    "### Section 6.5: Determinants and Cramer's Rule"
   ]
  },
  {
   "cell_type": "markdown",
   "metadata": {
    "slideshow": {
     "slide_type": "slide"
    }
   },
   "source": [
    "##### Objective 1: Evaluate a Second-Order Determinant"
   ]
  },
  {
   "cell_type": "markdown",
   "metadata": {
    "slideshow": {
     "slide_type": "fragment"
    }
   },
   "source": [
    "##### Definition:\n",
    "\n",
    "For a $2 \\times 2$ matrix defined by $A = \\left( \\begin{matrix} a & b \\\\ c & d \\end{matrix} \\right)$, the <em><b>determinant of $A$</b></em> is a scalar quantity given by $det(A) = \\left| \\begin{matrix} a & b \\\\ c & d \\end{matrix} \\right| = a \\cdot d - b \\cdot c$."
   ]
  },
  {
   "cell_type": "markdown",
   "metadata": {
    "slideshow": {
     "slide_type": "fragment"
    }
   },
   "source": [
    "##### Example:\n",
    "\n",
    "Evaluate the determinant of the matrix $A = \\left( \\begin{matrix} -2 & 3 \\\\ 5 & 1 \\end{matrix} \\right)$."
   ]
  },
  {
   "cell_type": "markdown",
   "metadata": {},
   "source": [
    "##### Solution:\n",
    "\n",
    "We need to find\n",
    "\n",
    "$$det(A) = \\left| \\begin{matrix} -2 & 3 \\\\ 5 & 1 \\end{matrix} \\right|$$\n",
    "\n",
    "The formula we have from the definition tells us we need to multiply diagonally across and then subtract:\n",
    "\n",
    "$$\\left| \\begin{matrix} \\color{blue}{-2} & \\color{red}{3} \\\\ \\color{red}{5} & \\color{blue}{1} \\end{matrix} \\right| = \\color{blue}{-2 \\cdot 1} - \\color{red}{3\\cdot 5} = -2 - 15 = \\boxed{-17}$$"
   ]
  },
  {
   "cell_type": "markdown",
   "metadata": {},
   "source": [
    "##### Example:\n",
    "\n",
    "Evaluate the determinant of the matrix $A = \\left( \\begin{matrix} -3 & -2 \\\\ -4 & -1 \\end{matrix} \\right)$."
   ]
  },
  {
   "cell_type": "markdown",
   "metadata": {},
   "source": [
    "##### Solution:\n",
    "\n",
    "$$det(A) = \\left| \\begin{matrix} \\color{blue}{-3} & \\color{red}{-2} \\\\ \\color{red}{-4} & \\color{blue}{-1} \\end{matrix} \\right| = \\color{blue}{-3 \\cdot -1} - \\color{red}{(-2 \\cdot -4)} = 3 - 8 = \\boxed{-5}$$"
   ]
  },
  {
   "cell_type": "markdown",
   "metadata": {
    "slideshow": {
     "slide_type": "slide"
    }
   },
   "source": [
    "##### Objective 2: Solving a System of Linear Equations in Two Variables Using Cramer's Rule"
   ]
  },
  {
   "cell_type": "markdown",
   "metadata": {},
   "source": [
    "##### Cramer's Rule (Two-Variables):\n",
    "\n",
    "For a linear system of equations given by\n",
    "\n",
    "$$ax + by = r \\\\ cx + dy = s$$\n",
    "\n",
    "Cramer's rule states that\n",
    "\n",
    "$$x = \\frac{\\left| \\begin{matrix} r & b \\\\ s & d \\end{matrix} \\right|}{\\left| \\begin{matrix} a & b \\\\ c & d \\end{matrix} \\right|} \\text{ and } y = \\frac{\\left| \\begin{matrix} a & r \\\\ c & s \\end{matrix} \\right|}{\\left| \\begin{matrix} a & b \\\\ c & d \\end{matrix} \\right|}$$\n",
    "\n",
    "provided $\\left| \\begin{matrix} a & b \\\\ c & d \\end{matrix} \\right| \\neq 0$."
   ]
  },
  {
   "cell_type": "markdown",
   "metadata": {
    "slideshow": {
     "slide_type": "fragment"
    }
   },
   "source": [
    "##### Example:\n",
    "\n",
    "Use Cramer's rule to solve the system of equations given by\n",
    "\n",
    "$$2x-3y=-11 \\\\ x+2y=12$$"
   ]
  },
  {
   "cell_type": "markdown",
   "metadata": {
    "slideshow": {
     "slide_type": "fragment"
    }
   },
   "source": [
    "##### Solution:\n",
    "\n",
    "We can use the formulas given above, but we need to find some determinants to do so. Identifying the coefficient and solution values we have $a = 2, b = -3, r = -11, c = 1, d = 2$, and $s = 12$. With these variables defined we will determine the denominator.\n",
    "\n",
    "$$\\left| \\begin{matrix} 2 & -3 \\\\ 1 & 2 \\end{matrix} \\right| = 4 - (-3) = 7 \\neq 0 \\, \\checkmark$$"
   ]
  },
  {
   "cell_type": "markdown",
   "metadata": {
    "slideshow": {
     "slide_type": "fragment"
    }
   },
   "source": [
    "Therefore,\n",
    "\n",
    "$$x = \\frac{\\left| \\begin{matrix} -11 & -3 \\\\ 12 & 2 \\end{matrix} \\right|}{\\left| \\begin{matrix} 2 & -3 \\\\ 1 & 2 \\end{matrix} \\right|} = \\frac{-22 - (-36)}{7} = \\frac{14}{7} = 2$$\n",
    "\n",
    "$$\\text{and}$$\n",
    "\n",
    "$$y = \\frac{\\left| \\begin{matrix} 2 & -11 \\\\ 1 & 12 \\end{matrix} \\right|}{\\left| \\begin{matrix} 2 & -3 \\\\ 1 & 2 \\end{matrix} \\right|} = \\frac{24 - (-11)}{7} = \\frac{35}{7} = 5$$\n",
    "\n",
    "and our final solution is $\\boxed{(x,y) = (2,5)}$."
   ]
  },
  {
   "cell_type": "markdown",
   "metadata": {
    "slideshow": {
     "slide_type": "slide"
    }
   },
   "source": [
    "##### Example:\n",
    "\n",
    "Use Cramer's rule to solve the system of equations given by\n",
    "\n",
    "$$3x + 2y = -1 \\\\ 2x - 4y = 10$$"
   ]
  },
  {
   "cell_type": "markdown",
   "metadata": {
    "slideshow": {
     "slide_type": "fragment"
    }
   },
   "source": [
    "##### Solution:\n",
    "\n",
    "Identifying the coefficient and solution values we have $a = 3, b = 2, r = -1, c = 2, d = -4$, and $s = 10$. With these variables defined we will determine the denominator in our formulas required for Cramer's rule.\n",
    "\n",
    "$$\\left| \\begin{matrix} 3 & 2 \\\\ 2 & -4 \\end{matrix} \\right| = -12 - 4 = -16 \\neq 0 \\, \\checkmark$$"
   ]
  },
  {
   "cell_type": "markdown",
   "metadata": {
    "slideshow": {
     "slide_type": "fragment"
    }
   },
   "source": [
    "Therefore,\n",
    "\n",
    "$$x = \\frac{\\left| \\begin{matrix} -1 & 2 \\\\ 10 & -4 \\end{matrix} \\right|}{\\left| \\begin{matrix} 3 & 2 \\\\ 2 & -4 \\end{matrix} \\right|} = \\frac{4 - 20}{-16} = \\frac{-16}{-16} = 1$$\n",
    "\n",
    "$$\\text{and}$$\n",
    "\n",
    "$$y = \\frac{\\left| \\begin{matrix} 3 & -1 \\\\ 2 & 10 \\end{matrix} \\right|}{\\left| \\begin{matrix} 3 & 2 \\\\ 2 & -4 \\end{matrix} \\right|} = \\frac{30 - (-2)}{-16} = \\frac{32}{-16} = -2$$\n",
    "\n",
    "and our final solution is $\\boxed{(x,y) = (1,-2)}$."
   ]
  },
  {
   "cell_type": "markdown",
   "metadata": {
    "slideshow": {
     "slide_type": "slide"
    }
   },
   "source": [
    "##### End of Section"
   ]
  }
 ],
 "metadata": {
  "celltoolbar": "Slideshow",
  "kernelspec": {
   "display_name": "Python 3",
   "language": "python",
   "name": "python3"
  },
  "language_info": {
   "codemirror_mode": {
    "name": "ipython",
    "version": 3
   },
   "file_extension": ".py",
   "mimetype": "text/x-python",
   "name": "python",
   "nbconvert_exporter": "python",
   "pygments_lexer": "ipython3",
   "version": "3.7.7"
  },
  "rise": {
   "enable_chalkboard": true,
   "theme": "sky",
   "transition": "zoom"
  }
 },
 "nbformat": 4,
 "nbformat_minor": 4
}
