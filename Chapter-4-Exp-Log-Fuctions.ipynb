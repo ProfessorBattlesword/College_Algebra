{
 "cells": [
  {
   "cell_type": "markdown",
   "metadata": {
    "slideshow": {
     "slide_type": "slide"
    }
   },
   "source": [
    "# Chapter 4: Exponential and Logarithmic Functions"
   ]
  },
  {
   "cell_type": "markdown",
   "metadata": {
    "slideshow": {
     "slide_type": "slide"
    }
   },
   "source": [
    "### Section 4.1: Exponential Functions\n",
    "\n",
    "In this section we will explore exponential growth and decay. First we will need to define what an exponential function is.\n",
    "\n",
    "An <em><b>exponential function</b></em> is a function of the form $f(x) = b^{x}$, where b is a <em>positive</em> constant ($b > 0$).\n",
    "\n",
    "##### Obejctive 1: Graphing Exponential Functions\n",
    "\n",
    "Example 1: Graph $f(x) = 3^x$\n",
    "\n",
    "<table style=\"width:50%\">\n",
    "    <tr> <th> $x$ </th> <th> $y = f(x)$ </th> </tr>\n",
    "    <tr> <td> $-2$ </td> <td> $3^{-2} = \\frac{1}{9}$ </td> </tr>\n",
    "    <tr> <td> $-1$ </td> <td> $3^{-1} = \\frac{1}{3}$ </td> </tr>\n",
    "    <tr> <td> $0$ </td> <td> $3^0=1$ </td> </tr>\n",
    "    <tr> <td> $1$ </td> <td> $3^1=3$ </td> </tr>\n",
    "    <tr> <td> $2$ </td> <td> $3^2=9$ </td> </tr>\n",
    "</table>\n",
    "\n",
    "Let's plot these points in a plane."
   ]
  },
  {
   "cell_type": "code",
   "execution_count": 8,
   "metadata": {
    "slideshow": {
     "slide_type": "subslide"
    }
   },
   "outputs": [],
   "source": [
    "# import necessary libraries\n",
    "\n",
    "import numpy as np\n",
    "import matplotlib.pyplot as plt\n",
    "\n",
    "%matplotlib inline"
   ]
  },
  {
   "cell_type": "code",
   "execution_count": 9,
   "metadata": {
    "slideshow": {
     "slide_type": "subslide"
    }
   },
   "outputs": [
    {
     "data": {
      "text/plain": [
       "[<matplotlib.lines.Line2D at 0x7fe45d7c6e90>]"
      ]
     },
     "execution_count": 9,
     "metadata": {},
     "output_type": "execute_result"
    },
    {
     "data": {
      "image/png": "[encoded data removed]",
      "text/plain": [
       "<Figure size 432x288 with 1 Axes>"
      ]
     },
     "metadata": {
      "needs_background": "light"
     },
     "output_type": "display_data"
    }
   ],
   "source": [
    "def f(x): # defines the function f*(x) = 3^x\n",
    "    return 3**x\n",
    "\n",
    "x = np.arange(-2,2,.1)\n",
    "y = f(x)\n",
    "\n",
    "fig = plt.figure()\n",
    "plt.plot(x,y)"
   ]
  },
  {
   "cell_type": "code",
   "execution_count": null,
   "metadata": {},
   "outputs": [],
   "source": []
  }
 ],
 "metadata": {
  "celltoolbar": "Slideshow",
  "kernelspec": {
   "display_name": "Python 3",
   "language": "python",
   "name": "python3"
  },
  "language_info": {
   "codemirror_mode": {
    "name": "ipython",
    "version": 3
   },
   "file_extension": ".py",
   "mimetype": "text/x-python",
   "name": "python",
   "nbconvert_exporter": "python",
   "pygments_lexer": "ipython3",
   "version": "3.7.4"
  }
 },
 "nbformat": 4,
 "nbformat_minor": 2
}
