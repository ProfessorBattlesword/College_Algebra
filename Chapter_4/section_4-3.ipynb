{
 "cells": [
  {
   "cell_type": "markdown",
   "metadata": {
    "slideshow": {
     "slide_type": "slide"
    }
   },
   "source": [
    "# Chapter 4: Exponential and Logarithmic Functions"
   ]
  },
  {
   "cell_type": "markdown",
   "metadata": {
    "slideshow": {
     "slide_type": "slide"
    }
   },
   "source": [
    "### Section 4.3: Properties of Logarithms\n",
    "\n",
    "##### Objective 1: Using the Product Rule for Logs"
   ]
  },
  {
   "cell_type": "markdown",
   "metadata": {
    "slideshow": {
     "slide_type": "fragment"
    }
   },
   "source": [
    "##### Definition:\n",
    "\n",
    "<em><b>Logarithmic expansion</b></em> is the process of using properties of logarithms to express a single logarithmic expression as the sum/difference of multiple terms (where applicable). The resulting terms should either be reduced to a single number or have an argument of power one."
   ]
  },
  {
   "cell_type": "markdown",
   "metadata": {
    "slideshow": {
     "slide_type": "fragment"
    }
   },
   "source": [
    "##### Product Rule for Logs:\n",
    "\n",
    "If $b, M$ and $N$ are positive real numbers and $b \\ne 1$, then $\\text{log}_b (M \\cdot N) = \\text{log}_b M + \\text{log}_b N$."
   ]
  },
  {
   "cell_type": "markdown",
   "metadata": {
    "slideshow": {
     "slide_type": "fragment"
    }
   },
   "source": [
    "##### Example:\n",
    "\n",
    "Use properties of logarithms to <em>expand</em> $\\text{log}_b (5 \\cdot 4)$ as much as possible."
   ]
  },
  {
   "cell_type": "markdown",
   "metadata": {
    "slideshow": {
     "slide_type": "fragment"
    }
   },
   "source": [
    "##### Solution:\n",
    "\n",
    "$\\text{log}_b (5 \\cdot 4) = \\text{log}_b 5 + \\text{log}_b 4$."
   ]
  },
  {
   "cell_type": "markdown",
   "metadata": {
    "slideshow": {
     "slide_type": "slide"
    }
   },
   "source": [
    "##### Example:\n",
    "\n",
    "Use properties of logarithms to expand $\\text{log}_8 8x$."
   ]
  },
  {
   "cell_type": "markdown",
   "metadata": {
    "slideshow": {
     "slide_type": "fragment"
    }
   },
   "source": [
    "##### Solution:\n",
    "\n",
    "\\begin{eqnarray}\n",
    "\\text{log}_8 8x & = & \\text{log}_8 8 \\color{blue}{+} \\text{log}_8 x \\\\\n",
    "& = & \\boxed{\\color{blue}{1} + \\text{log}_8 x}\n",
    "\\end{eqnarray}"
   ]
  },
  {
   "cell_type": "markdown",
   "metadata": {
    "slideshow": {
     "slide_type": "slide"
    }
   },
   "source": [
    "##### Objective 2: Using the Quotient Rule for Logs"
   ]
  },
  {
   "cell_type": "markdown",
   "metadata": {
    "slideshow": {
     "slide_type": "fragment"
    }
   },
   "source": [
    "##### Quotient Rule for Logs:\n",
    "\n",
    "If $b, M$ and $N$ are positive real numbers and $b \\ne 1$, then $\\text{log}_b \\frac{M}{N} = \\text{log}_b M - \\text{log}_b N$."
   ]
  },
  {
   "cell_type": "markdown",
   "metadata": {
    "slideshow": {
     "slide_type": "fragment"
    }
   },
   "source": [
    "##### Example:\n",
    "\n",
    "Use properties of logarithms to expand $\\text{log}_3 \\left( \\frac{x}{3} \\right)$."
   ]
  },
  {
   "cell_type": "markdown",
   "metadata": {
    "slideshow": {
     "slide_type": "fragment"
    }
   },
   "source": [
    "##### Solution:\n",
    "\n",
    "\\begin{eqnarray}\n",
    "\\text{log}_3 \\left( \\frac{x}{3} \\right) & = & \\text{log}_3 x \\color{blue}{-} \\text{log}_3 3 \\\\\n",
    "& = & \\boxed{\\text{log}_3 x - \\color{blue}{1}}\n",
    "\\end{eqnarray}"
   ]
  },
  {
   "cell_type": "markdown",
   "metadata": {
    "slideshow": {
     "slide_type": "slide"
    }
   },
   "source": [
    "##### Example:\n",
    "\n",
    "Use properties of logarithms to expand $\\text{log}_2 \\left( \\frac{32}{x} \\right)$."
   ]
  },
  {
   "cell_type": "markdown",
   "metadata": {
    "slideshow": {
     "slide_type": "fragment"
    }
   },
   "source": [
    "##### Solution:\n",
    "\n",
    "\\begin{eqnarray}\n",
    "\\text{log}_2 \\left( \\frac{32}{x} \\right) & = & \\text{log}_2 32 \\color{blue}{-} \\text{log}_2 x \\\\\n",
    "& = & \\text{log}_2 \\color{blue}{2^5} - \\text{log}_2 x \\\\\n",
    "& = & \\boxed{\\color{blue}{5} - \\text{log}_2 x}\n",
    "\\end{eqnarray}"
   ]
  },
  {
   "cell_type": "markdown",
   "metadata": {
    "slideshow": {
     "slide_type": "slide"
    }
   },
   "source": [
    "##### Objective 3: Using the Power Rule for Logs"
   ]
  },
  {
   "cell_type": "markdown",
   "metadata": {
    "slideshow": {
     "slide_type": "fragment"
    }
   },
   "source": [
    "##### Power Rule for Logs:\n",
    "\n",
    "If $b, M$, and $N$ are positive real numbers and $b \\ne 1$, then $\\text{log}_b x^r = r \\cdot \\text{log}_b x$."
   ]
  },
  {
   "cell_type": "markdown",
   "metadata": {
    "slideshow": {
     "slide_type": "fragment"
    }
   },
   "source": [
    "##### Example:\n",
    "\n",
    "Use properties of logarithms to expand $\\text{log}_b x^8$."
   ]
  },
  {
   "cell_type": "markdown",
   "metadata": {
    "slideshow": {
     "slide_type": "fragment"
    }
   },
   "source": [
    "##### Solution:\n",
    "\n",
    "\\begin{eqnarray}\n",
    "\\text{log}_b x^8 & = & \\boxed{\\color{blue}{8 \\cdot} \\text{log}_b x}\n",
    "\\end{eqnarray}"
   ]
  },
  {
   "cell_type": "markdown",
   "metadata": {
    "slideshow": {
     "slide_type": "slide"
    }
   },
   "source": [
    "##### Example:\n",
    "\n",
    "Use properties of logarithms to expand $\\text{log} \\, y^4$."
   ]
  },
  {
   "cell_type": "markdown",
   "metadata": {
    "slideshow": {
     "slide_type": "fragment"
    }
   },
   "source": [
    "##### Solution:\n",
    "\n",
    "\\begin{eqnarray}\n",
    "\\text{log} \\, y^4 & = & \\boxed{\\color{blue}{4 \\cdot} \\text{log} \\, y}\n",
    "\\end{eqnarray}"
   ]
  },
  {
   "cell_type": "markdown",
   "metadata": {
    "slideshow": {
     "slide_type": "slide"
    }
   },
   "source": [
    "##### Objective 4: Expanding Logarithmic Expressions"
   ]
  },
  {
   "cell_type": "markdown",
   "metadata": {
    "slideshow": {
     "slide_type": "fragment"
    }
   },
   "source": [
    "##### Example:\n",
    "\n",
    "Expand: $\\text{ln} \\left( \\frac{e^2}{5} \\right)$ (remember $\\ln x = \\log_e x$)."
   ]
  },
  {
   "cell_type": "markdown",
   "metadata": {
    "slideshow": {
     "slide_type": "fragment"
    }
   },
   "source": [
    "##### Solution:\n",
    "\n",
    "One possible approach:\n",
    "\n",
    "\\begin{eqnarray}\n",
    "\\text{ln} \\left( \\frac{e^2}{5} \\right) & = & \\text{ln} \\, e^2 \\color{blue}{-} \\text{ln} \\, 5 \\\\\n",
    "& = & \\color{blue}{2 \\cdot} \\text{ln} \\, e - \\text{ln} \\, 5 \\\\\n",
    "& = & 2 \\cdot \\color{blue}{1} - \\text{ln} \\, 5 \\\\\n",
    "& = & \\boxed{2 - \\text{ln} \\, 5}\n",
    "\\end{eqnarray}"
   ]
  },
  {
   "cell_type": "markdown",
   "metadata": {
    "slideshow": {
     "slide_type": "fragment"
    }
   },
   "source": [
    "Another possible approach:\n",
    "\n",
    "\\begin{eqnarray}\n",
    "\\text{ln} \\left( \\frac{e^2}{5} \\right) & = & \\text{ln} \\, e^2 \\color{blue}{-} \\text{ln} \\, 5 \\\\\n",
    "& = & \\boxed{\\color{blue}{2} - \\text{ln} \\, 5}\n",
    "\\end{eqnarray}"
   ]
  },
  {
   "cell_type": "markdown",
   "metadata": {
    "slideshow": {
     "slide_type": "fragment"
    }
   },
   "source": [
    "Either approach is fine! You may use any valid logarithmic properties to get to the same answer for many logarithmic expansion problems."
   ]
  },
  {
   "cell_type": "markdown",
   "metadata": {
    "slideshow": {
     "slide_type": "slide"
    }
   },
   "source": [
    "##### Example:\n",
    "\n",
    "Use properties of logarithms to expand $\\text{log} \\, x^3y^4$."
   ]
  },
  {
   "cell_type": "markdown",
   "metadata": {
    "slideshow": {
     "slide_type": "fragment"
    }
   },
   "source": [
    "##### Solution:\n",
    "\n",
    "\\begin{eqnarray}\n",
    "\\text{log} \\, x^3 y^4 & = & \\text{log} \\, x^3 \\color{blue}{+} \\text{log} \\, y^4 \\\\\n",
    "& = & \\boxed{\\color{blue}{3 \\cdot}\\text{log} \\, x + \\color{blue}{4 \\cdot}\\text{log} \\, y}\n",
    "\\end{eqnarray}"
   ]
  },
  {
   "cell_type": "markdown",
   "metadata": {
    "slideshow": {
     "slide_type": "slide"
    }
   },
   "source": [
    "##### Example:\n",
    "\n",
    "Use properties of logarithms to expand $\\text{log} \\, \\frac{\\sqrt{x}}{100}$ (remember $\\log x = \\log_{10} x$ and $x^{m/n} = \\sqrt[n]{x^m}$)."
   ]
  },
  {
   "cell_type": "markdown",
   "metadata": {
    "slideshow": {
     "slide_type": "fragment"
    }
   },
   "source": [
    "##### Solution:\n",
    "\n",
    "\\begin{eqnarray}\n",
    "\\text{log} \\, \\frac{\\sqrt{x}}{100}& = & \\text{log} \\, \\sqrt{x} \\color{blue}{-} \\text{log} \\, 100 \\\\\n",
    "& = & \\text{log} \\, \\color{blue}{x^{1/2}} - \\text{log} \\, \\color{blue}{10^2} \\\\\n",
    "& = & \\boxed{\\color{blue}{\\frac{1}{2}}\\text{log} \\, x - \\color{blue}{2}}\n",
    "\\end{eqnarray}"
   ]
  },
  {
   "cell_type": "markdown",
   "metadata": {
    "slideshow": {
     "slide_type": "slide"
    }
   },
   "source": [
    "##### Example:\n",
    "\n",
    "Use properties of logarithms to expand $\\text{log}  \\left( \\frac{x^2(x-1)^3}{\\sqrt[3]{x+4}} \\right)$."
   ]
  },
  {
   "cell_type": "markdown",
   "metadata": {
    "slideshow": {
     "slide_type": "fragment"
    }
   },
   "source": [
    "##### Solution:\n",
    "\n",
    "\\begin{eqnarray}\n",
    "\\text{log} \\left( \\frac{x^2(x-1)^3}{\\sqrt[3]{x+4}} \\right) & = & \\text{log} \\, \\left(x^2(x-1)^3 \\right) \\color{blue}{-} \\text{log} \\, \\sqrt[3]{x+4} \\\\\n",
    "& = & \\text{log} \\, x^2 \\color{blue}{+} \\text{log} \\, (x-1)^3 - \\text{log} \\, \\color{blue}{(x+4)^{1/3}} \\\\\n",
    "& = & \\boxed{\\color{blue}{2}\\text{log} \\, x + \\color{blue}{3}\\text{log} \\, (x-1) - \\color{blue}{\\frac{1}{3}}\\text{log} \\, (x+4)}\n",
    "\\end{eqnarray}"
   ]
  },
  {
   "cell_type": "markdown",
   "metadata": {
    "slideshow": {
     "slide_type": "slide"
    }
   },
   "source": [
    "##### Objective 5: Condense Logarithmic Expressions"
   ]
  },
  {
   "cell_type": "markdown",
   "metadata": {
    "slideshow": {
     "slide_type": "fragment"
    }
   },
   "source": [
    "##### Definition:\n",
    "\n",
    "<em><b>Condensing</b></em> logarithmic expressions is the process of using properties of logarithms to collapse multiple terms into a single logarithmic expression (opposite direction of logarithmic expansion)."
   ]
  },
  {
   "cell_type": "markdown",
   "metadata": {
    "slideshow": {
     "slide_type": "fragment"
    }
   },
   "source": [
    "##### Example:\n",
    "\n",
    "Use properties of logarithms to condense $\\text{log}_5 6 + \\text{log}_5 9$."
   ]
  },
  {
   "cell_type": "markdown",
   "metadata": {
    "slideshow": {
     "slide_type": "fragment"
    }
   },
   "source": [
    "##### Solution:\n",
    "\n",
    "\\begin{eqnarray}\n",
    "\\text{log}_{5} 6 + \\text{log}_{5} 9 & = & \\color{blue}{\\text{log}_5 6 \\cdot 9} \\\\\n",
    "& = & \\boxed{\\text{log}_{5} \\color{blue}{54}}\n",
    "\\end{eqnarray}"
   ]
  },
  {
   "cell_type": "markdown",
   "metadata": {
    "slideshow": {
     "slide_type": "slide"
    }
   },
   "source": [
    "##### Example:\n",
    "\n",
    "Use properties of logarithms to condense $\\text{log}_5 32 - \\text{log}_5 8$."
   ]
  },
  {
   "cell_type": "markdown",
   "metadata": {
    "slideshow": {
     "slide_type": "fragment"
    }
   },
   "source": [
    "##### Solution:\n",
    "\n",
    "\\begin{eqnarray}\n",
    "\\text{log}_{5} 32 - \\text{log}_{4} 8 & = & \\color{blue}{\\text{log}_{5} \\frac{32}{8}} \\\\\n",
    "& = & \\boxed{\\text{log}_{5} \\color{blue}{4}}\n",
    "\\end{eqnarray}"
   ]
  },
  {
   "cell_type": "markdown",
   "metadata": {
    "slideshow": {
     "slide_type": "slide"
    }
   },
   "source": [
    "##### Example:\n",
    "\n",
    "Use properties of logarithms to condense $\\text{log} \\, (x+2) - \\text{log} \\, x$."
   ]
  },
  {
   "cell_type": "markdown",
   "metadata": {
    "slideshow": {
     "slide_type": "fragment"
    }
   },
   "source": [
    "##### Solution:\n",
    "\n",
    "\\begin{eqnarray}\n",
    "\\text{log} \\, (x+2) - \\text{log} \\, x  & = & \\boxed{\\color{blue}{\\text{log} \\, \\frac{x+2}{x}}} \\\\\n",
    "\\end{eqnarray}"
   ]
  },
  {
   "cell_type": "markdown",
   "metadata": {
    "slideshow": {
     "slide_type": "slide"
    }
   },
   "source": [
    "##### Example:\n",
    "\n",
    "Use properties of logarithms to condense $\\text{log} \\, x + \\text{log} \\, (x-3)$."
   ]
  },
  {
   "cell_type": "markdown",
   "metadata": {
    "slideshow": {
     "slide_type": "fragment"
    }
   },
   "source": [
    "##### Solution:\n",
    "\n",
    "\\begin{eqnarray}\n",
    "\\text{log} \\, x + \\text{log} \\, (x-3)  & = & \\boxed{\\color{blue}{\\text{log} \\, x(x+3)}} \\\\\n",
    "\\end{eqnarray}"
   ]
  },
  {
   "cell_type": "markdown",
   "metadata": {
    "slideshow": {
     "slide_type": "slide"
    }
   },
   "source": [
    "##### Example:\n",
    "\n",
    "Use properties of logarithms to condense $4 \\cdot \\text{log}_5 x$."
   ]
  },
  {
   "cell_type": "markdown",
   "metadata": {
    "slideshow": {
     "slide_type": "fragment"
    }
   },
   "source": [
    "##### Solution:\n",
    "\n",
    "\\begin{eqnarray}\n",
    "4 \\cdot \\text{log}_{5} x & = & \\boxed{\\text{log}_5 \\color{blue}{x^4}} \\\\\n",
    "\\end{eqnarray}"
   ]
  },
  {
   "cell_type": "markdown",
   "metadata": {
    "slideshow": {
     "slide_type": "slide"
    }
   },
   "source": [
    "##### Example:\n",
    "\n",
    "Use properties of logarithms to condense $2\\text{log}_5 x + \\frac{1}{2} \\text{log}_5 (x-4)$."
   ]
  },
  {
   "cell_type": "markdown",
   "metadata": {
    "slideshow": {
     "slide_type": "fragment"
    }
   },
   "source": [
    "##### Solution:\n",
    "\n",
    "\\begin{eqnarray}\n",
    "2\\text{log}_5 x + \\frac{1}{2}\\text{log}_5 (x-4)  & = & \\text{log}_5 \\color{blue}{x^2} + \\text{log}_5 \\color{blue}{(x-4)^{1/2}} \\\\\n",
    "& = & \\text{log}_5 x^2 + \\text{log}_5 \\color{blue}{\\sqrt{x-4}} \\\\\n",
    "& = & \\boxed{\\color{blue}{\\text{log}_5 x^2\\sqrt{x-4}}}\n",
    "\\end{eqnarray}"
   ]
  },
  {
   "cell_type": "markdown",
   "metadata": {
    "slideshow": {
     "slide_type": "slide"
    }
   },
   "source": [
    "##### Example:\n",
    "\n",
    "Use properties of logarithms to condense $5 \\text{log}_5 x + \\text{log}_5 (x+2) - 2\\text{log}_5 x$."
   ]
  },
  {
   "cell_type": "markdown",
   "metadata": {
    "slideshow": {
     "slide_type": "fragment"
    }
   },
   "source": [
    "##### Solution:\n",
    "\n",
    "\\begin{eqnarray}\n",
    "5\\text{log}_{5} x + \\text{log}_{5} (x+2) - 2\\text{log}_5 x  & = & \\text{log}_5 \\color{blue}{x^5} + \\text{log}_5 (x+2) - \\text{log}_5 \\color{blue}{x^2} \\\\\n",
    "& = & \\color{blue}{\\text{log}_5 x^5(x+2)} - \\text{log}_5 x^2 \\\\\n",
    "& = & \\color{blue}{\\text{log}_5 \\frac{x^5(x+2)}{x^2}} \\\\\n",
    "& = & \\boxed{\\text{log}_5 \\color{blue}{x^3}(x+2)}\n",
    "\\end{eqnarray}"
   ]
  },
  {
   "cell_type": "markdown",
   "metadata": {
    "slideshow": {
     "slide_type": "slide"
    }
   },
   "source": [
    "##### Example:\n",
    "\n",
    "Use properties of logarithms to condense $\\text{log} \\, 6 + \\text{log} \\, 5 - \\text{log} \\, 10$."
   ]
  },
  {
   "cell_type": "markdown",
   "metadata": {
    "slideshow": {
     "slide_type": "fragment"
    }
   },
   "source": [
    "##### Solution:\n",
    "\n",
    "\\begin{eqnarray}\n",
    "\\text{log} \\, 6 + \\text{log} \\, 5 - \\text{log} \\, 10 & = & \\color{blue}{\\text{log} \\, 6 \\cdot 5} - \\text{log} \\, 10 \\\\\n",
    "& = & \\text{log} \\, \\color{blue}{30} - \\text{log} \\, 10 \\\\\n",
    "& = & \\color{blue}{\\text{log} \\, \\frac{30}{10}} \\\\\n",
    "& = & \\boxed{\\text{log} \\, \\color{blue}{3}}\n",
    "\\end{eqnarray}"
   ]
  },
  {
   "cell_type": "markdown",
   "metadata": {
    "slideshow": {
     "slide_type": "slide"
    }
   },
   "source": [
    "##### Objective 6: Use the Change-of-Base Property"
   ]
  },
  {
   "cell_type": "markdown",
   "metadata": {
    "slideshow": {
     "slide_type": "fragment"
    }
   },
   "source": [
    "##### Change-of-Base Property:\n",
    "\n",
    "If $a,b$, and $M$ are positive real numbers such that $b \\ne 1$ and $a \\ne 1$, then $\\text{log}_b M = \\frac{\\text{log}_a M}{\\text{log}_a b}$."
   ]
  },
  {
   "cell_type": "markdown",
   "metadata": {
    "slideshow": {
     "slide_type": "fragment"
    }
   },
   "source": [
    " ##### Note:\n",
    " \n",
    "$a$ is <em>any</em> positive real number that isn't $1$!\n",
    "\n",
    "Or in fancy math-y symbols: $a \\in \\mathbb{R}^+, a \\ne 1$.\n",
    "\n",
    "So we can change from any specified base, $b$, into any <em>desired</em> base, $a$."
   ]
  },
  {
   "cell_type": "markdown",
   "metadata": {
    "slideshow": {
     "slide_type": "fragment"
    }
   },
   "source": [
    "##### Note:\n",
    "\n",
    "We often will use common log $(a = 10)$ or natural log $(a = e)$ to express a log with an arbitrary base $b$."
   ]
  },
  {
   "cell_type": "markdown",
   "metadata": {
    "slideshow": {
     "slide_type": "fragment"
    }
   },
   "source": [
    "$\\text{log}_b M = \\frac{\\text{log} M}{\\text{log} b}$\n",
    "\n",
    "$\\text{log}_b M = \\frac{\\text{ln} M}{\\text{ln} b}$"
   ]
  },
  {
   "cell_type": "markdown",
   "metadata": {
    "slideshow": {
     "slide_type": "fragment"
    }
   },
   "source": [
    "##### Example:\n",
    "\n",
    "Use common logarithm to evaluate $\\text{log}_5 32$."
   ]
  },
  {
   "cell_type": "markdown",
   "metadata": {
    "slideshow": {
     "slide_type": "fragment"
    }
   },
   "source": [
    "##### Solution:\n",
    "\n",
    "$\\text{log}_5 32 = \\frac{\\text{log} \\, 32}{\\text{log} \\, 5} \\approx 2.1534$"
   ]
  },
  {
   "cell_type": "markdown",
   "metadata": {
    "slideshow": {
     "slide_type": "slide"
    }
   },
   "source": [
    "##### Example:\n",
    "\n",
    "Use natural logarithm to evaluate $\\text{log}_8 24$."
   ]
  },
  {
   "cell_type": "markdown",
   "metadata": {
    "slideshow": {
     "slide_type": "fragment"
    }
   },
   "source": [
    "##### Solution:\n",
    "\n",
    "$\\log_8 24 = \\frac{\\ln 24}{\\ln 8} \\approx 1.5283$"
   ]
  },
  {
   "cell_type": "markdown",
   "metadata": {
    "slideshow": {
     "slide_type": "slide"
    }
   },
   "source": [
    "##### End of Section"
   ]
  }
 ],
 "metadata": {
  "celltoolbar": "Slideshow",
  "kernelspec": {
   "display_name": "Python 3",
   "language": "python",
   "name": "python3"
  },
  "language_info": {
   "codemirror_mode": {
    "name": "ipython",
    "version": 3
   },
   "file_extension": ".py",
   "mimetype": "text/x-python",
   "name": "python",
   "nbconvert_exporter": "python",
   "pygments_lexer": "ipython3",
   "version": "3.7.4"
  },
  "rise": {
   "enable_chalkboard": true,
   "theme": "sky",
   "transition": "zoom"
  }
 },
 "nbformat": 4,
 "nbformat_minor": 2
}
