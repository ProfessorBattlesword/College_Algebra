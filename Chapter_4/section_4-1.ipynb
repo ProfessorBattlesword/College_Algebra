{
 "cells": [
  {
   "cell_type": "markdown",
   "metadata": {
    "slideshow": {
     "slide_type": "slide"
    }
   },
   "source": [
    "# Chapter 4: Exponential and Logarithmic Functions"
   ]
  },
  {
   "cell_type": "markdown",
   "metadata": {
    "slideshow": {
     "slide_type": "slide"
    }
   },
   "source": [
    "### Section 4.1: Exponential Functions\n",
    "\n",
    "In this section we will explore exponential growth and decay. First we will need to define what an exponential function is.\n",
    "\n",
    "An <em><b>exponential function</b></em> is a function of the form $f(x) = b^{x}$, where b is a <em>positive</em> constant ($b > 0$).\n",
    "\n",
    "##### Obejctive 1: Graphing Exponential Functions\n",
    "\n",
    "Example: Graph $f(x) = 3^{x}$\n",
    "\n",
    "<table style=\"width:50%\">\n",
    "    <tr> <th> $x$ </th> <th> $y = f(x)$ </th> </tr>\n",
    "    <tr> <td> $-2$ </td> <td> $3^{-2} = \\frac{1}{9}$ </td> </tr>\n",
    "    <tr> <td> $-1$ </td> <td> $3^{-1} = \\frac{1}{3}$ </td> </tr>\n",
    "    <tr> <td> $0$ </td> <td> $3^0=1$ </td> </tr>\n",
    "    <tr> <td> $1$ </td> <td> $3^1=3$ </td> </tr>\n",
    "    <tr> <td> $2$ </td> <td> $3^2=9$ </td> </tr>\n",
    "</table>\n",
    "\n",
    "Let's plot these points in a plane."
   ]
  },
  {
   "cell_type": "code",
   "execution_count": 1,
   "metadata": {
    "slideshow": {
     "slide_type": "fragment"
    }
   },
   "outputs": [],
   "source": [
    "# import necessary libraries\n",
    "\n",
    "import numpy as np\n",
    "import matplotlib.pyplot as plt\n",
    "\n",
    "%matplotlib inline"
   ]
  },
  {
   "cell_type": "code",
   "execution_count": 5,
   "metadata": {
    "slideshow": {
     "slide_type": "fragment"
    }
   },
   "outputs": [
    {
     "data": {
      "text/plain": [
       "Text(0.5, 1.0, 'Graph f(x)')"
      ]
     },
     "execution_count": 5,
     "metadata": {},
     "output_type": "execute_result"
    },
    {
     "data": {
      "image/png": "[encoded data removed]",
      "text/plain": [
       "<Figure size 432x288 with 1 Axes>"
      ]
     },
     "metadata": {
      "needs_background": "light"
     },
     "output_type": "display_data"
    }
   ],
   "source": [
    "def f(x):\n",
    "    return 3**x\n",
    "\n",
    "x = np.arange(-2,2.1,.1)\n",
    "y = f(x)\n",
    "\n",
    "x_sample = np.array([-2,-1,0,1,2])\n",
    "y_sample = np.array([1/9,1/3,1,3,9])\n",
    "\n",
    "fig, ax = plt.subplots()\n",
    "ax.scatter(x_sample, y_sample)\n",
    "ax.plot(x, y)\n",
    "ax.grid(True, which='both')\n",
    "ax.axhline(y=0, color='k')\n",
    "ax.axvline(x=0, color='k')\n",
    "ax.set_title('Graph f(x)')"
   ]
  },
  {
   "cell_type": "markdown",
   "metadata": {
    "slideshow": {
     "slide_type": "fragment"
    }
   },
   "source": [
    "The line $y = 0$ ($x$-axis) is a <em><b>horizontal asymptote</b></em>. All exponential funtions have a horizontal asypmtote. The <em><b>domain</b></em> (set of input) of the function (any exponential function) is $(-\\infty, \\infty)$ and the <em><b>range</b></em> (set of output) of the function is $(0,\\infty)$."
   ]
  },
  {
   "cell_type": "markdown",
   "metadata": {
    "slideshow": {
     "slide_type": "slide"
    }
   },
   "source": [
    "Example: Graph $g(x) = \\left( \\frac{1}{3} \\right)^{x}$.\n",
    "\n",
    "First, we identify some points on the graph (choose some $x$ values and plug them in):\n",
    "\n",
    "<table style=\"width:50%\">\n",
    "    <tr> <th> $x$ </th> <th> $y = g(x)$ </th> </tr>\n",
    "    <tr> <td> $-2$ </td> <td> $\\left(\\frac{1}{3}\\right)^{-2} = 9$ </td> </tr>\n",
    "    <tr> <td> $-1$ </td> <td> $\\left(\\frac{1}{3}\\right)^{-1} = 3$ </td> </tr>\n",
    "    <tr> <td> $0$ </td> <td> $\\left(\\frac{1}{3}\\right)^0=1$ </td> </tr>\n",
    "    <tr> <td> $1$ </td> <td> $\\left(\\frac{1}{3}\\right)^1=\\frac{1}{3}$ </td> </tr>\n",
    "    <tr> <td> $2$ </td> <td> $\\left(\\frac{1}{3}\\right)^2=\\frac{1}{9}$ </td> </tr>\n",
    "</table>\n",
    "\n",
    "What similarities does this table have with the table from Example 1?"
   ]
  },
  {
   "cell_type": "markdown",
   "metadata": {
    "slideshow": {
     "slide_type": "fragment"
    }
   },
   "source": [
    "The $y$ values are reversed! So perhaps we can rewrite $g(x)$ using notation involving $f(x)$?"
   ]
  },
  {
   "cell_type": "markdown",
   "metadata": {
    "slideshow": {
     "slide_type": "fragment"
    }
   },
   "source": [
    "Say, $f(-x)$?\n",
    "\n",
    "If we consider $f(x) = 3^{x}$ from the previous example, then $f(-x) = 3^{-x}$. If we use the same choices for $x$ and look at $f(-x)$ in a table we get:\n",
    "\n",
    "<table style=\"width:50%\">\n",
    "    <tr> <th> $x$ </th> <th> $y = g(x)$ </th> </tr>\n",
    "    <tr> <td> $-2$ </td> <td> $3^{-(-2)} = 9$ </td> </tr>\n",
    "    <tr> <td> $-1$ </td> <td> $3^{-(-1)} = 3$ </td> </tr>\n",
    "    <tr> <td> $0$ </td> <td> $3^{-(0)}=1$ </td> </tr>\n",
    "    <tr> <td> $1$ </td> <td> $3^{-1}=\\frac{1}{3}$ </td> </tr>\n",
    "    <tr> <td> $2$ </td> <td> $3^{-2}=\\frac{1}{9}$ </td> </tr>\n",
    "</table>\n",
    "\n",
    "So if we have a base, $b$, that is a fraction, we can flip the fraction and toss a negative in front of the exponent, $x$. That is, if $f(x) = \\left( \\frac{n}{m} \\right)^{x}$, then $f(x) = \\left( \\frac{m}{n} \\right)^{-x}$. In particular, for these first two examples, $g(x) = \\left( \\frac{1}{3} \\right)^{x} = \\left( \\frac{3}{1} \\right)^{-x} = 3^{-x} = f(-x)$.\n",
    "\n",
    "Plotting $g(x)$ then looks like the following."
   ]
  },
  {
   "cell_type": "code",
   "execution_count": 7,
   "metadata": {
    "slideshow": {
     "slide_type": "subslide"
    }
   },
   "outputs": [
    {
     "data": {
      "text/plain": [
       "<matplotlib.legend.Legend at 0x261e238a248>"
      ]
     },
     "execution_count": 7,
     "metadata": {},
     "output_type": "execute_result"
    },
    {
     "data": {
      "image/png": "[encoded data removed]",
      "text/plain": [
       "<Figure size 432x288 with 1 Axes>"
      ]
     },
     "metadata": {
      "needs_background": "light"
     },
     "output_type": "display_data"
    }
   ],
   "source": [
    "def g(x):\n",
    "    return 3**(-x)\n",
    "\n",
    "x = np.arange(-2,2.1,.1)\n",
    "y = g(x)\n",
    "\n",
    "y_parent = f(x)\n",
    "\n",
    "x_sample = np.array([-2,-1,0,1,2])\n",
    "y_sample = np.array([9,3,1,1/3,1/9])\n",
    "\n",
    "fig, ax = plt.subplots()\n",
    "ax.scatter(x_sample,y_sample)\n",
    "ax.plot(x,y_parent,color='red')\n",
    "ax.plot(x, y,color='blue')\n",
    "ax.grid(True, which='both')\n",
    "ax.axhline(y=0, color='k')\n",
    "ax.axvline(x=0, color='k')\n",
    "ax.set_title('Graph of g(x)')\n",
    "ax.legend(['f(x)','g(x)'])"
   ]
  },
  {
   "cell_type": "markdown",
   "metadata": {
    "slideshow": {
     "slide_type": "fragment"
    }
   },
   "source": [
    "As we can see here, the graph of $g(x)$ is reflected about the $y$ axis, just as should happen to a function $f(x)$ with the transformation $f(-x)$."
   ]
  },
  {
   "cell_type": "markdown",
   "metadata": {
    "slideshow": {
     "slide_type": "fragment"
    }
   },
   "source": [
    "The <em><b>domain</b></em> of $g(x)$ is $(-\\infty,\\infty)$.\n",
    "\n",
    "The <em><b>range</b></em> of $g(x)$ is $(0,\\infty)$.\n",
    "\n",
    "The <em><b>horizontal asymptote</b></em> of $g(x)$ is $y = 0$."
   ]
  },
  {
   "cell_type": "markdown",
   "metadata": {
    "slideshow": {
     "slide_type": "slide"
    }
   },
   "source": [
    "Example: Graph $g(x) = 3 ^{x+4}$.\n",
    "\n",
    "We could plot individual points... or we could use our knowledge about transformations of functions. Namely, if $f(x) = 3^{x}$, then $f(x+4) = 3^{x+4} = g(x)$. This means if we look at the graph of $f(x)$ as we had in the first example, we could just \"shift\" that graph $4$ units to the <em>left</em> (opposite sign in this case)."
   ]
  },
  {
   "cell_type": "code",
   "execution_count": 8,
   "metadata": {
    "slideshow": {
     "slide_type": "fragment"
    }
   },
   "outputs": [
    {
     "data": {
      "text/plain": [
       "<matplotlib.legend.Legend at 0x261e24143c8>"
      ]
     },
     "execution_count": 8,
     "metadata": {},
     "output_type": "execute_result"
    },
    {
     "data": {
      "image/png": "[encoded data removed]",
      "text/plain": [
       "<Figure size 432x288 with 1 Axes>"
      ]
     },
     "metadata": {
      "needs_background": "light"
     },
     "output_type": "display_data"
    }
   ],
   "source": [
    "def g(x):\n",
    "    return 3**(x+4)\n",
    "\n",
    "x = np.arange(-2,2.1,.1)\n",
    "y = g(x)\n",
    "\n",
    "fig, ax = plt.subplots()\n",
    "ax.plot(x,y_parent,color='red')\n",
    "ax.plot(x, y,color='blue')\n",
    "ax.grid(True, which='both')\n",
    "ax.axhline(y=0, color='k')\n",
    "ax.axvline(x=0, color='k')\n",
    "ax.set_title('Graph f(x)')\n",
    "ax.legend(['f(x)','g(x)'])"
   ]
  },
  {
   "cell_type": "markdown",
   "metadata": {
    "slideshow": {
     "slide_type": "fragment"
    }
   },
   "source": [
    "<em><b>Domain</b></em>: $(-\\infty, \\infty)$\n",
    "\n",
    "<em><b>Range</b></em>: $(0,\\infty)$\n",
    "\n",
    "<em><b>Horizontal asymptote</b></em>: $y = 0$"
   ]
  },
  {
   "cell_type": "markdown",
   "metadata": {
    "slideshow": {
     "slide_type": "slide"
    }
   },
   "source": [
    "Example: Graph $g(x) = 3^{\\displaystyle x}+4$"
   ]
  },
  {
   "cell_type": "markdown",
   "metadata": {
    "slideshow": {
     "slide_type": "fragment"
    }
   },
   "source": [
    "We need to shift the parent function's graph $4$ units up. This, in effect, will also shift the horizontal asymptote of the parent function up by $4$ units."
   ]
  },
  {
   "cell_type": "code",
   "execution_count": 10,
   "metadata": {
    "slideshow": {
     "slide_type": "fragment"
    }
   },
   "outputs": [
    {
     "data": {
      "text/plain": [
       "<matplotlib.legend.Legend at 0x261e24392c8>"
      ]
     },
     "execution_count": 10,
     "metadata": {},
     "output_type": "execute_result"
    },
    {
     "data": {
      "image/png": "[encoded data removed]",
      "text/plain": [
       "<Figure size 432x288 with 1 Axes>"
      ]
     },
     "metadata": {
      "needs_background": "light"
     },
     "output_type": "display_data"
    }
   ],
   "source": [
    "def g(x):\n",
    "    return 3**x+4\n",
    "\n",
    "x = np.arange(-2,2.1,.1)\n",
    "y = g(x)\n",
    "\n",
    "fig, ax = plt.subplots()\n",
    "ax.plot(x,y_parent,color='red')\n",
    "ax.plot(x, y,color='blue')\n",
    "ax.grid(True, which='both')\n",
    "ax.axhline(y=0, color='k')\n",
    "ax.axhline(y=4, color='k',linestyle='--')\n",
    "ax.axvline(x=0, color='k')\n",
    "ax.set_title('Graph f(x)')\n",
    "ax.legend(['f(x)','g(x)'])"
   ]
  },
  {
   "cell_type": "markdown",
   "metadata": {
    "slideshow": {
     "slide_type": "fragment"
    }
   },
   "source": [
    "<em><b>Domain</b></em>: $(-\\infty,\\infty)$\n",
    "\n",
    "<em><b>Range</b></em>: $(4,\\infty)$\n",
    "\n",
    "<em><b>Horizontal asymptote</b></em>: $y = 4$"
   ]
  },
  {
   "cell_type": "markdown",
   "metadata": {
    "slideshow": {
     "slide_type": "slide"
    }
   },
   "source": [
    "Example: Graph $g(x) = -2^{-x+1} - 3$"
   ]
  },
  {
   "cell_type": "markdown",
   "metadata": {
    "slideshow": {
     "slide_type": "fragment"
    }
   },
   "source": [
    "$g(x) = -2^{-(x-1)} - 3$\n",
    "\n",
    "From factoring the negative in the exponent we now conclude we need a reftlection over $x$-axis; reflection over $y$-axis; shift 1 unit to the right; and shift 3 units down."
   ]
  },
  {
   "cell_type": "code",
   "execution_count": 11,
   "metadata": {
    "slideshow": {
     "slide_type": "fragment"
    }
   },
   "outputs": [
    {
     "data": {
      "text/plain": [
       "<matplotlib.legend.Legend at 0x261e24ce948>"
      ]
     },
     "execution_count": 11,
     "metadata": {},
     "output_type": "execute_result"
    },
    {
     "data": {
      "image/png": "[encoded data removed]",
      "text/plain": [
       "<Figure size 432x288 with 1 Axes>"
      ]
     },
     "metadata": {
      "needs_background": "light"
     },
     "output_type": "display_data"
    }
   ],
   "source": [
    "def g(x):\n",
    "    return -2**(-x+1)-3\n",
    "\n",
    "def f(x):\n",
    "    return 2**x\n",
    "\n",
    "x = np.arange(-2,2.1,.1)\n",
    "y = g(x)\n",
    "y_parent = f(x)\n",
    "\n",
    "fig, ax = plt.subplots()\n",
    "ax.plot(x,y_parent,color='red')\n",
    "ax.plot(x, y,color='blue')\n",
    "ax.grid(True, which='both')\n",
    "ax.axhline(y=0, color='k')\n",
    "ax.axhline(y=-3, color='k',linestyle='--')\n",
    "ax.axvline(x=0, color='k')\n",
    "ax.set_title('Graph f(x)')\n",
    "ax.legend(['f(x)','g(x)'])"
   ]
  },
  {
   "cell_type": "markdown",
   "metadata": {},
   "source": [
    "<em><b>Domain</b></em>: $(-\\infty,\\infty)$\n",
    "\n",
    "<em><b>Range</b></em>: $(-\\infty, -3)$\n",
    "\n",
    "<em><b>Horizontal asymptote</b></em>: $y = -3$"
   ]
  },
  {
   "cell_type": "markdown",
   "metadata": {
    "slideshow": {
     "slide_type": "slide"
    }
   },
   "source": [
    "##### Objective 2: Evaluate/Graph Functions with the Base $e$\n",
    "\n",
    "Most of us are familiar with the irrational number $\\pi \\approx 3.141592654$. Another number, the number $e \\approx 2.718281828$, is also an irrational number that often shows up in mathematics and various applications.\n",
    "\n",
    "This number is often associated with exponential and logarithmic functions, so we will take a look at an example involving this constant."
   ]
  },
  {
   "cell_type": "markdown",
   "metadata": {
    "slideshow": {
     "slide_type": "fragment"
    }
   },
   "source": [
    "Example: Graph $f(x) = e^{x}$.\n",
    "\n",
    "Plot points:\n",
    "\n",
    "<table style=\"width:50%\">\n",
    "    <tr> <th> $x$ </th> <th> $y = g(x)$ </th> </tr>\n",
    "    <tr> <td> $-2$ </td> <td> $e^{-2} \\approx 0.14$ </td> </tr>\n",
    "    <tr> <td> $-1$ </td> <td> $e^{-1} \\approx 0.37$ </td> </tr>\n",
    "    <tr> <td> $0$ </td> <td> $e^{-0}=1$ </td> </tr>\n",
    "    <tr> <td> $1$ </td> <td> $e^{1} \\approx 2.72$ </td> </tr>\n",
    "    <tr> <td> $2$ </td> <td> $e^{2} \\approx 7.39$ </td> </tr>\n",
    "</table>"
   ]
  },
  {
   "cell_type": "code",
   "execution_count": 12,
   "metadata": {
    "slideshow": {
     "slide_type": "fragment"
    }
   },
   "outputs": [
    {
     "data": {
      "text/plain": [
       "Text(0.5, 1.0, 'Graph f(x)')"
      ]
     },
     "execution_count": 12,
     "metadata": {},
     "output_type": "execute_result"
    },
    {
     "data": {
      "image/png": "[encoded data removed]",
      "text/plain": [
       "<Figure size 432x288 with 1 Axes>"
      ]
     },
     "metadata": {
      "needs_background": "light"
     },
     "output_type": "display_data"
    }
   ],
   "source": [
    "def f(x):\n",
    "    return np.exp(x)\n",
    "\n",
    "x = np.arange(-2,2.1,.1)\n",
    "y = f(x)\n",
    "\n",
    "fig, ax = plt.subplots()\n",
    "ax.plot(x, y)\n",
    "ax.grid(True, which='both')\n",
    "ax.axhline(y=0, color='k')\n",
    "ax.axvline(x=0, color='k')\n",
    "ax.set_title('Graph f(x)')"
   ]
  },
  {
   "cell_type": "markdown",
   "metadata": {},
   "source": [
    "<em><b>Domain</b></em>: $(-\\infty,\\infty)$\n",
    "\n",
    "<em><b>Range</b></em>: $(0,\\infty)$\n",
    "\n",
    "<em><b>Horizontal asymptote</b></em>: $y = 0$"
   ]
  },
  {
   "cell_type": "markdown",
   "metadata": {
    "slideshow": {
     "slide_type": "slide"
    }
   },
   "source": [
    "##### Objective 3: Applications of Exponential Functions\n",
    "\n",
    "One area that makes extensive use of exponential functions is <em><b>compound interest</b></em>.\n",
    "\n",
    "Compound interest is interest that is computed on an orignal investment/loan as well as on any accumulated interest.\n",
    "\n",
    "The formula for finding the total amount accrued after some time period, $t$, is found by $A = P\\left( 1 + \\frac{r}{n} \\right)^{nt}$."
   ]
  },
  {
   "cell_type": "markdown",
   "metadata": {
    "slideshow": {
     "slide_type": "fragment"
    }
   },
   "source": [
    "In the formula we have the following definitions:\n",
    "\n",
    "$A$ is the future amount or face value.\n",
    "\n",
    "$P$ is the principal or starting amount.\n",
    "\n",
    "$r$ is the interest rate (expressed as a <em>decimal</em>).\n",
    "\n",
    "$t$ is the time (in years) that has passed from the time of the principal investment/loan.\n",
    "\n",
    "$n$ is the number of times per year the amount is compounded (number of times per year the interest is applied)."
   ]
  },
  {
   "cell_type": "markdown",
   "metadata": {
    "slideshow": {
     "slide_type": "fragment"
    }
   },
   "source": [
    "Common values for $n$ are determined by key phrases:\n",
    "\n",
    "Annually (once per year): $n= 1$.\n",
    "\n",
    "Semiannually (twice per yer): $n = 2$.\n",
    "\n",
    "Quarterly (four times per year): $n = 4$.\n",
    "\n",
    "Monthly (12 months per year): $n = 12$.\n",
    "\n",
    "Daily (365 days per year, not accounting for Leap Year): $n = 365$."
   ]
  },
  {
   "cell_type": "code",
   "execution_count": 27,
   "metadata": {
    "slideshow": {
     "slide_type": "fragment"
    }
   },
   "outputs": [
    {
     "name": "stdout",
     "output_type": "stream",
     "text": [
      "A=$1104.62\n"
     ]
    }
   ],
   "source": [
    "def A(P,r,n,t):\n",
    "    return P*(1 + r/n)**(n*t)\n",
    "\n",
    "P = 1000 # principal amount\n",
    "r = 0.01 # interest rate (as decimal)\n",
    "n = 1 # number of times compounded per year\n",
    "t = 10 # number of years since\n",
    "# initial investment/loan\n",
    "\n",
    "print('A=${}'.format(round(A(P,r,n,t),2)))"
   ]
  },
  {
   "cell_type": "markdown",
   "metadata": {
    "slideshow": {
     "slide_type": "fragment"
    }
   },
   "source": [
    "<em><b>Continuous compounding interest formula:</b></em>\n",
    "\n",
    "As we can see from the Python code demo (in the YouTube video), as n becomes very, very large, without bound, the future amount seems to level off. This is what happens when we have <em>continous</em> compounding. That is, when we decide to push $n$ to infinity (compounding infinitely many times per year, so to speak). When we do this, the original compound interest formula approaches the formula:\n",
    "\n",
    "$A = Pe^{rt}$\n",
    "\n",
    "$A$ is the future amount.\n",
    "\n",
    "$P$ is the principal amount.\n",
    "\n",
    "$r$ is the interest rate (again, in decimal form).\n",
    "\n",
    "$t$ is time (in years)."
   ]
  },
  {
   "cell_type": "markdown",
   "metadata": {
    "slideshow": {
     "slide_type": "slide"
    }
   },
   "source": [
    "Example: You have $\\$1000$ to invest over a $3$-year period. You have the choice to invest at $8\\%$ interest compounded daily; or at $6\\%$ interest compounded continuously. Which choice will yield a larger future amount?"
   ]
  },
  {
   "cell_type": "markdown",
   "metadata": {
    "slideshow": {
     "slide_type": "fragment"
    }
   },
   "source": [
    "Solution:\n",
    "\n",
    "First we identify what we know so far. We are investing an initial amount of $P=\\$1000$. We are investing over a time period of $t=3$ years.\n",
    "\n",
    "Choice a: Interest rate, $r = 8\\% = 0.08$ (divide $8\\%$ by $100$). We are compounding the interest <em>daily</em>, which means $n = 365$. We are not compounding the interest <em>continuously</em>, so we need to use the formula $A = P\\left( 1 + \\frac{r}{n} \\right)^{nt}$.\n",
    "\n",
    "Choice b: Interest rate, $r = 6\\% = 0.06$. We are compounding continuously so we need to use the formula $A = Pe^{rt}$.\n",
    "\n",
    "Solving each case side-by-side:\n",
    "\n",
    "<table style=\"width:75%\">\n",
    "    <tr> <th>Choice a</th> <th>Choice b</th> </tr>\n",
    "    <tr> <td> $A = P\\left( 1 + \\frac{r}{n} \\right)^{nt}$ </td> <td> $A = Pe^{rt}$ </td> </tr>\n",
    "    <tr> <td> $A = 1000 \\left( 1 + \\frac{0.08}{365} \\right)^{(365)(3)}$ </td> <td> $A = 1000e^{(0.06)(3)}$ </td> </tr>\n",
    "    <tr> <td> $A \\approx \\$1271.22$ </td> <td> $A \\approx \\$1197.22$ </td> </tr>\n",
    "</table>\n",
    "\n",
    "Therefore, choice b seems to be the better choice since we wish to maximize our investment."
   ]
  },
  {
   "cell_type": "markdown",
   "metadata": {
    "slideshow": {
     "slide_type": "slide"
    }
   },
   "source": [
    "Example: You have $\\$3000$ to invest over a $5$-year period. You have the choice to invest at $8.75\\%$ interest compounded quarterly; or at $10\\%$ compounded <em>continuously</em>. Which choice will yield a larger future amount?"
   ]
  },
  {
   "cell_type": "markdown",
   "metadata": {
    "slideshow": {
     "slide_type": "fragment"
    }
   },
   "source": [
    "Solution:\n",
    "\n",
    "Similar to the previous example we have two choices.\n",
    "\n",
    "Choice a: Interest rate, $r = 8.75\\% = 0.0875$. We are compounding the interest <em>quarterly</em>, which means $n = 4$. We are not compounding the interest <em>continuously</em>, so we need to use the formula $A = P\\left( 1 + \\frac{r}{n} \\right)^{nt}$.\n",
    "\n",
    "Choice b: Interest rate, $r = 10\\% = 0.10$. We are compounding <em>continuously</em> so we need to use the formula $A = Pe^{rt}$.\n",
    "\n",
    "Both choices involve an initial investment of $P=\\$3000$ and a time period of $t=5$ years.\n",
    "\n",
    "Solving each case side-by-side:\n",
    "\n",
    "<table style=\"width:75%\">\n",
    "    <tr> <th>Choice a</th> <th>Choice b</th> </tr>\n",
    "    <tr> <td> $A = P\\left( 1 + \\frac{m}{n} \\right)^{nt}$ </td> <td> $A = Pe^{rt}$ </td> </tr>\n",
    "    <tr> <td> $A = 3000 \\left( 1 + \\frac{0.0875}{4} \\right)^{(4)(5)}$ </td> <td> $A = 1000 e^{(0.10)(5)}$ </td> </tr>\n",
    "    <tr> <td> $A \\approx \\$4624.63$ </td> <td> $A \\approx \\$4946.16$ </td> </tr>\n",
    "</table>\n",
    "\n",
    "Therefore, choice b seems to be the better choice since we wish to maximize our investment."
   ]
  },
  {
   "cell_type": "markdown",
   "metadata": {
    "slideshow": {
     "slide_type": "slide"
    }
   },
   "source": [
    "##### End of Section"
   ]
  }
 ],
 "metadata": {
  "celltoolbar": "Slideshow",
  "kernelspec": {
   "display_name": "Python 3",
   "language": "python",
   "name": "python3"
  },
  "language_info": {
   "codemirror_mode": {
    "name": "ipython",
    "version": 3
   },
   "file_extension": ".py",
   "mimetype": "text/x-python",
   "name": "python",
   "nbconvert_exporter": "python",
   "pygments_lexer": "ipython3",
   "version": "3.7.4"
  },
  "rise": {
   "enable_chalkboard": true,
   "theme": "sky",
   "transition": "zoom"
  }
 },
 "nbformat": 4,
 "nbformat_minor": 2
}
