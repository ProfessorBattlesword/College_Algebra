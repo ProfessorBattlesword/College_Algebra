{
 "cells": [
  {
   "cell_type": "markdown",
   "metadata": {},
   "source": [
    "# Chapter 4: Exponential and Logarithmic Functions"
   ]
  },
  {
   "cell_type": "markdown",
   "metadata": {
    "slideshow": {
     "slide_type": "slide"
    }
   },
   "source": [
    "### Section 4.2: Logarithmic Functions"
   ]
  },
  {
   "cell_type": "markdown",
   "metadata": {
    "slideshow": {
     "slide_type": "slide"
    }
   },
   "source": [
    "##### Objective 1: Change From Logarithmic to Exponential Form"
   ]
  },
  {
   "cell_type": "markdown",
   "metadata": {
    "slideshow": {
     "slide_type": "fragment"
    }
   },
   "source": [
    "##### Definitions:\n",
    "\n",
    "The equivalent <em><b>logarithmic form</b></em> of an exponential equation, $b^y=x$, is given by $y = \\text{log}_b x$, where the argument, $x$, must satisfy $x>0$, and the base, $b$, must satisfy $b>0$ and $b\\ne1$.\n",
    "\n",
    "A <em><b>logarithmic function</b></em> is a function of the form $f(x) = \\text{log}_b x$ where $x > 0$ and $b > 0$ with $b\\ne1$."
   ]
  },
  {
   "cell_type": "markdown",
   "metadata": {
    "slideshow": {
     "slide_type": "fragment"
    }
   },
   "source": [
    "##### Example:\n",
    "\n",
    "Convert each expression into its equivalent exponential form:\n",
    "\n",
    "1. $\\text{log}_3 81 = 4$\n",
    "2. $\\text{log}_4 \\frac{1}{16} = x$\n",
    "3. $\\text{log}_7 \\sqrt{7} = \\frac{1}{2}$\n",
    "4. $5 = \\text{log}_b 32$"
   ]
  },
  {
   "cell_type": "markdown",
   "metadata": {
    "slideshow": {
     "slide_type": "fragment"
    }
   },
   "source": [
    "##### Solution:\n",
    "\n",
    "1. $3^4 = 81$\n",
    "2. $4^x = \\frac{1}{16}$\n",
    "3. $7^{1/2} = \\sqrt{7}$\n",
    "4. $b^5 = 32$"
   ]
  },
  {
   "cell_type": "markdown",
   "metadata": {
    "slideshow": {
     "slide_type": "slide"
    }
   },
   "source": [
    "##### Objective 2: Change From Exponential to Logarithmic Form"
   ]
  },
  {
   "cell_type": "markdown",
   "metadata": {
    "slideshow": {
     "slide_type": "fragment"
    }
   },
   "source": [
    "##### Example:\n",
    "\n",
    "Convert from exponential form into logarithmic form:\n",
    "\n",
    "1. $6^{-2} = \\frac{1}{36}$\n",
    "2. $5^{1/3} = \\sqrt[3]{5}$\n",
    "3. $\\pi^4 = x$\n",
    "4. $8^{x} = 64$"
   ]
  },
  {
   "cell_type": "markdown",
   "metadata": {
    "slideshow": {
     "slide_type": "fragment"
    }
   },
   "source": [
    "##### Solution:\n",
    "\n",
    "1. $\\text{log}_6 \\frac{1}{36} = -2$\n",
    "2. $\\text{log}_5 \\sqrt[3]{5} = \\frac{1}{3}$\n",
    "3. $\\text{log}_{\\pi} x = 4$\n",
    "4. $\\text{log}_8 64 = x$"
   ]
  },
  {
   "cell_type": "markdown",
   "metadata": {
    "slideshow": {
     "slide_type": "slide"
    }
   },
   "source": [
    "##### Objective 3: Evaluate Logarithms"
   ]
  },
  {
   "cell_type": "markdown",
   "metadata": {
    "slideshow": {
     "slide_type": "fragment"
    }
   },
   "source": [
    "##### Example:\n",
    "\n",
    "Evaluate:\n",
    "\n",
    "1. $\\text{log}_2 8$\n",
    "2. $\\text{log}_4 256$\n",
    "3. $\\text{log}_3 \\frac{1}{9}$\n",
    "4. $\\text{log}_{25} 5$"
   ]
  },
  {
   "cell_type": "markdown",
   "metadata": {
    "slideshow": {
     "slide_type": "fragment"
    }
   },
   "source": [
    "##### Solution:\n",
    "\n",
    "1. $\\text{log}_2 8 = \\text{log}_2 2^3 = 3$\n",
    "2. $\\text{log}_4 256 = \\text{log}_4 4^4 = 4$\n",
    "3. $\\text{log}_3 \\frac{1}{9} = \\text{log}_3 \\frac{1}{3^2} = \\text{log}_3 3^{-2} = -2$\n",
    "4. $\\text{log}_{25} 5 = \\text{log}_{25} \\sqrt{25} = \\text{log}_{25} 25^{1/2} = \\frac{1}{2}$"
   ]
  },
  {
   "cell_type": "markdown",
   "metadata": {
    "slideshow": {
     "slide_type": "slide"
    }
   },
   "source": [
    "##### Objective 4: Use Basic Logarithmic Properites"
   ]
  },
  {
   "cell_type": "markdown",
   "metadata": {
    "slideshow": {
     "slide_type": "fragment"
    }
   },
   "source": [
    "##### Baisc Logarithmic Properties:\n",
    "\n",
    "Let $b$ be a real number such that $b>0$ and $b \\ne 1$. Then the following properties hold.\n",
    "1. $\\text{log}_b b = 1$\n",
    "2. $\\text{log}_b 1 = 0$\n",
    "3. $\\text{log}_b b^x = x$\n",
    "4. $b^{\\text{log}_b x}  = x$"
   ]
  },
  {
   "cell_type": "markdown",
   "metadata": {
    "slideshow": {
     "slide_type": "fragment"
    }
   },
   "source": [
    "##### Example:\n",
    "\n",
    "Evaluate:\n",
    "\n",
    "1. $\\text{log}_4 4^3$\n",
    "2. $\\text{log}_3 3^2$\n",
    "3. $\\text{log}_7 7^{-1}$\n",
    "4. $5^{\\text{log}_5 3}$\n",
    "5. $\\text{log}_5 5$\n",
    "6. $\\text{log}_8 1$"
   ]
  },
  {
   "cell_type": "markdown",
   "metadata": {
    "slideshow": {
     "slide_type": "fragment"
    }
   },
   "source": [
    "##### Solution:\n",
    "\n",
    "1. $\\text{log}_4 4^3 = 3$\n",
    "2. $\\text{log}_3 3^2 = 2$\n",
    "3. $\\text{log}_7 7^{-1} = -1$\n",
    "4. $5^{\\text{log}_5 3} = 3$\n",
    "5. $\\text{log}_5 5 = 1$\n",
    "6. $\\text{log}_8 1 = 0$"
   ]
  },
  {
   "cell_type": "markdown",
   "metadata": {
    "slideshow": {
     "slide_type": "slide"
    }
   },
   "source": [
    "##### Objective 5: Graph Logarithmic Functions"
   ]
  },
  {
   "cell_type": "markdown",
   "metadata": {
    "slideshow": {
     "slide_type": "fragment"
    }
   },
   "source": [
    "##### Example:\n",
    "\n",
    "Graph $f(x) = \\text{log}_3 x$."
   ]
  },
  {
   "cell_type": "markdown",
   "metadata": {
    "slideshow": {
     "slide_type": "fragment"
    }
   },
   "source": [
    "##### Solution:\n",
    "\n",
    "<table style=\"width:50%\">\n",
    "    <tr> <th>$x$</th> <th>$f(x)$</th> </tr>\n",
    "    <tr> <td>$\\frac{1}{9}$</td> <td>$\\log_3(1/3^2) = \\log_33^{-2} =-2$</td> </tr>\n",
    "    <tr> <td>$\\frac{1}{3}$</td> <td>-1</td> </tr>\n",
    "    <tr> <td>$1$</td> <td>$0$</td> </tr>\n",
    "    <tr> <td>$3$</td> <td>$1$</td> </tr>\n",
    "    <tr> <td>$9$</td> <td>$2$</td> </tr>\n",
    "</table>\n",
    "\n",
    "Plotting these points we get:"
   ]
  },
  {
   "cell_type": "code",
   "execution_count": 6,
   "metadata": {
    "slideshow": {
     "slide_type": "fragment"
    }
   },
   "outputs": [
    {
     "data": {
      "text/plain": [
       "(-5.0, 5.0)"
      ]
     },
     "execution_count": 6,
     "metadata": {},
     "output_type": "execute_result"
    },
    {
     "data": {
      "image/png": "[encoded data removed]",
      "text/plain": [
       "<Figure size 1080x720 with 1 Axes>"
      ]
     },
     "metadata": {
      "needs_background": "light"
     },
     "output_type": "display_data"
    }
   ],
   "source": [
    "import numpy as np\n",
    "import matplotlib.pyplot as plt\n",
    "\n",
    "%matplotlib inline\n",
    "\n",
    "def f(x):\n",
    "    return np.log(x) / np.log(3)\n",
    "\n",
    "def f_inv(x):\n",
    "    return 3**x\n",
    "\n",
    "xmin = -1\n",
    "xmax= 10\n",
    "\n",
    "ymin = -5\n",
    "ymax = 5\n",
    "\n",
    "x_sample = np.array([1/9,1/3,1,3,9])\n",
    "y_sample = np.array([-2,-1,0,1,2])\n",
    "\n",
    "x = np.arange(0.01,xmax+.1,.1)\n",
    "y = f(x)\n",
    "\n",
    "x_inv_sample = y_sample\n",
    "y_inv_sample = x_sample\n",
    "x_inv = np.arange(xmin,xmax+.1,.1)\n",
    "y_inv = f_inv(x_inv)\n",
    "\n",
    "fig, ax = plt.subplots(figsize=(15,10))\n",
    "ax.scatter(x_sample,y_sample,color='blue')\n",
    "ax.plot(x,y,color='blue') ##### TOGGLE FUNCTION\n",
    "ax.scatter(x_inv_sample,y_inv_sample,color='green') ##### TOGGLE INVERSE\n",
    "ax.plot(x_inv,y_inv,color='green') ##### TOGGLE INVERSE\n",
    "ax.axvline(x=0,ymin=0,ymax=1,color='red',linestyle='--') ##### ASYMPTOTE\n",
    "# ax.axvline(x=0,ymin=0,ymax=1,color='k') ##### Y-AXIS\n",
    "ax.axhline(y=0,xmin=0,xmax=1,color='k') ##### X-AXIS\n",
    "ax.set_xticks(np.arange(xmin,xmax+1,1))\n",
    "ax.set_yticks(np.arange(ymin,ymax+1,1))\n",
    "ax.grid()\n",
    "ax.set_title('Logarithmic Function')\n",
    "ax.set_xlabel('$x$')\n",
    "ax.set_ylabel('$y$')\n",
    "ax.set_xlim(xmin,xmax)\n",
    "ax.set_ylim(ymin,ymax)"
   ]
  },
  {
   "cell_type": "markdown",
   "metadata": {
    "slideshow": {
     "slide_type": "slide"
    }
   },
   "source": [
    "##### Example: \n",
    "\n",
    "Graph $g(x) = \\text{log}_3 (x+1)$."
   ]
  },
  {
   "cell_type": "markdown",
   "metadata": {
    "slideshow": {
     "slide_type": "fragment"
    }
   },
   "source": [
    "##### Solution:\n",
    "\n",
    "$g(x)$ is the same as $f(x+1) \\Rightarrow f(x)$ shifts one unit <em>left</em>."
   ]
  },
  {
   "cell_type": "code",
   "execution_count": 9,
   "metadata": {
    "scrolled": true,
    "slideshow": {
     "slide_type": "fragment"
    }
   },
   "outputs": [
    {
     "data": {
      "text/plain": [
       "<matplotlib.legend.Legend at 0x22641e98588>"
      ]
     },
     "execution_count": 9,
     "metadata": {},
     "output_type": "execute_result"
    },
    {
     "data": {
      "image/png": "[encoded data removed]",
      "text/plain": [
       "<Figure size 1080x720 with 1 Axes>"
      ]
     },
     "metadata": {
      "needs_background": "light"
     },
     "output_type": "display_data"
    }
   ],
   "source": [
    "xmin = -2\n",
    "xmax= 9\n",
    "\n",
    "ymin = -5\n",
    "ymax = 5\n",
    "\n",
    "x_old = np.arange(0.01,xmax+.1,.1)\n",
    "y_old = f(x_old)\n",
    "\n",
    "x = np.arange(0.01-1,xmax+.1,.1)\n",
    "y = f(x+1)\n",
    "\n",
    "fig, ax = plt.subplots(figsize=(15,10))\n",
    "ax.plot(x_old,y_old,color='red',label='$f(x)$')\n",
    "ax.plot(x,y,color='blue',label='$g(x)$')\n",
    "ax.axvline(x=-1,ymin=0,ymax=1,color='red',linestyle='--') ##### ASYMPTOTE\n",
    "ax.axvline(x=0,ymin=0,ymax=1,color='k') ##### Y-AXIS\n",
    "ax.axhline(y=0,xmin=0,xmax=1,color='k') ##### X-AXIS\n",
    "ax.set_xticks(np.arange(xmin,xmax+1,1))\n",
    "ax.set_yticks(np.arange(ymin,ymax+1,1))\n",
    "ax.grid()\n",
    "ax.set_title('Logarithmic Function')\n",
    "ax.set_xlabel('$x$')\n",
    "ax.set_ylabel('$y$')\n",
    "ax.set_xlim(xmin,xmax)\n",
    "ax.set_ylim(ymin,ymax)\n",
    "ax.legend()"
   ]
  },
  {
   "cell_type": "code",
   "execution_count": null,
   "metadata": {},
   "outputs": [],
   "source": []
  },
  {
   "cell_type": "code",
   "execution_count": null,
   "metadata": {},
   "outputs": [],
   "source": []
  },
  {
   "cell_type": "markdown",
   "metadata": {
    "slideshow": {
     "slide_type": "slide"
    }
   },
   "source": [
    "##### Example:\n",
    "\n",
    "Graph $g(x) = \\text{log}_3 (x) + 2$."
   ]
  },
  {
   "cell_type": "markdown",
   "metadata": {
    "slideshow": {
     "slide_type": "fragment"
    }
   },
   "source": [
    "##### Solution:\n",
    "\n",
    "$g(x)$ is the same as $f(x) + 2 \\Rightarrow f(x)$ shifts two units <em>up</em>:"
   ]
  },
  {
   "cell_type": "code",
   "execution_count": 13,
   "metadata": {
    "scrolled": true,
    "slideshow": {
     "slide_type": "fragment"
    }
   },
   "outputs": [
    {
     "data": {
      "text/plain": [
       "<matplotlib.legend.Legend at 0x2264176b148>"
      ]
     },
     "execution_count": 13,
     "metadata": {},
     "output_type": "execute_result"
    },
    {
     "data": {
      "image/png": "[encoded data removed]",
      "text/plain": [
       "<Figure size 1080x720 with 1 Axes>"
      ]
     },
     "metadata": {
      "needs_background": "light"
     },
     "output_type": "display_data"
    }
   ],
   "source": [
    "xmin = -1\n",
    "xmax= 9\n",
    "\n",
    "ymin = -5\n",
    "ymax = 5\n",
    "\n",
    "x_old = np.arange(0.01,xmax+.1,.1)\n",
    "y_old = f(x_old)\n",
    "\n",
    "x = np.arange(0.01,xmax+.1,.1)\n",
    "y = f(x) + 2\n",
    "\n",
    "fig, ax = plt.subplots(figsize=(15,10))\n",
    "ax.plot(x_old,y_old,color='red',label='$f(x)$')\n",
    "ax.plot(x,y,color='blue',label='$g(x)$')\n",
    "ax.axvline(x=0,ymin=0,ymax=1,color='red',linestyle='--') ##### ASYMPTOTE\n",
    "# ax.axvline(x=0,ymin=0,ymax=1,color='k') ##### Y-AXIS\n",
    "ax.axhline(y=0,xmin=0,xmax=1,color='k') ##### X-AXIS\n",
    "ax.set_xticks(np.arange(xmin,xmax+1,1))\n",
    "ax.set_yticks(np.arange(ymin,ymax+1,1))\n",
    "ax.grid()\n",
    "ax.set_title('Logarithmic Function')\n",
    "ax.set_xlabel('$x$')\n",
    "ax.set_ylabel('$y$')\n",
    "ax.set_xlim(xmin,xmax)\n",
    "ax.set_ylim(ymin,ymax)\n",
    "ax.legend()"
   ]
  },
  {
   "cell_type": "markdown",
   "metadata": {
    "slideshow": {
     "slide_type": "slide"
    }
   },
   "source": [
    "##### Objective 6: Find the Domain of a Logarithmic Function\n",
    "\n",
    "Recall that for a logarithmic function, $f(x) = \\text{log}_b x$, we require that $x>0$. This is true for <em>any</em> logarithmic argument!"
   ]
  },
  {
   "cell_type": "markdown",
   "metadata": {
    "slideshow": {
     "slide_type": "fragment"
    }
   },
   "source": [
    "##### Example:\n",
    "\n",
    "Find the domain, range, and asymptote of $g(x) = \\text{log}_4 (x-6)$."
   ]
  },
  {
   "cell_type": "markdown",
   "metadata": {
    "slideshow": {
     "slide_type": "fragment"
    }
   },
   "source": [
    "##### Solution:\n",
    "\n",
    "If we have a <em>linear</em> factor as the argument, then we could just graph the function and identify the domain and range from there. We should be able to immediately identify the range since we now have seen several graphs of logarithmic functions. So we can conclude that $g(x)$ has a <em><b>range</b></em> of $(-\\infty, \\infty)$."
   ]
  },
  {
   "cell_type": "markdown",
   "metadata": {
    "slideshow": {
     "slide_type": "fragment"
    }
   },
   "source": [
    "We could note here, that if $f(x) = \\text{log}_4 x$, then $g(x) = f(x-6)$, which is just the function $f(x)$ shifted <em>right</em> 6 units (which would shift the <em><b>vertical asymptote</b></em> from $x=0$ to $x=6$). So our new domain would consist of all real numbers larger than $x=6$. In interval notation the <em><b>domain</b></em> is $(6,\\infty)$."
   ]
  },
  {
   "cell_type": "markdown",
   "metadata": {
    "slideshow": {
     "slide_type": "fragment"
    }
   },
   "source": [
    "If, on the other hand, we did not wish to graph the function, and wish to find the domain we could use the method of solving polynomial inequalities:\n",
    "\n",
    "We know that the argument, in this case, $x-6$ needs to be positive. So we require $x-6 >0$. So we could just solve this inequality!"
   ]
  },
  {
   "cell_type": "markdown",
   "metadata": {
    "slideshow": {
     "slide_type": "fragment"
    }
   },
   "source": [
    "Since $x - 6 > 0$ is a linear inequality we can say that this inequality is true when $x - 6 \\color{blue}{+6} > 0 \\color{blue}{+6} \\Rightarrow x > 6$. So this inequality is satisfied for any $x$ in the interval $(6, \\infty)$.\n",
    "\n",
    "For the range, if we have a linear factor as our argument, we will always have $(-\\infty, \\infty)$.\n",
    "\n",
    "To identify <em>all</em> asymptotes, we set the argument equal to zero and solve."
   ]
  },
  {
   "cell_type": "markdown",
   "metadata": {
    "slideshow": {
     "slide_type": "slide"
    }
   },
   "source": [
    "##### Example:\n",
    "\n",
    "Find the domain, range, and asymptote of $g(x) = \\text{log}_5 (x+3) + 4$."
   ]
  },
  {
   "cell_type": "markdown",
   "metadata": {
    "slideshow": {
     "slide_type": "fragment"
    }
   },
   "source": [
    "##### Solution:\n",
    "\n",
    "The argument for $g(x)$ is linear $\\Rightarrow$ the <em><b>range</b></em> is $(-\\infty,\\infty)$.\n",
    "\n",
    "The argument must be postive: $x+3 > 0 \\Rightarrow x >-3 \\Rightarrow$ the <em><b>domain</b></em> is $(-3,\\infty)$.\n",
    "\n",
    "If we set the argument equal to zero: $x+3 = 0 \\Rightarrow x=-3$. So the <em><b>vertical asymptote</b></em> is $x = -3$."
   ]
  },
  {
   "cell_type": "markdown",
   "metadata": {
    "slideshow": {
     "slide_type": "slide"
    }
   },
   "source": [
    "##### Example:\n",
    "\n",
    "Find the domain, range, and asymptote of $g(x) = \\text{log}_5 (-2x+6)$."
   ]
  },
  {
   "cell_type": "markdown",
   "metadata": {
    "slideshow": {
     "slide_type": "fragment"
    }
   },
   "source": [
    "##### Solution:\n",
    "\n",
    "Solving the inequality (finding domain):\n",
    "\n",
    "\\begin{eqnarray}\n",
    "-2x+6 & > & 0 \\\\\n",
    "-2x+6 \\color{blue}{-6} & > & 0 \\color{blue}{-6} \\\\\n",
    "-2x & > & -6 \\\\\n",
    "\\frac{-2x}{\\color{blue}{-2}} & > & \\frac{-6}{\\color{blue}{-2}} \\\\\n",
    "x & \\color{blue}{<} & 3\n",
    "\\end{eqnarray}\n",
    "\n",
    "<em><b>Domain</b></em>: $(-\\infty,3)$\n",
    "\n",
    "Our argument is a linear factor $\\Rightarrow$ <em><b>Range</b></em>: $(-\\infty,\\infty)$\n",
    "\n",
    "<em><b>Vertical Asymptote</b></em>: $x = 3$"
   ]
  },
  {
   "cell_type": "markdown",
   "metadata": {
    "slideshow": {
     "slide_type": "slide"
    }
   },
   "source": [
    "##### Example:\n",
    "\n",
    "Find the domain and asymptote(s) of $g(x) = \\text{log}_2 (x^2-4)$."
   ]
  },
  {
   "cell_type": "markdown",
   "metadata": {
    "slideshow": {
     "slide_type": "fragment"
    }
   },
   "source": [
    "##### Solution:\n",
    "\n",
    "Here we are <em>only</em> looking for the domain and the asymptotes (the range is a bit trickier as we have more exotic arguments).\n",
    "\n",
    "To find the domain:\n",
    "\n",
    "\\begin{eqnarray}\n",
    "x^2 - 4 & > & 0 \\\\\n",
    "\\color{blue}{(x+2)(x-2)} & > & 0 \\\\\n",
    "\\end{eqnarray}\n",
    "\n",
    "So $f(x) = (x+2)(x-2)$ and boundary numbers are $x = -2$ and $x = 2$. So possible test numbers might be $x = -3$, $x = 0$, and $x = 3$.\n",
    "\n",
    "$f(-3) = 5 > 0$ $\\color{green}{\\checkmark}$\n",
    "\n",
    "$f(0) = -4 < 0$ $\\color{red}{\\times}$\n",
    "\n",
    "$f(3) = 5 > 0$ $\\color{green}{\\checkmark}$\n",
    "\n",
    "<em><b>Domain</b></em>: $(-\\infty,-2) \\cup (2,\\infty)$\n",
    "\n",
    "If we use equality instead we get the vertical asymptotes:\n",
    "\n",
    "<em><b>Vertical asymptotes</b></em>: $x = -2$ and $x = 2$"
   ]
  },
  {
   "cell_type": "markdown",
   "metadata": {
    "slideshow": {
     "slide_type": "fragment"
    }
   },
   "source": [
    "If we did wish to find the range...we might consider using software to graph and go from there:"
   ]
  },
  {
   "cell_type": "code",
   "execution_count": 15,
   "metadata": {
    "slideshow": {
     "slide_type": "fragment"
    }
   },
   "outputs": [
    {
     "data": {
      "text/plain": [
       "<matplotlib.legend.Legend at 0x226418e0288>"
      ]
     },
     "execution_count": 15,
     "metadata": {},
     "output_type": "execute_result"
    },
    {
     "data": {
      "image/png": "[encoded data removed]",
      "text/plain": [
       "<Figure size 1080x720 with 1 Axes>"
      ]
     },
     "metadata": {
      "needs_background": "light"
     },
     "output_type": "display_data"
    }
   ],
   "source": [
    "def g(x):\n",
    "    return np.log(x**2-4) / np.log(3)\n",
    "\n",
    "xmin1 = -10\n",
    "xmax1 = -2.000001\n",
    "\n",
    "xmin2 = 2.0000001\n",
    "xmax2 = 10\n",
    "\n",
    "ymin = -10\n",
    "ymax = 10\n",
    "\n",
    "x1 = np.arange(xmin1,xmax1+.1,.1)\n",
    "y1 = g(x1)\n",
    "\n",
    "x2 = np.arange(xmin2,xmax2+.1,.1)\n",
    "y2 = g(x2)\n",
    "\n",
    "fig, ax = plt.subplots(figsize=(15,10))\n",
    "ax.plot(x1,y1,color='blue',label='$g(x)$')\n",
    "ax.plot(x2,y2,color='blue')\n",
    "ax.axvline(x=2,ymin=0,ymax=1,color='red',linestyle='--') ##### ASYMPTOTE\n",
    "ax.axvline(x=-2,ymin=0,ymax=1,color='red',linestyle='--') ##### ASYMPTOTE\n",
    "ax.axvline(x=0,ymin=0,ymax=1,color='k') ##### Y-AXIS\n",
    "ax.axhline(y=0,xmin=0,xmax=1,color='k') ##### X-AXIS\n",
    "ax.set_xticks(np.arange(xmin1,xmax2+1,1))\n",
    "ax.set_yticks(np.arange(ymin,ymax+1,1))\n",
    "ax.grid()\n",
    "ax.set_title('Logarithmic Function')\n",
    "ax.set_xlabel('$x$')\n",
    "ax.set_ylabel('$y$')\n",
    "ax.set_xlim(xmin1,xmax2)\n",
    "ax.set_ylim(ymin,ymax)\n",
    "ax.legend()"
   ]
  },
  {
   "cell_type": "markdown",
   "metadata": {
    "slideshow": {
     "slide_type": "slide"
    }
   },
   "source": [
    "##### Example:\n",
    "\n",
    "Find the domain and asymptote(s) of $g(x) = \\text{log}_3 (x^2+9)$."
   ]
  },
  {
   "cell_type": "markdown",
   "metadata": {
    "slideshow": {
     "slide_type": "fragment"
    }
   },
   "source": [
    "##### Solution:\n",
    "\n",
    "Find the domain:\n",
    "\n",
    "\\begin{eqnarray}\n",
    "x^2 + 9 & > & 0\n",
    "\\end{eqnarray}\n",
    "\n",
    "Since we have a <em>sum</em> of squares the expression on the left <em>does not</em> factor...\n",
    "\n",
    "If we set this expression equal to zero:\n",
    "\n",
    "\\begin{eqnarray}\n",
    "x^2+9 & = & 0 \\\\\n",
    "x^2 + 9 \\color{blue}{-9} & = & 0 \\color{blue}{-9} \\\\\n",
    "x^2 & = & -9 \\\\\n",
    "\\color{blue}{\\sqrt{x^2}} & = & \\color{blue}{\\pm \\sqrt{-9}} \\\\\n",
    "x & = & \\pm \\color{blue}{3i}\n",
    "\\end{eqnarray}"
   ]
  },
  {
   "cell_type": "markdown",
   "metadata": {
    "slideshow": {
     "slide_type": "fragment"
    }
   },
   "source": [
    "So we don't have any real numbers for which we have zero in our log argument... and if we plug in any real number we end up with a positive result which means <em>all</em> real numbers should work!\n",
    "\n",
    "<em><b>Domain</b></em>: $(-\\infty, \\infty)$\n",
    "\n",
    "This also means we have <em>no asymptotes</em>!"
   ]
  },
  {
   "cell_type": "markdown",
   "metadata": {
    "slideshow": {
     "slide_type": "fragment"
    }
   },
   "source": [
    "What is our range?\n",
    "\n",
    "Let's graph:"
   ]
  },
  {
   "cell_type": "code",
   "execution_count": 17,
   "metadata": {
    "slideshow": {
     "slide_type": "fragment"
    }
   },
   "outputs": [
    {
     "data": {
      "text/plain": [
       "(-10.0, 10.0)"
      ]
     },
     "execution_count": 17,
     "metadata": {},
     "output_type": "execute_result"
    },
    {
     "data": {
      "image/png": "[encoded data removed]",
      "text/plain": [
       "<Figure size 1080x720 with 1 Axes>"
      ]
     },
     "metadata": {
      "needs_background": "light"
     },
     "output_type": "display_data"
    }
   ],
   "source": [
    "def g(x):\n",
    "    return np.log(x**2+9) / np.log(3)\n",
    "\n",
    "xmin = -100\n",
    "xmax= 100\n",
    "\n",
    "ymin = -10\n",
    "ymax = 10\n",
    "\n",
    "x = np.arange(xmin,xmax+.1,.1)\n",
    "y = g(x)\n",
    "\n",
    "fig, ax = plt.subplots(figsize=(15,10))\n",
    "ax.plot(x,y,color='blue',label='$g(x)$')\n",
    "ax.axvline(x=0,ymin=0,ymax=1,color='red',linestyle='--') ##### ASYMPTOTE\n",
    "ax.axvline(x=0,ymin=0,ymax=1,color='k') ##### Y-AXIS\n",
    "ax.axhline(y=0,xmin=0,xmax=1,color='k') ##### X-AXIS\n",
    "ax.set_xticks(np.arange(xmin,xmax+1,20))\n",
    "ax.set_yticks(np.arange(ymin,ymax+1,1))\n",
    "ax.grid()\n",
    "ax.set_title('Logarithmic Function')\n",
    "ax.set_xlabel('$x$')\n",
    "ax.set_ylabel('$y$')\n",
    "ax.set_xlim(xmin,xmax)\n",
    "ax.set_ylim(ymin,ymax)"
   ]
  },
  {
   "cell_type": "markdown",
   "metadata": {
    "slideshow": {
     "slide_type": "slide"
    }
   },
   "source": [
    "##### Objective 7: Use Common and Natural Logarithms"
   ]
  },
  {
   "cell_type": "markdown",
   "metadata": {
    "slideshow": {
     "slide_type": "fragment"
    }
   },
   "source": [
    "##### Definitions:\n",
    "\n",
    "A logarithm with <em>base 10</em> is referred to as the <em><b>common log</b></em> (shorthand notation: $\\text{log} x$). A logarithm with <em>base $e$</em> is referred to as the <em><b>natural log</b></em> (shorthand notation: $\\text{ln} x$).\n",
    "\n",
    "<em><b>Common Log Notation</b></em>: $\\text{log}_{\\color{blue}{10}} x = \\text{log} x$\n",
    "\n",
    "<em><b>Natural Log Notation</b></em>: $\\text{log}_{\\color{blue}{e}} x = \\color{blue}{\\text{ln}} x$\n",
    "\n",
    "So whenever the base is \"missing\" in an expression the base is assumed to be $10$. Whenever we see \"ln\" instead of \"log\" in an expression the base is assumed to be the number $e \\approx 2.71828$."
   ]
  },
  {
   "cell_type": "markdown",
   "metadata": {
    "slideshow": {
     "slide_type": "fragment"
    }
   },
   "source": [
    "##### Example:\n",
    "\n",
    "Evaluate:\n",
    "\n",
    "1. $\\text{log}1000$\n",
    "2. $\\text{ln}e^6$\n",
    "3. $\\text{ln}1$\n",
    "4. $\\text{ln}e$\n",
    "5. $\\text{log}100$"
   ]
  },
  {
   "cell_type": "markdown",
   "metadata": {
    "slideshow": {
     "slide_type": "fragment"
    }
   },
   "source": [
    "##### Solution:\n",
    "\n",
    "1. $\\text{log}1000 = \\text{log}10^3 = \\log_{10} 10^3 = 3$\n",
    "2. $\\text{ln}e^6 = \\log_e e^6 = 6$\n",
    "3. $\\text{ln}1= \\log_e 1 = 0$\n",
    "4. $\\text{ln}e = \\log_e e^1= 1$\n",
    "5. $\\text{log}100 = \\text{log}10^2 = 2$"
   ]
  },
  {
   "cell_type": "markdown",
   "metadata": {
    "slideshow": {
     "slide_type": "slide"
    }
   },
   "source": [
    "##### End of Section"
   ]
  }
 ],
 "metadata": {
  "celltoolbar": "Slideshow",
  "kernelspec": {
   "display_name": "Python 3",
   "language": "python",
   "name": "python3"
  },
  "language_info": {
   "codemirror_mode": {
    "name": "ipython",
    "version": 3
   },
   "file_extension": ".py",
   "mimetype": "text/x-python",
   "name": "python",
   "nbconvert_exporter": "python",
   "pygments_lexer": "ipython3",
   "version": "3.7.4"
  },
  "rise": {
   "enable_chalkboard": true,
   "theme": "sky",
   "transition": "zoom"
  }
 },
 "nbformat": 4,
 "nbformat_minor": 2
}
