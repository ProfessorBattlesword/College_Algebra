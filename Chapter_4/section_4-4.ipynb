{
 "cells": [
  {
   "cell_type": "markdown",
   "metadata": {
    "slideshow": {
     "slide_type": "slide"
    }
   },
   "source": [
    "# Chapter 4: Exponential and Logarithmic Functions\n",
    "\n",
    "$\\require{\\cancel}$\n",
    "$\\require{\\xcancel}$"
   ]
  },
  {
   "cell_type": "markdown",
   "metadata": {
    "slideshow": {
     "slide_type": "slide"
    }
   },
   "source": [
    "### Section 4.4: Exponential and Logarithmic Equations"
   ]
  },
  {
   "cell_type": "markdown",
   "metadata": {
    "slideshow": {
     "slide_type": "fragment"
    }
   },
   "source": [
    "##### Objective 1: Using Common Bases to Solve Exponential Equations"
   ]
  },
  {
   "cell_type": "markdown",
   "metadata": {
    "slideshow": {
     "slide_type": "fragment"
    }
   },
   "source": [
    "##### Definition:\n",
    "\n",
    "An <em><b>exponential equation</b></em> is an equation containing a variable in an exponent."
   ]
  },
  {
   "cell_type": "markdown",
   "metadata": {
    "slideshow": {
     "slide_type": "fragment"
    }
   },
   "source": [
    "##### Note:\n",
    "\n",
    "If $b^M = b^N$, then $M=N$ (exponential functions are one-to-one)."
   ]
  },
  {
   "cell_type": "markdown",
   "metadata": {
    "slideshow": {
     "slide_type": "fragment"
    }
   },
   "source": [
    "##### Example:\n",
    "\n",
    "Solve: $2^{2x+1} = 4$."
   ]
  },
  {
   "cell_type": "markdown",
   "metadata": {
    "slideshow": {
     "slide_type": "fragment"
    }
   },
   "source": [
    "##### Solution:\n",
    "\n",
    "\\begin{eqnarray}\n",
    "2^{2x+1} & = & 4 \\\\\n",
    "2^{2x+1} & = & \\color{blue}{2^2} \\\\\n",
    "\\color{blue}{2x+1} & \\color{blue}{=} & \\color{blue}{2} \\\\\n",
    "2x +1 \\color{blue}{-1} & = & 2 \\color{blue}{-1} \\\\\n",
    "2x & = & 1 \\\\\n",
    "\\frac{2x}{\\color{blue}{2}} & = & \\frac{1}{\\color{blue}{2}}\n",
    "\\end{eqnarray}\n",
    "\n",
    "$\\boxed{x  =  \\frac{1}{2}}$"
   ]
  },
  {
   "cell_type": "markdown",
   "metadata": {
    "slideshow": {
     "slide_type": "slide"
    }
   },
   "source": [
    "##### Example:\n",
    "\n",
    "Solve: $4^{3-2x}=2$."
   ]
  },
  {
   "cell_type": "markdown",
   "metadata": {
    "slideshow": {
     "slide_type": "fragment"
    }
   },
   "source": [
    "##### Solution:\n",
    "\n",
    "\\begin{eqnarray}\n",
    "4^{3-2x} & = & 2 \\\\\n",
    "\\left(\\color{blue}{2^2}\\right)^{3-2x} & = & \\color{blue}{2^1} \\\\\n",
    "2^{\\color{blue}{2(3-2x)}} & = & 2^1 \\\\\n",
    "2^{\\color{blue}{6-4x}} & = & 2^1 \\\\\n",
    "\\color{blue}{6-4x} & \\color{blue}{=} & \\color{blue}{1} \\\\\n",
    "6\\color{blue}{-6} -4x & = & 1\\color{blue}{-6} \\\\\n",
    "-4x & = & -5 \\\\\n",
    "\\frac{-4x}{\\color{blue}{-4}} & = & \\frac{-5}{\\color{blue}{-4}}\n",
    "\\end{eqnarray}\n",
    "\n",
    "$\\boxed{x = \\frac{5}{4}}$"
   ]
  },
  {
   "cell_type": "markdown",
   "metadata": {
    "slideshow": {
     "slide_type": "slide"
    }
   },
   "source": [
    "##### Example:\n",
    "\n",
    "Solve: $8^{6+3x} = 4$."
   ]
  },
  {
   "cell_type": "markdown",
   "metadata": {
    "slideshow": {
     "slide_type": "fragment"
    }
   },
   "source": [
    "##### Solution:\n",
    "\n",
    "\\begin{eqnarray}\n",
    "8^{6+3x} & = & 4 \\\\\n",
    "\\left( \\color{blue}{2^3} \\right)^{6 + 3x} & = & \\color{blue}{2^2} \\\\\n",
    "2^{\\color{blue}{3(6+3x)}} & = & 2^2 \\\\\n",
    "2^{\\color{blue}{18 + 9x}} & = & 2^2 \\\\\n",
    "\\color{blue}{18 + 9x} & \\color{blue}{=} & \\color{blue}{2} \\\\\n",
    "18 - \\color{blue}{18} + 9x & = & 2 \\color{blue}{-18} \\\\\n",
    "9x & = & -16 \\\\\n",
    "\\frac{9x}{\\color{blue}{9}} & = & \\frac{-16}{\\color{blue}{9}}\n",
    "\\end{eqnarray}\n",
    "\n",
    "$\\boxed{x=-\\frac{16}{9}}$"
   ]
  },
  {
   "cell_type": "markdown",
   "metadata": {
    "slideshow": {
     "slide_type": "slide"
    }
   },
   "source": [
    "##### Example:\n",
    "\n",
    "Solve: $25^{2x} = 5^{x^2-12}$."
   ]
  },
  {
   "cell_type": "markdown",
   "metadata": {
    "slideshow": {
     "slide_type": "fragment"
    }
   },
   "source": [
    "##### Solution:\n",
    "\n",
    "\\begin{eqnarray}\n",
    "25^{2x} & = & 5^{x^2-12} \\\\\n",
    "\\left( \\color{blue}{5^2} \\right)^{2x} & = & 5^{x^2-12} \\\\\n",
    "5^{\\color{blue}{2(2x)}} & = & 5^{x^2-12} \\\\\n",
    "5^{\\color{blue}{4x}} & = & 5^{x^2-12} \\\\\n",
    "\\color{blue}{4x} & \\color{blue}{=} & \\color{blue}{x^2-12} \\\\\n",
    "4x & = & x^2-12 \\\\\n",
    "4x \\color{blue}{-4x} & = & x^2 \\color{blue}{-4x} -12 \\\\\n",
    "x^2 - 4x -12 & = & 0 \\\\\n",
    "\\color{blue}{(x+2)(x-6)} & = & 0\n",
    "\\end{eqnarray}\n",
    "\n",
    "$\\boxed{x=-2,x=6}$"
   ]
  },
  {
   "cell_type": "markdown",
   "metadata": {
    "slideshow": {
     "slide_type": "slide"
    }
   },
   "source": [
    "##### Example:\n",
    "\n",
    "Solve: $3^{x^3} = 81^x$."
   ]
  },
  {
   "cell_type": "markdown",
   "metadata": {
    "slideshow": {
     "slide_type": "fragment"
    }
   },
   "source": [
    "##### Solution:\n",
    "\n",
    "\\begin{eqnarray}\n",
    "3^{x^3} & = & 81^x \\\\\n",
    "3^{x^3} & = & \\left( \\color{blue}{3^4} \\right)^x \\\\\n",
    "3^{x^3} & = & 3^{\\color{blue}{4x}} \\\\\n",
    "\\color{blue}{x^3} & \\color{blue}{=} & \\color{blue}{4x} \\\\\n",
    "x^3 & = & 4x \\\\\n",
    "x^3 \\color{blue}{-4x} & = & 4x \\color{blue}{-4x} \\\\\n",
    "x^3 - 4x & = & 0 \\\\\n",
    "\\color{blue}{x}(x^2-4) & = & 0 \\\\\n",
    "x\\color{blue}{(x+2)(x-2)} & = & 0 \\\\\n",
    "\\end{eqnarray}\n",
    "\n",
    "$\\boxed{x=-2,x=0,x=2}$"
   ]
  },
  {
   "cell_type": "markdown",
   "metadata": {
    "slideshow": {
     "slide_type": "slide"
    }
   },
   "source": [
    "##### Example:\n",
    "\n",
    "Solve: $5^{1-2x}=\\frac{1}{5}$."
   ]
  },
  {
   "cell_type": "markdown",
   "metadata": {
    "slideshow": {
     "slide_type": "fragment"
    }
   },
   "source": [
    "##### Solution:\n",
    "\n",
    "\\begin{eqnarray}\n",
    "5^{1-2x} & = & \\frac{1}{5} \\\\\n",
    "5^{1-2x} & = & \\color{blue}{5^{-1}} \\\\\n",
    "\\color{blue}{1-2x} & \\color{blue}{=} & \\color{blue}{-1} \\\\\n",
    "1-2x & = & -1 \\\\\n",
    "1 \\color{blue}{-1} -2x & = & -1 \\color{blue}{-1} \\\\\n",
    "-2x & = & -2 \\\\\n",
    "\\frac{-2x}{\\color{blue}{-2}} & = & \\frac{-2}{\\color{blue}{-2}}\n",
    "\\end{eqnarray}\n",
    "\n",
    "$\\boxed{x=1}$"
   ]
  },
  {
   "cell_type": "markdown",
   "metadata": {
    "slideshow": {
     "slide_type": "slide"
    }
   },
   "source": [
    "##### Example:\n",
    "\n",
    "Solve: $3^{x^2-x} = 9$."
   ]
  },
  {
   "cell_type": "markdown",
   "metadata": {
    "slideshow": {
     "slide_type": "fragment"
    }
   },
   "source": [
    "##### Solution:\n",
    "\n",
    "\\begin{eqnarray}\n",
    "3^{x^2-x} & = & 9 \\\\\n",
    "3^{x^2-x} & = & \\color{blue}{3^2} \\\\\n",
    "\\color{blue}{x^2-x} & \\color{blue}{=} & \\color{blue}{2} \\\\\n",
    "x^2-x & = & 2 \\\\\n",
    "x^2 - x \\color{blue}{-2} & = & 2 \\color{blue}{-2} \\\\\n",
    "x^2 - x - 2 & = & 0 \\\\\n",
    "\\color{blue}{(x+1)(x-2)} & = & 0\n",
    "\\end{eqnarray}\n",
    "\n",
    "$\\boxed{x=-1, x=2}$"
   ]
  },
  {
   "cell_type": "markdown",
   "metadata": {
    "slideshow": {
     "slide_type": "slide"
    }
   },
   "source": [
    "##### Example:\n",
    "\n",
    "Solve: $16^{x+3/2}=\\sqrt{2}$."
   ]
  },
  {
   "cell_type": "markdown",
   "metadata": {
    "slideshow": {
     "slide_type": "fragment"
    }
   },
   "source": [
    "##### Solution:\n",
    "\n",
    "\\begin{eqnarray}\n",
    "16^{x+3/2} & = & \\sqrt{2} \\\\\n",
    "\\left( \\color{blue}{2^4} \\right)^{x+3/2} & = & 2^{\\color{blue}{1/2}} \\\\\n",
    "2^{\\color{blue}{4(x+3/2)}} & = & 2^{1/2} \\\\\n",
    "2^{\\color{blue}{4x+6}} & = & 2^{1/2} \\\\\n",
    "\\color{blue}{4x+6} & \\color{blue}{=} & \\color{blue}{\\frac{1}{2}} \\\\\n",
    "\\color{blue}{2\\cdot} \\left( 4x+6 \\right) & = & \\color{blue}{2\\cdot} \\left( \\frac{1}{2} \\right) \\\\\n",
    "8x + 12 & = & 1 \\\\\n",
    "8x + 12 \\color{blue}{-12} & = & 1 \\color{blue}{-12} \\\\\n",
    "8x & = & -11 \\\\\n",
    "\\frac{8x}{\\color{blue}{8}} & = & \\frac{-11}{\\color{blue}{8}}\n",
    "\\end{eqnarray}\n",
    "\n",
    "$\\boxed{x=\\frac{-11}{8}}$"
   ]
  },
  {
   "cell_type": "markdown",
   "metadata": {
    "slideshow": {
     "slide_type": "slide"
    }
   },
   "source": [
    "##### Example:\n",
    "\n",
    "Solve: $4^{x+3} = \\frac{1}{2^x}$."
   ]
  },
  {
   "cell_type": "markdown",
   "metadata": {
    "slideshow": {
     "slide_type": "fragment"
    }
   },
   "source": [
    "##### Solution:\n",
    "\n",
    "\\begin{eqnarray}\n",
    "4^{x+3} & = & \\frac{1}{2^x} \\\\\n",
    "\\left( \\color{blue}{2^2} \\right)^{x+3} & = & \\color{blue}{2^{-x}} \\\\\n",
    "2^{\\color{blue}{2(x+3)}} & = & 2^{-x} \\\\\n",
    "2^{\\color{blue}{2x+6}} & = & 2^{-x} \\\\\n",
    "2x+6 & = & -x \\\\\n",
    "2x \\color{blue}{+x} + 6 & = & -x \\color{blue}{+x} \\\\\n",
    "3x + 6 & = & 0 \\\\\n",
    "3x + 6 \\color{blue}{-6} & = & 0 \\color{blue}{-6} \\\\\n",
    "3x & = & -6 \\\\\n",
    "\\frac{3x}{\\color{blue}{3}} & = & \\frac{-6}{\\color{blue}{3}}\n",
    "\\end{eqnarray}\n",
    "\n",
    "$\\boxed{x=-2}$"
   ]
  },
  {
   "cell_type": "markdown",
   "metadata": {
    "slideshow": {
     "slide_type": "slide"
    }
   },
   "source": [
    "##### Example:\n",
    "\n",
    "Solve: $3^x \\cdot 3^{x+6} = 81$."
   ]
  },
  {
   "cell_type": "markdown",
   "metadata": {
    "slideshow": {
     "slide_type": "fragment"
    }
   },
   "source": [
    "##### Solution:\n",
    "\n",
    "\\begin{eqnarray}\n",
    "3^x \\cdot 3^{x+6} & = & 81 \\\\\n",
    "3^{\\color{blue}{x+(x+6)}} & = & \\color{blue}{3^4} \\\\\n",
    "3^{\\color{blue}{2x+6}} & = & 3^4 \\\\\n",
    "\\color{blue}{2x+6} & \\color{blue}{=} & \\color{blue}{4} \\\\\n",
    "2x + 6 & = & 4 \\\\\n",
    "2x + 6 \\color{blue}{-6} & = & 4 \\color{blue}{-6} \\\\\n",
    "2x & = & -2 \\\\\n",
    "\\frac{2x}{\\color{blue}{2}} & = & \\frac{-2}{\\color{blue}{2}}\n",
    "\\end{eqnarray}\n",
    "\n",
    "$\\boxed{x = -1}$"
   ]
  },
  {
   "cell_type": "markdown",
   "metadata": {
    "slideshow": {
     "slide_type": "slide"
    }
   },
   "source": [
    "##### Objective 2: Using Logarithms to Solve Exponential Equations"
   ]
  },
  {
   "cell_type": "markdown",
   "metadata": {
    "slideshow": {
     "slide_type": "fragment"
    }
   },
   "source": [
    "##### Note:\n",
    "\n",
    "For any equation whose sides are each positive, equality is preseved under the application of a logarithm (of the same base) to both sides."
   ]
  },
  {
   "cell_type": "markdown",
   "metadata": {
    "slideshow": {
     "slide_type": "fragment"
    }
   },
   "source": [
    "##### Example:\n",
    "\n",
    "Solve: $3^x = 29$."
   ]
  },
  {
   "cell_type": "markdown",
   "metadata": {
    "slideshow": {
     "slide_type": "fragment"
    }
   },
   "source": [
    "##### Solution:\n",
    "\n",
    "\\begin{eqnarray}\n",
    "3^x & = & 29 \\\\\n",
    "\\color{blue}{\\text{log}} \\, 3^x & = & \\color{blue}{\\text{log}} \\, 29 \\\\\n",
    "\\color{blue}{x} \\text{log} \\, 3 & = & \\text{log} \\, 29 \\\\\n",
    "\\frac{x\\text{log} \\, 3}{\\color{blue}{\\text{log} \\, 3}} & = & \\frac{\\text{log} \\, 29}{\\color{blue}{\\text{log} \\, 3}}\n",
    "\\end{eqnarray}\n",
    "\n",
    "$\\boxed{x = \\frac{\\text{log} \\, 29}{\\text{log} \\, 3} \\approx 3.0650}$"
   ]
  },
  {
   "cell_type": "markdown",
   "metadata": {
    "slideshow": {
     "slide_type": "slide"
    }
   },
   "source": [
    "##### Example:\n",
    "\n",
    "Solve: $2^{3x+5}=36$."
   ]
  },
  {
   "cell_type": "markdown",
   "metadata": {
    "slideshow": {
     "slide_type": "fragment"
    }
   },
   "source": [
    "##### Solution:\n",
    "\n",
    "\\begin{eqnarray}\n",
    "2^{3x+5} & = & 36 \\\\\n",
    "\\color{blue}{\\text{log}} \\, 2^{3x+5} & = & \\color{blue}{\\text{log}} \\, 36 \\\\\n",
    "\\color{blue}{(3x+5)}\\text{log} \\, 2 & = & \\text{log} \\, 36 \\\\\n",
    "\\color{blue}{3x\\text{log} \\, 2 + 5\\text{log} \\, 2} & = & \\text{log} \\, 36 \\\\\n",
    "3x\\text{log} \\, 2 + 5 \\text{log} \\, 2 \\color{blue}{-5\\text{log} \\, 2} & = & \\text{log} \\, 36 \\color{blue}{-5\\text{log} \\, 2} \\\\\n",
    "3x\\text{log} \\, 2 & = & \\text{log} \\, 36 - 5\\text{log} \\, 2 \\\\\n",
    "\\frac{3x\\text{log} \\, 2}{\\color{blue}{3\\text{log} \\, 2}} & = & \\frac{\\text{log} \\, 36 - 5\\text{log} \\, 2}{\\color{blue}{3\\text{log} \\, 2}}\n",
    "\\end{eqnarray}\n",
    "\n",
    "$\\boxed{x = \\frac{\\text{log} \\, 36 - 5\\text{log} \\, 2}{3\\text{log} \\, 2} \\approx 0.0566}$"
   ]
  },
  {
   "cell_type": "markdown",
   "metadata": {
    "slideshow": {
     "slide_type": "slide"
    }
   },
   "source": [
    "##### Example:\n",
    "\n",
    "Solve: $e^{7-5x}=1197$."
   ]
  },
  {
   "cell_type": "markdown",
   "metadata": {
    "slideshow": {
     "slide_type": "fragment"
    }
   },
   "source": [
    "##### Solution:\n",
    "\n",
    "\\begin{eqnarray}\n",
    "e^{7-5x} & = & 1197 \\\\\n",
    "\\color{blue}{\\text{ln}} \\, e^{7-5x} & = & \\color{blue}{\\text{ln}} \\, 1197 \\\\\n",
    "\\color{blue}{7-5x} & = & \\text{ln} \\, 1197 \\\\\n",
    "7 - 5x & = & \\text{ln} \\, 1197 \\\\\n",
    "7 \\color{blue}{-7} - 5x & = & \\text{ln} \\, (1197) \\color{blue}{-7} \\\\\n",
    "-5x & = & -7 + \\text{ln} \\, 1197 \\\\\n",
    "\\frac{-5x}{\\color{blue}{-5}} & = & \\frac{-7+\\text{ln} \\, 1197}{\\color{blue}{-5}}\n",
    "\\end{eqnarray}\n",
    "\n",
    "$\\boxed{x = \\frac{-7 + \\text{ln} \\, 1197}{-5} \\approx -0.0175}$"
   ]
  },
  {
   "cell_type": "markdown",
   "metadata": {
    "slideshow": {
     "slide_type": "slide"
    }
   },
   "source": [
    "##### Example:\n",
    "\n",
    "Solve: $2e^{5x}=1070$."
   ]
  },
  {
   "cell_type": "markdown",
   "metadata": {
    "slideshow": {
     "slide_type": "fragment"
    }
   },
   "source": [
    "##### Solution:\n",
    "\n",
    "\\begin{eqnarray}\n",
    "2e^{5x} & = & 1070 \\\\\n",
    "\\frac{2e^{5x}}{\\color{blue}{2}} & = & \\frac{1070}{\\color{blue}{2}} \\\\\n",
    "e^{5x} & = & 535 \\\\\n",
    "\\color{blue}{\\text{ln}} \\, e^{5x} & = & \\color{blue}{\\text{ln}} \\, 535 \\\\\n",
    "\\color{blue}{5x} & = & \\text{ln} \\, 535 \\\\\n",
    "\\frac{5x}{\\color{blue}{5}} & = & \\frac{\\text{ln} \\, 535}{\\color{blue}{5}}\n",
    "\\end{eqnarray}\n",
    "\n",
    "$\\boxed{x = \\frac{\\text{ln} \\, 535}{5} \\approx 1.2565}$"
   ]
  },
  {
   "cell_type": "markdown",
   "metadata": {
    "slideshow": {
     "slide_type": "slide"
    }
   },
   "source": [
    "##### Example:\n",
    "\n",
    "Solve: $6^{x+2}=49$."
   ]
  },
  {
   "cell_type": "markdown",
   "metadata": {
    "slideshow": {
     "slide_type": "fragment"
    }
   },
   "source": [
    "##### Solution:\n",
    "\n",
    "\\begin{eqnarray}\n",
    "6^{x+2} & = & 49 \\\\\n",
    "\\color{blue}{\\text{log}} \\, 6^{x+2} & = & \\color{blue}{\\text{log}} \\, 49 \\\\\n",
    "\\color{blue}{(x+2)}\\text{log} \\, 6 & = & \\text{log} \\, 49 \\\\\n",
    "\\color{blue}{x\\text{log} \\, 6 + 2\\text{log} \\, 6} & = & \\text{log} \\, 49 \\\\\n",
    "x\\text{log} \\, 6 + 2\\text{log} \\, 6 \\color{blue}{-2\\text{log} \\, 6} & = & \\text{log} \\, 49 \\color{blue}{-2\\text{log} \\, 6} \\\\\n",
    "x\\text{log} \\, 6 & = & \\text{log} \\, 49 - 2\\text{log} \\, 6 \\\\\n",
    "\\frac{x\\text{log} \\, 6}{\\color{blue}{\\text{log} \\, 6}} & = & \\frac{\\text{log} \\, 49 - 2\\text{log} \\, 6}{\\color{blue}{\\text{log} \\, 6}}\n",
    "\\end{eqnarray}\n",
    "\n",
    "$\\boxed{x = \\frac{\\text{log} \\, 49 - 2\\text{log} \\, 6}{\\text{log} \\, 6} \\approx 0.1721}$"
   ]
  },
  {
   "cell_type": "markdown",
   "metadata": {
    "slideshow": {
     "slide_type": "slide"
    }
   },
   "source": [
    "##### Example:\n",
    "\n",
    "Solve: $4^{2x+4}=50$."
   ]
  },
  {
   "cell_type": "markdown",
   "metadata": {
    "slideshow": {
     "slide_type": "fragment"
    }
   },
   "source": [
    "##### Solution:\n",
    "\n",
    "\\begin{eqnarray}\n",
    "4^{2x+4} & = & 50 \\\\\n",
    "\\color{blue}{\\text{log}} \\, 4^{2x + 4} & = & \\color{blue}{\\text{log}} \\, 50 \\\\\n",
    "\\color{blue}{(2x+4)}\\text{log} \\, 4 & = & \\text{log} \\, 50 \\\\\n",
    "\\color{blue}{2x\\text{log} \\, 4 + 4\\text{log} \\, 4} & = & \\text{log} \\, 50 \\\\\n",
    "2x\\text{log} \\, 4 + 4\\text{log} \\, 4 \\color{blue}{-4\\text{log} \\, 4} & = & \\text{log} \\, 50 \\color{blue}{-4\\text{log} \\, 4} \\\\\n",
    "2x\\text{log} \\, 4 & = & \\text{log} \\, 50 -4\\text{log} \\, 4 \\\\\n",
    "\\frac{2x\\text{log} \\, 4}{\\color{blue}{2\\text{log} \\, 4}} & = & \\frac{\\text{log} \\, 50 - 4\\text{log} \\, 4}{\\color{blue}{2\\text{log} \\, 4}}\n",
    "\\end{eqnarray}\n",
    "\n",
    "$\\boxed{x = \\frac{\\text{log} \\, 50 - 4\\text{log} \\, 4}{2\\text{log} \\, 4} \\approx -0.5890}$"
   ]
  },
  {
   "cell_type": "markdown",
   "metadata": {
    "slideshow": {
     "slide_type": "slide"
    }
   },
   "source": [
    "##### Objective 3: Using Exponential Form to Solve Logarithmic Equations"
   ]
  },
  {
   "cell_type": "markdown",
   "metadata": {
    "slideshow": {
     "slide_type": "fragment"
    }
   },
   "source": [
    "##### Definition:\n",
    "\n",
    "A <em><b>logarithmic equation</b></em> is an equation containing a variable in a logarithmic expression."
   ]
  },
  {
   "cell_type": "markdown",
   "metadata": {
    "slideshow": {
     "slide_type": "fragment"
    }
   },
   "source": [
    "##### Note:\n",
    "\n",
    "When solving an equation that contains a logarithmic expression from the start, we need to consider its domain and check answers once the solving is done."
   ]
  },
  {
   "cell_type": "markdown",
   "metadata": {
    "slideshow": {
     "slide_type": "fragment"
    }
   },
   "source": [
    "##### Example:\n",
    "\n",
    "Solve: $\\text{log}_3x=4$."
   ]
  },
  {
   "cell_type": "markdown",
   "metadata": {
    "slideshow": {
     "slide_type": "fragment"
    }
   },
   "source": [
    "##### Solution:\n",
    "\n",
    "\\begin{eqnarray}\n",
    "\\text{log}_3 x & = & 4 \\\\\n",
    "\\color{blue}{3}^{\\text{log}_3 x} & = & \\color{blue}{3}^{4} \\\\\n",
    "\\color{blue}{x} & = & \\color{blue}{81}\n",
    "\\end{eqnarray}\n",
    "\n",
    "$\\boxed{x = 81} \\, \\checkmark$"
   ]
  },
  {
   "cell_type": "markdown",
   "metadata": {
    "slideshow": {
     "slide_type": "slide"
    }
   },
   "source": [
    "##### Example:\n",
    "\n",
    "Solve: $\\text{ln} \\, (3x+4)$ = 6."
   ]
  },
  {
   "cell_type": "markdown",
   "metadata": {
    "slideshow": {
     "slide_type": "fragment"
    }
   },
   "source": [
    "##### Solution:\n",
    "\n",
    "\\begin{eqnarray}\n",
    "\\text{ln} \\, (3x+4) & = & 6 \\\\\n",
    "\\color{blue}{e}^{\\text{ln} \\, (3x+4)} & = & \\color{blue}{e}^{6} \\\\\n",
    "\\color{blue}{3x+4} & = & e^{6} \\\\\n",
    "3x + 4 \\color{blue}{-4} & = & e^6 \\color{blue}{-4} \\\\\n",
    "3x & = & e^6 - 4 \\\\\n",
    "\\frac{3x}{\\color{blue}{3}} & = & \\frac{e^6 - 4}{\\color{blue}{3}}\n",
    "\\end{eqnarray}\n",
    "\n",
    "$\\boxed{x = \\frac{e^6 - 4}{3} \\approx 133.1429} \\, \\checkmark$"
   ]
  },
  {
   "cell_type": "markdown",
   "metadata": {
    "slideshow": {
     "slide_type": "slide"
    }
   },
   "source": [
    "##### Example:\n",
    "\n",
    "Solve: $\\text{log}_3 \\left( 10 \\sqrt[3]{x}+1 \\right) = 4$."
   ]
  },
  {
   "cell_type": "markdown",
   "metadata": {
    "slideshow": {
     "slide_type": "fragment"
    }
   },
   "source": [
    "##### Solution:\n",
    "\n",
    "\\begin{eqnarray}\n",
    "\\text{log}_3 \\left( 10\\sqrt[3]{x} + 1 \\right) & = & 4 \\\\\n",
    "\\color{blue}{3}^{\\text{log}_3 \\left( 10\\sqrt[3]{x} + 1 \\right)} & = & \\color{blue}{3}^4 \\\\\n",
    "\\color{blued}{10\\sqrt[3]{x} + 1} & = & \\color{blue}{81} \\\\\n",
    "10\\sqrt[3]{x} + 1 \\color{blue}{-1} & = & 81 \\color{blue}{-1} \\\\\n",
    "10\\sqrt[3]{x} & = & 80 \\\\\n",
    "\\frac{10\\sqrt[3]{x}}{\\color{blue}{10}} & = & \\frac{80}{\\color{blue}{10}} \\\\\n",
    "\\sqrt[3]{x} & = & 8 \\\\\n",
    "\\left( \\sqrt[3]{x} \\right)^{\\color{blue}{3}} & = & 8^{\\color{blue}{3}}\n",
    "\\end{eqnarray}\n",
    "\n",
    "$\\boxed{x = 512} \\, \\checkmark$"
   ]
  },
  {
   "cell_type": "markdown",
   "metadata": {
    "slideshow": {
     "slide_type": "slide"
    }
   },
   "source": [
    "##### Example:\n",
    "\n",
    "Solve: $\\text{log}_2 (x^2+4) = 3$."
   ]
  },
  {
   "cell_type": "markdown",
   "metadata": {
    "slideshow": {
     "slide_type": "fragment"
    }
   },
   "source": [
    "##### Solution:\n",
    "\n",
    "\\begin{eqnarray}\n",
    "\\text{log}_2(x^2+4) & = & 3 \\\\\n",
    "\\color{blue}{2}^{\\text{log}_2(x^2+4)} & = & \\color{blue}{2}^{3} \\\\\n",
    "\\color{blue}{x^2 + 4} & = & \\color{blue}{8} \\\\\n",
    "x^2 + 4 \\color{blue}{-4} & = & 8 \\color{blue}{-4} \\\\\n",
    "x^2 & = & 4 \\\\\n",
    "\\color{blue}{\\sqrt{\\color{black}{x^2}}} & = & \\color{blue}{\\pm\\sqrt{\\color{black}{4}}}\n",
    "\\end{eqnarray}\n",
    "\n",
    "$\\boxed{x=-2} \\, \\checkmark$ or $\\boxed{x=2} \\, \\checkmark$"
   ]
  },
  {
   "cell_type": "markdown",
   "metadata": {
    "slideshow": {
     "slide_type": "slide"
    }
   },
   "source": [
    "##### Example:\n",
    "\n",
    "Solve: $\\text{log}_5 (x^2-2x+10) = 2$."
   ]
  },
  {
   "cell_type": "markdown",
   "metadata": {
    "slideshow": {
     "slide_type": "fragment"
    }
   },
   "source": [
    "##### Solution:\n",
    "\n",
    "\\begin{eqnarray}\n",
    "\\text{log}_5 (x^2 - 2x + 10) & = & 2 \\\\\n",
    "\\color{blue}{5}^{\\text{log}_5 (x^2 - 2x + 10)} & = & \\color{blue}{5}^2 \\\\\n",
    "\\color{blue}{x^2 - 2x + 10} & = & \\color{blue}{25} \\\\\n",
    "x^2 - 2x + 10 \\color{blue}{-25} & = & 25 \\color{blue}{-25} \\\\\n",
    "x^2 - 2x - 15 & = & 0 \\\\\n",
    "\\color{blue}{(x+3)(x-5)} & = & 0\n",
    "\\end{eqnarray}\n",
    "\n",
    "$\\boxed{x = -3} \\, \\checkmark$ or $\\boxed{x = 5} \\, \\checkmark$"
   ]
  },
  {
   "cell_type": "markdown",
   "metadata": {
    "slideshow": {
     "slide_type": "slide"
    }
   },
   "source": [
    "##### Example:\n",
    "\n",
    "Solve: $\\text{log}_6 (x+3) + \\text{log}_6 (x+4) = 1$."
   ]
  },
  {
   "cell_type": "markdown",
   "metadata": {
    "slideshow": {
     "slide_type": "fragment"
    }
   },
   "source": [
    "##### Solution:\n",
    "\n",
    "\\begin{eqnarray}\n",
    "\\text{log}_6 (x+3) + \\text{log}_6 (x+4) & = & 1 \\\\\n",
    "\\color{blue}{\\text{log}_6 (x+3)(x+4)} & = & 1 \\\\\n",
    "\\text{log}_6 \\color{blue}{x^2+7x+12} & = & 1 \\\\\n",
    "\\color{blue}{6}^{\\text{log}_6 x^2+7x+12} & = & \\color{blue}{6}^1 \\\\\n",
    "\\color{blue}{x^2+7x+12} & = & 6 \\\\\n",
    "x^2+7x+12 \\color{blue}{-6} & = & 6 \\color{blue}{-6} \\\\\n",
    "x^2 + 7x + 6 & = & 0 \\\\\n",
    "\\color{blue}{(x+1)(x+6)} & = & 0\n",
    "\\end{eqnarray}\n",
    "\n",
    "$\\boxed{x=-1} \\, \\checkmark$, but $\\boxed{\\require{\\xcancel} \\xcancel{x=-6}}$ ($-6$ is not part of original domain)"
   ]
  },
  {
   "cell_type": "markdown",
   "metadata": {
    "slideshow": {
     "slide_type": "slide"
    }
   },
   "source": [
    "##### Example:\n",
    "\n",
    "Solve: $\\text{log} \\, (x-3) = 1 - \\text{log} \\, x$."
   ]
  },
  {
   "cell_type": "markdown",
   "metadata": {
    "slideshow": {
     "slide_type": "fragment"
    }
   },
   "source": [
    "##### Solution:\n",
    "\n",
    "\\begin{eqnarray}\n",
    "\\text{log} \\, (x-3) & = & 1 - \\text{log} \\, x \\\\\n",
    "\\text{log} \\, (x-3) + \\color{blue}{\\text{log} \\, x} & = & 1 - \\text{log} \\, x \\color{blue}{+\\text{log} \\, x} \\\\\n",
    "\\text{log} \\, (x-3) + \\text{log} \\, x & = & 1 \\\\\n",
    "\\color{blue}{\\text{log} \\, x(x-3)} & = & 1 \\\\\n",
    "\\color{blue}{10}^{\\text{log} \\, x(x-3)} & = & \\color{blue}{10}^{1} \\\\\n",
    "\\color{blue}{x(x-3)} & = & 10 \\\\\n",
    "\\color{blue}{x^2 - 3x} & = & 10 \\\\\n",
    "x^2 - 3x \\color{blue}{-10} & = & 10 \\color{blue}{-10} \\\\\n",
    "x^2 - 3x - 10 & = & 0 \\\\\n",
    "\\color{blue}{(x-5)(x+2)} & = & 0\n",
    "\\end{eqnarray}\n",
    "\n",
    "$\\boxed{x = 5} \\, \\checkmark$, but $\\boxed{\\require{\\xcancel} \\xcancel{x = -2}}$ ($-2$ is not part of original domain)"
   ]
  },
  {
   "cell_type": "markdown",
   "metadata": {
    "slideshow": {
     "slide_type": "slide"
    }
   },
   "source": [
    "##### Example:\n",
    "\n",
    "Solve: $\\text{ln} \\, (x+1) = 1 + \\text{ln} \\, x$."
   ]
  },
  {
   "cell_type": "markdown",
   "metadata": {
    "slideshow": {
     "slide_type": "fragment"
    }
   },
   "source": [
    "##### Solution:\n",
    "\n",
    "\\begin{eqnarray}\n",
    "\\text{ln} \\, (x+1) & = & 1 + \\text{ln} \\, x \\\\\n",
    "\\text{ln} \\, (x+1) \\color{blue}{-\\text{ln} \\, x} & = & 1 + \\text{ln} \\, x \\color{blue}{-\\text{ln} \\, x} \\\\\n",
    "\\text{ln} \\, (x+1) - \\text{ln} \\, x & = & 1 \\\\\n",
    "\\color{blue}{\\text{ln} \\, \\frac{x+1}{x}} & = & 1 \\\\\n",
    "\\color{blue}{e}^{\\text{ln} \\, \\frac{x+1}{x}} & = & \\color{blue}{e}^{1} \\\\\n",
    "\\color{blue}{\\frac{x+1}{x}} & = & e \\\\\n",
    "\\color{blue}{x \\cdot} \\left( \\frac{x+1}{x} \\right) & = & \\color{blue}{x \\cdot} e \\\\\n",
    "x+1 & = & ex \\\\\n",
    "x \\color{blue}{-ex} + 1 & = & ex \\color{blue}{-ex} \\\\\n",
    "x - ex + 1 & = & 0 \\\\\n",
    "\\color{blue}{x}(1-e) + 1 & = & 0 \\\\\n",
    "(1-e)x + 1 \\color{blue}{-1} & = & 0 \\color{blue}{-1} \\\\\n",
    "(1-e)x & = & -1 \\\\\n",
    "\\frac{(1-e)x}{\\color{blue}{1-e}} & = & \\frac{-1}{\\color{blue}{1-e}}\n",
    "\\end{eqnarray}\n",
    "\n",
    "$\\boxed{x=-\\frac{1}{1-e} \\approx 0.5820} \\, \\checkmark$"
   ]
  },
  {
   "cell_type": "markdown",
   "metadata": {
    "slideshow": {
     "slide_type": "slide"
    }
   },
   "source": [
    "##### Example:\n",
    "\n",
    "Solve: $\\text{log}_x (2x+8) = 2$."
   ]
  },
  {
   "cell_type": "markdown",
   "metadata": {
    "slideshow": {
     "slide_type": "fragment"
    }
   },
   "source": [
    "##### Solution:\n",
    "\n",
    "\\begin{eqnarray}\n",
    "\\text{log}_x (2x+8) & = & 2 \\\\\n",
    "\\color{blue}{x}^{\\text{log}_x (2x+8)} & = & \\color{blue}{x}^{2} \\\\\n",
    "\\color{blue}{2x+8} & = & x^2 \\\\\n",
    "2x \\color{blue}{-2x} + 8 \\color{blue}{-8} & = & x^2 \\color{blue}{-2x-8} \\\\\n",
    "x^2 - 2x - 8 & = & 0 \\\\\n",
    "\\color{blue}{(x-4)(x+2)} & = & 0\n",
    "\\end{eqnarray}\n",
    "\n",
    "$\\boxed{x = 4} \\, \\checkmark$, but $\\boxed{\\require{\\xcancel} \\xcancel{x = -2}}$ (base can't be negative)"
   ]
  },
  {
   "cell_type": "markdown",
   "metadata": {
    "slideshow": {
     "slide_type": "slide"
    }
   },
   "source": [
    "##### Example:\n",
    "\n",
    "Solve: $\\text{log}_x (x+6) = 2$."
   ]
  },
  {
   "cell_type": "markdown",
   "metadata": {
    "slideshow": {
     "slide_type": "fragment"
    }
   },
   "source": [
    "##### Solution:\n",
    "\n",
    "\\begin{eqnarray}\n",
    "\\text{log}_x (x+6) & = & 2 \\\\\n",
    "\\color{blue}{x}^{\\text{log}_x (x+6)} & = & \\color{blue}{x}^2 \\\\\n",
    "\\color{blue}{x+6} & = & x^2 \\\\\n",
    "x \\color{blue}{-x} + 6 \\color{blue}{-6} & = & x^2 \\color{blue}{-x-6} \\\\\n",
    "x^2 - x - 6 & = & 0 \\\\\n",
    "\\color{blue}{(x+2)(x-3)} & = & 0\n",
    "\\end{eqnarray}\n",
    "\n",
    "$\\boxed{\\xcancel{x = -2}}$ (base can't be negative), but $\\boxed{x=3} \\, \\checkmark$"
   ]
  },
  {
   "cell_type": "markdown",
   "metadata": {
    "slideshow": {
     "slide_type": "slide"
    }
   },
   "source": [
    "##### Objective 4: Using the One-to-One Property of Logarithm to Solve Logarithmic Equations"
   ]
  },
  {
   "cell_type": "markdown",
   "metadata": {
    "slideshow": {
     "slide_type": "fragment"
    }
   },
   "source": [
    "##### Note:\n",
    "\n",
    "If $\\text{log}_b M = \\text{log}_b N$, then $M = N$ (logarithmic functions are one-to-one)."
   ]
  },
  {
   "cell_type": "markdown",
   "metadata": {
    "slideshow": {
     "slide_type": "fragment"
    }
   },
   "source": [
    "##### Example:\n",
    "\n",
    "Solve: $\\text{log}_5 (2x+3) = \\text{log}_5 3$."
   ]
  },
  {
   "cell_type": "markdown",
   "metadata": {
    "slideshow": {
     "slide_type": "fragment"
    }
   },
   "source": [
    "##### Solution:\n",
    "\n",
    "\\begin{eqnarray}\n",
    "\\text{log}_5 (2x+3) & = & \\text{log}_5 3 \\\\\n",
    "\\color{blue}{2x + 3} & = & \\color{blue}{3} \\\\\n",
    "2x + 3 \\color{blue}{-3} & = & 3 \\color{blue}{-3} \\\\\n",
    "2x & = & 0\n",
    "\\end{eqnarray}\n",
    "\n",
    "$\\boxed{x = 0} \\, \\checkmark$"
   ]
  },
  {
   "cell_type": "markdown",
   "metadata": {
    "slideshow": {
     "slide_type": "slide"
    }
   },
   "source": [
    "##### Example:\n",
    "\n",
    "Solve: $\\text{log}_6 (7x-12) = \\text{log}_6 x$."
   ]
  },
  {
   "cell_type": "markdown",
   "metadata": {
    "slideshow": {
     "slide_type": "fragment"
    }
   },
   "source": [
    "##### Solution:\n",
    "\n",
    "\\begin{eqnarray}\n",
    "\\text{log}_6 (7x-12) & = & \\text{log}_6 x \\\\\n",
    "\\color{blue}{7x - 12} & = & \\color{blue}{x} \\\\\n",
    "7x \\color{blue}{-x} -12 & = & x \\color{blue}{-x} \\\\\n",
    "6x - 12 & = & 0 \\\\\n",
    "6x - 12 \\color{blue}{+12} & = & 0 \\color{blue}{+12} \\\\\n",
    "6x & = & 12 \\\\\n",
    "\\frac{6x}{\\color{blue}{6}} & = & \\frac{12}{\\color{blue}{6}}\n",
    "\\end{eqnarray}\n",
    "\n",
    "$\\boxed{x=2} \\, \\checkmark$"
   ]
  },
  {
   "cell_type": "markdown",
   "metadata": {
    "slideshow": {
     "slide_type": "slide"
    }
   },
   "source": [
    "##### Example:\n",
    "\n",
    "Solve: $2\\text{log}_5 x = 3\\text{log}_5 4$."
   ]
  },
  {
   "cell_type": "markdown",
   "metadata": {
    "slideshow": {
     "slide_type": "fragment"
    }
   },
   "source": [
    "##### Solution:\n",
    "\n",
    "\\begin{eqnarray}\n",
    "2\\text{log}_5 x & = & 3 \\text{log}_5 4 \\\\\n",
    "\\text{log}_5 x^{\\color{blue}{2}} & = & \\text{log}_5 4^{\\color{blue}{3}} \\\\\n",
    "\\color{blue}{x^2} & = & \\color{blue}{64} \\\\\n",
    "x^2 & = & 64 \\\\\n",
    "\\color{blue}{\\sqrt{\\color{black}{x^2}}} & = & \\color{blue}{\\pm\\sqrt{\\color{black}{64}}}\n",
    "\\end{eqnarray}\n",
    "\n",
    "$\\boxed{\\xcancel{x = -8}}$ (not part of original domain), but $\\boxed{x = 8} \\, \\checkmark$"
   ]
  },
  {
   "cell_type": "markdown",
   "metadata": {
    "slideshow": {
     "slide_type": "slide"
    }
   },
   "source": [
    "##### Example:\n",
    "\n",
    "Solve: $\\text{log}_2 x - \\text{log}_2 (3x-1) = 0$."
   ]
  },
  {
   "cell_type": "markdown",
   "metadata": {
    "slideshow": {
     "slide_type": "fragment"
    }
   },
   "source": [
    "##### Solution:\n",
    "\n",
    "\\begin{eqnarray}\n",
    "\\text{log}_2 x - \\text{log}_2 (3x-1) & = & 0 \\\\\n",
    "\\text{log}_2 x - \\text{log}_2 (3x-1) \\color{blue}{+\\text{log}_2 (3x-1)} & = & 0 \\color{blue}{+\\text{log}_2 (3x-1)} \\\\\n",
    "\\text{log}_2 x & = & \\text{log}_2 (3x-1) \\\\\n",
    "\\color{blue}{x} & = & \\color{blue}{3x-1} \\\\\n",
    "x \\color{blue}{-x} & = & 3x \\color{blue}{-x} - 1 \\\\\n",
    "2x - 1 & = & 0 \\\\\n",
    "2x - 1 \\color{blue}{+1} & = & 0 \\color{blue}{+1} \\\\\n",
    "2x & = & 1 \\\\\n",
    "\\frac{2x}{\\color{blue}{2}} & = & \\frac{1}{\\color{blue}{2}}\n",
    "\\end{eqnarray}\n",
    "\n",
    "$\\boxed{x = \\frac{1}{2}} \\, \\checkmark$"
   ]
  },
  {
   "cell_type": "markdown",
   "metadata": {
    "slideshow": {
     "slide_type": "slide"
    }
   },
   "source": [
    "##### Example:\n",
    "\n",
    "Solve: $\\text{log}_b (3x+2) - \\text{log}_b (2x-3) = 0$."
   ]
  },
  {
   "cell_type": "markdown",
   "metadata": {
    "slideshow": {
     "slide_type": "fragment"
    }
   },
   "source": [
    "##### Solution:\n",
    "\n",
    "\\begin{eqnarray}\n",
    "\\log_b (3x+2) - \\log_b (2x-3) & = & 0 \\\\\n",
    "\\log_b (3x+2) - \\log_b (2x-3) \\color{blue}{+\\log_b (2x-3)} & = & 0 \\color{blue}{+\\log_b (2x-3)} \\\\\n",
    "\\log_b (3x+2) & = & \\log_b (2x-3) \\\\\n",
    "\\color{blue}{3x+2} & = & \\color{blue}{2x-3} \\\\\n",
    "3x \\color{blue}{-2x} + 2 & = & 2x \\color{blue}{-2x}-3 \\\\\n",
    "x + 2 & = & -3 \\\\\n",
    "x + 2 \\color{blue}{-2} & = & -3 \\color{blue}{-2} \\\\\n",
    "\\end{eqnarray}\n",
    "\n",
    "$\\boxed{\\xcancel{x=-5}}$ (not part of original domain) $\\Rightarrow$ <em><b>no solution</b></em>"
   ]
  },
  {
   "cell_type": "markdown",
   "metadata": {
    "slideshow": {
     "slide_type": "slide"
    }
   },
   "source": [
    "##### Example:\n",
    "\n",
    "Solve: $\\text{log}_2 (x+2) - \\text{log}_2 (5x+4) = \\text{log}_2 \\left( \\frac{1}{x} \\right)$."
   ]
  },
  {
   "cell_type": "markdown",
   "metadata": {
    "slideshow": {
     "slide_type": "fragment"
    }
   },
   "source": [
    "##### Solution:\n",
    "\n",
    "\\begin{eqnarray}\n",
    "\\log_2 (x+2) - \\log_2 (5x + 4) & = & \\log_2 \\left( \\frac{1}{x} \\right) \\\\\n",
    "\\color{blue}{\\log_2 \\frac{x+2}{5x+4}} & = & \\log_2 \\left(\\frac{1}{x}\\right) \\\\\n",
    "\\color{blue}{\\frac{x+2}{5x+4}} & = & \\color{blue}{\\frac{1}{x}} \\\\\n",
    "\\color{blue}{x(5x+4)\\cdot} \\left( \\frac{x+2}{5x+4} \\right) & = & \\color{blue}{x(5x+4)\\cdot} \\left( \\frac{1}{x} \\right) \\\\\n",
    "\\color{blue}{x\\cancel{(5x+4)}\\cdot} \\left( \\frac{x+2}{\\cancel{5x+4}} \\right) & = & \\color{blue}{\\cancel{x}(5x+4)\\cdot} \\left( \\frac{1}{\\cancel{x}} \\right) \\\\\n",
    "x(x+2) & = & 5x+4 \\\\\n",
    "\\color{blue}{x^2+2x} & = & 5x+4 \\\\\n",
    "x^2 + 2x \\color{blue}{-5x-4} & = & 5x \\color{blue}{-5x} + 4 \\color{blue}{-4} \\\\\n",
    "x^2 -3x - 4 & = & 0 \\\\\n",
    "\\color{blue}{(x-4)(x+1)} & = & 0\n",
    "\\end{eqnarray}\n",
    "\n",
    "$\\boxed{x = 4} \\, \\checkmark$ or $\\boxed{\\xcancel{x = -1}}$ ($-1$ not part of original domain)"
   ]
  },
  {
   "cell_type": "markdown",
   "metadata": {
    "slideshow": {
     "slide_type": "slide"
    }
   },
   "source": [
    "##### Example:\n",
    "\n",
    "Solve: $\\text{log}_6 3x - \\text{log}_6 (x+4) = 0$."
   ]
  },
  {
   "cell_type": "markdown",
   "metadata": {
    "slideshow": {
     "slide_type": "fragment"
    }
   },
   "source": [
    "##### Solution:\n",
    "\n",
    "\\begin{eqnarray}\n",
    "\\log_6 3x - \\log_6 (x+4) & = & 0 \\\\\n",
    "\\log_6 3x - \\log_6 (x+4) \\color{blue}{+\\log_6 (x+4)} & = & 0 \\color{blue}{+\\log_6 (x+4)} \\\\\n",
    "\\log_6 3x & = & \\log_6 (x+4) \\\\\n",
    "\\color{blue}{3x} & = & \\color{blue}{x+4} \\\\\n",
    "3x \\color{blue}{-x} & = & x \\color{blue}{-x} + 4 \\\\\n",
    "2x & = & 4 \\\\\n",
    "\\frac{2x}{\\color{blue}{2}} & = & \\frac{4}{\\color{blue}{2}}\n",
    "\\end{eqnarray}\n",
    "\n",
    "$\\boxed{x=2} \\, \\checkmark$"
   ]
  },
  {
   "cell_type": "markdown",
   "metadata": {
    "slideshow": {
     "slide_type": "slide"
    }
   },
   "source": [
    "##### Example:\n",
    "\n",
    "Solve: $\\log_5 (x+18) + \\log_5 (x-6) = 2\\log_5 x$."
   ]
  },
  {
   "cell_type": "markdown",
   "metadata": {
    "slideshow": {
     "slide_type": "fragment"
    }
   },
   "source": [
    "##### Solution:\n",
    "\n",
    "\\begin{eqnarray}\n",
    "\\log_5 (x+18) + \\log_5 (x-6) & = & 2\\log_5 x \\\\\n",
    "\\color{blue}{\\log_5 (x+18)(x-6)} & = & 2\\log_5 x \\\\\n",
    "\\log_5 (x^2 +12x - 108) & = & \\log_5 x^{\\color{blue}{2}} \\\\\n",
    "\\color{blue}{x^2 + 12x - 108} & = & \\color{blue}{x^2} \\\\\n",
    "x^2 \\color{blue}{-x^2} + 12x - 108 & = & x^2 \\color{blue}{-x^2} \\\\\n",
    "12x - 108 & = & 0 \\\\\n",
    "12x - 108 \\color{blue}{+108} & = & 0 \\color{blue}{+108} \\\\\n",
    "12x & = & 108 \\\\\n",
    "\\frac{12x}{\\color{blue}{12}} & = & \\frac{108}{\\color{blue}{12}}\n",
    "\\end{eqnarray}\n",
    "\n",
    "$\\boxed{x = 9} \\, \\checkmark$"
   ]
  },
  {
   "cell_type": "markdown",
   "metadata": {
    "slideshow": {
     "slide_type": "slide"
    }
   },
   "source": [
    "##### Example:\n",
    "\n",
    "Solve: $2\\text{ln} \\, (x+2) = 3\\text{ln} \\, 4$."
   ]
  },
  {
   "cell_type": "markdown",
   "metadata": {
    "slideshow": {
     "slide_type": "fragment"
    }
   },
   "source": [
    "##### Solution:\n",
    "\n",
    "\\begin{eqnarray}\n",
    "2 \\ln (x+2) & = & 3 \\ln 4 \\\\\n",
    "\\ln (x+2)^{\\color{blue}{2}} & = & \\ln 4^{\\color{blue}{3}} \\\\\n",
    "\\ln \\color{blue}{(x^2+4x + 4)} & = & \\ln \\color{blue}{64} \\\\\n",
    "\\color{blue}{x^2 + 4x + 4} & = & \\color{blue}{64} \\\\\n",
    "x^2 + 4x + 4 \\color{blue}{-64} & = & 64 \\color{blue}{-64} \\\\\n",
    "x^2 + 4x - 60 & = & 0 \\\\\n",
    "\\color{blue}{(x-6)(x+10)} & = & 0\n",
    "\\end{eqnarray}\n",
    "\n",
    "$\\boxed{x=6} \\, \\checkmark$, but $\\boxed{\\xcancel{x = -10}}$ ($-10$ not part of original domain)"
   ]
  },
  {
   "cell_type": "markdown",
   "metadata": {
    "slideshow": {
     "slide_type": "slide"
    }
   },
   "source": [
    "##### End of Section"
   ]
  }
 ],
 "metadata": {
  "celltoolbar": "Slideshow",
  "kernelspec": {
   "display_name": "Python 3",
   "language": "python",
   "name": "python3"
  },
  "language_info": {
   "codemirror_mode": {
    "name": "ipython",
    "version": 3
   },
   "file_extension": ".py",
   "mimetype": "text/x-python",
   "name": "python",
   "nbconvert_exporter": "python",
   "pygments_lexer": "ipython3",
   "version": "3.7.4"
  },
  "rise": {
   "enable_chalkboard": true,
   "theme": "sky",
   "transition": "zoom"
  }
 },
 "nbformat": 4,
 "nbformat_minor": 2
}
