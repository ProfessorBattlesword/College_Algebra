{
 "cells": [
  {
   "cell_type": "markdown",
   "metadata": {
    "slideshow": {
     "slide_type": "slide"
    }
   },
   "source": [
    "# Chapter 3: Polynomial and Rational Functions"
   ]
  },
  {
   "cell_type": "markdown",
   "metadata": {
    "slideshow": {
     "slide_type": "slide"
    }
   },
   "source": [
    "### Section 3.3: Dividing Polynomials; Remainder and Factor Theorems\n",
    "\n",
    "##### Objective 1: Use long division to divide polynomials\n",
    "\n",
    "##### Objective 2: Use synthetic division to divide polynomials\n",
    "\n",
    "##### Objective 3: Evaluate a polynomial function using the Remainder Theorem\n",
    "\n",
    "##### Objective 4: Use the Factor Theorem to solve a polynomial equation"
   ]
  },
  {
   "cell_type": "markdown",
   "metadata": {
    "slideshow": {
     "slide_type": "slide"
    }
   },
   "source": [
    "##### Objective 1: Use long division to divide polynomials"
   ]
  },
  {
   "cell_type": "markdown",
   "metadata": {
    "slideshow": {
     "slide_type": "fragment"
    }
   },
   "source": [
    "##### Recall Definitions\n",
    "\n",
    "* The **dividend** is the polynomial that is to be divided by the other polynomial (in fraction form this is the numerator)\n",
    "    \n",
    "* The **divisor** is the polynomial that is to be divided into the other polynomial (in fraction form this is the denominator)\n",
    "\n",
    "* The **quotient** is the result\n",
    "    \n",
    "    * Example: $\\displaystyle \\overbrace{(x^2 - 4)}^{\\text{dividend}} \\div \\underbrace{(x + 2)}_{\\text{divisor}} = \\frac{x^2 - 4}{x + 2} = \\overbrace{x - 2}^{\\text{quotient}}$\n",
    "\n",
    "    * Expanded notation: $\\begin{array}{cc} & x - 2 \\\\ x + 2 & \\big|\\overline{x^2 - 4} \\end{array}$"
   ]
  },
  {
   "cell_type": "markdown",
   "metadata": {
    "slideshow": {
     "slide_type": "fragment"
    }
   },
   "source": [
    "##### Division of Polynomials: Long Division\n",
    "\n",
    "1. Arrange the terms of both the dividend and the divisor so that each are written in decending order (decreasing powers of the variable) and write using expanded notation\n",
    "\n",
    "2. Divide the first term in the dividend by the first term in the divisor to yield the first term of the quotient\n",
    "\n",
    "3. Multiply every term in the divisor by the first term in the quotient and write the resulting product beneath the dividend with like terms aligned\n",
    "\n",
    "4. Subtract the product found in step 3 from the dividend to yield the **remainder**\n",
    "\n",
    "5. Repeat steps 2 through 4 using the expression found in step 4 as the dividend\n",
    "\n",
    "6. When the remainder can no longer be divided by the first term of the divisor the process ends\n",
    "\n",
    "7. The division is written as the sum of the quotient and the remainder divided by the divisor"
   ]
  },
  {
   "cell_type": "markdown",
   "metadata": {
    "slideshow": {
     "slide_type": "fragment"
    }
   },
   "source": [
    "##### Example 1\n",
    "\n",
    "Divide using long division: $(15x^2 + 19x - 2) \\div (5x - 2)$.\n",
    "\n",
    "State the quotient, $q(x)$, and the remainder, $r(x)$."
   ]
  },
  {
   "cell_type": "markdown",
   "metadata": {
    "slideshow": {
     "slide_type": "fragment"
    }
   },
   "source": [
    "##### Solution:\n",
    "\n",
    "1. Both the dividend, $15x^2 + 19x - 2$, and the divisor, $5x - 2$, are already in decending order\n",
    "\n",
    "    * Writing in expanded form:\n",
    "\n",
    "$$\n",
    "    \\begin{array}{cc} 5x - 2 & \\big|\\overline{15x^2 + 19x - 2} \\end{array}\n",
    "$$"
   ]
  },
  {
   "cell_type": "markdown",
   "metadata": {
    "slideshow": {
     "slide_type": "fragment"
    }
   },
   "source": [
    "2. Dividing the first term in the dividend by the first term in the divisor: $\\dfrac{15x^2}{5x} = 3x$\n",
    "\n",
    "    * This yields the first term of the quotient:\n",
    "    \n",
    "$$\n",
    "    \\begin{array}{cc}\n",
    "    & \\begin{array}{ccccc} & & \\quad\\quad \\color{blue}{3x} & & \\end{array} \\\\\n",
    "    5x - 2 & \\big|\\overline{\n",
    "    \\begin{array}{ccccc}\n",
    "    15x^2 & + & 19x & - & 2\n",
    "    \\end{array}\n",
    "    }\n",
    "    \\end{array}\n",
    "$$"
   ]
  },
  {
   "cell_type": "markdown",
   "metadata": {
    "slideshow": {
     "slide_type": "fragment"
    }
   },
   "source": [
    "3. Multiplying every term in the divisor, $5x - 2$, by the term found in the quotient, $3x$, and writing the resulting product beneath the dividend:\n",
    "\n",
    "$$\n",
    "    \\begin{array}{ccccc}\n",
    "    & & & 3x & & \\\\\n",
    "    \\hline\n",
    "    5x - 2 & \\big|15x^2 & + & 19x & - & 2 \\\\\n",
    "    & \\color{blue}{15x^2} & \\color{blue}{-} & \\color{blue}{6x} &\n",
    "    \\end{array}\n",
    "$$"
   ]
  },
  {
   "cell_type": "markdown",
   "metadata": {
    "slideshow": {
     "slide_type": "fragment"
    }
   },
   "source": [
    "4. Subtracting:\n",
    "\n",
    "$$\n",
    "    \\begin{array}{ccccc}\n",
    "    & & & 3x & & \\\\\n",
    "    \\hline\n",
    "    5x - 2 & \\big|15x^2 & + & 19x & - & 2 \\\\\n",
    "    & \\color{blue}{-(}15x^2 & - & 6x\\color{blue}{)} & \\\\\n",
    "    \\hline\n",
    "    & & & \\color{blue}{25x} & \\color{blue}{-} & \\color{blue}{2}\n",
    "    \\end{array}\n",
    "$$"
   ]
  },
  {
   "cell_type": "markdown",
   "metadata": {
    "slideshow": {
     "slide_type": "fragment"
    }
   },
   "source": [
    "5. Our new dividend is $25x - 2$ (the remainder from step 4) which has leading term $25x$"
   ]
  },
  {
   "cell_type": "markdown",
   "metadata": {
    "slideshow": {
     "slide_type": "fragment"
    }
   },
   "source": [
    "* Repeating the process with this new dividend:\n",
    "    \n",
    "* $\\dfrac{25x}{5x} = 5 \\leftarrow$ place in quotient:\n",
    "\n",
    "$$\n",
    "    \\begin{array}{ccccc}\n",
    "    & & & 3x & \\color{blue}{+} & \\color{blue}{5} \\\\\n",
    "    \\hline\n",
    "    5x - 2 & \\big|15x^2 & + & 19x & - & 2 \\\\\n",
    "    & \\color{blue}{-(}15x^2 & - & 6x\\color{blue}{)} & \\\\\n",
    "    \\hline\n",
    "    & & & 25x & - & 2\n",
    "    \\end{array}\n",
    "$$"
   ]
  },
  {
   "cell_type": "markdown",
   "metadata": {
    "slideshow": {
     "slide_type": "fragment"
    }
   },
   "source": [
    "* Multiplying each term in the divisor, $5x - 2$, by $5$ and writing the result below the new dividend:\n",
    "\n",
    "$$\n",
    "    \\begin{array}{ccccc}\n",
    "    & & & 3x & + & 5 \\\\\n",
    "    \\hline\n",
    "    5x - 2 & \\big|15x^2 & + & 19x & - & 2 \\\\\n",
    "    & \\color{blue}{-(}15x^2 & - & 6x\\color{blue}{)} & \\\\\n",
    "    \\hline\n",
    "    & & & 25x & - & 2 \\\\\n",
    "    & & & \\color{blue}{25x} & \\color{blue}{-} & \\color{blue}{10}\n",
    "    \\end{array}\n",
    "$$"
   ]
  },
  {
   "cell_type": "markdown",
   "metadata": {
    "slideshow": {
     "slide_type": "fragment"
    }
   },
   "source": [
    "* Subtracting:\n",
    "\n",
    "$$\n",
    "    \\begin{array}{ccccc}\n",
    "    & & & 3x & + & 5 \\\\\n",
    "    \\hline\n",
    "    5x - 2 & \\big|15x^2 & + & 19x & - & 2 \\\\\n",
    "    & \\color{blue}{-(}15x^2 & - & 6x\\color{blue}{)} & \\\\\n",
    "    \\hline\n",
    "    & & & 25x & - & 2 \\\\\n",
    "    & & & \\color{blue}{-(}25x & - & 10\\color{blue}{)} \\\\\n",
    "    \\hline\n",
    "    & & & & & \\color{blue}{8}\n",
    "    \\end{array}\n",
    "$$"
   ]
  },
  {
   "cell_type": "markdown",
   "metadata": {
    "slideshow": {
     "slide_type": "fragment"
    }
   },
   "source": [
    "6. We cannot divide $5x$ (the leading term of the divisor) into the remainder of $8$ and therefore we stop the process"
   ]
  },
  {
   "cell_type": "markdown",
   "metadata": {
    "slideshow": {
     "slide_type": "fragment"
    }
   },
   "source": [
    "7. The quotient is $q(x) = 3x + 5$ and the remainder is $r(x) = 8$"
   ]
  },
  {
   "cell_type": "markdown",
   "metadata": {
    "slideshow": {
     "slide_type": "fragment"
    }
   },
   "source": [
    "* Therefore, the division is\n",
    "\n",
    "$$\n",
    "    (15x^2 + 19x - 2) \\div (5x - 2) = \\boxed{3x + 5 + \\frac{8}{5x - 2}}\n",
    "$$"
   ]
  },
  {
   "cell_type": "markdown",
   "metadata": {
    "slideshow": {
     "slide_type": "fragment"
    }
   },
   "source": [
    "##### Example 2\n",
    "\n",
    "Divide using long division: $(4x^4 - 3x^2 + 5x) \\div (x - 4)$.\n",
    "\n",
    "State the quotient, $q(x)$, and the remainder, $r(x)$."
   ]
  },
  {
   "cell_type": "markdown",
   "metadata": {
    "slideshow": {
     "slide_type": "fragment"
    }
   },
   "source": [
    "##### Solution:\n",
    "\n",
    "1. Both the dividend, $4x^4 - 3x^2 + 5x$, and the divisor, $x - 4$, are already in decending order\n",
    "\n",
    "    * Writing in expanded form:\n",
    "\n",
    "$$\n",
    "    \\begin{array}{cc} x - 4 & \\big|\\overline{4x^4 + 0x^3 - 3x^2 + 5x} \\end{array}\n",
    "$$"
   ]
  },
  {
   "cell_type": "markdown",
   "metadata": {
    "slideshow": {
     "slide_type": "fragment"
    }
   },
   "source": [
    "2. Dividing the first term in the dividend by the first term in the divisor: $\\dfrac{4x^4}{x} = 4x^3$\n",
    "\n",
    "    * This yields the first term of the quotient:\n",
    "    \n",
    "$$\n",
    "    \\begin{array}{cc}\n",
    "    & \\begin{array}{ccccccc} & \\color{blue}{4x^3} \\qquad\\qquad\\quad\\;\\; & & \\end{array} \\\\\n",
    "    x - 4 & \\big|\\overline{\n",
    "    \\begin{array}{ccccccc}\n",
    "    4x^4 & + & 0x^3 & - & 3x^2 & + & 5x & + & 0\n",
    "    \\end{array}\n",
    "    }\n",
    "    \\end{array}\n",
    "$$"
   ]
  },
  {
   "cell_type": "markdown",
   "metadata": {
    "slideshow": {
     "slide_type": "fragment"
    }
   },
   "source": [
    "3. Multiplying every term in the divisor, $x - 4$, by the term found in the quotient, $4x^3$, and writing the resulting product beneath the dividend:\n",
    "\n",
    "$$\n",
    "    \\begin{array}{ccccccccc}\n",
    "    & & & 4x^3 & & & & & & \\\\\n",
    "    \\hline\n",
    "    x - 4 & \\big|4x^4 & + & 0x^3 & - & 3x^2 & + & 5x & + & 0 \\\\\n",
    "    & \\color{blue}{4x^4} & \\color{blue}{-} & \\color{blue}{16x^3} & & & & & \\\\\n",
    "    \\end{array}\n",
    "$$"
   ]
  },
  {
   "cell_type": "markdown",
   "metadata": {
    "slideshow": {
     "slide_type": "fragment"
    }
   },
   "source": [
    "4. Subtracting:\n",
    "\n",
    "$$\n",
    "    \\begin{array}{ccccccccc}\n",
    "    & & & 4x^3 & & & & & & \\\\\n",
    "    \\hline\n",
    "    x - 4 & \\big|4x^4 & + & 0x^3 & - & 3x^2 & + & 5x & + & 0 \\\\\n",
    "    & \\color{blue}{-(}4x^4 & - & 16x^3\\color{blue}{)} & & & & & \\\\\n",
    "    \\hline\n",
    "    & &  & \\color{blue}{16x^3} & \\color{blue}{-} & \\color{blue}{3x^2} & \\color{blue}{+} & \\color{blue}{5x} & \\color{blue}{+} & \\color{blue}{0}\n",
    "    \\end{array}\n",
    "$$"
   ]
  },
  {
   "cell_type": "markdown",
   "metadata": {
    "slideshow": {
     "slide_type": "fragment"
    }
   },
   "source": [
    "5. Our new dividend is $16x^3 - 3x^2 + 5x$ (the remainder from step 4) which has leading term $16x^3$"
   ]
  },
  {
   "cell_type": "markdown",
   "metadata": {
    "slideshow": {
     "slide_type": "fragment"
    }
   },
   "source": [
    "* Repeating the process with this new dividend:\n",
    "    \n",
    "* $\\dfrac{16x^3}{x} = 16x^2 \\leftarrow$ place in quotient:\n",
    "        \n",
    "$$\n",
    "    \\begin{array}{ccccccccc}\n",
    "    & & & 4x^3 & \\color{blue}{+} & \\color{blue}{16x^2} & & & & \\\\\n",
    "    \\hline\n",
    "    x - 4 & \\big|4x^4 & + & 0x^3 & - & 3x^2 & + & 5x & + & 0 \\\\\n",
    "    & -(4x^4 & - & 16x^3) & & & & & \\\\\n",
    "    \\hline\n",
    "    & &  & 16x^3 & - & 3x^2 & + & 5x & + & 0\n",
    "    \\end{array}\n",
    "$$"
   ]
  },
  {
   "cell_type": "markdown",
   "metadata": {
    "slideshow": {
     "slide_type": "fragment"
    }
   },
   "source": [
    "* Multiplying each term in the divisor, $x - 4$, by $16x^2$ and writing the result below the new dividend:\n",
    "\n",
    "$$\n",
    "    \\begin{array}{ccccccccc}\n",
    "    & & & 4x^3 & + & 16x^2 & & & & \\\\\n",
    "    \\hline\n",
    "    x - 4 & \\big|4x^4 & + & 0x^3 & - & 3x^2 & + & 5x & + & 0 \\\\\n",
    "    & -(4x^4 & - & 16x^3) & & & & & \\\\\n",
    "    \\hline\n",
    "    & & & 16x^3 & - & 3x^2 & + & 5x & + & 0 \\\\\n",
    "    & & & \\color{blue}{16x^3} & \\color{blue}{-} & \\color{blue}{64x^2}\n",
    "    \\end{array}\n",
    "$$"
   ]
  },
  {
   "cell_type": "markdown",
   "metadata": {
    "slideshow": {
     "slide_type": "fragment"
    }
   },
   "source": [
    "* Subtracting:\n",
    "\n",
    "$$\n",
    "    \\begin{array}{ccccccccc}\n",
    "    & & & 4x^3 & + & 16x^2 & & & & \\\\\n",
    "    \\hline\n",
    "    x - 4 & \\big|4x^4 & + & 0x^3 & - & 3x^2 & + & 5x & + & 0 \\\\\n",
    "    & -(4x^4 & - & 16x^3) & & & & & \\\\\n",
    "    \\hline\n",
    "    & & & 16x^3 & - & 3x^2 & + & 5x & + & 0 \\\\\n",
    "    & & & \\color{blue}{-(}16x^3 & - & 64x^2\\color{blue}{)} \\\\\n",
    "    \\hline\n",
    "    & & & & & \\color{blue}{61x^2} & \\color{blue}{+} & \\color{blue}{5x} & \\color{blue}{+} & \\color{blue}{0}\n",
    "    \\end{array}\n",
    "$$"
   ]
  },
  {
   "cell_type": "markdown",
   "metadata": {
    "slideshow": {
     "slide_type": "fragment"
    }
   },
   "source": [
    "* Our new dividend is $61x^2 + 5x$ (which is the remainder in blue just above) which has leading term $61x^2$"
   ]
  },
  {
   "cell_type": "markdown",
   "metadata": {
    "slideshow": {
     "slide_type": "fragment"
    }
   },
   "source": [
    "* Dividing the new leading term by the leading term in the divisor: $\\dfrac{61x^2}{x} = 61x \\leftarrow$ place in quotient:\n",
    "\n",
    "$$\n",
    "    \\begin{array}{ccccccccc}\n",
    "    & & & 4x^3 & + & 12x^2 & \\color{blue}{+} & \\color{blue}{61x} & & \\\\\n",
    "    \\hline\n",
    "    x - 4 & \\big|4x^4 & + & 0x^3 & - & 3x^2 & + & 5x & + & 0 \\\\\n",
    "    & -(4x^4 & - & 16x^3) & & & & & \\\\\n",
    "    \\hline\n",
    "    & & & 16x^3 & - & 3x^2 & + & 5x & + & 0 \\\\\n",
    "    & & & -(16x^3 & - & 64x^2) \\\\\n",
    "    \\hline\n",
    "    & & & & & 61x^2 & + & 5x & + & 0\n",
    "    \\end{array}\n",
    "$$"
   ]
  },
  {
   "cell_type": "markdown",
   "metadata": {
    "slideshow": {
     "slide_type": "fragment"
    }
   },
   "source": [
    "* Multiplying every term of the divisor, $x - 4$, by $45x$ and writing the result below:\n",
    "\n",
    "$$\n",
    "    \\begin{array}{ccccccccc}\n",
    "    & & & 4x^3 & + & 16x^2 & + & 61x & & \\\\\n",
    "    \\hline\n",
    "    x - 4 & \\big|4x^4 & + & 0x^3 & - & 3x^2 & + & 5x & + & 0 \\\\\n",
    "    & -(4x^4 & - & 16x^3) & & & & & \\\\\n",
    "    \\hline\n",
    "    & & & 16x^3 & - & 3x^2 & + & 5x & + & 0 \\\\\n",
    "    & & & -(16x^3 & - & 64x^2) \\\\\n",
    "    \\hline\n",
    "    & & & & & 61x^2 & + & 5x & + & 0 \\\\\n",
    "    & & & & & \\color{blue}{61x^2} & \\color{blue}{-} & \\color{blue}{244x}\n",
    "    \\end{array}\n",
    "$$"
   ]
  },
  {
   "cell_type": "markdown",
   "metadata": {
    "slideshow": {
     "slide_type": "fragment"
    }
   },
   "source": [
    "* Subtracting:\n",
    "\n",
    "$$\n",
    "    \\begin{array}{ccccccccc}\n",
    "    & & & 4x^3 & + & 16x^2 & + & 61x & & \\\\\n",
    "    \\hline\n",
    "    x - 4 & \\big|4x^4 & + & 0x^3 & - & 3x^2 & + & 5x & + & 0 \\\\\n",
    "    & -(4x^4 & - & 16x^3) & & & & & \\\\\n",
    "    \\hline\n",
    "    & & & 16x^3 & - & 3x^2 & + & 5x & + & 0 \\\\\n",
    "    & & & -(16x^3 & - & 64x^2) \\\\\n",
    "    \\hline\n",
    "    & & & & & 61x^2 & + & 5x & + & 0 \\\\\n",
    "    & & & & & \\color{blue}{-(}61x^2 & - & 244x\\color{blue}{)} \\\\\n",
    "    \\hline\n",
    "    & & & & & & & \\color{blue}{249x} & \\color{blue}{+} & \\color{blue}{0}\n",
    "    \\end{array}\n",
    "$$"
   ]
  },
  {
   "cell_type": "markdown",
   "metadata": {
    "slideshow": {
     "slide_type": "fragment"
    }
   },
   "source": [
    "* Our new dividend is $249x$"
   ]
  },
  {
   "cell_type": "markdown",
   "metadata": {
    "slideshow": {
     "slide_type": "fragment"
    }
   },
   "source": [
    "* We can divide this by the leading term of our divisor: $\\dfrac{249x}{x} = 249 \\leftarrow$ place in quotient:\n",
    "\n",
    "$$\n",
    "    \\begin{array}{ccccccccc}\n",
    "    & & & 4x^3 & + & 16x^2 & + & 61x & \\color{blue}{+} & \\color{blue}{249} \\\\\n",
    "    \\hline\n",
    "    x - 4 & \\big|4x^4 & + & 0x^3 & - & 3x^2 & + & 5x & + & 0 \\\\\n",
    "    & -(4x^4 & - & 16x^3) & & & & & \\\\\n",
    "    \\hline\n",
    "    & & & 16x^3 & - & 3x^2 & + & 5x & + & 0 \\\\\n",
    "    & & & -(16x^3 & - & 64x^2) \\\\\n",
    "    \\hline\n",
    "    & & & & & 61x^2 & + & 5x & + & 0 \\\\\n",
    "    & & & & & -(61x^2 & - & 244x) \\\\\n",
    "    \\hline\n",
    "    & & & & & & & 249x & + & 0\n",
    "    \\end{array}\n",
    "$$"
   ]
  },
  {
   "cell_type": "markdown",
   "metadata": {
    "slideshow": {
     "slide_type": "fragment"
    }
   },
   "source": [
    "* Multiplying every term of the divisor, $x - 4$, by $249$ and writing below:\n",
    "\n",
    "$$\n",
    "    \\begin{array}{ccccccccc}\n",
    "    & & & 4x^3 & + & 16x^2 & + & 61x & + & 249 \\\\\n",
    "    \\hline\n",
    "    x - 4 & \\big|4x^4 & + & 0x^3 & - & 3x^2 & + & 5x & + & 0 \\\\\n",
    "    & -(4x^4 & - & 16x^3) & & & & & \\\\\n",
    "    \\hline\n",
    "    & & & 16x^3 & - & 3x^2 & + & 5x & + & 0 \\\\\n",
    "    & & & -(16x^3 & - & 64x^2) \\\\\n",
    "    \\hline\n",
    "    & & & & & 61x^2 & + & 5x & + & 0 \\\\\n",
    "    & & & & & -(61x^2 & - & 244x) \\\\\n",
    "    \\hline\n",
    "    & & & & & & & 249x & + & 0 \\\\\n",
    "    & & & & & & & \\color{blue}{249x} & \\color{blue}{-} & \\color{blue}{996}\n",
    "    \\end{array}\n",
    "$$"
   ]
  },
  {
   "cell_type": "markdown",
   "metadata": {
    "slideshow": {
     "slide_type": "fragment"
    }
   },
   "source": [
    "* Subtracting:\n",
    "\n",
    "$$\n",
    "    \\begin{array}{ccccccccc}\n",
    "    & & & 4x^3 & + & 16x^2 & + & 61x & + & 249 \\\\\n",
    "    \\hline\n",
    "    x - 4 & \\big|4x^4 & + & 0x^3 & - & 3x^2 & + & 5x & + & 0 \\\\\n",
    "    & -(4x^4 & - & 16x^3) & & & & & \\\\\n",
    "    \\hline\n",
    "    & & & 16x^3 & - & 3x^2 & + & 5x & + & 0 \\\\\n",
    "    & & & -(16x^3 & - & 64x^2) \\\\\n",
    "    \\hline\n",
    "    & & & & & 61x^2 & + & 5x & + & 0 \\\\\n",
    "    & & & & & -(61x^2 & - & 244x) \\\\\n",
    "    \\hline\n",
    "    & & & & & & & 249x & + & 0 \\\\\n",
    "    & & & & & & & \\color{blue}{-(}249x & - & 996\\color{blue}{)} \\\\\n",
    "    \\hline\n",
    "    & & & & & & & & & \\color{blue}{996}\n",
    "    \\end{array}\n",
    "$$"
   ]
  },
  {
   "cell_type": "markdown",
   "metadata": {
    "slideshow": {
     "slide_type": "fragment"
    }
   },
   "source": [
    "6. We can no longer divide the first term of the divisor into the remainder and therefore we stop the procedure"
   ]
  },
  {
   "cell_type": "markdown",
   "metadata": {
    "slideshow": {
     "slide_type": "fragment"
    }
   },
   "source": [
    "7. The quotient is $q(x) = 4x^3 + 16x^2 + 61x + 249$ and the remainder is $r(x) = 996$"
   ]
  },
  {
   "cell_type": "markdown",
   "metadata": {
    "slideshow": {
     "slide_type": "fragment"
    }
   },
   "source": [
    "* Therefore, the final result of the division is\n",
    "\n",
    "$$\n",
    "    (4x^4 - 3x^2 + 5x) \\div (x - 4) = \\boxed{4x^3 + 16x^2 + 61x + 249 + \\frac{996}{x - 4}}\n",
    "$$"
   ]
  },
  {
   "cell_type": "markdown",
   "metadata": {
    "slideshow": {
     "slide_type": "fragment"
    }
   },
   "source": [
    "##### Example 3\n",
    "\n",
    "Divide using long division: $(x^3 - 3x^2 + 4x - 2) \\div (x - 1)$.\n",
    "\n",
    "State the quotient, $q(x)$, and the remainder, $r(x)$."
   ]
  },
  {
   "cell_type": "markdown",
   "metadata": {
    "slideshow": {
     "slide_type": "fragment"
    }
   },
   "source": [
    "##### Solution:\n",
    "\n",
    "1. Both the dividend, $x^3 - 3x^2 + 4x - 2$, and the divisor, $x - 1$, are already in decending order\n",
    "\n",
    "    * Writing in expanded form:\n",
    "\n",
    "$$\n",
    "    \\begin{array}{cc} x - 1 & \\big|\\overline{x^3 - 3x^2 + 4x - 2} \\end{array}\n",
    "$$"
   ]
  },
  {
   "cell_type": "markdown",
   "metadata": {
    "slideshow": {
     "slide_type": "fragment"
    }
   },
   "source": [
    "2. Dividing the first term in the dividend by the first term in the divisor: $\\dfrac{x^3}{x} = x^2$\n",
    "\n",
    "    * This yields the first term of the quotient:\n",
    "    \n",
    "$$\n",
    "    \\begin{array}{cc}\n",
    "    & \\begin{array}{ccccccc} & & \\color{blue}{x^2} \\;\\; & & & & \\end{array} \\\\\n",
    "    x - 1 & \\big|\\overline{\n",
    "    \\begin{array}{ccccccc}\n",
    "    x^3 & - & 3x^2 & + & 4x & - & 2\n",
    "    \\end{array}\n",
    "    }\n",
    "    \\end{array}\n",
    "$$"
   ]
  },
  {
   "cell_type": "markdown",
   "metadata": {
    "slideshow": {
     "slide_type": "fragment"
    }
   },
   "source": [
    "3. Multiplying every term in the divisor, $x - 1$, by the term found in the quotient, $x^2$, and writing the resulting product beneath the dividend:\n",
    "\n",
    "$$\n",
    "    \\begin{array}{cccccccc}\n",
    "    & & & x^2 & & & & \\\\\n",
    "    \\hline\n",
    "    x - 1 & \\big|x^3 & - & 3x^2 & + & 4x & - & 2 \\\\\n",
    "    & \\color{blue}{x^3} & \\color{blue}{-} & \\color{blue}{x^2} & & & & \\\\\n",
    "    \\end{array}\n",
    "$$"
   ]
  },
  {
   "cell_type": "markdown",
   "metadata": {
    "slideshow": {
     "slide_type": "fragment"
    }
   },
   "source": [
    "4. Subtracting:\n",
    "\n",
    "$$\n",
    "    \\begin{array}{cccccccc}\n",
    "    & & & x^2 & & & & \\\\\n",
    "    \\hline\n",
    "    x - 1 & \\big|x^3 & - & 3x^2 & + & 4x & - & 2 \\\\\n",
    "    & \\color{blue}{-(}x^3 & - & x^2\\color{blue}{)} & & & & \\\\\n",
    "    \\hline\n",
    "    & & \\color{blue}{-} & \\color{blue}{2x^2} & \\color{blue}{+} & \\color{blue}{4x} & \\color{blue}{-} & \\color{blue}{2} \n",
    "    \\end{array}\n",
    "$$"
   ]
  },
  {
   "cell_type": "markdown",
   "metadata": {
    "slideshow": {
     "slide_type": "fragment"
    }
   },
   "source": [
    "5. Our new dividend is $-2x^2 + 4x - 2$ (the remainder from step 4) which has leading term $-2x^2$"
   ]
  },
  {
   "cell_type": "markdown",
   "metadata": {
    "slideshow": {
     "slide_type": "fragment"
    }
   },
   "source": [
    "* Repeating the process with this new dividend:\n",
    "    \n",
    "* $\\dfrac{-2x^2}{x} = -2x \\leftarrow$ place in quotient:\n",
    "\n",
    "$$\n",
    "    \\begin{array}{cccccccc}\n",
    "    & & & x^2 & \\color{blue}{-} & \\color{blue}{2x} & & \\\\\n",
    "    \\hline\n",
    "    x - 1 & \\big|x^3 & - & 3x^2 & + & 4x & - & 2 \\\\\n",
    "    & -(x^3 & - & x^2) & & & & \\\\\n",
    "    \\hline\n",
    "    & & - & 2x^2 & + & 4x & - & 2 \n",
    "    \\end{array}\n",
    "$$"
   ]
  },
  {
   "cell_type": "markdown",
   "metadata": {
    "slideshow": {
     "slide_type": "fragment"
    }
   },
   "source": [
    "* Multiplying each term in the divisor, $x - 1$, by $-2x$ and writing the result below the new dividend:\n",
    "\n",
    "$$\n",
    "    \\begin{array}{cccccccc}\n",
    "    & & & x^2 & - & 2x & & \\\\\n",
    "    \\hline\n",
    "    x - 1 & \\big|x^3 & - & 3x^2 & + & 4x & - & 2 \\\\\n",
    "    & -(x^3 & - & x^2) & & & & \\\\\n",
    "    \\hline\n",
    "    & & - & 2x^2 & + & 4x & - & 2  \\\\\n",
    "    & & \\color{blue}{-} & \\color{blue}{2x^2} & \\color{blue}{+} & \\color{blue}{2x}\n",
    "    \\end{array}\n",
    "$$"
   ]
  },
  {
   "cell_type": "markdown",
   "metadata": {
    "slideshow": {
     "slide_type": "fragment"
    }
   },
   "source": [
    "* Subtracting:\n",
    "\n",
    "$$\n",
    "    \\begin{array}{cccccccc}\n",
    "    & & & x^2 & - & 2x & & \\\\\n",
    "    \\hline\n",
    "    x - 1 & \\big|x^3 & - & 3x^2 & + & 4x & - & 2 \\\\\n",
    "    & -(x^3 & - & x^2) & & & & \\\\\n",
    "    \\hline\n",
    "    & & - & 2x^2 & + & 4x & - & 2  \\\\\n",
    "    & & \\color{blue}{-(}- & 2x^2 & + & 2x\\color{blue}{)} \\\\\n",
    "    \\hline\n",
    "    & & & & & \\color{blue}{2x} & \\color{blue}{-} & \\color{blue}{2}\n",
    "    \\end{array}\n",
    "$$"
   ]
  },
  {
   "cell_type": "markdown",
   "metadata": {
    "slideshow": {
     "slide_type": "fragment"
    }
   },
   "source": [
    "* Our new dividend is $2x - 2$ (which is the remainder in blue just above) which has leading term $2x$"
   ]
  },
  {
   "cell_type": "markdown",
   "metadata": {
    "slideshow": {
     "slide_type": "fragment"
    }
   },
   "source": [
    "* Dividing the new leading term by the leading term in the divisor: $\\dfrac{2x}{x} = 2 \\leftarrow$ place in quotient:\n",
    "\n",
    "$$\n",
    "    \\begin{array}{cccccccc}\n",
    "    & & & x^2 & - & 2x & \\color{blue}{+} & \\color{blue}{2} \\\\\n",
    "    \\hline\n",
    "    x - 1 & \\big|x^3 & - & 3x^2 & + & 4x & - & 2 \\\\\n",
    "    & -(x^3 & - & x^2) & & & & \\\\\n",
    "    \\hline\n",
    "    & & - & 2x^2 & + & 4x & - & 2  \\\\\n",
    "    & & -(- & 2x^2 & + & 2x) \\\\\n",
    "    \\hline\n",
    "    & & & & & 2x & - & 2\n",
    "    \\end{array}\n",
    "$$"
   ]
  },
  {
   "cell_type": "markdown",
   "metadata": {
    "slideshow": {
     "slide_type": "fragment"
    }
   },
   "source": [
    "* Multiplying every term of the divisor, $x - 1$, by $2$ and writing the result below:\n",
    "\n",
    "$$\n",
    "    \\begin{array}{cccccccc}\n",
    "    & & & x^2 & - & 2x & \\color{blue}{+} & \\color{blue}{2} \\\\\n",
    "    \\hline\n",
    "    x - 1 & \\big|x^3 & - & 3x^2 & + & 4x & - & 2 \\\\\n",
    "    & -(x^3 & - & x^2) & & & & \\\\\n",
    "    \\hline\n",
    "    & & - & 2x^2 & + & 4x & - & 2  \\\\\n",
    "    & & -(- & 2x^2 & + & 2x) \\\\\n",
    "    \\hline\n",
    "    & & & & & 2x & - & 2 \\\\\n",
    "    & & & & & \\color{blue}{2x} & \\color{blue}{-} & \\color{blue}{2}\n",
    "    \\end{array}\n",
    "$$"
   ]
  },
  {
   "cell_type": "markdown",
   "metadata": {
    "slideshow": {
     "slide_type": "fragment"
    }
   },
   "source": [
    "* Subtracting:\n",
    "\n",
    "$$\n",
    "    \\begin{array}{cccccccc}\n",
    "    & & & x^2 & - & 2x & \\color{blue}{+} & \\color{blue}{2} \\\\\n",
    "    \\hline\n",
    "    x - 1 & \\big|x^3 & - & 3x^2 & + & 4x & - & 2 \\\\\n",
    "    & -(x^3 & - & x^2) & & & & \\\\\n",
    "    \\hline\n",
    "    & & - & 2x^2 & + & 4x & - & 2  \\\\\n",
    "    & & -(- & 2x^2 & + & 2x) \\\\\n",
    "    \\hline\n",
    "    & & & & & 2x & - & 2 \\\\\n",
    "    & & & & & \\color{blue}{-(}2x & - & 2\\color{blue}{)} \\\\\n",
    "    \\hline\n",
    "    & & & & & & & \\color{blue}{0}\n",
    "    \\end{array}\n",
    "$$"
   ]
  },
  {
   "cell_type": "markdown",
   "metadata": {
    "slideshow": {
     "slide_type": "fragment"
    }
   },
   "source": [
    "6. We can no longer divide the first term of the divisor into the remainder and therefore we stop the procedure"
   ]
  },
  {
   "cell_type": "markdown",
   "metadata": {
    "slideshow": {
     "slide_type": "fragment"
    }
   },
   "source": [
    "7. The quotient is $q(x) = x^2 - 2x + 2$ and the remainder is $r(x) = 0$"
   ]
  },
  {
   "cell_type": "markdown",
   "metadata": {
    "slideshow": {
     "slide_type": "fragment"
    }
   },
   "source": [
    "* Therefore, the final result of the division is\n",
    "\n",
    "$$\n",
    "    (x^3 - 3x^2 + 4x - 2) \\div (x - 1) = x^2 - 2x + 2 + \\frac{0}{x - 1} \\\\\n",
    "    \\Downarrow \\\\\n",
    "    (x^3 - 3x^2 + 4x - 2) \\div (x - 1) = \\boxed{x^2 - 2x + 2}\n",
    "$$"
   ]
  },
  {
   "cell_type": "markdown",
   "metadata": {
    "slideshow": {
     "slide_type": "slide"
    }
   },
   "source": [
    "##### Objective 2: Use synthetic division to divide polynomials"
   ]
  },
  {
   "cell_type": "markdown",
   "metadata": {
    "slideshow": {
     "slide_type": "fragment"
    }
   },
   "source": [
    "##### Division of Polynomials: Synthetic Division\n",
    "\n",
    "1. Arrange polynomial in descending order of powers, with $0$ coeffient for any missing term\n",
    "\n",
    "2. Write $c$ for the divisor, $x - c$, separated with a bar and to the right of the bar write the coefficints of the dividend\n",
    "\n",
    "3. Write the leading coefficient of the dividend on the bottom row\n",
    "\n",
    "4. Multiply $c$ with the value just written on the bottom row\n",
    "\n",
    "5. Add the values in this new column, writing the sum in the bottom row\n",
    "\n",
    "6. Repeat this series of multiplications and additions until all columns are filled in\n",
    "\n",
    "7. Use the numbers in the last row to write the quotient plus the remainder above the divisor\n",
    "\n",
    "8. The degree of the first time of the quotient is one less than the degree of the first term of the dividen"
   ]
  },
  {
   "cell_type": "markdown",
   "metadata": {
    "slideshow": {
     "slide_type": "fragment"
    }
   },
   "source": [
    "##### Example 4\n",
    "\n",
    "Divide using synthetic division: $(9x^2 - 4x - 6) \\div (x - 5)$"
   ]
  },
  {
   "cell_type": "markdown",
   "metadata": {
    "slideshow": {
     "slide_type": "fragment"
    }
   },
   "source": [
    "##### Solution:\n",
    "\n",
    "* The divisor is $x - 5$ \n",
    "\n",
    "* Setting this equal to zero and solving: $x - 5 = 0 \\Rightarrow x = 5$"
   ]
  },
  {
   "cell_type": "markdown",
   "metadata": {
    "slideshow": {
     "slide_type": "fragment"
    }
   },
   "source": [
    "* Synthetic division setup:\n",
    "\n",
    "$$\n",
    "\\begin{array}{c|ccc}\n",
    "    5 & 9 & -4 & -6 \\\\\n",
    "    \\hline\n",
    "\\end{array}\n",
    "$$"
   ]
  },
  {
   "cell_type": "markdown",
   "metadata": {
    "slideshow": {
     "slide_type": "fragment"
    }
   },
   "source": [
    "* Bring down the leading coefficient:\n",
    "\n",
    "$$\n",
    "\\begin{array}{c|ccc}\n",
    "    5 & 9 & -4 & -6 \\\\\n",
    "    \\hline\n",
    "    & & & \\\\\n",
    "    \\hline\n",
    "    & 9 & &\n",
    "\\end{array}\n",
    "$$"
   ]
  },
  {
   "cell_type": "markdown",
   "metadata": {
    "slideshow": {
     "slide_type": "fragment"
    }
   },
   "source": [
    "* Multiply the upper left number by the leading term that was brought down and write that result under the next term:\n",
    "\n",
    "$$\n",
    "\\begin{array}{c|ccc}\n",
    "    5 & 9 & -4 & -6 \\\\\n",
    "    \\hline\n",
    "    & & 45 & \\\\\n",
    "    \\hline\n",
    "    & 9 & &\n",
    "\\end{array}\n",
    "$$"
   ]
  },
  {
   "cell_type": "markdown",
   "metadata": {
    "slideshow": {
     "slide_type": "fragment"
    }
   },
   "source": [
    "* Now add the numbers and record the new result below after the $9$:\n",
    "\n",
    "$$\n",
    "\\begin{array}{c|ccc}\n",
    "    5 & 9 & -4 & -6 \\\\\n",
    "    \\hline\n",
    "    & & 45 & \\\\\n",
    "    \\hline\n",
    "    & 9 & 41 &\n",
    "\\end{array}\n",
    "$$"
   ]
  },
  {
   "cell_type": "markdown",
   "metadata": {
    "slideshow": {
     "slide_type": "fragment"
    }
   },
   "source": [
    "* Repeat the multiplication-addition process as before until the end:\n",
    "\n",
    "$$\n",
    "\\begin{array}{c|ccc}\n",
    "    5 & 9 & -4 & -6 \\\\\n",
    "    \\hline\n",
    "    & & 45 & 205 \\\\\n",
    "    \\hline\n",
    "    & 9 & 41 & 199\n",
    "\\end{array}\n",
    "$$"
   ]
  },
  {
   "cell_type": "markdown",
   "metadata": {
    "slideshow": {
     "slide_type": "fragment"
    }
   },
   "source": [
    "##### Example 5\n",
    "\n",
    "Divide using synthetic division: $(3x^3 - 6x + 4) \\div (x + 1)$."
   ]
  },
  {
   "cell_type": "markdown",
   "metadata": {
    "slideshow": {
     "slide_type": "fragment"
    }
   },
   "source": [
    "##### Solution:\n",
    "\n",
    "* The divisor is $x + 1$ \n",
    "\n",
    "* Setting this equal to zero and solving: $x + 1 = 0 \\Rightarrow x = -1$"
   ]
  },
  {
   "cell_type": "markdown",
   "metadata": {
    "slideshow": {
     "slide_type": "fragment"
    }
   },
   "source": [
    "* Synthetic division setup:\n",
    "\n",
    "$$\n",
    "\\begin{array}{c|ccccc}\n",
    "    & x^3 & x^2 & x & \\text{const} \\\\\n",
    "    -1 & 3 & 0 & -6 & 4 \\\\\n",
    "    \\hline\n",
    "\\end{array}\n",
    "$$"
   ]
  },
  {
   "cell_type": "markdown",
   "metadata": {
    "slideshow": {
     "slide_type": "fragment"
    }
   },
   "source": [
    "* Bring down the leading coefficient:\n",
    "\n",
    "$$\n",
    "\\begin{array}{c|cccccc}\n",
    "    & x^3 & x^2 & x & \\text{const} \\\\\n",
    "    -1 & 3 & 0 & -6 & 4 \\\\\n",
    "    \\hline\n",
    "    & & & & \\\\\n",
    "    \\hline\n",
    "    & 3 & & &\n",
    "\\end{array}\n",
    "$$"
   ]
  },
  {
   "cell_type": "markdown",
   "metadata": {
    "slideshow": {
     "slide_type": "fragment"
    }
   },
   "source": [
    "* Multiply the upper left number by the leading term that was brought down and write that result under the next term:\n",
    "\n",
    "$$\n",
    "\\begin{array}{c|cccccc}\n",
    "    & x^3 & x^2 & x & \\text{const} \\\\\n",
    "    -1 & 3 & 0 & -6 & 4 \\\\\n",
    "    \\hline\n",
    "    & & -3 & & \\\\\n",
    "    \\hline\n",
    "    & 3 & & &\n",
    "\\end{array}\n",
    "$$"
   ]
  },
  {
   "cell_type": "markdown",
   "metadata": {
    "slideshow": {
     "slide_type": "fragment"
    }
   },
   "source": [
    "* Now add the numbers and record the new result below after the $9$:\n",
    "\n",
    "$$\n",
    "\\begin{array}{c|cccccc}\n",
    "    & x^3 & x^2 & x & \\text{const} \\\\\n",
    "    -1 & 3 & 0 & -6 & 4 \\\\\n",
    "    \\hline\n",
    "    & & -3 & & \\\\\n",
    "    \\hline\n",
    "    & 3 & -3 & &\n",
    "\\end{array}\n",
    "$$"
   ]
  },
  {
   "cell_type": "markdown",
   "metadata": {
    "slideshow": {
     "slide_type": "fragment"
    }
   },
   "source": [
    "* Repeat the multiplication-addition process as before until the end:\n",
    "\n",
    "$$\n",
    "\\begin{array}{c|cccccc}\n",
    "    & x^3 & x^2 & x & \\text{const} \\\\\n",
    "    -1 & 3 & 0 & -6 & 4 \\\\\n",
    "    \\hline\n",
    "    & & -3 & 3 & 3 \\\\\n",
    "    \\hline\n",
    "    & 3 & -3 & -3 & 7\n",
    "\\end{array}\n",
    "$$"
   ]
  },
  {
   "cell_type": "markdown",
   "metadata": {
    "slideshow": {
     "slide_type": "fragment"
    }
   },
   "source": [
    "* Interpreting the result:\n",
    "\n",
    "$$\n",
    "\\begin{array}{c|cccccc}\n",
    "    & x^3 & x^2 & x & \\text{const} \\\\\n",
    "    -1 & 3 & 0 & -6 & 4 \\\\\n",
    "    \\hline\n",
    "    & & -3 & 3 & 3 \\\\\n",
    "    \\hline\n",
    "    & \\underbrace{3}_{3 \\cdot x^2} & \\underbrace{-3}_{-3 \\cdot x} & \\underbrace{-3}_{\\text{const}} & \\underbrace{7}_{\\text{remainder}}\n",
    "\\end{array}\n",
    "$$"
   ]
  },
  {
   "cell_type": "markdown",
   "metadata": {
    "slideshow": {
     "slide_type": "fragment"
    }
   },
   "source": [
    "* Therefore, the result of the division is $3x^2 - 3x - 3 + \\dfrac{7}{x + 1}$"
   ]
  },
  {
   "cell_type": "markdown",
   "metadata": {
    "slideshow": {
     "slide_type": "fragment"
    }
   },
   "source": [
    "##### Example 6\n",
    "\n",
    "Divide using synthetic division: $\\dfrac{x^5 - x^4 + x^3 - 2x^2 + 3x - 6}{x + 1}$"
   ]
  },
  {
   "cell_type": "markdown",
   "metadata": {
    "slideshow": {
     "slide_type": "fragment"
    }
   },
   "source": [
    "##### Solution:\n",
    "\n",
    "* The divisor is $x + 1$ \n",
    "\n",
    "* Setting this equal to zero and solving: $x + 1 = 0 \\Rightarrow x = -1$"
   ]
  },
  {
   "cell_type": "markdown",
   "metadata": {},
   "source": [
    "* Synthetic division setup:\n",
    "\n",
    "$$\n",
    "\\begin{array}{c|cccccc}\n",
    "    & x^5 & x^4 & x^3 & x^2 & x & \\text{const} \\\\\n",
    "    -1 & 1 & -1 & 1 & -2 & 3 & -6 \\\\\n",
    "    \\hline\n",
    "\\end{array}\n",
    "$$"
   ]
  },
  {
   "cell_type": "markdown",
   "metadata": {
    "slideshow": {
     "slide_type": "fragment"
    }
   },
   "source": [
    "* Bring down the leading coefficient:\n",
    "\n",
    "$$\n",
    "\\begin{array}{c|cccccc}\n",
    "    & x^5 & x^4 & x^3 & x^2 & x & \\text{const} \\\\\n",
    "    -1 & 1 & -1 & 1 & -2 & 3 & -6 \\\\\n",
    "    \\hline\n",
    "    & & & & & & &\\\\\n",
    "    \\hline\n",
    "    & 1 & & & & &\n",
    "\\end{array}\n",
    "$$"
   ]
  },
  {
   "cell_type": "markdown",
   "metadata": {
    "slideshow": {
     "slide_type": "fragment"
    }
   },
   "source": [
    "* Multiply the upper left number by the leading term that was brought down and write that result under the next term:\n",
    "\n",
    "$$\n",
    "\\begin{array}{c|cccccc}\n",
    "    & x^5 & x^4 & x^3 & x^2 & x & \\text{const} \\\\\n",
    "    -1 & 1 & -1 & 1 & -2 & 3 & -6 \\\\\n",
    "    \\hline\n",
    "    & & -1 & & & & &\\\\\n",
    "    \\hline\n",
    "    & 1 & & & & &\n",
    "\\end{array}\n",
    "$$"
   ]
  },
  {
   "cell_type": "markdown",
   "metadata": {
    "slideshow": {
     "slide_type": "fragment"
    }
   },
   "source": [
    "* Now add the numbers and record the new result below after the $9$:\n",
    "\n",
    "$$\n",
    "\\begin{array}{c|cccccc}\n",
    "& x^5 & x^4 & x^3 & x^2 & x & \\text{const} \\\\\n",
    "    -1 & 1 & -1 & 1 & -2 & 3 & -6 \\\\\n",
    "    \\hline\n",
    "    & & 1 & & & & &\\\\\n",
    "    \\hline\n",
    "    & 1 & -2 & & & &\n",
    "\\end{array}\n",
    "$$"
   ]
  },
  {
   "cell_type": "markdown",
   "metadata": {
    "slideshow": {
     "slide_type": "fragment"
    }
   },
   "source": [
    "* Repeat the multiplication-addition process as before until the end:\n",
    "\n",
    "$$\n",
    "\\begin{array}{c|cccccc}\n",
    "    & x^5 & x^4 & x^3 & x^2 & x & \\text{const} \\\\\n",
    "    -1 & 1 & -1 & 1 & -2 & 3 & -6 \\\\\n",
    "    \\hline\n",
    "    & & -1 & 2 & -3 & 5 & -8 \\\\\n",
    "    \\hline\n",
    "    & 1 & -2 & 3 & -5 & 8 & -14\n",
    "\\end{array}\n",
    "$$"
   ]
  },
  {
   "cell_type": "markdown",
   "metadata": {
    "slideshow": {
     "slide_type": "fragment"
    }
   },
   "source": [
    "* Interpreting the result:\n",
    "\n",
    "$$\n",
    "\\begin{array}{c|cccccc}\n",
    "& x^5 & x^4 & x^3 & x^2 & x & \\text{const} \\\\\n",
    "    -1 & 1 & -1 & 1 & -2 & 3 & -6 \\\\\n",
    "    \\hline\n",
    "    & & -1 & 2 & -3 & 5 & -8 \\\\\n",
    "    \\hline\n",
    "    & \\underbrace{1}_{1 \\cdot x^4} & \\underbrace{-2}_{-2 \\cdot x^3} & \\underbrace{3}_{3 \\cdot x^2} & \\underbrace{-5}_{-5 \\cdot x} & \\underbrace{8}_{\\text{constant}} & \\underbrace{-14}_{\\text{remainder}}\n",
    "\\end{array}\n",
    "$$"
   ]
  },
  {
   "cell_type": "markdown",
   "metadata": {
    "slideshow": {
     "slide_type": "fragment"
    }
   },
   "source": [
    "* Therefore, the result of the division is\n",
    "$$\n",
    "    x^4 - 2x^3 + 3x^2 - 5x + 8 + \\dfrac{-14}{x + 1}\n",
    "$$"
   ]
  },
  {
   "cell_type": "markdown",
   "metadata": {
    "slideshow": {
     "slide_type": "slide"
    }
   },
   "source": [
    "##### Objective 3: Evaluate a polynomial function using the Remainder Theorem"
   ]
  },
  {
   "cell_type": "markdown",
   "metadata": {
    "slideshow": {
     "slide_type": "fragment"
    }
   },
   "source": [
    "##### The Remainder Theorem\n",
    "\n",
    "If the polynomial $f(x)$ is divided by $x - c$, then the remainder is $f(c)$."
   ]
  },
  {
   "cell_type": "markdown",
   "metadata": {
    "slideshow": {
     "slide_type": "fragment"
    }
   },
   "source": [
    "##### Example 7\n",
    "\n",
    "Use synthetic division and the remainder theorem to find $f(-1)$ when $f(x) = 3x^3 + x^2 + 2$."
   ]
  },
  {
   "cell_type": "markdown",
   "metadata": {
    "slideshow": {
     "slide_type": "fragment"
    }
   },
   "source": [
    "##### Solution:\n",
    "\n",
    "* Using synthetic division with $x = -1$:\n",
    "\n",
    "$$\n",
    "\\begin{array}{c|cccc}\n",
    "    & x^3 & x^2 & x & \\text{const} \\\\\n",
    "    -1 & 3 & 1 & 0 & 2 \\\\\n",
    "    \\hline\n",
    "    & & -3 & 2 & -2 \\\\\n",
    "    \\hline\n",
    "    & 3 & -2 & 2 & 0 \\\\\n",
    "    & x^2 & x & \\text{const} & \\text{remainder}\n",
    "\\end{array}\n",
    "$$"
   ]
  },
  {
   "cell_type": "markdown",
   "metadata": {
    "slideshow": {
     "slide_type": "fragment"
    }
   },
   "source": [
    "* The remainder is equal to $0$ and therefore by the Remainder Theorem $f(-1) = 0$"
   ]
  },
  {
   "cell_type": "markdown",
   "metadata": {
    "slideshow": {
     "slide_type": "fragment"
    }
   },
   "source": [
    "##### Example 8\n",
    "\n",
    "Use the remainder theorem to find $f(4)$ for the function $f(x) = x^2 + 2x - 7$."
   ]
  },
  {
   "cell_type": "markdown",
   "metadata": {
    "slideshow": {
     "slide_type": "fragment"
    }
   },
   "source": [
    "##### Solution:\n",
    "\n",
    "* Using synthetic division with $x = 4$:\n",
    "\n",
    "$$\n",
    "\\begin{array}{c|cccc}\n",
    "    & x^2 & x & \\text{const} \\\\\n",
    "    4 & 1 & 2 & -7 \\\\\n",
    "    \\hline\n",
    "    & & 4 & 24 \\\\\n",
    "    \\hline\n",
    "    & 1 & 6 & 17 \\\\\n",
    "    & x & \\text{const} & \\text{remainder}\n",
    "\\end{array}\n",
    "$$"
   ]
  },
  {
   "cell_type": "markdown",
   "metadata": {
    "slideshow": {
     "slide_type": "fragment"
    }
   },
   "source": [
    "* The remainder is equal to $17$ and therefore by the Remainder Theorem $f(4) = 17$"
   ]
  },
  {
   "cell_type": "markdown",
   "metadata": {
    "slideshow": {
     "slide_type": "slide"
    }
   },
   "source": [
    "##### Objective 4: Use the Factor Theorem to solve a polynomial equation"
   ]
  },
  {
   "cell_type": "markdown",
   "metadata": {
    "slideshow": {
     "slide_type": "fragment"
    }
   },
   "source": [
    "##### The Factor Theorem\n",
    "\n",
    "Let $f(x)$ be a polynomial.\n",
    "\n",
    "1. If $f(c) = 0$, then $x - c$ is a factor of $f(x)$\n",
    "\n",
    "2. If $x - c$ is a factor of $f(x)$, then $f(c) = 0$"
   ]
  },
  {
   "cell_type": "markdown",
   "metadata": {
    "slideshow": {
     "slide_type": "fragment"
    }
   },
   "source": [
    "##### Example 9\n",
    "\n",
    "Solve the equation $12x^3 + x^2 - \\dfrac{9}{2}x - 1 = 0$ given that $-\\dfrac{1}{2}$ is a zero of $f(x) = 12x^3 + x^2 - \\dfrac{9}{2}x - 1$."
   ]
  },
  {
   "cell_type": "markdown",
   "metadata": {
    "slideshow": {
     "slide_type": "fragment"
    }
   },
   "source": [
    "##### Solution:\n",
    "\n",
    "* Since we are given that $-\\dfrac{1}{2}$ is a zero, we know that $f\\left( -\\dfrac{1}{2} \\right) = 0$"
   ]
  },
  {
   "cell_type": "markdown",
   "metadata": {
    "slideshow": {
     "slide_type": "fragment"
    }
   },
   "source": [
    "* This means that $x + \\dfrac{1}{2}$ is a factor of $f(x)$"
   ]
  },
  {
   "cell_type": "markdown",
   "metadata": {
    "slideshow": {
     "slide_type": "fragment"
    }
   },
   "source": [
    "* We can determine how $f(x)$ factors then if we perform either long or synthetic division"
   ]
  },
  {
   "cell_type": "markdown",
   "metadata": {
    "slideshow": {
     "slide_type": "fragment"
    }
   },
   "source": [
    "* Using synthetic division with $x = -\\dfrac{1}{2}$:\n",
    "\n",
    "$$\n",
    "\\begin{array}{c|cccc}\n",
    "    & x^3 & x^2 & x & \\text{const} \\\\\n",
    "    -\\dfrac{1}{2} & 12 & 1 & -\\dfrac{9}{2} & -1 \\\\\n",
    "    \\hline\n",
    "    & & -6 & \\dfrac{5}{2} & 1 \\\\\n",
    "    \\hline\n",
    "    & 12 & -5 & -2 & 0 \\\\\n",
    "    & x^2 & x & \\text{const} & \\text{remainder}\n",
    "\\end{array}\n",
    "$$"
   ]
  },
  {
   "cell_type": "markdown",
   "metadata": {
    "slideshow": {
     "slide_type": "fragment"
    }
   },
   "source": [
    "* The polynomial that results is the other factor of $f(x)$\n",
    "\n",
    "* This means that $f(x) = \\left( x + \\dfrac{1}{2} \\right) (12x^2 - 5x - 2)$"
   ]
  },
  {
   "cell_type": "markdown",
   "metadata": {
    "slideshow": {
     "slide_type": "fragment"
    }
   },
   "source": [
    "* Solving the equation then gives us\n",
    "\n",
    "\\begin{align}\n",
    "    12x^3 + x^2 - \\dfrac{9}{2}x - 1 & = 0 \\\\\n",
    "    \\left( x + \\dfrac{1}{2} \\right) (12x^2 - 5x - 2) & = 0 \\\\\n",
    "    & \\Downarrow \\\\\n",
    "    x & = -\\dfrac{1}{2} \\qquad (\\text{which we already know}) \\\\\n",
    "    & \\text{or} \\\\\n",
    "    12x^2 - 5x - 2 & = 0\n",
    "\\end{align}"
   ]
  },
  {
   "cell_type": "markdown",
   "metadata": {
    "slideshow": {
     "slide_type": "fragment"
    }
   },
   "source": [
    "* Factoring and solving the last equation (alternatively, you could apply the quadratic formula):\n",
    "\n",
    "\\begin{align}\n",
    "    (4x + 1)(3x - 2) & = 0 \\\\\n",
    "    & \\Downarrow \\\\\n",
    "    4x + 1 & = 0 \\\\\n",
    "    4x & = -1 \\\\\n",
    "    x & = -\\dfrac{1}{4} \\\\\n",
    "    & \\text{or} \\\\\n",
    "    3x - 2 & = 0 \\\\\n",
    "    3x & = 2 \\\\\n",
    "    x & = \\dfrac{2}{3}\n",
    "\\end{align}"
   ]
  },
  {
   "cell_type": "markdown",
   "metadata": {
    "slideshow": {
     "slide_type": "fragment"
    }
   },
   "source": [
    "* Therefore, the equation $12x^3 + x^2 - \\dfrac{9}{2}x - 1 = 0$ has three solutions and the solution set is $\\left\\{ -\\dfrac{1}{2}, -\\dfrac{1}{4},  \\dfrac{2}{3} \\right\\}$"
   ]
  },
  {
   "cell_type": "markdown",
   "metadata": {
    "slideshow": {
     "slide_type": "fragment"
    }
   },
   "source": [
    "##### Example 10\n",
    "\n",
    "Use the graph to determine a solution of each equation. Use synthetic division to verify that this number is a solution of the equation. Then solve the polynomial equation $2x^3 - 5x^2 + x + 2 = 0$."
   ]
  },
  {
   "cell_type": "code",
   "execution_count": 1,
   "metadata": {
    "slideshow": {
     "slide_type": "fragment"
    }
   },
   "outputs": [],
   "source": [
    "import warnings\n",
    "warnings.filterwarnings('ignore')\n",
    "import numpy as np\n",
    "import matplotlib.pyplot as plt\n",
    "\n",
    "plt.style.use('fivethirtyeight')"
   ]
  },
  {
   "cell_type": "code",
   "execution_count": 2,
   "metadata": {
    "slideshow": {
     "slide_type": "fragment"
    }
   },
   "outputs": [
    {
     "data": {
      "text/plain": [
       "Text(0.5, 1.0, '$f(x)$')"
      ]
     },
     "execution_count": 2,
     "metadata": {},
     "output_type": "execute_result"
    },
    {
     "data": {
      "image/png": "[encoded data removed]",
      "text/plain": [
       "<Figure size 1800x1080 with 1 Axes>"
      ]
     },
     "metadata": {},
     "output_type": "display_data"
    }
   ],
   "source": [
    "x = np.linspace(-5, 5, 100)\n",
    "y = 2*x**3 - 5*x**2 + x + 2\n",
    "\n",
    "fig, ax = plt.subplots(figsize=(25, 15))\n",
    "\n",
    "ax.plot(x, y, color='b')\n",
    "ax.axhline(y=0, color='k')\n",
    "ax.axvline(x=0, color='k')\n",
    "ax.set_xticks(np.arange(-5, 6))\n",
    "ax.set_xticklabels(np.arange(-5, 6), fontsize=25)\n",
    "ax.set_xlim(-5, 5)\n",
    "ax.set_yticklabels(np.arange(-10, 11), fontsize=25)\n",
    "ax.set_ylim(-10, 10)\n",
    "ax.set_title(r'$f(x)$', fontsize=25)"
   ]
  },
  {
   "cell_type": "markdown",
   "metadata": {
    "slideshow": {
     "slide_type": "fragment"
    }
   },
   "source": [
    "##### Solution:\n",
    "\n",
    "* Upon examining the graph we might assume that we know two of three zeros: $x = 1$ and $x = 2$"
   ]
  },
  {
   "cell_type": "markdown",
   "metadata": {
    "slideshow": {
     "slide_type": "fragment"
    }
   },
   "source": [
    "* We can use either of these with synthetic division with the given polymonial function to determine if we get a remainder of zero and then factor"
   ]
  },
  {
   "cell_type": "markdown",
   "metadata": {
    "slideshow": {
     "slide_type": "fragment"
    }
   },
   "source": [
    "* Using synthetic division with $x = 1$:\n",
    "\n",
    "$$\n",
    "\\begin{array}{c|cccc}\n",
    "    & x^3 & x^2 & x & \\text{const} \\\\\n",
    "    1 & 2 & -5 & 1 & 2 \\\\\n",
    "    \\hline\n",
    "    & & 2 & -3 & -2 \\\\\n",
    "    \\hline\n",
    "    & 2 & -3 & -2 & 0 \\\\\n",
    "    & x^2 & x & \\text{const} & \\text{remainder}\n",
    "\\end{array}\n",
    "$$"
   ]
  },
  {
   "cell_type": "markdown",
   "metadata": {
    "slideshow": {
     "slide_type": "fragment"
    }
   },
   "source": [
    "* We do indeed get a remainder of zero so $x = 1$ is, in fact, a zero of the polynomial function"
   ]
  },
  {
   "cell_type": "markdown",
   "metadata": {
    "slideshow": {
     "slide_type": "fragment"
    }
   },
   "source": [
    "* To find the remaining zeros we set the result from the division equal to zero and solve by factoring:\n",
    "\n",
    "\\begin{align}\n",
    "    2x^2 - 3x - 2 & = 0 \\\\\n",
    "    (2x + 1)(x - 2) & = 0 \\\\\n",
    "    & \\Downarrow \\\\\n",
    "    2x + 1 & = 0 \\\\\n",
    "    2x & = -1 \\\\\n",
    "    x & = -\\frac{1}{2} \\\\\n",
    "    & \\text{or} \\\\\n",
    "    x - 2 & = 0 \\\\\n",
    "    x & = 2\n",
    "\\end{align}"
   ]
  },
  {
   "cell_type": "markdown",
   "metadata": {
    "slideshow": {
     "slide_type": "fragment"
    }
   },
   "source": [
    "* Therefore, the zeros of the polynomial function are $x = -\\dfrac{1}{2}, 1,$ and $2$"
   ]
  },
  {
   "cell_type": "markdown",
   "metadata": {
    "slideshow": {
     "slide_type": "slide"
    }
   },
   "source": [
    "### End Section"
   ]
  }
 ],
 "metadata": {
  "celltoolbar": "Slideshow",
  "kernelspec": {
   "display_name": "Python 3",
   "language": "python",
   "name": "python3"
  },
  "language_info": {
   "codemirror_mode": {
    "name": "ipython",
    "version": 3
   },
   "file_extension": ".py",
   "mimetype": "text/x-python",
   "name": "python",
   "nbconvert_exporter": "python",
   "pygments_lexer": "ipython3",
   "version": "3.8.8"
  },
  "latex_envs": {
   "LaTeX_envs_menu_present": true,
   "autoclose": false,
   "autocomplete": true,
   "bibliofile": "biblio.bib",
   "cite_by": "apalike",
   "current_citInitial": 1,
   "eqLabelWithNumbers": true,
   "eqNumInitial": 1,
   "hotkeys": {
    "equation": "Ctrl-E",
    "itemize": "Ctrl-I"
   },
   "labels_anchors": false,
   "latex_user_defs": false,
   "report_style_numbering": false,
   "user_envs_cfg": false
  },
  "rise": {
   "enable_chalkboard": true,
   "theme": "sky",
   "transition": "zoom"
  }
 },
 "nbformat": 4,
 "nbformat_minor": 4
}
