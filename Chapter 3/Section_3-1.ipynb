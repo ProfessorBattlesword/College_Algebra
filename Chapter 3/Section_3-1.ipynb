{
 "cells": [
  {
   "cell_type": "markdown",
   "metadata": {
    "slideshow": {
     "slide_type": "slide"
    }
   },
   "source": [
    "# Chapter 3: Polynomial and Rational Functions"
   ]
  },
  {
   "cell_type": "markdown",
   "metadata": {
    "slideshow": {
     "slide_type": "slide"
    }
   },
   "source": [
    "### Section 3.1: Quadratic Functions\n",
    "\n",
    "##### Objective 1: Graph quadratic functions/parabolas\n",
    "##### Objective 2: Determine a quadratic function's minimum and maximum value"
   ]
  },
  {
   "cell_type": "markdown",
   "metadata": {
    "slideshow": {
     "slide_type": "slide"
    }
   },
   "source": [
    "##### Objective 1: Graph quadratic functions/parabolas"
   ]
  },
  {
   "cell_type": "markdown",
   "metadata": {
    "slideshow": {
     "slide_type": "fragment"
    }
   },
   "source": [
    "##### Graphing Quadratic Functions\n",
    "\n",
    "* The graph of any quadratic function is called a **parabola**\n",
    "\n",
    "* The **vertex** (or turning point) of the parabola is the lowest point when the parabola opens upward and the highest point on the graph when the parabola opens downward\n",
    "\n",
    "* Parabolas are symmetric with respect to a vertical line called the **axis of symmetry**"
   ]
  },
  {
   "cell_type": "markdown",
   "metadata": {
    "slideshow": {
     "slide_type": "fragment"
    }
   },
   "source": [
    "##### Steps for Graphing Quadratic Equations of the Form $f(x) = ax^2 + bx + c$\n",
    "\n",
    "1. Determine whether the parabola opens upward or downward\n",
    "\n",
    "    * If $a > 0$, the parabola opens upward\n",
    "    \n",
    "    * If $a < 0$, the parabola opens downward\n",
    "\n",
    "2. Determine the vertex of the parabola:\n",
    "\n",
    "    * The **vertex** of the parabola is located at $(h, k)$ where $h = -\\frac{b}{2a}$ and $k = f(h)$\n",
    "    \n",
    "3. The parabola is **symmetric** with respect to the line $x = h$\n",
    "    * That is, the **axis of symmetry** is the vertical line described by $x = -\\frac{b}{2a}$\n",
    "    \n",
    "4. Find the $y$-intercept by computing $f(0)$\n",
    "\n",
    "5. Find any $x$-intercepts by solving $f(x) = 0$ by either factoring or using the quadratic formula\n",
    "\n",
    "    * Quadratic formula: $\\displaystyle x = \\frac{-b \\pm \\sqrt{b^2 - 4 ac}}{2a}$\n",
    "\n",
    "6. Plot the vertex, intercepts, and additional points as necessary and then connect the points with a *smooth* curve\n",
    "\n",
    "    * Note: if there are no $x$-intercepts, then you can use the axis of symmetry as a guide"
   ]
  },
  {
   "cell_type": "markdown",
   "metadata": {
    "slideshow": {
     "slide_type": "fragment"
    }
   },
   "source": [
    "##### Example 1\n",
    "\n",
    "Graph the function $f(x) = x^2 + 6x + 8$."
   ]
  },
  {
   "cell_type": "markdown",
   "metadata": {
    "slideshow": {
     "slide_type": "fragment"
    }
   },
   "source": [
    "##### Solution:\n",
    "\n",
    "* Step 1:\n",
    "\n",
    "    * $a = 1 > 0 \\Rightarrow$ parabola opens *upward*"
   ]
  },
  {
   "cell_type": "markdown",
   "metadata": {
    "slideshow": {
     "slide_type": "fragment"
    }
   },
   "source": [
    "* Step 2:\n",
    "\n",
    "    * The vertex of the parabola is located at $(h, k)$\n",
    "    \n",
    "        * $h = -\\frac{b}{2a}$\n",
    "        \n",
    "        * $k = f(h)$"
   ]
  },
  {
   "cell_type": "markdown",
   "metadata": {
    "slideshow": {
     "slide_type": "fragment"
    }
   },
   "source": [
    "* Therefore,\n",
    "\n",
    "\\begin{align}\n",
    "    h & = -\\frac{b}{2a} \\\\\n",
    "    & = -\\frac{6}{2(1)} \\\\\n",
    "    & = -\\frac{6}{2} \\\\\n",
    "    h & = -3 \\\\\n",
    "    & \\text{and} \\\\\n",
    "    k & = f(h) \\\\\n",
    "    & = f(-3) \\\\\n",
    "    & = (-3)^2 + 6(-3) + 8 \\\\\n",
    "    & = 9 - 18 + 8 \\\\\n",
    "    k & = -1\n",
    "\\end{align}"
   ]
  },
  {
   "cell_type": "markdown",
   "metadata": {
    "slideshow": {
     "slide_type": "fragment"
    }
   },
   "source": [
    "* Therefore, the vertex is located at $(-3, -1)$"
   ]
  },
  {
   "cell_type": "markdown",
   "metadata": {
    "slideshow": {
     "slide_type": "fragment"
    }
   },
   "source": [
    "* Step 3:\n",
    "\n",
    "    * The axis of symmetry is located at $x = h \\Rightarrow x = -3$"
   ]
  },
  {
   "cell_type": "markdown",
   "metadata": {
    "slideshow": {
     "slide_type": "fragment"
    }
   },
   "source": [
    "* Step 4:\n",
    "\n",
    "    * The $y$-intercept is determined by $f(0)$:\n",
    "    \n",
    "\\begin{align}\n",
    "    f(0) & = (0)^2 + 6(0) + 8 \\\\\n",
    "    & = 8\n",
    "\\end{align}"
   ]
  },
  {
   "cell_type": "markdown",
   "metadata": {
    "slideshow": {
     "slide_type": "fragment"
    }
   },
   "source": [
    "* Therefore, the $y$-intercept is located at $(0, 8)$"
   ]
  },
  {
   "cell_type": "markdown",
   "metadata": {
    "slideshow": {
     "slide_type": "fragment"
    }
   },
   "source": [
    "* Step 5:\n",
    "\n",
    "    * The $x$-intercepts are determined by solving $f(x) = 0$"
   ]
  },
  {
   "cell_type": "markdown",
   "metadata": {
    "slideshow": {
     "slide_type": "fragment"
    }
   },
   "source": [
    "* The equation of interest is then given by\n",
    "\n",
    "\\begin{align}\n",
    "    x^2 + 6x + 8 & = 0\n",
    "\\end{align}"
   ]
  },
  {
   "cell_type": "markdown",
   "metadata": {
    "slideshow": {
     "slide_type": "fragment"
    }
   },
   "source": [
    "* We can either solve this equation by attempting to factor (if it factors) or by the quadratic formula"
   ]
  },
  {
   "cell_type": "markdown",
   "metadata": {
    "slideshow": {
     "slide_type": "fragment"
    }
   },
   "source": [
    "* Solving by factoring:\n",
    "\n",
    "\\begin{align}\n",
    "    (x + 2)(x + 4) & = 0 \\\\\n",
    "    & \\Downarrow \\\\\n",
    "    x + 2 & = 0 \\\\\n",
    "    & \\text{or} \\\\\n",
    "    x + 4 & = 0 \\\\\n",
    "    & \\Downarrow \\\\\n",
    "    x & = -2 \\\\\n",
    "    & \\text{or} \\\\\n",
    "    x & = -4\n",
    "\\end{align}\n",
    "\n",
    "* Therefore, we have $x$-intercepts located at $x = -2$ and $x = -4$"
   ]
  },
  {
   "cell_type": "markdown",
   "metadata": {
    "slideshow": {
     "slide_type": "fragment"
    }
   },
   "source": [
    "* Plotting the points and then connecting:"
   ]
  },
  {
   "cell_type": "code",
   "execution_count": 1,
   "metadata": {
    "slideshow": {
     "slide_type": "fragment"
    }
   },
   "outputs": [],
   "source": [
    "import warnings\n",
    "warnings.filterwarnings('ignore')\n",
    "import numpy as np\n",
    "import matplotlib.pyplot as plt\n",
    "from matplotlib import patches\n",
    "\n",
    "plt.style.use('fivethirtyeight')"
   ]
  },
  {
   "cell_type": "code",
   "execution_count": 2,
   "metadata": {
    "slideshow": {
     "slide_type": "fragment"
    }
   },
   "outputs": [
    {
     "data": {
      "image/png": "[encoded data removed]",
      "text/plain": [
       "<Figure size 1800x936 with 1 Axes>"
      ]
     },
     "metadata": {},
     "output_type": "display_data"
    }
   ],
   "source": [
    "def f(x):\n",
    "    return x**2 + 6*x + 8\n",
    "\n",
    "x = np.linspace(-10,10, 100)\n",
    "y = f(x)\n",
    "\n",
    "fig, ax = plt.subplots(figsize=(25, 13))\n",
    "\n",
    "ax.axvline(x=0, color='k', lw=2)\n",
    "ax.axhline(y=0, color='k', lw=2)\n",
    "\n",
    "vertex = patches.Circle((-3, -1), radius=.2, color='b')\n",
    "left_x_int = patches.Circle((-2, 0), radius=.2, color='b')\n",
    "right_x_int = patches.Circle((-4, 0), radius=.2, color='b')\n",
    "y_int = patches.Circle((0, 8), radius=0.2, color='b')\n",
    "\n",
    "ax.add_artist(vertex)\n",
    "ax.add_artist(left_x_int)\n",
    "ax.add_artist(right_x_int)\n",
    "ax.add_artist(y_int)\n",
    "\n",
    "ax.plot(x, y, color='b', label=r'$f(x)$')\n",
    "ax.axvline(x = -3, ls='--', color='r', label='Axis of Symmetry: \\n $x = -3$')\n",
    "\n",
    "ax.set_xlim(-10,10)\n",
    "ax.set_ylim(-10,10)\n",
    "ax.set_xticks(np.arange(-10,11,1))\n",
    "ax.set_xticklabels(np.arange(-10,11,1), fontsize=15)\n",
    "ax.set_yticks(np.arange(-10,11,1))\n",
    "ax.set_yticklabels(np.arange(-10,11,1), fontsize=15)\n",
    "ax.set_title(r'$f(x) = x^2 + 6x + 8$', fontsize=25)\n",
    "ax.legend()\n",
    "ax.set_aspect(1)"
   ]
  },
  {
   "cell_type": "markdown",
   "metadata": {
    "slideshow": {
     "slide_type": "fragment"
    }
   },
   "source": [
    "##### Example 2\n",
    "\n",
    "Graph the function $f(x) = -x^2 + 2x + 3$."
   ]
  },
  {
   "cell_type": "markdown",
   "metadata": {
    "slideshow": {
     "slide_type": "fragment"
    }
   },
   "source": [
    "##### Solution:\n",
    "\n",
    "* Step 1:\n",
    "\n",
    "    * $a = -1 < 0 \\Rightarrow$ parabola opens *downward*"
   ]
  },
  {
   "cell_type": "markdown",
   "metadata": {
    "slideshow": {
     "slide_type": "fragment"
    }
   },
   "source": [
    "* Step 2:\n",
    "\n",
    "    * The vertex of the parabola is located at $(h, k)$\n",
    "    \n",
    "        * $h = -\\frac{b}{2a}$\n",
    "        \n",
    "        * $k = f(h)$"
   ]
  },
  {
   "cell_type": "markdown",
   "metadata": {
    "slideshow": {
     "slide_type": "fragment"
    }
   },
   "source": [
    "* Therefore,\n",
    "\n",
    "\\begin{align}\n",
    "    h & = -\\frac{b}{2a} \\\\\n",
    "    & = -\\frac{2}{2(-1)} \\\\\n",
    "    & = -\\frac{2}{-2} \\\\\n",
    "    h & = 1 \\\\\n",
    "    & \\text{and} \\\\\n",
    "    k & = f(h) \\\\\n",
    "    & = f(1) \\\\\n",
    "    & = -(1)^2 + 2(1) + 3 \\\\\n",
    "    & = -1 + 2 + 3 \\\\\n",
    "    k & = 4\n",
    "\\end{align}"
   ]
  },
  {
   "cell_type": "markdown",
   "metadata": {
    "slideshow": {
     "slide_type": "fragment"
    }
   },
   "source": [
    "* Therefore, the vertex is located at $(1, 4)$"
   ]
  },
  {
   "cell_type": "markdown",
   "metadata": {
    "slideshow": {
     "slide_type": "fragment"
    }
   },
   "source": [
    "* Step 3:\n",
    "\n",
    "    * The axis of symmetry is located at $x = h \\Rightarrow x = 1$"
   ]
  },
  {
   "cell_type": "markdown",
   "metadata": {
    "slideshow": {
     "slide_type": "fragment"
    }
   },
   "source": [
    "* Step 4:\n",
    "\n",
    "    * The $y$-intercept is determined by $f(0)$:\n",
    "    \n",
    "\\begin{align}\n",
    "    f(0) & = -(0)^2 + 2(0) + 3 \\\\\n",
    "    & = 3\n",
    "\\end{align}"
   ]
  },
  {
   "cell_type": "markdown",
   "metadata": {
    "slideshow": {
     "slide_type": "fragment"
    }
   },
   "source": [
    "* Therefore, the $y$-intercept is located at $(0, 3)$"
   ]
  },
  {
   "cell_type": "markdown",
   "metadata": {
    "slideshow": {
     "slide_type": "fragment"
    }
   },
   "source": [
    "* Step 5:\n",
    "\n",
    "    * The $x$-intercepts are determined by solving $f(x) = 0$"
   ]
  },
  {
   "cell_type": "markdown",
   "metadata": {
    "slideshow": {
     "slide_type": "fragment"
    }
   },
   "source": [
    "* The equation of interest is then given by\n",
    "\n",
    "\\begin{align}\n",
    "    -x^2 + 2x + 3 & = 0\n",
    "\\end{align}"
   ]
  },
  {
   "cell_type": "markdown",
   "metadata": {
    "slideshow": {
     "slide_type": "fragment"
    }
   },
   "source": [
    "* We can either solve this equation by attempting to factor (if it factors) or by the quadratic formula"
   ]
  },
  {
   "cell_type": "markdown",
   "metadata": {
    "slideshow": {
     "slide_type": "fragment"
    }
   },
   "source": [
    "* Solving by factoring:\n",
    "\n",
    "\\begin{align}\n",
    "    \\color{blue}{-1} \\cdot (x^2 - 2x - 3) & = 0 \\qquad \\text{(factor out $-1$)} \\\\\n",
    "    x^2 - 2x - 3 & = 0 \\qquad \\text{(divide both sides by $-1$)} \\\\\n",
    "    (x + 1)(x - 3) & = 0 \\qquad \\text{(factor)} \\\\\n",
    "    & \\text{or} \\\\\n",
    "    x + 1 & = 0 \\\\\n",
    "    & \\Downarrow \\\\\n",
    "    x & = -1 \\\\\n",
    "    & \\text{or} \\\\\n",
    "    x - 3 & = 0 \\\\\n",
    "    & \\Downarrow \\\\\n",
    "    x & = 3\n",
    "\\end{align}\n",
    "\n",
    "* Therefore, we have $x$-intercepts located at $x = -1$ and $x = 3$"
   ]
  },
  {
   "cell_type": "markdown",
   "metadata": {
    "slideshow": {
     "slide_type": "fragment"
    }
   },
   "source": [
    "* Plotting the points and then connecting:"
   ]
  },
  {
   "cell_type": "code",
   "execution_count": 3,
   "metadata": {
    "slideshow": {
     "slide_type": "fragment"
    }
   },
   "outputs": [
    {
     "data": {
      "image/png": "[encoded data removed]",
      "text/plain": [
       "<Figure size 1800x936 with 1 Axes>"
      ]
     },
     "metadata": {},
     "output_type": "display_data"
    }
   ],
   "source": [
    "def f(x):\n",
    "    return -x**2 + 2*x + 3\n",
    "\n",
    "x = np.linspace(-10,10, 100)\n",
    "y = f(x)\n",
    "\n",
    "fig, ax = plt.subplots(figsize=(25, 13))\n",
    "\n",
    "ax.axvline(x=0, color='k', lw=2)\n",
    "ax.axhline(y=0, color='k', lw=2)\n",
    "\n",
    "vertex = patches.Circle((1, 4), radius=.2, color='b')\n",
    "left_x_int = patches.Circle((-1, 0), radius=.2, color='b')\n",
    "right_x_int = patches.Circle((3, 0), radius=.2, color='b')\n",
    "y_int = patches.Circle((0, 3), radius=0.2, color='b')\n",
    "\n",
    "ax.add_artist(vertex)\n",
    "ax.add_artist(left_x_int)\n",
    "ax.add_artist(right_x_int)\n",
    "ax.add_artist(y_int)\n",
    "\n",
    "ax.plot(x, y, color='b', label=r'$f(x)$')\n",
    "ax.axvline(x = 1, ls='--', color='r', label='Axis of Symmetry: \\n $x = -3$')\n",
    "\n",
    "ax.set_xlim(-10,10)\n",
    "ax.set_ylim(-10,10)\n",
    "ax.set_xticks(np.arange(-10,11,1))\n",
    "ax.set_xticklabels(np.arange(-10,11,1), fontsize=15)\n",
    "ax.set_yticks(np.arange(-10,11,1))\n",
    "ax.set_yticklabels(np.arange(-10,11,1), fontsize=15)\n",
    "ax.set_title(r'$f(x) = -x^2 + 2x + 3$', fontsize=25)\n",
    "ax.legend()\n",
    "ax.set_aspect(1)"
   ]
  },
  {
   "cell_type": "markdown",
   "metadata": {
    "slideshow": {
     "slide_type": "slide"
    }
   },
   "source": [
    "##### Objective 2: Determine a quadratic function's minimum and maximum value"
   ]
  },
  {
   "cell_type": "markdown",
   "metadata": {
    "slideshow": {
     "slide_type": "fragment"
    }
   },
   "source": [
    "##### Minimum and Maximum of Quadratic Functions\n",
    "\n",
    "* For a quadratic function of the form $f(x) = ax^2 + bx + c$\n",
    "\n",
    "    * If $a > 0$, then $f$ has a minimum that occurs at $x = -\\frac{b}{2a}$, and the minimum value is determined by $f\\left( - \\frac{b}{2a} \\right)$\n",
    "    \n",
    "        * i.e. the vertex is a minimum\n",
    "    \n",
    "    * If $a < 0$, then $f$ has a maximum that occurs at $x = - \\frac{b}{2a}$, and the maximum value is determined by $f\\left( - \\frac{b}{2a} \\right)$\n",
    "    \n",
    "        * i.e. the vertex is a maximum"
   ]
  },
  {
   "cell_type": "markdown",
   "metadata": {
    "slideshow": {
     "slide_type": "fragment"
    }
   },
   "source": [
    "##### Example 3\n",
    "\n",
    "Consider the function $f(x) = -3x^2 + 6x - 13$.\n",
    "\n",
    "**(a)** Without graphing, determine whether the function has a minimum or maximum value.\n",
    "\n",
    "**(b)** Find the minimum or maximum value and determine where it occurs.\n",
    "\n",
    "**(c)** Identify the function's domain and range."
   ]
  },
  {
   "cell_type": "markdown",
   "metadata": {
    "slideshow": {
     "slide_type": "fragment"
    }
   },
   "source": [
    "##### Solution:\n",
    "\n",
    "**(a)** Without graphing, determine whether the function has a minimum or maximum value.\n",
    "\n",
    "* Since $a = -3 < 0 \\Rightarrow f(x)$ has a *maximum* located at its vertex"
   ]
  },
  {
   "cell_type": "markdown",
   "metadata": {
    "slideshow": {
     "slide_type": "fragment"
    }
   },
   "source": [
    "**(b)** Find the minimum or maximum value and determine where it occurs.\n",
    "\n",
    "* We need to find the vertex which happens at the point $\\left( -\\frac{b}{2a}, f\\left( -\\frac{b}{2a} \\right) \\right)$"
   ]
  },
  {
   "cell_type": "markdown",
   "metadata": {
    "slideshow": {
     "slide_type": "fragment"
    }
   },
   "source": [
    "* The $x$-value:\n",
    "\n",
    "\\begin{align}\n",
    "    x & = -\\frac{b}{2a} \\\\\n",
    "    & = -\\frac{6}{2(-3)} \\\\\n",
    "    & = -\\frac{6}{-6} \\\\\n",
    "    x & = 1\n",
    "\\end{align}"
   ]
  },
  {
   "cell_type": "markdown",
   "metadata": {
    "slideshow": {
     "slide_type": "fragment"
    }
   },
   "source": [
    "* The $y$-value:\n",
    "\n",
    "\\begin{align}\n",
    "    f\\left( -\\frac{b}{2a} \\right) & = f(1) \\\\\n",
    "    & = -3(1)^2 + 6(1) - 13 \\\\\n",
    "    & = -3 + 6 - 13 \\\\\n",
    "    f(1) & = -10\n",
    "\\end{align}"
   ]
  },
  {
   "cell_type": "markdown",
   "metadata": {
    "slideshow": {
     "slide_type": "fragment"
    }
   },
   "source": [
    "* Therefore, the maximum occurs at $x = 1$ and the maximum value is $f(1) = -10$"
   ]
  },
  {
   "cell_type": "markdown",
   "metadata": {
    "slideshow": {
     "slide_type": "fragment"
    }
   },
   "source": [
    "**(c)** Identify the function's domain and range.\n",
    "\n",
    "* Domain: $(-\\infty, \\infty)$\n",
    "\n",
    "* Range: $(-\\infty, -10]$"
   ]
  },
  {
   "cell_type": "markdown",
   "metadata": {
    "slideshow": {
     "slide_type": "fragment"
    }
   },
   "source": [
    "##### Example 4\n",
    "\n",
    "Consider the function $f(x) = 4x^2 - 16x + 1000$.\n",
    "\n",
    "**(a)** Without graphing, determine whether the function has a minimum or maximum value.\n",
    "\n",
    "**(b)** Find the minimum or maximum value and determine where it occurs.\n",
    "\n",
    "**(c)** Identify the function's domain and its range."
   ]
  },
  {
   "cell_type": "markdown",
   "metadata": {
    "slideshow": {
     "slide_type": "fragment"
    }
   },
   "source": [
    "##### Solution:\n",
    "\n",
    "**(a)** Without graphing, determine whether the function has a minimum or maximum value.\n",
    "\n",
    "* Since $a = 4 > 0 \\Rightarrow f(x)$ has a *minimum* located at its vertex"
   ]
  },
  {
   "cell_type": "markdown",
   "metadata": {
    "slideshow": {
     "slide_type": "fragment"
    }
   },
   "source": [
    "**(b)** Find the minimum or maximum value and determine where it occurs.\n",
    "\n",
    "* We need to find the vertex which happens at the point $\\left( -\\frac{b}{2a}, f\\left( -\\frac{b}{2a} \\right) \\right)$"
   ]
  },
  {
   "cell_type": "markdown",
   "metadata": {
    "slideshow": {
     "slide_type": "fragment"
    }
   },
   "source": [
    "* The $x$-value:\n",
    "\n",
    "\\begin{align}\n",
    "    x & = -\\frac{b}{2a} \\\\\n",
    "    & = -\\frac{-16}{2(4)} \\\\\n",
    "    & = -\\frac{-16}{8} \\\\\n",
    "    x & = 2\n",
    "\\end{align}"
   ]
  },
  {
   "cell_type": "markdown",
   "metadata": {
    "slideshow": {
     "slide_type": "fragment"
    }
   },
   "source": [
    "* The $y$-value:\n",
    "\n",
    "\\begin{align}\n",
    "    f\\left( -\\frac{b}{2a} \\right) & = f(2) \\\\\n",
    "    & = 4(2)^2 - 16(2) + 1000 \\\\\n",
    "    & = 16 - 32 + 1000 \\\\\n",
    "    f(2) & = 984\n",
    "\\end{align}"
   ]
  },
  {
   "cell_type": "markdown",
   "metadata": {
    "slideshow": {
     "slide_type": "fragment"
    }
   },
   "source": [
    "* Therefore, the maximum occurs at $x = 2$ and the maximum value is $f(1) = 984$"
   ]
  },
  {
   "cell_type": "markdown",
   "metadata": {
    "slideshow": {
     "slide_type": "fragment"
    }
   },
   "source": [
    "**(c)** Identify the function's domain and its range.\n",
    "\n",
    "* Domain: $(-\\infty, \\infty)$\n",
    "\n",
    "* Range: $[984, \\infty)$"
   ]
  },
  {
   "cell_type": "markdown",
   "metadata": {
    "slideshow": {
     "slide_type": "slide"
    }
   },
   "source": [
    "### End Section"
   ]
  }
 ],
 "metadata": {
  "celltoolbar": "Slideshow",
  "kernelspec": {
   "display_name": "Python 3",
   "language": "python",
   "name": "python3"
  },
  "language_info": {
   "codemirror_mode": {
    "name": "ipython",
    "version": 3
   },
   "file_extension": ".py",
   "mimetype": "text/x-python",
   "name": "python",
   "nbconvert_exporter": "python",
   "pygments_lexer": "ipython3",
   "version": "3.8.8"
  },
  "rise": {
   "enable_chalkboard": true,
   "theme": "sky",
   "transition": "zoom"
  }
 },
 "nbformat": 4,
 "nbformat_minor": 4
}
