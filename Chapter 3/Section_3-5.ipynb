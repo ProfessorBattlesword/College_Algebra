{
 "cells": [
  {
   "cell_type": "markdown",
   "metadata": {
    "slideshow": {
     "slide_type": "slide"
    }
   },
   "source": [
    "# Chapter 3: Polynomial and Rational Functions"
   ]
  },
  {
   "cell_type": "markdown",
   "metadata": {
    "slideshow": {
     "slide_type": "slide"
    }
   },
   "source": [
    "### Section 3.5: Rational Functions\n",
    "\n",
    "##### Objective 1: Finding the domain of a rational function\n",
    "\n",
    "##### Objective 2: Identify the vertical asymptote(s) of a rational function\n",
    "\n",
    "##### Objective 3: Identify the horizontal asymptote of a rational function\n",
    "\n",
    "##### Objective 4: Graphing rational functions"
   ]
  },
  {
   "cell_type": "markdown",
   "metadata": {
    "slideshow": {
     "slide_type": "slide"
    }
   },
   "source": [
    "##### Objective 1: Finding the domain of a rational function"
   ]
  },
  {
   "cell_type": "markdown",
   "metadata": {
    "slideshow": {
     "slide_type": "fragment"
    }
   },
   "source": [
    "##### Rational Functions\n",
    "\n",
    "* **Rational functions** are quotients of polynomial functions\n",
    "\n",
    "* A rational function $f$ can be expressed as\n",
    "$$\n",
    "    f(x) = \\frac{p(x)}{q(x)}\n",
    "$$\n",
    "where $p$ and $q$ are polynomial functions and $q(x) \\neq 0$\n",
    "\n",
    "* The domain of a rational function is the set of all real numbers except the $x$-values that make the denominator zero"
   ]
  },
  {
   "cell_type": "markdown",
   "metadata": {
    "slideshow": {
     "slide_type": "fragment"
    }
   },
   "source": [
    "##### Example 1\n",
    "\n",
    "Find the domain of the rational function defined by $f(x) = \\frac{x}{x^2 - 9}$."
   ]
  },
  {
   "cell_type": "markdown",
   "metadata": {
    "slideshow": {
     "slide_type": "fragment"
    }
   },
   "source": [
    "##### Solution:\n",
    "\n",
    "* We set the denominator equal to zero and solve:\n",
    "\n",
    "\\begin{align}\n",
    "    x^2 - 9 & = 0 \\\\\n",
    "    & \\Downarrow \\\\\n",
    "    (x + 3)(x - 3) & = 0 \\\\\n",
    "    & \\Downarrow \\\\\n",
    "    x + 3 & = 0 \\\\\n",
    "    x & = -3 \\\\\n",
    "    & \\text{or} \\\\\n",
    "    x - 3 & = 0 \\\\\n",
    "    x & = 3\n",
    "\\end{align}"
   ]
  },
  {
   "cell_type": "markdown",
   "metadata": {
    "slideshow": {
     "slide_type": "fragment"
    }
   },
   "source": [
    "* Since we need to remove the $x$-values that make the denominator zero we remove the two $x$-values found"
   ]
  },
  {
   "cell_type": "markdown",
   "metadata": {
    "slideshow": {
     "slide_type": "fragment"
    }
   },
   "source": [
    "* Therefore, the domain in interval notation is $(-\\infty, -3) \\cup (-3, 3) \\cup (3, \\infty)$"
   ]
  },
  {
   "cell_type": "markdown",
   "metadata": {
    "slideshow": {
     "slide_type": "fragment"
    }
   },
   "source": [
    "##### Example 2\n",
    "\n",
    "Find the domain of the rational function defined by $f(x) = \\frac{x}{x^2 - 4x}$."
   ]
  },
  {
   "cell_type": "markdown",
   "metadata": {
    "slideshow": {
     "slide_type": "fragment"
    }
   },
   "source": [
    "##### Solution:\n",
    "\n",
    "* We set the denominator equal to zero and solve:\n",
    "\n",
    "\\begin{align}\n",
    "    x^2 - 4x & = 0 \\\\\n",
    "    & \\Downarrow \\\\\n",
    "    x(x - 4) & = 0 \\qquad (\\text{factoring}) \\\\\n",
    "    & \\Downarrow \\\\\n",
    "    x & = 0 \\\\\n",
    "    & \\text{or} \\\\\n",
    "    x - 4 & = 0 \\\\\n",
    "    x & = 4\n",
    "\\end{align}"
   ]
  },
  {
   "cell_type": "markdown",
   "metadata": {
    "slideshow": {
     "slide_type": "fragment"
    }
   },
   "source": [
    "* Since we need to remove the $x$-values that make the denominator zero we remove the two $x$-values found"
   ]
  },
  {
   "cell_type": "markdown",
   "metadata": {
    "slideshow": {
     "slide_type": "fragment"
    }
   },
   "source": [
    "* Therefore, the domain in interval notation is $(-\\infty, 0) \\cup (0, 4) \\cup (4, \\infty)$"
   ]
  },
  {
   "cell_type": "markdown",
   "metadata": {
    "slideshow": {
     "slide_type": "slide"
    }
   },
   "source": [
    "##### Objective 2: Identify the vertical asymptote(s) of a rational function\n",
    "\n",
    "##### Objective 3: Identify the horizontal asymptote of a rational function"
   ]
  },
  {
   "cell_type": "markdown",
   "metadata": {
    "slideshow": {
     "slide_type": "fragment"
    }
   },
   "source": [
    "##### Horizontal and Vertical Asymptotes\n",
    "\n",
    "* An **asymptote** is a straight line for which the graph of a function $f$ approaches, but does not meet over a finite distance\n",
    "    \n",
    "    * The distance between the graph of the function $f$ and the straight line approaches zero over an *infinite* length measured along the straight line\n",
    "    \n",
    "    * An asymptote can be horizontal, vertical, or slanted, but we will concern ourselves only with horizontal and vertical asymptotes\n",
    "    \n",
    "* A **vertical asymptote (VA)** is a vertical line, $x = a$, for which the graph of a function $f$ approaches the vertical line as $x$ approaches the value $a$\n",
    "\n",
    "    * i.e. The distance between the graph of $f$ and the vertical line goes to zero as $x \\rightarrow a$\n",
    "    \n",
    "    * Note: The graph of a function $f$ can *never* cross a vertical asymptote for any reason\n",
    "\n",
    "* A **horizontal asymptote (HA)** is a horizontal line, $y = c$, for which the graph of a function $f$ approaches the horizontal line as $x$ approaches $\\pm \\infty$\n",
    "\n",
    "    * i.e. The distance between the graph of $f$ and the horizontal line goes to zero as $x \\rightarrow -\\infty$ or $x \\rightarrow +\\infty$\n",
    "    \n",
    "    * Note: The graph of a function $f$ may or may not cross a horizontal asymptote; however, if the graph does cross the asymptote, it will do so far away from the end behavior of the graph"
   ]
  },
  {
   "cell_type": "markdown",
   "metadata": {
    "slideshow": {
     "slide_type": "fragment"
    }
   },
   "source": [
    "##### Locating Vertical Asymptotes of Rational Functions\n",
    "\n",
    "* To find the vertical asymptote(s) of a rational function $\\displaystyle f(x) = \\frac{p(x)}{q(x)}$ we identify all values $x$ for which $q(x) = 0$ while $p(x) \\neq 0$\n",
    "\n",
    "    * Note: for a specific value of $x$, if both $q(x) = 0$ and $p(x) = 0$, then there is a **hole** in the graph, which is a single point that has been removed from an otherwise continous graph\n",
    "    \n",
    "**Steps:**\n",
    "\n",
    "1. Completely factor numerator and denominator of $f(x)$\n",
    "\n",
    "2. Completely reduce $f(x)$\n",
    "    \n",
    "    * Remove common factors from numerator and denominator, if any\n",
    "    \n",
    "        * The $x$ values for which the removed factors are equal to zero is where holes occur\n",
    "\n",
    "3. Set the denominator equal to zero\n",
    "\n",
    "4. Solve for $x$"
   ]
  },
  {
   "cell_type": "markdown",
   "metadata": {
    "slideshow": {
     "slide_type": "fragment"
    }
   },
   "source": [
    "##### Example 3\n",
    "\n",
    "Find the vertical asymptote of the rational function.\n",
    "\n",
    "$$\n",
    "    f(x) = \\frac{x - 3}{x + 2}\n",
    "$$"
   ]
  },
  {
   "cell_type": "markdown",
   "metadata": {
    "slideshow": {
     "slide_type": "fragment"
    }
   },
   "source": [
    "##### Solution:\n",
    "\n",
    "Step 1:\n",
    "\n",
    "* Both numerator and denominator is already factored as much as possible"
   ]
  },
  {
   "cell_type": "markdown",
   "metadata": {
    "slideshow": {
     "slide_type": "fragment"
    }
   },
   "source": [
    "Step 2:\n",
    "\n",
    "* The rational function is already completely reduced"
   ]
  },
  {
   "cell_type": "markdown",
   "metadata": {
    "slideshow": {
     "slide_type": "fragment"
    }
   },
   "source": [
    "Step 3 and 4:\n",
    "\n",
    "* Set the denominator equal to zero and solve:\n",
    "\n",
    "\\begin{align}\n",
    "    x + 2 & = 0 \\\\\n",
    "    & \\Downarrow \\\\\n",
    "    x & = -2\n",
    "\\end{align}"
   ]
  },
  {
   "cell_type": "markdown",
   "metadata": {
    "slideshow": {
     "slide_type": "fragment"
    }
   },
   "source": [
    "* Therefore, there is one VA described by the vertical line $x = -2$"
   ]
  },
  {
   "cell_type": "markdown",
   "metadata": {
    "slideshow": {
     "slide_type": "fragment"
    }
   },
   "source": [
    "##### Locating Horizontal Asymptotes of Rational Functions\n",
    "\n",
    "* To find the horizontal asymptote of a rational function in the form $\\displaystyle f(x) = \\frac{a x^m + \\text{lower power terms}}{b x^n + \\text{lower power terms}}$ we consider three possible cases:\n",
    "\n",
    "    1. If the degree of the numerator is larger than the degree of the denominator, then the graph does not have any horizontal asymptote at all\n",
    "\n",
    "        * i.e. If $m > n$, then there is no horizontal asymptote\n",
    "\n",
    "    2. If the degree of the numerator is equal to the degree of the denominator, then the graph has a horizontal asymptote located at $\\displaystyle y = \\frac{a}{b}$\n",
    "    \n",
    "        * i.e. If $m = n$, then there is a horizontal asymptote at $\\displaystyle y = \\frac{a}{b}$\n",
    "\n",
    "    3. If the degree of the numerator is smaller than the degree of the denominator, then the graph has a horizontal asymptote located at $y = 0$\n",
    "    \n",
    "        * i.e. If $m < n$, then there is a horizontal asymptote at $y = 0$"
   ]
  },
  {
   "cell_type": "markdown",
   "metadata": {
    "slideshow": {
     "slide_type": "fragment"
    }
   },
   "source": [
    "##### Example 4\n",
    "\n",
    "Find the horizontal asymptote of the rational function.\n",
    "\n",
    "$$\n",
    "    f(x) = \\frac{16x^2 + 3}{4x^2 - 9}\n",
    "$$"
   ]
  },
  {
   "cell_type": "markdown",
   "metadata": {
    "slideshow": {
     "slide_type": "fragment"
    }
   },
   "source": [
    "##### Solution:\n",
    "\n",
    "* First, we identify the leading terms for both numerator and denominator:\n",
    "\n",
    "    * Leading term of numerator: $16x^2$\n",
    "    \n",
    "    * Leading term of denominator: $4x^2$"
   ]
  },
  {
   "cell_type": "markdown",
   "metadata": {
    "slideshow": {
     "slide_type": "fragment"
    }
   },
   "source": [
    "* This means that $m = 2 = n$ and we can use case 2 above for determining the HA:\n",
    "\n",
    "\\begin{align}\n",
    "    y & = \\frac{16}{4} \\\\\n",
    "    & \\Downarrow \\\\\n",
    "    y & = 4\n",
    "\\end{align}"
   ]
  },
  {
   "cell_type": "markdown",
   "metadata": {
    "slideshow": {
     "slide_type": "fragment"
    }
   },
   "source": [
    "* Therefore, the HA is described by the horizontal line $y = 4$"
   ]
  },
  {
   "cell_type": "markdown",
   "metadata": {
    "slideshow": {
     "slide_type": "fragment"
    }
   },
   "source": [
    "##### Example 5\n",
    "\n",
    "Find the horizontal asymptote of the rational function.\n",
    "\n",
    "$$\n",
    "    f(x) = \\frac{x^4}{x^2 - 5}\n",
    "$$"
   ]
  },
  {
   "cell_type": "markdown",
   "metadata": {
    "slideshow": {
     "slide_type": "fragment"
    }
   },
   "source": [
    "##### Solution:\n",
    "\n",
    "* We identify the leading terms for both numerator and denominator:\n",
    "\n",
    "    * Leading term of numerator: $x^4$\n",
    "    \n",
    "    * Leading term of denominator: $x^2$"
   ]
  },
  {
   "cell_type": "markdown",
   "metadata": {
    "slideshow": {
     "slide_type": "fragment"
    }
   },
   "source": [
    "* This means $m = 4$ and $n = 2$, and since $m > n$ we have case 1 for HA"
   ]
  },
  {
   "cell_type": "markdown",
   "metadata": {
    "slideshow": {
     "slide_type": "fragment"
    }
   },
   "source": [
    "* Therefore, there is no HA"
   ]
  },
  {
   "cell_type": "markdown",
   "metadata": {
    "slideshow": {
     "slide_type": "fragment"
    }
   },
   "source": [
    "##### Example 6\n",
    "\n",
    "Consider the function given below.\n",
    "\n",
    "$$\n",
    "    f(x) = \\frac{4x}{x^2 + x - 2}\n",
    "$$\n",
    "\n",
    "**(a)** Find the domain of $f$.\n",
    "\n",
    "**(b)** Find the vertical asymptote(s) of $f$.\n",
    "\n",
    "**(c)** Find the horizontal asymptote of $f$."
   ]
  },
  {
   "cell_type": "markdown",
   "metadata": {
    "slideshow": {
     "slide_type": "fragment"
    }
   },
   "source": [
    "##### Solution:\n",
    "\n",
    "**(a)** Find the domain of $f$."
   ]
  },
  {
   "cell_type": "markdown",
   "metadata": {
    "slideshow": {
     "slide_type": "fragment"
    }
   },
   "source": [
    "* To find the domain of any rational function we need only consider the values for which the denominator is equal to zero (if any) and remove them from the set of real numbers"
   ]
  },
  {
   "cell_type": "markdown",
   "metadata": {
    "slideshow": {
     "slide_type": "fragment"
    }
   },
   "source": [
    "* Setting the denominator equal to zero:\n",
    "\n",
    "\\begin{align}\n",
    "    x^2 + x - 2 & = 0 \\\\\n",
    "    & \\Downarrow \\\\\n",
    "    \\color{blue}{(x + 2)(x - 1)} & = 0 \\qquad (\\text{factoring}) \\\\\n",
    "    & \\Downarrow \\\\\n",
    "    x + 2 & = 0 \\\\\n",
    "    & \\Downarrow \\\\\n",
    "    x & = -2 \\\\\n",
    "    & \\text{or} \\\\\n",
    "    x - 1 & = 0 \\\\\n",
    "    & \\Downarrow \\\\\n",
    "    x & = 1\n",
    "\\end{align}"
   ]
  },
  {
   "cell_type": "markdown",
   "metadata": {
    "slideshow": {
     "slide_type": "fragment"
    }
   },
   "source": [
    "* Therefore, we *cannot* include $x = -2$ or $x = 1$ as part of the domain for $f$, but all other real numbers are valid:\n",
    "\n",
    "    * Domain of $f$: $(-\\infty, -2) \\cup (-2, 1) \\cup (1, \\infty)$"
   ]
  },
  {
   "cell_type": "markdown",
   "metadata": {
    "slideshow": {
     "slide_type": "fragment"
    }
   },
   "source": [
    "**(b)** Find the vertical asymptotes of $f$."
   ]
  },
  {
   "cell_type": "markdown",
   "metadata": {
    "slideshow": {
     "slide_type": "fragment"
    }
   },
   "source": [
    "* We need to factor completely the numerator and denominator:\n",
    "\n",
    "    * The numerator is already completely factored\n",
    "    \n",
    "    * We already factored the denominator when finding the domain: $(x - 2)(x + 1)$"
   ]
  },
  {
   "cell_type": "markdown",
   "metadata": {
    "slideshow": {
     "slide_type": "fragment"
    }
   },
   "source": [
    "* In fact, we already solved for $x$ as well and therefore we have VA described by the two vertical lines $x = -2$ and $x = 1$"
   ]
  },
  {
   "cell_type": "markdown",
   "metadata": {
    "slideshow": {
     "slide_type": "fragment"
    }
   },
   "source": [
    "**(c)** Find the horizontal asymptote of $f$."
   ]
  },
  {
   "cell_type": "markdown",
   "metadata": {
    "slideshow": {
     "slide_type": "fragment"
    }
   },
   "source": [
    "* Leading term of numerator: $4x$\n",
    "\n",
    "* Leading term of denominator: $x^2$"
   ]
  },
  {
   "cell_type": "markdown",
   "metadata": {
    "slideshow": {
     "slide_type": "fragment"
    }
   },
   "source": [
    "* This means $m = 1$ and $n = 2 \\Rightarrow m < n \\Rightarrow$ a HA exists at $y = 0$ (the $x$-axis is the HA)"
   ]
  },
  {
   "cell_type": "markdown",
   "metadata": {
    "slideshow": {
     "slide_type": "slide"
    }
   },
   "source": [
    "##### Objective 4: Graphing rational functions"
   ]
  },
  {
   "cell_type": "markdown",
   "metadata": {
    "slideshow": {
     "slide_type": "fragment"
    }
   },
   "source": [
    "##### Graphing Rational Functions\n",
    "\n",
    "For a rational function of the form $\\displaystyle f(x) = \\frac{p(x)}{q(x)} = \\frac{a x^m + \\text{lower power terms}}{b x^n + \\text{lower power terms}}$\n",
    "\n",
    "1. Find the $y$-intercept (if there is one)\n",
    "\n",
    "2. Find the $x$-intercepts (if any) by solving the equation $p(x) = 0$ for $x$\n",
    "\n",
    "3. Find the vertical asymptote(s) by solving the equation $q(x) = 0$ for $x$\n",
    "\n",
    "4. Find the horizontal asymptote by considering the three cases:\n",
    "    \n",
    "    1. $m > n \\Rightarrow$ no horizontal asymptote exists for $f$\n",
    "    \n",
    "    2. $m = n \\Rightarrow$ horizontal asymptote at $y = \\frac{a}{b}$\n",
    "    \n",
    "    3. $m < n \\Rightarrow$ horizontal asymptote at $y = 0$\n",
    "\n",
    "5. Plot all known points and vertical and horizontal asymptotes on the graph.\n",
    "\n",
    "6. Plot at least one point between and beyond each $x$-intercept and vertical asymptote and then connect points without violating asymptote rules\n",
    "\n",
    "**NOTE:** These steps are for *rational functions with no common factors* (rational functions that do not contain holes)"
   ]
  },
  {
   "cell_type": "markdown",
   "metadata": {
    "slideshow": {
     "slide_type": "fragment"
    }
   },
   "source": [
    "##### Example 7\n",
    "\n",
    "Consider the function given below.\n",
    "\n",
    "$$\n",
    "    f(x) = \\frac{1}{x - 3}\n",
    "$$\n",
    "\n",
    "**(a)** Find the $y$-intercept.\n",
    "\n",
    "**(b)** Find the $x$-intercept(s).\n",
    "\n",
    "**(c)** Find the vertical asymptote(s).\n",
    "\n",
    "**(d)** Find the horizontal asymptote.\n",
    "\n",
    "**(e)** Graph."
   ]
  },
  {
   "cell_type": "markdown",
   "metadata": {
    "slideshow": {
     "slide_type": "fragment"
    }
   },
   "source": [
    "##### Solution:\n",
    "\n",
    "**(a)** Find the $y$-intercept."
   ]
  },
  {
   "cell_type": "markdown",
   "metadata": {
    "slideshow": {
     "slide_type": "fragment"
    }
   },
   "source": [
    "* The $y$-intercept for *any* function is determined by $f(0)$:\n",
    "\n",
    "\\begin{align}\n",
    "    f(x) & = \\frac{1}{x - 3} \\\\\n",
    "    & \\Downarrow \\\\\n",
    "    f(0) & = \\frac{1}{0 - 3} \\\\\n",
    "    & = \\frac{1}{-3} \\\\\n",
    "    & \\text{or} \\\\\n",
    "    f(0) & = - \\frac{1}{3}\n",
    "\\end{align}"
   ]
  },
  {
   "cell_type": "markdown",
   "metadata": {
    "slideshow": {
     "slide_type": "fragment"
    }
   },
   "source": [
    "* Therefore, the $y$-intercept is located at the point $\\left( 0, -\\frac{1}{3} \\right)$"
   ]
  },
  {
   "cell_type": "markdown",
   "metadata": {
    "slideshow": {
     "slide_type": "fragment"
    }
   },
   "source": [
    "**(b)** Find the $x$-intercept(s)."
   ]
  },
  {
   "cell_type": "markdown",
   "metadata": {
    "slideshow": {
     "slide_type": "fragment"
    }
   },
   "source": [
    "* Generally, we need to set the numerator equal to zero and solve for $x$, however, the numerator for this particular function does not contain the variable $x$ and is *always* $1 \\Rightarrow$ there are no $x$-intercepts\n",
    "\n",
    "    * This means our graph of $f$ will never cross or even touch the $x$-axis"
   ]
  },
  {
   "cell_type": "markdown",
   "metadata": {
    "slideshow": {
     "slide_type": "fragment"
    }
   },
   "source": [
    "**(c)** Find the vertical asymptotes."
   ]
  },
  {
   "cell_type": "markdown",
   "metadata": {
    "slideshow": {
     "slide_type": "fragment"
    }
   },
   "source": [
    "* The numerator and denominator are both already completely factored and the function is already completely reduced so we need only set the denominator equal to zero and solve for $x$:\n",
    "\n",
    "\\begin{align}\n",
    "    x - 3 & = 0 \\\\\n",
    "    & \\Downarrow \\\\\n",
    "    x & = 3\n",
    "\\end{align}"
   ]
  },
  {
   "cell_type": "markdown",
   "metadata": {
    "slideshow": {
     "slide_type": "fragment"
    }
   },
   "source": [
    "* Therefore, there is a single VA located at $x = 3$"
   ]
  },
  {
   "cell_type": "markdown",
   "metadata": {
    "slideshow": {
     "slide_type": "fragment"
    }
   },
   "source": [
    "**(d)** Find the horizontal asymptote."
   ]
  },
  {
   "cell_type": "markdown",
   "metadata": {
    "slideshow": {
     "slide_type": "fragment"
    }
   },
   "source": [
    "* Leading term of numerator: $1$\n",
    "\n",
    "* Leading term of denominator: $x$"
   ]
  },
  {
   "cell_type": "markdown",
   "metadata": {
    "slideshow": {
     "slide_type": "fragment"
    }
   },
   "source": [
    "* This means $m = 0$ (since no $x$ variable appears) and $n = 1 \\Rightarrow m < n \\Rightarrow$ there is a HA located at $y = 0$"
   ]
  },
  {
   "cell_type": "markdown",
   "metadata": {
    "slideshow": {
     "slide_type": "fragment"
    }
   },
   "source": [
    "**(e)** Graphing:"
   ]
  },
  {
   "cell_type": "code",
   "execution_count": 3,
   "metadata": {
    "slideshow": {
     "slide_type": "fragment"
    }
   },
   "outputs": [],
   "source": [
    "import warnings\n",
    "warnings.filterwarnings('ignore')\n",
    "import numpy as np\n",
    "import matplotlib.pyplot as plt\n",
    "\n",
    "plt.style.use('fivethirtyeight')"
   ]
  },
  {
   "cell_type": "code",
   "execution_count": 6,
   "metadata": {
    "slideshow": {
     "slide_type": "fragment"
    }
   },
   "outputs": [
    {
     "data": {
      "text/plain": [
       "Text(0.5, 1.0, 'Graph of $f(x)$')"
      ]
     },
     "execution_count": 6,
     "metadata": {},
     "output_type": "execute_result"
    },
    {
     "data": {
      "image/png": "[encoded data removed]",
      "text/plain": [
       "<Figure size 1800x1080 with 1 Axes>"
      ]
     },
     "metadata": {},
     "output_type": "display_data"
    }
   ],
   "source": [
    "def f(x):\n",
    "    return 1/(x - 3)\n",
    "\n",
    "x_1 = np.linspace(-10, 2.9, 200)\n",
    "x_2 = np.linspace(3.1, 10, 200)\n",
    "y_1 = f(x_1)\n",
    "y_2 = f(x_2)\n",
    "\n",
    "fig, ax = plt.subplots(figsize=(25, 15))\n",
    "\n",
    "ax.plot(x_1, y_1, color='b')\n",
    "ax.plot(x_2, y_2, color='b', label=r'$f(x)$')\n",
    "ax.axhline(y=0, lw=2, color='k')\n",
    "ax.axvline(x=0, lw=2, color='k')\n",
    "ax.axhline(y = 0, ls='--', color='orange', label='HA')\n",
    "ax.axvline(x = 3, ls='--', color='red', label='VA')\n",
    "ax.set_xlim(-10, 10)\n",
    "ax.set_xticks(np.arange(-10, 11, 1))\n",
    "ax.set_xticklabels(np.arange(-10, 11, 1), fontsize=25)\n",
    "ax.set_ylim(-10, 10)\n",
    "ax.set_yticks(np.arange(-10, 11, 1))\n",
    "ax.set_yticklabels(np.arange(-10, 11, 1), fontsize=25)\n",
    "ax.legend()\n",
    "ax.set_title(r'Graph of $f(x)$')"
   ]
  },
  {
   "cell_type": "markdown",
   "metadata": {
    "slideshow": {
     "slide_type": "fragment"
    }
   },
   "source": [
    "##### Example 8\n",
    "\n",
    "Consider the function given below.\n",
    "\n",
    "$$\n",
    "    f(x) = \\frac{2x}{x - 4}\n",
    "$$\n",
    "\n",
    "**(a)** Find the $y$-intercept.\n",
    "\n",
    "**(b)** Find the $x$-intercept(s).\n",
    "\n",
    "**(c)** Find the vertical asymptote(s).\n",
    "\n",
    "**(d)** Find the horizontal asymptote.\n",
    "\n",
    "**(e)** Graph."
   ]
  },
  {
   "cell_type": "markdown",
   "metadata": {
    "slideshow": {
     "slide_type": "fragment"
    }
   },
   "source": [
    "##### Solution:\n",
    "\n",
    "**(a)** Find the $y$-intercept."
   ]
  },
  {
   "cell_type": "markdown",
   "metadata": {
    "slideshow": {
     "slide_type": "fragment"
    }
   },
   "source": [
    "* We compute $f(0)$:\n",
    "\n",
    "\\begin{align}\n",
    "    f(x) & = \\frac{2x}{x - 4} \\\\\n",
    "    & \\Downarrow \\\\\n",
    "    f(0) & = \\frac{2(0)}{0 - 4} \\\\\n",
    "    & = \\frac{0}{-4} \\\\\n",
    "    & = 0\n",
    "\\end{align}"
   ]
  },
  {
   "cell_type": "markdown",
   "metadata": {
    "slideshow": {
     "slide_type": "fragment"
    }
   },
   "source": [
    "* Therefore, the $y$-intercept is located at the point $(0, 0)$"
   ]
  },
  {
   "cell_type": "markdown",
   "metadata": {
    "slideshow": {
     "slide_type": "fragment"
    }
   },
   "source": [
    "**(b)** Find the $x$-intercept(s)."
   ]
  },
  {
   "cell_type": "markdown",
   "metadata": {
    "slideshow": {
     "slide_type": "fragment"
    }
   },
   "source": [
    "* We set the numerator equal to zero and solve:\n",
    "\n",
    "\\begin{align}\n",
    "    2x & = 0 \\\\\n",
    "    & \\Downarrow \\\\\n",
    "    x & = 0\n",
    "\\end{align}"
   ]
  },
  {
   "cell_type": "markdown",
   "metadata": {
    "slideshow": {
     "slide_type": "fragment"
    }
   },
   "source": [
    "* Therefore, there is a lone $x$-intercept located at the point $(0, 0)$ (just so happens to be the same as the $y$-intercept\n",
    ")"
   ]
  },
  {
   "cell_type": "markdown",
   "metadata": {
    "slideshow": {
     "slide_type": "fragment"
    }
   },
   "source": [
    "**(c)** Find the vertical asymptote(s)."
   ]
  },
  {
   "cell_type": "markdown",
   "metadata": {
    "slideshow": {
     "slide_type": "fragment"
    }
   },
   "source": [
    "* $f$ is completely factored and completely reduced already so we need only set the denominator equal to zero and solve for $x$:\n",
    "\n",
    "\\begin{align}\n",
    "    x - 4 & = 0 \\\\\n",
    "    & \\Downarrow \\\\\n",
    "    x & = 4\n",
    "\\end{align}"
   ]
  },
  {
   "cell_type": "markdown",
   "metadata": {
    "slideshow": {
     "slide_type": "fragment"
    }
   },
   "source": [
    "* Therefore, we have a single VA located a $x = 4$"
   ]
  },
  {
   "cell_type": "markdown",
   "metadata": {
    "slideshow": {
     "slide_type": "fragment"
    }
   },
   "source": [
    "**(d)** Find the horizontal asymptote."
   ]
  },
  {
   "cell_type": "markdown",
   "metadata": {
    "slideshow": {
     "slide_type": "fragment"
    }
   },
   "source": [
    "* Leading term of numerator: $2x$\n",
    "\n",
    "* Leading term of denominator: $x$"
   ]
  },
  {
   "cell_type": "markdown",
   "metadata": {
    "slideshow": {
     "slide_type": "fragment"
    }
   },
   "source": [
    "* This means $m = 1$ and $n = 1 \\Rightarrow m = n \\Rightarrow$ there is a HA asymptote located at\n",
    "\n",
    "\\begin{align}\n",
    "    y & = \\frac{2}{1} \\\\\n",
    "    & \\Downarrow \\\\\n",
    "    y & = 2\n",
    "\\end{align}"
   ]
  },
  {
   "cell_type": "markdown",
   "metadata": {
    "slideshow": {
     "slide_type": "fragment"
    }
   },
   "source": [
    "**(e)** Graphing:"
   ]
  },
  {
   "cell_type": "code",
   "execution_count": 8,
   "metadata": {
    "slideshow": {
     "slide_type": "fragment"
    }
   },
   "outputs": [
    {
     "data": {
      "text/plain": [
       "Text(0.5, 1.0, 'Graph of $f(x)$')"
      ]
     },
     "execution_count": 8,
     "metadata": {},
     "output_type": "execute_result"
    },
    {
     "data": {
      "image/png": "[encoded data removed]",
      "text/plain": [
       "<Figure size 1800x1080 with 1 Axes>"
      ]
     },
     "metadata": {},
     "output_type": "display_data"
    }
   ],
   "source": [
    "def f(x):\n",
    "    return (2*x)/(x - 4)\n",
    "\n",
    "x_1 = np.linspace(-15, 3.9, 200)\n",
    "x_2 = np.linspace(4.1, 15, 200)\n",
    "y_1 = f(x_1)\n",
    "y_2 = f(x_2)\n",
    "\n",
    "fig, ax = plt.subplots(figsize=(25, 15))\n",
    "\n",
    "ax.plot(x_1, y_1, color='b')\n",
    "ax.plot(x_2, y_2, color='b', label=r'$f(x)$')\n",
    "ax.axhline(y=0, lw=2, color='k')\n",
    "ax.axvline(x=0, lw=2, color='k')\n",
    "ax.axhline(y = 2, ls='--', color='orange', label='HA')\n",
    "ax.axvline(x = 4, ls='--', color='red', label='VA')\n",
    "ax.set_xlim(-15, 15)\n",
    "ax.set_xticks(np.arange(-15, 16, 1))\n",
    "ax.set_xticklabels(np.arange(-15, 16, 1), fontsize=25)\n",
    "ax.set_ylim(-20, 20)\n",
    "ax.set_yticks(np.arange(-20, 21, 2))\n",
    "ax.set_yticklabels(np.arange(-20, 21, 2), fontsize=25)\n",
    "ax.legend()\n",
    "ax.set_title(r'Graph of $f(x)$')"
   ]
  },
  {
   "cell_type": "markdown",
   "metadata": {},
   "source": [
    "##### Example 9\n",
    "\n",
    "Consider the function given below.\n",
    "\n",
    "$$\n",
    "    f(x) = \\frac{x + 1}{x^2 + 2x - 3}\n",
    "$$\n",
    "\n",
    "**(a)** Find the $y$-intercept.\n",
    "\n",
    "**(b)** Find the $x$-intercept(s).\n",
    "\n",
    "**(c)** Find the vertical asymptote(s).\n",
    "\n",
    "**(d)** Find the horizontal asymptote.\n",
    "\n",
    "**(e)** Graph."
   ]
  },
  {
   "cell_type": "markdown",
   "metadata": {
    "slideshow": {
     "slide_type": "fragment"
    }
   },
   "source": [
    "##### Solution:\n",
    "\n",
    "**(a)** Find the $y$-intercept."
   ]
  },
  {
   "cell_type": "markdown",
   "metadata": {
    "slideshow": {
     "slide_type": "fragment"
    }
   },
   "source": [
    "* We compute $f(0)$:\n",
    "\n",
    "\\begin{align}\n",
    "    f(x) & = \\frac{x + 1}{x^2 + 2x - 3} \\\\\n",
    "    & \\Downarrow \\\\\n",
    "    f(0) & = \\frac{0 + 1}{(0)^2 + 2(0) - 3} \\\\\n",
    "    & = \\frac{1}{-3} \\\\\n",
    "    & = -\\frac{1}{3}\n",
    "\\end{align}"
   ]
  },
  {
   "cell_type": "markdown",
   "metadata": {
    "slideshow": {
     "slide_type": "fragment"
    }
   },
   "source": [
    "* Therefore, the $y$-intercept is located at the point $\\left( 0, -\\frac{1}{3} \\right)$"
   ]
  },
  {
   "cell_type": "markdown",
   "metadata": {
    "slideshow": {
     "slide_type": "fragment"
    }
   },
   "source": [
    "**(b)** Find the $x$-intrecept(s)."
   ]
  },
  {
   "cell_type": "markdown",
   "metadata": {
    "slideshow": {
     "slide_type": "fragment"
    }
   },
   "source": [
    "* We set the numerator equal to zero and solve for $x$:\n",
    "\n",
    "\\begin{align}\n",
    "    x + 1 & = 0 \\\\\n",
    "    & \\Downarrow \\\\\n",
    "    x & = -1\n",
    "\\end{align}"
   ]
  },
  {
   "cell_type": "markdown",
   "metadata": {
    "slideshow": {
     "slide_type": "fragment"
    }
   },
   "source": [
    "* Therefore, there is an $x$-intercept located at the point $(-1, 0)$"
   ]
  },
  {
   "cell_type": "markdown",
   "metadata": {
    "slideshow": {
     "slide_type": "fragment"
    }
   },
   "source": [
    "**(c)** Find the vertical asymptote(s)."
   ]
  },
  {
   "cell_type": "markdown",
   "metadata": {
    "slideshow": {
     "slide_type": "fragment"
    }
   },
   "source": [
    "* We set the denominator equal to zero and solve for $x$:\n",
    "\n",
    "\\begin{align}\n",
    "    x^2 + 2x - 3 & = 0 \\\\\n",
    "    & \\Downarrow \\\\\n",
    "    \\color{blue}{(x + 3)(x -1)} & = 0 \\qquad (\\text{factoring}) \\\\\n",
    "    & \\Downarrow \\\\\n",
    "    x + 3 & = 0 \\\\\n",
    "    & \\Downarrow \\\\\n",
    "    x & = -3 \\\\\n",
    "    & \\text{or} \\\\\n",
    "    x - 1 & = 0 \\\\\n",
    "    & \\Downarrow \\\\\n",
    "    x & = 1\n",
    "\\end{align}"
   ]
  },
  {
   "cell_type": "markdown",
   "metadata": {
    "slideshow": {
     "slide_type": "fragment"
    }
   },
   "source": [
    "* Therefore, there are two VA's located at $x = -3$ and $x = 1$"
   ]
  },
  {
   "cell_type": "markdown",
   "metadata": {
    "slideshow": {
     "slide_type": "fragment"
    }
   },
   "source": [
    "**(d)** Find the horizontal asymptote."
   ]
  },
  {
   "cell_type": "markdown",
   "metadata": {
    "slideshow": {
     "slide_type": "fragment"
    }
   },
   "source": [
    "* Leading term of numerator: $x$\n",
    "\n",
    "* Leading term of denominator: $x^2$"
   ]
  },
  {
   "cell_type": "markdown",
   "metadata": {
    "slideshow": {
     "slide_type": "fragment"
    }
   },
   "source": [
    "* This means $m = 1$ and $n = 2 \\Rightarrow m < n \\Rightarrow$ there is a HA located at $y = 0$"
   ]
  },
  {
   "cell_type": "markdown",
   "metadata": {
    "slideshow": {
     "slide_type": "fragment"
    }
   },
   "source": [
    "**(e)** Graphing:"
   ]
  },
  {
   "cell_type": "code",
   "execution_count": 10,
   "metadata": {
    "slideshow": {
     "slide_type": "fragment"
    }
   },
   "outputs": [
    {
     "data": {
      "text/plain": [
       "Text(0.5, 1.0, 'Graph of $f(x)$')"
      ]
     },
     "execution_count": 10,
     "metadata": {},
     "output_type": "execute_result"
    },
    {
     "data": {
      "image/png": "[encoded data removed]",
      "text/plain": [
       "<Figure size 1800x1080 with 1 Axes>"
      ]
     },
     "metadata": {},
     "output_type": "display_data"
    }
   ],
   "source": [
    "def f(x):\n",
    "    return (x + 1)/(x**2 + 2*x - 3)\n",
    "\n",
    "x_1 = np.linspace(-10, -3.05, 200)\n",
    "x_2 = np.linspace(-2.95, 0.95, 200)\n",
    "x_3 = np.linspace(1.05, 10, 200)\n",
    "y_1 = f(x_1)\n",
    "y_2 = f(x_2)\n",
    "y_3 = f(x_3)\n",
    "\n",
    "fig, ax = plt.subplots(figsize=(25, 15))\n",
    "\n",
    "ax.plot(x_1, y_1, color='b')\n",
    "ax.plot(x_2, y_2, color='b')\n",
    "ax.plot(x_3, y_3, color='b', label=r'$f(x)$')\n",
    "ax.axhline(y=0, lw=2, color='k')\n",
    "ax.axvline(x=0, lw=2, color='k')\n",
    "ax.axhline(y = 0, ls='--', color='orange', label='HA')\n",
    "ax.axvline(x = -3, ls='--', color='red', label='VA')\n",
    "ax.axvline(x = 1, ls='--', color='red', label='VA')\n",
    "ax.set_xlim(-10, 10)\n",
    "ax.set_xticks(np.arange(-10, 11, 1))\n",
    "ax.set_xticklabels(np.arange(-10, 11, 1), fontsize=25)\n",
    "ax.set_ylim(-10, 10)\n",
    "ax.set_yticks(np.arange(-10, 11, 1))\n",
    "ax.set_yticklabels(np.arange(-10, 11, 1), fontsize=25)\n",
    "ax.legend()\n",
    "ax.set_title(r'Graph of $f(x)$')"
   ]
  },
  {
   "cell_type": "markdown",
   "metadata": {
    "slideshow": {
     "slide_type": "slide"
    }
   },
   "source": [
    "### End Section"
   ]
  }
 ],
 "metadata": {
  "celltoolbar": "Slideshow",
  "kernelspec": {
   "display_name": "Python 3",
   "language": "python",
   "name": "python3"
  },
  "language_info": {
   "codemirror_mode": {
    "name": "ipython",
    "version": 3
   },
   "file_extension": ".py",
   "mimetype": "text/x-python",
   "name": "python",
   "nbconvert_exporter": "python",
   "pygments_lexer": "ipython3",
   "version": "3.8.8"
  },
  "latex_envs": {
   "LaTeX_envs_menu_present": true,
   "autoclose": false,
   "autocomplete": true,
   "bibliofile": "biblio.bib",
   "cite_by": "apalike",
   "current_citInitial": 1,
   "eqLabelWithNumbers": true,
   "eqNumInitial": 1,
   "hotkeys": {
    "equation": "Ctrl-E",
    "itemize": "Ctrl-I"
   },
   "labels_anchors": false,
   "latex_user_defs": false,
   "report_style_numbering": false,
   "user_envs_cfg": false
  },
  "rise": {
   "enable_chalkboard": true,
   "theme": "sky",
   "transition": "zoom"
  }
 },
 "nbformat": 4,
 "nbformat_minor": 4
}
