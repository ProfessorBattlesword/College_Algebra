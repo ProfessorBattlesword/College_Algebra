{
 "cells": [
  {
   "cell_type": "markdown",
   "metadata": {
    "slideshow": {
     "slide_type": "slide"
    }
   },
   "source": [
    "# Chapter 3: Polynomial and Rational Functions"
   ]
  },
  {
   "cell_type": "markdown",
   "metadata": {
    "slideshow": {
     "slide_type": "slide"
    }
   },
   "source": [
    "### Section 3.2: Polynomial Functions\n",
    "\n",
    "##### Objective 1: Identify polynomial functions\n",
    "\n",
    "##### Objective 2: Recognize characteristics of graphs of polynomial functions\n",
    "\n",
    "##### Objective 3: Determine the end behavior\n",
    "\n",
    "##### Objective 4: Use factoring to find zeros of polynomial functions\n",
    "\n",
    "##### Objective 5: Identify zeros and their multiplicites\n",
    "\n",
    "##### Objective 6: Understand the relationship between degree and turning points\n",
    "\n",
    "##### Objective 7: Graph polynomial functions"
   ]
  },
  {
   "cell_type": "markdown",
   "metadata": {
    "slideshow": {
     "slide_type": "slide"
    }
   },
   "source": [
    "##### Objective 1: Identify polynomial functions"
   ]
  },
  {
   "cell_type": "markdown",
   "metadata": {
    "slideshow": {
     "slide_type": "fragment"
    }
   },
   "source": [
    "##### Polynomial Function\n",
    "\n",
    "* Let $n$ be a nonnegative integer and let $a_n, a_{n - 1}, \\dots, a_1,$ and $a_0$ be real numbers with $a_n \\neq 0$\n",
    "\n",
    "* The function defined by\n",
    "$$\n",
    "    f(x) = a_n x^n + a_{n - 1} x^{n - 1} + \\dots + a_2 x^2 + a_1 x + a_0\n",
    "$$\n",
    "is called a **polynomial function of degree $n$**\n",
    "\n",
    "* The number $a_n$, the coefficient of the variable to the highest power, is called the **leading coefficient**"
   ]
  },
  {
   "cell_type": "markdown",
   "metadata": {
    "slideshow": {
     "slide_type": "fragment"
    }
   },
   "source": [
    "##### Objective 2: Recognize characteristics of graphs of polynomial functions"
   ]
  },
  {
   "cell_type": "markdown",
   "metadata": {
    "slideshow": {
     "slide_type": "fragment"
    }
   },
   "source": [
    "##### Characteristics of Graphs of Polynomial Functions\n",
    "\n",
    "* Polynomial functions of degree $2$ or higher have graphs that are smooth and continuous\n",
    "\n",
    "    * By smooth, we mean that the graphs contain only rounded curves with no sharp corners\n",
    "\n",
    "    * By continuous we mean that the graph has no breaks and can be drawn without lifting your writing utencil from the rectangular coordinate system"
   ]
  },
  {
   "cell_type": "markdown",
   "metadata": {
    "slideshow": {
     "slide_type": "fragment"
    }
   },
   "source": [
    "##### Objective 3: Determine the end behavior"
   ]
  },
  {
   "cell_type": "markdown",
   "metadata": {
    "slideshow": {
     "slide_type": "fragment"
    }
   },
   "source": [
    "##### End Behavior of Polynomial Graphs\n",
    "\n",
    "* The behavior of the graph of a function to the far left or the far right is called its **end behavior**\n",
    "\n",
    "* The *degree of the polynomial* and the *leading coefficient* will determine the end behavior of the graph\n",
    "\n",
    "* There are 4 possible end behaviors for a polynomial graph:\n",
    "\n",
    "    1. If the <u>*degree*</u> of the polynomial is an <u>*odd number*</u> and the <u>*leading coefficient is positive*</u>, then its graph will <u>*fall to the left and rise to the right*</u>\n",
    "\n",
    "    2. If the <u>*degree*</u> of the polynomial is an <u>*odd number*</u> and the <u>*leading coefficient is negative*</u>, then its graph will <u>*rise to the left and fall to the right*</u>\n",
    "\n",
    "    3. If the <u>*degree*</u> of the polynomial is an <u>*even number*</u> and the <u>*leading coefficient is positive*</u>, then its graph will <u>*rise to the left and rise to the right*</u>\n",
    "\n",
    "    4. If the <u>*degree*</u> of the polynomial is an <u>*even number*</u> and the <u>*leading coefficient is negative*</u>, then its graph will <u>*fall to the left and fall to the right*</u>\n",
    "\n",
    "* The 4 possible end behaviors are illustrated below:\n",
    "\n",
    "<table>\n",
    "    <tr>\n",
    "        <th style=\"text-align: center\"; colspan=4>\n",
    "            End Behavior of Polynomial with Leading Coefficient: $a_n x^n$\n",
    "        </th>\n",
    "    </tr>\n",
    "<!--     <tr>\n",
    "        <th>\n",
    "        </th>\n",
    "        <th>\n",
    "        </th>\n",
    "        <th colspan=2>\n",
    "            Degree, $n$, of Polynomial\n",
    "        </th>\n",
    "    </tr> -->\n",
    "    <tr>\n",
    "        <th>\n",
    "        </th>\n",
    "<!--         <th>\n",
    "        </th> -->\n",
    "        <th style=\"text-align: center\">\n",
    "            $n$ is odd\n",
    "        </th>\n",
    "        <th style=\"text-align: center\">\n",
    "            $n$ is even\n",
    "        </th>\n",
    "    </tr>\n",
    "<!--     <tr>\n",
    "        <th style=\"text-align: center\"; rowspan=3>\n",
    "            Leading Coefficient\n",
    "        </th>\n",
    "    </tr> -->\n",
    "    <tr>\n",
    "        <td style=\"width: 25%; text-align: center\">\n",
    "            $a_n > 0$\n",
    "        </td>\n",
    "        <td style=\"text-align: center\">\n",
    "            $\\swarrow \\nearrow$\n",
    "        </td>\n",
    "        <td style=\"text-align: center\">\n",
    "            $\\nwarrow \\nearrow$\n",
    "        </td>\n",
    "    </tr>\n",
    "    <tr>\n",
    "        <td style=\"width: 25%; text-align: center\">\n",
    "            $a_n < 0$\n",
    "        </td>\n",
    "        <td style=\"text-align: center\">\n",
    "            $\\nwarrow \\searrow$\n",
    "        </td>\n",
    "        <td style=\"text-align: center\">\n",
    "            $\\swarrow \\searrow$\n",
    "        </td>\n",
    "    </tr>\n",
    "</table>"
   ]
  },
  {
   "cell_type": "markdown",
   "metadata": {
    "slideshow": {
     "slide_type": "fragment"
    }
   },
   "source": [
    "##### Example 1\n",
    "\n",
    "Use the leading term to determine the end behavior of the graph of the given polynomial function.\n",
    "\n",
    "$$\n",
    "    f(x) = 3x^7 + 45x^3 + 7\n",
    "$$"
   ]
  },
  {
   "cell_type": "markdown",
   "metadata": {
    "slideshow": {
     "slide_type": "fragment"
    }
   },
   "source": [
    "##### Solution:\n",
    "\n",
    "* The leading term of the polynomial is $3x^7$"
   ]
  },
  {
   "cell_type": "markdown",
   "metadata": {
    "slideshow": {
     "slide_type": "fragment"
    }
   },
   "source": [
    "* The degree of the polynomial is therefore $n = 7$, which is *odd*"
   ]
  },
  {
   "cell_type": "markdown",
   "metadata": {
    "slideshow": {
     "slide_type": "fragment"
    }
   },
   "source": [
    "* The leading coefficient is $3$ which is *positive*"
   ]
  },
  {
   "cell_type": "markdown",
   "metadata": {
    "slideshow": {
     "slide_type": "fragment"
    }
   },
   "source": [
    "* Therefore, the end behavior of the polynomial can be described as $\\boxed{\\text{falls to the left and rises to the right}}$"
   ]
  },
  {
   "cell_type": "markdown",
   "metadata": {
    "slideshow": {
     "slide_type": "fragment"
    }
   },
   "source": [
    "##### Example 2\n",
    "\n",
    "Use the leading term to determine the end behavior of the graph of the given polynomial function.\n",
    "\n",
    "$$\n",
    "    f(x) = -4x(x - 4)^2(x + 5)^3\n",
    "$$"
   ]
  },
  {
   "cell_type": "markdown",
   "metadata": {
    "slideshow": {
     "slide_type": "fragment"
    }
   },
   "source": [
    "##### Solution:\n",
    "\n",
    "* The leading term of the polynomial would require multiplying the factors out"
   ]
  },
  {
   "cell_type": "markdown",
   "metadata": {
    "slideshow": {
     "slide_type": "fragment"
    }
   },
   "source": [
    "* The degree of the polynomial can be determined by *adding* the exponents of each factor: $n = 1 + 2 + 3 = 6$, which is *even*"
   ]
  },
  {
   "cell_type": "markdown",
   "metadata": {
    "slideshow": {
     "slide_type": "fragment"
    }
   },
   "source": [
    "* We can determine the leading coefficient by examining the coefficients of each factor and multiplying them, which gives us $-4$"
   ]
  },
  {
   "cell_type": "markdown",
   "metadata": {
    "slideshow": {
     "slide_type": "fragment"
    }
   },
   "source": [
    "* Therefore, the end behavior of the polynomial can be described as $\\boxed{\\text{falls to the left and falls to the right}}$"
   ]
  },
  {
   "cell_type": "markdown",
   "metadata": {
    "slideshow": {
     "slide_type": "slide"
    }
   },
   "source": [
    "##### Objective 4: Use factoring to find zeros of polynomial functions"
   ]
  },
  {
   "cell_type": "markdown",
   "metadata": {
    "slideshow": {
     "slide_type": "fragment"
    }
   },
   "source": [
    "##### Finding Zeros of Polynomial Functions\n",
    "\n",
    "* If $f$ is a polynomial function, then the values of $x$ for which $f(x)$ is equal to $0$ are called **zeros** of $f$\n",
    "\n",
    "    * These values of $x$ are the **roots**, or **solutions**, of the polynomial equation $f(x) = 0$\n",
    "\n",
    "    * Each real root of the polynomial equation appears as an $x$-intercept of the graph of the polynomial function"
   ]
  },
  {
   "cell_type": "markdown",
   "metadata": {
    "slideshow": {
     "slide_type": "fragment"
    }
   },
   "source": [
    "##### Example 3\n",
    "\n",
    "Find all the zeros of $f(x) = x(x - 4)^2(x + 5)^3$."
   ]
  },
  {
   "cell_type": "markdown",
   "metadata": {
    "slideshow": {
     "slide_type": "fragment"
    }
   },
   "source": [
    "##### Solution:\n",
    "\n",
    "* We set $f(x)$ equal to zero and apply the zero product rule:\n",
    "\n",
    "\\begin{align}\n",
    "    f(x) & = 0 \\\\\n",
    "    & \\Downarrow \\\\\n",
    "    x(x - 4)^2(x + 5)^3 & = 0 \\\\\n",
    "    & \\Downarrow \\\\\n",
    "    x & = 0 \\\\\n",
    "    & \\text{or} \\\\\n",
    "    x - 4 & = 0 \\\\\n",
    "    & \\Downarrow \\\\\n",
    "    x & = 4 \\\\\n",
    "    & \\text{or} \\\\\n",
    "    x + 5 & = 0 \\\\\n",
    "    & \\Downarrow \\\\\n",
    "    x & = -5\n",
    "\\end{align}"
   ]
  },
  {
   "cell_type": "markdown",
   "metadata": {
    "slideshow": {
     "slide_type": "fragment"
    }
   },
   "source": [
    "* Therefore, the zeros of the polynomial are $x = -5, x = 0,$ and $x = 4$"
   ]
  },
  {
   "cell_type": "markdown",
   "metadata": {
    "slideshow": {
     "slide_type": "fragment"
    }
   },
   "source": [
    "##### Example 4\n",
    "\n",
    "Find all the zeros of $f(x) = -32x^2 + 256x$."
   ]
  },
  {
   "cell_type": "markdown",
   "metadata": {
    "slideshow": {
     "slide_type": "fragment"
    }
   },
   "source": [
    "##### Solution:\n",
    "\n",
    "* We set $f(x)$ equal to zero and then factor:\n",
    "\n",
    "\\begin{align}\n",
    "    f(x) & = 0 \\\\\n",
    "    & \\Downarrow \\\\\n",
    "    -32x^2 + 256x & = 0 \\\\\n",
    "    -32x(x - 8) & = 0 \\qquad (\\text{factor out the GCF})\n",
    "\\end{align}"
   ]
  },
  {
   "cell_type": "markdown",
   "metadata": {
    "slideshow": {
     "slide_type": "fragment"
    }
   },
   "source": [
    "* Now apply the zero product rule:\n",
    "\n",
    "\\begin{align}\n",
    "    -32x & = 0 \\\\\n",
    "    & \\Downarrow \\\\\n",
    "    x & = 0 \\\\\n",
    "    & \\text{or} \\\\\n",
    "    x - 8 & = 0 \\\\\n",
    "    & \\Downarrow \\\\\n",
    "    x & = 8\n",
    "\\end{align}"
   ]
  },
  {
   "cell_type": "markdown",
   "metadata": {
    "slideshow": {
     "slide_type": "fragment"
    }
   },
   "source": [
    "* Therefore, the zeros of the polynomial are $x = 0$ and $x = 8$"
   ]
  },
  {
   "cell_type": "markdown",
   "metadata": {
    "slideshow": {
     "slide_type": "slide"
    }
   },
   "source": [
    "##### Objective 5: Identify zeros and their multiplicites"
   ]
  },
  {
   "cell_type": "markdown",
   "metadata": {
    "slideshow": {
     "slide_type": "fragment"
    }
   },
   "source": [
    "##### Multiplicity of Zeros\n",
    "\n",
    "* **Multiplicity** is the number of times a zero occurs\n",
    "\n",
    "* The multiplicity can be determined by the exponent of the factors of the polynomial\n",
    "\n",
    "* Behavior of polynomials near zeros:\n",
    "\n",
    "    * If the <u>*multiplicity of a zero is an even number*</u> the graph <u>*touches the $x$-axis*</u> at this real zero, and then turns around (i.e. the graph \"bounces\" off the $x$-axis at this $x$-intercept)\n",
    "\n",
    "    * If the <u>*multiplicity of a zero is an odd number*</u> the graph <u>*crosses the $x$-axis*</u> at this real zero (i.e. the graph \"penatrates\" the $x$-axis through this $x$-intercept)"
   ]
  },
  {
   "cell_type": "markdown",
   "metadata": {
    "slideshow": {
     "slide_type": "fragment"
    }
   },
   "source": [
    "##### Objective 6: Understand the relationship between degree and turning points"
   ]
  },
  {
   "cell_type": "markdown",
   "metadata": {
    "slideshow": {
     "slide_type": "fragment"
    }
   },
   "source": [
    "##### Turning Points\n",
    "\n",
    "* The total number of turning points (total number of \"peaks\" and \"valleys\") on the graph of a polynomial function of degree $n$ is at most $n - 1$\n",
    "\n",
    "* The number of $x$-intercepts on the graph of a polynomial function of degree $n$ is at most $n$"
   ]
  },
  {
   "cell_type": "markdown",
   "metadata": {
    "slideshow": {
     "slide_type": "fragment"
    }
   },
   "source": [
    "##### Example 5\n",
    "\n",
    "Given the function\n",
    "\n",
    "$$\n",
    "    f(x) = -5(x - 2)^5(x + 5)^6\n",
    "$$\n",
    "\n",
    "**(a)** Find the end behavior.\n",
    "\n",
    "**(b)** Find all the zeros.\n",
    "\n",
    "**(c)** Find the mulitplicity of each zero.\n",
    "\n",
    "**(d)** Determine whether the graph crosses or touches the $x$-axis at each zero.\n",
    "\n",
    "**(e)** Determine the maximum possible number of turning points."
   ]
  },
  {
   "cell_type": "markdown",
   "metadata": {
    "slideshow": {
     "slide_type": "fragment"
    }
   },
   "source": [
    "##### Solution:\n",
    "\n",
    "**(a)** Find the end behavior.\n",
    "\n",
    "* Since the polynomial is already factored, we need to add up all of the powers of $x$:\n",
    "    \n",
    "    * The degree of the polynomial is $n = 5 + 6 = 11$, which is *odd*\n",
    "\n",
    "* The leading coefficient is $-5$, which is *negative*\n",
    "\n",
    "* Therefore, the end behavior can be summarized as $\\boxed{\\text{rises to the left and falls to the right}}$"
   ]
  },
  {
   "cell_type": "markdown",
   "metadata": {
    "slideshow": {
     "slide_type": "fragment"
    }
   },
   "source": [
    "**(b)** Find all the zeros.\n",
    "\n",
    "* We need to set $f(x)$ equal to zero and solve:\n",
    "\n",
    "\\begin{align}\n",
    "    f(x) & = 0 \\\\\n",
    "    & \\Downarrow \\\\\n",
    "    -5(x - 2)^5(x + 5)^6 & = 0 \\\\\n",
    "    & \\Downarrow \\\\\n",
    "    x - 2 & = 0 \\\\\n",
    "    & \\Downarrow \\\\\n",
    "    x & = 2 \\\\\n",
    "    & \\text{or} \\\\\n",
    "    x + 5 & = 0 \\\\\n",
    "    & \\Downarrow \\\\\n",
    "    x & = -5\n",
    "\\end{align}\n",
    "\n",
    "* Therefore, the zeros of $f(x)$ are $x = -5$ and $x = 2$"
   ]
  },
  {
   "cell_type": "markdown",
   "metadata": {
    "slideshow": {
     "slide_type": "fragment"
    }
   },
   "source": [
    "**(c)** Find the mulitplicity of each zero.\n",
    "\n",
    "* The factored form of $f(x)$ is $-5(x - 2)^5(x + 5)^6$\n",
    "\n",
    "* The power on the factor $x - 2$ is $5$, and therefore the zero $x = 2$ has a corresponding $\\boxed{\\text{multiplicity of $5$}}$\n",
    "\n",
    "* The power on the factor $x + 5$ is $6$, and therefore the zero $x = -5$ has a corresponding $\\boxed{\\text{multiplicity of $6$}}$"
   ]
  },
  {
   "cell_type": "markdown",
   "metadata": {
    "slideshow": {
     "slide_type": "fragment"
    }
   },
   "source": [
    "**(d)** Determine whether the graph crosses or touches the $x$-axis at each zero.\n",
    "\n",
    "* Since the multiplicity of $x = 2$ is $5$, and $5$ is *odd*, the graph of the polynomial *crosses* the $x$-axis at the point $(2, 0)$\n",
    "\n",
    "* Since the multiplicity of $x=-5$ is $6$, and $6$ is *even*, the graph of the polynomial *bounces* off the $x$-axis at the point $(-5, 0)$"
   ]
  },
  {
   "cell_type": "markdown",
   "metadata": {
    "slideshow": {
     "slide_type": "fragment"
    }
   },
   "source": [
    "**(e)** Determine the maximum number of turning points.\n",
    "\n",
    "* The degree of the polynomial is $n = 11$, and therefore the total *maximum <u>possible</u> turning points is $n - 1 = \\boxed{10}$*"
   ]
  },
  {
   "cell_type": "markdown",
   "metadata": {
    "slideshow": {
     "slide_type": "fragment"
    }
   },
   "source": [
    "##### Example 6\n",
    "\n",
    "Given the function\n",
    "\n",
    "$$\n",
    "    f(x) = x^4 - 8x^3 + 16x^2\n",
    "$$\n",
    "\n",
    "**(a)** Find the end behavior.\n",
    "\n",
    "**(b)** Find all the zeros.\n",
    "\n",
    "**(c)** Find the mulitplicity of each zero.\n",
    "\n",
    "**(d)** Determine whether the graph crosses or touches the $x$-axis at each zero.\n",
    "\n",
    "**(e)** Determine the maximum number of turning points."
   ]
  },
  {
   "cell_type": "markdown",
   "metadata": {
    "slideshow": {
     "slide_type": "fragment"
    }
   },
   "source": [
    "##### Solution:\n",
    "\n",
    "**(a)** Find the end behavior.\n",
    "\n",
    "* Since the polynomial is *not* already factored, we need only look at the term containing the highest power of $x$:\n",
    "\n",
    "    * The leading term of the polynomial is therefore $x^4$\n",
    "    \n",
    "* The degree of the polynomial is $n = 4$, which is *even*\n",
    "\n",
    "* The leading coefficient is $1$, which is *positive*\n",
    "\n",
    "* Therefore, the end behavior can be summarized as $\\boxed{\\text{rises to the left and rises to the right}}$"
   ]
  },
  {
   "cell_type": "markdown",
   "metadata": {
    "slideshow": {
     "slide_type": "fragment"
    }
   },
   "source": [
    "**(b)** Find all the zeros.\n",
    "\n",
    "* We need to set $f(x)$ equal to zero and solve:\n",
    "\n",
    "\\begin{align}\n",
    "    f(x) & = 0 \\\\\n",
    "    & \\Downarrow \\\\\n",
    "    x^4 - 8x^3 + 16x^2 & = 0 \\\\\n",
    "    & \\Downarrow \\\\\n",
    "    \\color{blue}{x^2}(x^2 - 8x + 16) & = 0 \\qquad (\\text{factor out the GCF}) \\\\\n",
    "    & \\Downarrow \\\\\n",
    "    x^2\\color{blue}{(x - 4)(x - 4)} & = 0 \\qquad (\\text{factor what remains}) \\\\\n",
    "    & \\Downarrow \\\\\n",
    "    x^2\\color{blue}{(x - 4)^2} & = 0 \\qquad (\\text{condense common factors}) \\\\\n",
    "    & \\Downarrow \\\\\n",
    "    x^2 & = 0 \\\\\n",
    "    & \\Downarrow \\\\\n",
    "    x & = 0 \\\\\n",
    "    & \\text{or} \\\\\n",
    "    x - 4 & = 0 \\\\\n",
    "    & \\Downarrow \\\\\n",
    "    x & = 4\n",
    "\\end{align}\n",
    "\n",
    "* Therefore, the zeros of $f(x)$ are $x = 0$ and $x = 4$"
   ]
  },
  {
   "cell_type": "markdown",
   "metadata": {
    "slideshow": {
     "slide_type": "fragment"
    }
   },
   "source": [
    "**(c)** Find the mulitplicity of each zero.\n",
    "\n",
    "* The factored form of $f(x)$ is $x^2(x - 4)^2$\n",
    "\n",
    "* The power on the factor $x$ is $2$, and therefore the zero $x = 0$ has a corresponding $\\boxed{\\text{multiplicity of $2$}}$\n",
    "\n",
    "* The power on the factor $x - 4$ is $2$, and therefore the zero $x = 4$ has a corresponding $\\boxed{\\text{multiplicity of $2$}}$"
   ]
  },
  {
   "cell_type": "markdown",
   "metadata": {
    "slideshow": {
     "slide_type": "fragment"
    }
   },
   "source": [
    "**(d)** Determine whether the graph crosses or touches the $x$-axis at each zero.\n",
    "\n",
    "* Since the multiplicity of $x = 0$ is $2$, and $2$ is *even*, the graph of the polynomial *bounces* off the $x$-axis at the point $(0, 0)$\n",
    "\n",
    "* Since the multiplicity of $x = 4$ is $2$, and $2$ is *even*, the graph of the polynomial *bounces* off the $x$-axis at the point $(4, 0)$"
   ]
  },
  {
   "cell_type": "markdown",
   "metadata": {
    "slideshow": {
     "slide_type": "fragment"
    }
   },
   "source": [
    "**(e)** Determine the maximum number of turning points.\n",
    "\n",
    "* The degree of the polynomial is $n = 4$, and therefore the total *maximum <u>possible</u> turning points is $n - 1 = \\boxed{3}$*"
   ]
  },
  {
   "cell_type": "markdown",
   "metadata": {
    "slideshow": {
     "slide_type": "slide"
    }
   },
   "source": [
    "##### Objective 7: Graph polynomial functions"
   ]
  },
  {
   "cell_type": "markdown",
   "metadata": {
    "slideshow": {
     "slide_type": "fragment"
    }
   },
   "source": [
    "##### Example 7\n",
    "\n",
    "Given the function\n",
    "\n",
    "$$\n",
    "    f(x) = -x^2(x - 3)(x + 4)\n",
    "$$\n",
    "\n",
    "**(a)** Find the end behavior.\n",
    "\n",
    "**(b)** Find all $x$-intercepts.\n",
    "\n",
    "**(c)** Find the mulitplicity of each zero.\n",
    "\n",
    "**(d)** Determine whether the graph crosses or touches the $x$-axis at each zero.\n",
    "\n",
    "**(e)** Determine the maximum number of turning points.\n",
    "\n",
    "**(f)** Find the $y$-intercept.\n",
    "\n",
    "**(g)** Graph."
   ]
  },
  {
   "cell_type": "markdown",
   "metadata": {
    "slideshow": {
     "slide_type": "fragment"
    }
   },
   "source": [
    "##### Solution:\n",
    "\n",
    "**(a)** Find the end behavior.\n",
    "\n",
    "* Since the polynomial is already factored, we need to add up all of the powers of $x$:\n",
    "    \n",
    "    * The degree of the polynomial is $n = 2 + 1 + 1 = 4$, which is *even*\n",
    "\n",
    "* The leading coefficient is $-1$, which is *negative*\n",
    "\n",
    "* Therefore, the end behavior can be summarized as $\\boxed{\\text{falls to the left and falls to the right}}$"
   ]
  },
  {
   "cell_type": "markdown",
   "metadata": {
    "slideshow": {
     "slide_type": "fragment"
    }
   },
   "source": [
    "**(b)** Find all the zeros.\n",
    "\n",
    "* We need to set $f(x)$ equal to zero and solve:\n",
    "\n",
    "\\begin{align}\n",
    "    f(x) & = 0 \\\\\n",
    "    & \\Downarrow \\\\\n",
    "    -x^2(x - 3)(x + 4) & = 0 \\\\\n",
    "    & \\Downarrow \\\\\n",
    "    x^2 & = 0 \\\\\n",
    "    & \\Downarrow \\\\\n",
    "    x & = 0 \\\\\n",
    "    & \\text{or} \\\\\n",
    "    x - 3 & = 0 \\\\\n",
    "    & \\Downarrow \\\\\n",
    "    x & = 3 \\\\\n",
    "    & \\Downarrow \\\\\n",
    "    x + 4 & = 0 \\\\\n",
    "    & \\Downarrow \\\\\n",
    "    x & = -4\n",
    "\\end{align}\n",
    "\n",
    "* Therefore, the zeros of $f(x)$ are $x = -4, x = 0,$ and $x = 3$"
   ]
  },
  {
   "cell_type": "markdown",
   "metadata": {
    "slideshow": {
     "slide_type": "fragment"
    }
   },
   "source": [
    "**(c)** Find the mulitplicity of each zero.\n",
    "\n",
    "* The factored form of $f(x)$ is $-x^2(x - 3)(x + 4)$\n",
    "\n",
    "* The power on the factor $x + 4$ is $1$, and therefore the zero $x = -4$ has a corresponding $\\boxed{\\text{multiplicity of $1$}}$\n",
    "\n",
    "* The power on the factor $x$ is $2$, and therefore the zero $x = 0$ has a corresponding $\\boxed{\\text{multiplicity of $2$}}$\n",
    "\n",
    "* The power on the factor $x - 3$ is $1$, and therefore the zero $x = 3$ has a corresponding $\\boxed{\\text{multiplicity of $1$}}$"
   ]
  },
  {
   "cell_type": "markdown",
   "metadata": {
    "slideshow": {
     "slide_type": "fragment"
    }
   },
   "source": [
    "**(d)** Determine whether the graph crosses or touches the $x$-axis at each zero.\n",
    "\n",
    "* Since the multiplicity of $x = -4$ is $1$, and $1$ is *odd*, the graph of the polynomial *crosses* the $x$-axis at the point $(-4, 0)$\n",
    "\n",
    "* Since the multiplicity of $x = 0$ is $2$, and $2$ is *even*, the graph of the polynomial *bounces* off the $x$-axis at the point $(0, 0)$\n",
    "\n",
    "* Since the multiplicity of $x = 3$ is $1$, and $1$ is *odd*, the graph of the polynomial *crosses* the $x$-axis at the point $(3, 0)$"
   ]
  },
  {
   "cell_type": "markdown",
   "metadata": {
    "slideshow": {
     "slide_type": "fragment"
    }
   },
   "source": [
    "**(e)** Determine the maximum number of turning points.\n",
    "\n",
    "* The degree of the polynomial is $n = 4$, and therefore the total *maximum <u>possible</u> turning points is $n - 1 = \\boxed{3}$*"
   ]
  },
  {
   "cell_type": "markdown",
   "metadata": {
    "slideshow": {
     "slide_type": "fragment"
    }
   },
   "source": [
    "**(f)** Find the $y$-intercept.\n",
    "\n",
    "* To determine the $y$-intercept for *any* function we need only plug in $x = 0$ into $f(x)$\n",
    "\n",
    "* From the previous work done above, we know that $x = 0$ is a zero and therefore $f(0) = 0$ (or $(0, 0)$) is the $y$-intercept"
   ]
  },
  {
   "cell_type": "markdown",
   "metadata": {
    "slideshow": {
     "slide_type": "fragment"
    }
   },
   "source": [
    "**(g)** Graphing:"
   ]
  },
  {
   "cell_type": "code",
   "execution_count": 1,
   "metadata": {
    "slideshow": {
     "slide_type": "fragment"
    }
   },
   "outputs": [],
   "source": [
    "import warnings\n",
    "warnings.filterwarnings('ignore')\n",
    "import numpy as np\n",
    "import matplotlib.pyplot as plt\n",
    "\n",
    "plt.style.use('fivethirtyeight')"
   ]
  },
  {
   "cell_type": "code",
   "execution_count": 3,
   "metadata": {
    "scrolled": false,
    "slideshow": {
     "slide_type": "fragment"
    }
   },
   "outputs": [
    {
     "data": {
      "text/plain": [
       "Text(0.5, 1.0, 'Graph of the Polynomial $f(x)$')"
      ]
     },
     "execution_count": 3,
     "metadata": {},
     "output_type": "execute_result"
    },
    {
     "data": {
      "image/png": "[encoded data removed]",
      "text/plain": [
       "<Figure size 1800x1080 with 1 Axes>"
      ]
     },
     "metadata": {},
     "output_type": "display_data"
    }
   ],
   "source": [
    "def f(x):\n",
    "    return -x**2*(x - 3)*(x + 4)\n",
    "\n",
    "x = np.linspace(-10, 10, 200)\n",
    "y = f(x)\n",
    "\n",
    "fig, ax = plt.subplots(figsize=(25, 15))\n",
    "\n",
    "ax.plot(x, y, color='b', label=r'$f(x)$')\n",
    "ax.axvline(x=0, lw=2, color='k')\n",
    "ax.axhline(y=0, lw=2, color='k')\n",
    "ax.set_xlim(-10, 10)\n",
    "ax.set_xticks(np.arange(-10, 11, 1))\n",
    "ax.set_ylim(-60, 60)\n",
    "ax.set_yticks(np.arange(-60, 61, 5))\n",
    "ax.legend()\n",
    "ax.set_title(r'Graph of the Polynomial $f(x)$')"
   ]
  },
  {
   "cell_type": "markdown",
   "metadata": {
    "slideshow": {
     "slide_type": "fragment"
    }
   },
   "source": [
    "##### Example 8\n",
    "\n",
    "Given the function\n",
    "\n",
    "$$\n",
    "    f(x) = -x^3 - 4x^2 - 4x\n",
    "$$\n",
    "\n",
    "**(a)** Find the end behavior.\n",
    "\n",
    "**(b)** Find all $x$-intercepts.\n",
    "\n",
    "**(c)** Find the mulitplicity of each zero.\n",
    "\n",
    "**(d)** Determine whether the graph crosses or touches the $x$-axis at each zero.\n",
    "\n",
    "**(e)** Determine the maximum number of turning points.\n",
    "\n",
    "**(f)** Find the $y$-intercept.\n",
    "\n",
    "**(g)** Graph."
   ]
  },
  {
   "cell_type": "markdown",
   "metadata": {
    "slideshow": {
     "slide_type": "fragment"
    }
   },
   "source": [
    "##### Solution:\n",
    "\n",
    "**(a)** Find the end behavior.\n",
    "\n",
    "* Since the polynomial is *not* already factored, we need only look at the term containing the highest power of $x$:\n",
    "\n",
    "    * The leading term of the polynomial is therefore $-x^3$\n",
    "    \n",
    "* The degree of the polynomial is $n = 3$, which is *odd*\n",
    "\n",
    "* The leading coefficient is $-1$, which is *negative*\n",
    "\n",
    "* Therefore, the end behavior can be summarized as $\\boxed{\\text{rises to the left and falls to the right}}$"
   ]
  },
  {
   "cell_type": "markdown",
   "metadata": {
    "slideshow": {
     "slide_type": "fragment"
    }
   },
   "source": [
    "**(b)** Find all the zeros.\n",
    "\n",
    "* We need to set $f(x)$ equal to zero and solve:\n",
    "\n",
    "\\begin{align}\n",
    "    f(x) & = 0 \\\\\n",
    "    & \\Downarrow \\\\\n",
    "    -x^3 - 4x^2 - 4x & = 0 \\\\\n",
    "    & \\Downarrow \\\\\n",
    "    \\color{blue}{-x}(x^2 + 4x + 4) & = 0 \\qquad (\\text{factor out the GCF}) \\\\\n",
    "    & \\Downarrow \\\\\n",
    "    x \\color{blue}{(x + 2)(x + 2)} & = 0 \\qquad (\\text{factor what remains}) \\\\\n",
    "    & \\Downarrow \\\\\n",
    "    x\\color{blue}{(x + 2)^2} & = 0 \\qquad (\\text{condense common factors}) \\\\\n",
    "    & \\Downarrow \\\\\n",
    "    x & = 0 \\\\\n",
    "    & \\text{or} \\\\\n",
    "    x + 2 & = 0 \\\\\n",
    "    & \\Downarrow \\\\\n",
    "    x & = -2\n",
    "\\end{align}\n",
    "\n",
    "* Therefore, the zeros of $f(x)$ are $x = -2$ and $x = 0$"
   ]
  },
  {
   "cell_type": "markdown",
   "metadata": {
    "slideshow": {
     "slide_type": "fragment"
    }
   },
   "source": [
    "**(c)** Find the mulitplicity of each zero.\n",
    "\n",
    "* The factored form of $f(x)$ is $x(x - 2)^2$\n",
    "\n",
    "* The power on the factor $x + 2$ is $2$, and therefore the zero $x = -2$ has a corresponding $\\boxed{\\text{multiplicity of $2$}}$\n",
    "\n",
    "* The power on the factor $x$ is $1$, and therefore the zero $x = 0$ has a corresponding $\\boxed{\\text{multiplicity of $1$}}$"
   ]
  },
  {
   "cell_type": "markdown",
   "metadata": {
    "slideshow": {
     "slide_type": "fragment"
    }
   },
   "source": [
    "**(d)** Determine whether the graph crosses or touches the $x$-axis at each zero.\n",
    "\n",
    "* Since the multiplicity of $x = -2$ is $2$, and $2$ is *even*, the graph of the polynomial *bounces* off the $x$-axis at the point $(-2, 0)$\n",
    "\n",
    "* Since the multiplicity of $x = 0$ is $1$, and $1$ is *odd*, the graph of the polynomial *crosses* the $x$-axis at the point $(0, 0)$"
   ]
  },
  {
   "cell_type": "markdown",
   "metadata": {
    "slideshow": {
     "slide_type": "fragment"
    }
   },
   "source": [
    "**(e)** Determine the maximum number of turning points.\n",
    "\n",
    "* The degree of the polynomial is $n = 3$, and therefore the total *maximum <u>possible</u> turning points is $n - 1 = \\boxed{2}$*"
   ]
  },
  {
   "cell_type": "markdown",
   "metadata": {
    "slideshow": {
     "slide_type": "fragment"
    }
   },
   "source": [
    "**(f)** Find the $y$-intercept.\n",
    "\n",
    "* To determine the $y$-intercept for *any* function we need only plug in $x = 0$ into $f(x)$\n",
    "\n",
    "* From the previous work done above, we know that $x = 0$ is a zero and therefore $f(0) = 0$ (or $(0, 0)$) is the $y$-intercept"
   ]
  },
  {
   "cell_type": "markdown",
   "metadata": {
    "slideshow": {
     "slide_type": "fragment"
    }
   },
   "source": [
    "**(g)** Graphing:"
   ]
  },
  {
   "cell_type": "code",
   "execution_count": 4,
   "metadata": {
    "scrolled": false,
    "slideshow": {
     "slide_type": "fragment"
    }
   },
   "outputs": [
    {
     "data": {
      "text/plain": [
       "Text(0.5, 1.0, 'Graph of the Polynomial $f(x)$')"
      ]
     },
     "execution_count": 4,
     "metadata": {},
     "output_type": "execute_result"
    },
    {
     "data": {
      "image/png": "[encoded data removed]",
      "text/plain": [
       "<Figure size 1800x1080 with 1 Axes>"
      ]
     },
     "metadata": {},
     "output_type": "display_data"
    }
   ],
   "source": [
    "def f(x):\n",
    "    return -x**3 - 4*x**2 - 4*x\n",
    "\n",
    "x = np.linspace(-10, 10, 200)\n",
    "y = f(x)\n",
    "\n",
    "fig, ax = plt.subplots(figsize=(25, 15))\n",
    "\n",
    "ax.plot(x, y, color='b', label=r'$f(x)$')\n",
    "ax.axvline(x=0, lw=2, color='k')\n",
    "ax.axhline(y=0, lw=2, color='k')\n",
    "ax.set_xlim(-10, 10)\n",
    "ax.set_xticks(np.arange(-10, 11, 1))\n",
    "ax.set_ylim(-10, 10)\n",
    "ax.set_yticks(np.arange(-10, 11, 1))\n",
    "ax.legend()\n",
    "ax.set_title(r'Graph of the Polynomial $f(x)$')"
   ]
  },
  {
   "cell_type": "markdown",
   "metadata": {
    "slideshow": {
     "slide_type": "slide"
    }
   },
   "source": [
    "### End Section"
   ]
  }
 ],
 "metadata": {
  "celltoolbar": "Slideshow",
  "kernelspec": {
   "display_name": "Python 3",
   "language": "python",
   "name": "python3"
  },
  "language_info": {
   "codemirror_mode": {
    "name": "ipython",
    "version": 3
   },
   "file_extension": ".py",
   "mimetype": "text/x-python",
   "name": "python",
   "nbconvert_exporter": "python",
   "pygments_lexer": "ipython3",
   "version": "3.8.8"
  },
  "rise": {
   "enable_chalkboard": true,
   "theme": "sky",
   "transition": "zoom"
  }
 },
 "nbformat": 4,
 "nbformat_minor": 4
}
