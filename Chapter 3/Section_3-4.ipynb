{
 "cells": [
  {
   "cell_type": "markdown",
   "metadata": {
    "slideshow": {
     "slide_type": "slide"
    }
   },
   "source": [
    "# Chapter 3: Polynomial and Rational Functions"
   ]
  },
  {
   "cell_type": "markdown",
   "metadata": {
    "slideshow": {
     "slide_type": "slide"
    }
   },
   "source": [
    "### Section 3.4: Zeros of Polynomial Functions\n",
    "\n",
    "##### Objective 1: Use the Rational Zero Theorem to find possible rational zeros\n",
    "\n",
    "##### Objective 2: Find zeros of a polynomial function\n",
    "\n",
    "##### Objective 3: Use Descartes' Rule of Signs"
   ]
  },
  {
   "cell_type": "markdown",
   "metadata": {
    "slideshow": {
     "slide_type": "slide"
    }
   },
   "source": [
    "##### Objective 1: Use the Rational Zero Theorem to find possible rational zeros"
   ]
  },
  {
   "cell_type": "markdown",
   "metadata": {
    "slideshow": {
     "slide_type": "fragment"
    }
   },
   "source": [
    "##### Rational Zero Theorem\n",
    "\n",
    "* If $f(x) = a_{n} x^{n} + a_{n-1} x^{n - 1} + \\dots + a_1 x + a_0$ has integer coefficients and $\\dfrac{p}{q}$ (in lowest terms) is a rational zero of $f$, then $p$ is a factor of the constant term, $a_0$, and $q$ is a factor of the leading coefficent, $a_n$\n",
    "\n",
    "* Summary:\n",
    "$$\n",
    "    \\text{possible rational zeros} = \\frac{\\text{factors of the constant term ($p$)}}{\\text{factors of the leading coefficient ($q$)}}\n",
    "$$"
   ]
  },
  {
   "cell_type": "markdown",
   "metadata": {
    "slideshow": {
     "slide_type": "fragment"
    }
   },
   "source": [
    "##### Example 1\n",
    "\n",
    "Use the Rational Zero Theorem to list all of the possible zeros of $f(x) = 5x^4 - 3x^3 + 2x^2 - x - 4$."
   ]
  },
  {
   "cell_type": "markdown",
   "metadata": {
    "slideshow": {
     "slide_type": "fragment"
    }
   },
   "source": [
    "##### Solution:\n",
    "\n",
    "* First note that $p = -4$ (last/constant coefficient) and $q = 5$ (leading coefficient)"
   ]
  },
  {
   "cell_type": "markdown",
   "metadata": {
    "slideshow": {
     "slide_type": "fragment"
    }
   },
   "source": [
    "* Factors of $-4$ (we can ignore the negative): $1, 2,$ and $4$\n",
    "\n",
    "* Factors of $5$: $1$ and $5$"
   ]
  },
  {
   "cell_type": "markdown",
   "metadata": {
    "slideshow": {
     "slide_type": "fragment"
    }
   },
   "source": [
    "* Therefore\n",
    "\\begin{align}\n",
    "    \\text{possible rational zeros} & = \\frac{\\text{factors of $-4$}}{\\text{factors of $5$}} \\\\\n",
    "    & = \\pm \\frac{1}{1}, \\pm \\frac{2}{1}, \\pm \\frac{4}{1}, \\pm \\frac{1}{5}, \\pm \\frac{2}{5}, \\pm \\frac{4}{5} \\\\\n",
    "    & = \\boxed{\\pm 1, \\pm 2, \\pm 4, \\pm \\frac{1}{5}, \\pm \\frac{2}{5}, \\pm \\frac{4}{5}}\n",
    "\\end{align}"
   ]
  },
  {
   "cell_type": "markdown",
   "metadata": {
    "slideshow": {
     "slide_type": "fragment"
    }
   },
   "source": [
    "* **Important Note:** The only possible *rational* zeros are contained in the list above\n",
    "\n",
    "    * Note that this in no way guarentees that *any* of the numbers in the list *are* zeros\n",
    "    \n",
    "    * Some of these may be zeros, but it also might be the case that none of these are zeros\n",
    "    \n",
    "    * However, if the polynomial has any *rational* zeros, then those rational zeros must be contained in this list"
   ]
  },
  {
   "cell_type": "markdown",
   "metadata": {
    "slideshow": {
     "slide_type": "fragment"
    }
   },
   "source": [
    "##### Example 2\n",
    "\n",
    "Use the Rational Zero Theorem to list all of the possible zeros of $f(x) = 4x^5 - 2x^4 - x + 2$."
   ]
  },
  {
   "cell_type": "markdown",
   "metadata": {
    "slideshow": {
     "slide_type": "fragment"
    }
   },
   "source": [
    "##### Solution:\n",
    "\n",
    "* First note that $p = 2$ (last/constant coefficient) and $q = 4$ (leading coefficient)"
   ]
  },
  {
   "cell_type": "markdown",
   "metadata": {
    "slideshow": {
     "slide_type": "fragment"
    }
   },
   "source": [
    "* Factors of $2$: $1$ and $2$\n",
    "\n",
    "* Factors of $4$: $1, 2,$ and $4$"
   ]
  },
  {
   "cell_type": "markdown",
   "metadata": {
    "slideshow": {
     "slide_type": "fragment"
    }
   },
   "source": [
    "* Therefore\n",
    "\\begin{align}\n",
    "    \\text{possible rational zeros} & = \\frac{\\text{factors of $2$}}{\\text{factors of $4$}} \\\\\n",
    "    & = \\pm \\frac{1}{1}, \\pm \\frac{2}{1}, \\pm \\frac{1}{2}, \\pm \\frac{1}{4} \\\\\n",
    "    & = \\boxed{\\pm 1, \\pm 2, \\pm \\frac{1}{2}, \\pm \\frac{1}{4}}\n",
    "\\end{align}"
   ]
  },
  {
   "cell_type": "markdown",
   "metadata": {
    "slideshow": {
     "slide_type": "slide"
    }
   },
   "source": [
    "##### Objective 2: Find zeros of a polynomial function"
   ]
  },
  {
   "cell_type": "markdown",
   "metadata": {
    "slideshow": {
     "slide_type": "fragment"
    }
   },
   "source": [
    "##### Example 3\n",
    "\n",
    "Find all zeros of $f(x) = 6x^3 - 11x^2 - x + 6$ by performing each of the following.\n",
    "\n",
    "**(a)** List all possible rational zeros.\n",
    "\n",
    "**(b)** Use synthetic division to find an actual zero.\n",
    "\n",
    "**(c)** Use the quotient from part **(b)** to find the remaining zeros of the polynomial function."
   ]
  },
  {
   "cell_type": "markdown",
   "metadata": {
    "slideshow": {
     "slide_type": "fragment"
    }
   },
   "source": [
    "##### Solution:\n",
    "\n",
    "**(a)** List all possible rational zeros.\n",
    "\n",
    "* We have $p = 6$ and $q = 6$\n",
    "\n",
    "* Factors of $p$: $1, 2, 3,$ and $6$\n",
    "\n",
    "* Factors of $q$: $1, 2, 3,$ and $6$"
   ]
  },
  {
   "cell_type": "markdown",
   "metadata": {
    "slideshow": {
     "slide_type": "fragment"
    }
   },
   "source": [
    "* Therefore\n",
    "\\begin{align}\n",
    "    \\text{possible rational zeros} & = \\frac{\\text{factors of $6$}}{\\text{factors of $6$}} \\\\\n",
    "    & = \\pm \\frac{1}{1}, \\pm \\frac{2}{1}, \\pm \\frac{3}{1}, \\pm \\frac{6}{1}, \\pm \\frac{1}{2}, \\pm \\frac{3}{2}, \\pm \\frac{1}{3}, \\pm \\frac{2}{3}, \\pm \\frac{1}{6} \\\\\n",
    "    & = \\boxed{\\pm 1, \\pm 2, \\pm 3, \\pm 6, \\pm \\frac{1}{2}, \\pm \\frac{3}{2}, \\pm \\frac{1}{3}, \\pm \\frac{2}{3}, \\pm \\frac{1}{6}}\n",
    "\\end{align}"
   ]
  },
  {
   "cell_type": "markdown",
   "metadata": {
    "slideshow": {
     "slide_type": "fragment"
    }
   },
   "source": [
    "**(b)** Use synthetic division to find an actual zero."
   ]
  },
  {
   "cell_type": "markdown",
   "metadata": {
    "slideshow": {
     "slide_type": "fragment"
    }
   },
   "source": [
    "* Using synthetic division with $x = 1$:\n",
    "$$\n",
    "\\begin{array}{c|cccc}\n",
    "    & x^3 & x^2 & x & \\text{const} \\\\\n",
    "    1 & 6 & -11 & -1 & 6 \\\\\n",
    "    \\hline\n",
    "    & & 6 & -5 & -6 \\\\\n",
    "    \\hline\n",
    "    & 6 & -5 & -6 & 0 \\\\\n",
    "    & x^2 & x & \\text{const} & \\text{remainder}\n",
    "\\end{array}\n",
    "$$\n",
    "\n",
    "* Since the remainder is *zero* we know that $x = 1$ is a zero of the polynomial"
   ]
  },
  {
   "cell_type": "markdown",
   "metadata": {
    "slideshow": {
     "slide_type": "fragment"
    }
   },
   "source": [
    "**(c)** Use the quotient from part **(b)** to find the remaining zeros of the polynomial function."
   ]
  },
  {
   "cell_type": "markdown",
   "metadata": {
    "slideshow": {
     "slide_type": "fragment"
    }
   },
   "source": [
    "* From part **(b)** we know that $x - 1$ is a factor (from the Factor Theorem) and the other factor is the result from the synthetic division"
   ]
  },
  {
   "cell_type": "markdown",
   "metadata": {
    "slideshow": {
     "slide_type": "fragment"
    }
   },
   "source": [
    "* Therefore, we need to set the result from the division equal to zero and solve:\n",
    "\n",
    "\\begin{align}\n",
    "    6x^2 - 5x - 6 & = 0 \\\\\n",
    "    (2x - 3)(3x + 2) & = 0 \\\\\n",
    "    & \\Downarrow \\\\\n",
    "    2x - 3 & = 0 \\\\\n",
    "    2x & = 3 \\\\\n",
    "    x & = \\frac{3}{2} \\\\\n",
    "    & \\text{or} \\\\\n",
    "    3x + 2 & = 0 \\\\\n",
    "    3x & = -2 \\\\\n",
    "    x & = -\\frac{2}{3}\n",
    "\\end{align}"
   ]
  },
  {
   "cell_type": "markdown",
   "metadata": {
    "slideshow": {
     "slide_type": "fragment"
    }
   },
   "source": [
    "* So we have a total of three real roots/zeros (all rational in this case): $\\boxed{x = -\\dfrac{2}{3}, 1, \\dfrac{3}{2}}$"
   ]
  },
  {
   "cell_type": "markdown",
   "metadata": {
    "slideshow": {
     "slide_type": "fragment"
    }
   },
   "source": [
    "##### Example 4\n",
    "\n",
    "Find all zeros of $f(x) = x^3 + 7x^2 + 11x - 3$ by performing each of the following.\n",
    "\n",
    "**(a)** List all possible rational zeros.\n",
    "\n",
    "**(b)** Use synthetic division to find an actual zero.\n",
    "\n",
    "**(c)** Use the quotient from part **(b)** to find the remaining zeros of the polynomial function."
   ]
  },
  {
   "cell_type": "markdown",
   "metadata": {
    "slideshow": {
     "slide_type": "fragment"
    }
   },
   "source": [
    "##### Solution:\n",
    "\n",
    "**(a)** List all possible rational zeros.\n",
    "\n",
    "* We have $p = -3$ and $q = 1$\n",
    "\n",
    "* Factors of $p$: $1$ and $3$\n",
    "\n",
    "* Factors of $q$: $1$"
   ]
  },
  {
   "cell_type": "markdown",
   "metadata": {
    "slideshow": {
     "slide_type": "fragment"
    }
   },
   "source": [
    "* Therefore\n",
    "\\begin{align}\n",
    "    \\text{possible rational zeros} & = \\frac{\\text{factors of $-3$}}{\\text{factors of $1$}} \\\\\n",
    "    & = \\pm \\frac{1}{1}, \\pm \\frac{3}{1} \\\\\n",
    "    & = \\boxed{\\pm 1, \\pm 3}\n",
    "\\end{align}"
   ]
  },
  {
   "cell_type": "markdown",
   "metadata": {
    "slideshow": {
     "slide_type": "fragment"
    }
   },
   "source": [
    "**(b)** Use synthetic division to find an actual zero."
   ]
  },
  {
   "cell_type": "markdown",
   "metadata": {
    "slideshow": {
     "slide_type": "fragment"
    }
   },
   "source": [
    "* Using synthetic division with $x = -3$:\n",
    "$$\n",
    "\\begin{array}{c|cccc}\n",
    "    & x^3 & x^2 & x & \\text{const} \\\\\n",
    "    -3 & 1 & 7 & 11 & -3 \\\\\n",
    "    \\hline\n",
    "    & & -3 & -12 & 3 \\\\\n",
    "    \\hline\n",
    "    & 1 & 4 & -1 & 0 \\\\\n",
    "    & x^2 & x & \\text{const} & \\text{remainder}\n",
    "\\end{array}\n",
    "$$\n",
    "\n",
    "* Since the remainder is *zero* we know that $x = -3$ is a zero of the polynomial"
   ]
  },
  {
   "cell_type": "markdown",
   "metadata": {
    "slideshow": {
     "slide_type": "fragment"
    }
   },
   "source": [
    "**(c)** Use the quotient from part **(b)** to find the remaining zeros of the polynomial function."
   ]
  },
  {
   "cell_type": "markdown",
   "metadata": {
    "slideshow": {
     "slide_type": "fragment"
    }
   },
   "source": [
    "* From part **(b)** we know that $x - (-3) = x + 3$ is a factor (from the Factor Theorem) and the other factor is the result from the synthetic division"
   ]
  },
  {
   "cell_type": "markdown",
   "metadata": {
    "slideshow": {
     "slide_type": "fragment"
    }
   },
   "source": [
    "* Therefore, we need to set the result from the division equal to zero and solve:\n",
    "\n",
    "\\begin{align}\n",
    "    x^2 + 4x - 1 & = 0\n",
    "\\end{align}\n",
    "\n",
    "* This is *not factorable* and therefore we use the quadratic formula with $a = 1, b = 4,$ and $c = -1$:\n",
    "\n",
    "\\begin{align}\n",
    "    x & = \\frac{-b \\pm \\sqrt{b^2 - 4ac}}{2a} \\\\\n",
    "    & = \\frac{-(4) \\pm \\sqrt{(4)^2 - 4(1)(-1)}}{2(1)} \\\\\n",
    "    & = \\frac{-4 \\pm \\sqrt{(16 + 4)}}{2} \\\\\n",
    "    & = \\frac{-4 \\pm \\sqrt{20}}{2} \\\\\n",
    "    & = \\frac{-4 \\pm \\sqrt{4 \\cdot 5}}{2} \\\\\n",
    "    & = \\frac{-4 \\pm \\sqrt{4} \\cdot \\sqrt{5}}{2} \\\\\n",
    "    & = \\frac{-4 \\pm 2 \\sqrt{5}}{2} \\\\\n",
    "    & = \\frac{-4}{2} \\pm \\frac{2 \\sqrt{5}}{2} \\\\\n",
    "    x & = -2 \\pm \\sqrt{5}\n",
    "\\end{align}"
   ]
  },
  {
   "cell_type": "markdown",
   "metadata": {
    "slideshow": {
     "slide_type": "fragment"
    }
   },
   "source": [
    "* So we have a total of three real roots/zeros (*not* all rational in this case): $\\boxed{x = -2 - \\sqrt{5}, x = -3, \\text{and } x = -2 + \\sqrt{5}}$"
   ]
  },
  {
   "cell_type": "markdown",
   "metadata": {
    "slideshow": {
     "slide_type": "slide"
    }
   },
   "source": [
    "##### Objective 3: Use Descartes' Rule of Signs"
   ]
  },
  {
   "cell_type": "markdown",
   "metadata": {
    "slideshow": {
     "slide_type": "fragment"
    }
   },
   "source": [
    "##### Descartes' Rule of Signs\n",
    "\n",
    "Let $f(x) = a_{n} x^{n} + a_{n-1} x^{n - 1} + \\dots + a_1 x + a_0$ be a polynomial with real coefficients.\n",
    "\n",
    "1. The number of positive real zeros of $f$ is either\n",
    "    1. the same as the number of sign changes of $f(x)$ or\n",
    "    2. less than the number of sign changes of $f(x)$ by a positive even integer.\n",
    "2. The number of negative real zeros of $f$ is either\n",
    "    1. the same as the number of sign changes of $f(-x)$ or\n",
    "    2. less than the number of sign changes of $f(-x)$ by a positive even integer.\n",
    "\n",
    "If $f(-x)$ has only one variation in sign, then $f$ has exactly one negative real zero."
   ]
  },
  {
   "cell_type": "markdown",
   "metadata": {
    "slideshow": {
     "slide_type": "fragment"
    }
   },
   "source": [
    "##### Example 5\n",
    "\n",
    "Determine the possible number of positive and negative real zeros of $f(x) = 5x^3 - 2x^2 + 11x - 3$."
   ]
  },
  {
   "cell_type": "markdown",
   "metadata": {
    "slideshow": {
     "slide_type": "fragment"
    }
   },
   "source": [
    "##### Solution:\n",
    "\n",
    "* There are a total of three sign changes from one term to the next in $f(x)$:\n",
    "$$\n",
    "    f(x) = 5x^3 \\overset{\\overset{1}{\\curvearrowright}}{-} 2x^2 \\overset{\\overset{2}{\\curvearrowright}}{+} 11x  \\overset{\\overset{3}{\\curvearrowright}}{-} 3\n",
    "$$"
   ]
  },
  {
   "cell_type": "markdown",
   "metadata": {
    "slideshow": {
     "slide_type": "fragment"
    }
   },
   "source": [
    "* Therefore, the number of possible positive real zeros of $f(x)$ is either $3$ or $1$"
   ]
  },
  {
   "cell_type": "markdown",
   "metadata": {
    "slideshow": {
     "slide_type": "fragment"
    }
   },
   "source": [
    "* There are a total of zero sign changes from one term to the next in $f(-x)$:\n",
    "$$\n",
    "    f(-x) = 5(-x)^3 - 2(-x)^2 + 11(-x) - 3 \\\\\n",
    "    \\Downarrow \\\\\n",
    "    f(-x) = -5x^3 - 2x^2 - 11x - 3\n",
    "$$"
   ]
  },
  {
   "cell_type": "markdown",
   "metadata": {
    "slideshow": {
     "slide_type": "fragment"
    }
   },
   "source": [
    "* Therefore, the number of possible negative real zeros of $f(x)$ is $0$ (there do not exist any negative real zeros)"
   ]
  },
  {
   "cell_type": "markdown",
   "metadata": {
    "slideshow": {
     "slide_type": "fragment"
    }
   },
   "source": [
    "##### Example 6\n",
    "\n",
    "Determine the possible number of positive and negative real zeros of $f(x) = 2x^4 - 5x^3 - 12x^2 - 6x + 4$."
   ]
  },
  {
   "cell_type": "markdown",
   "metadata": {
    "slideshow": {
     "slide_type": "fragment"
    }
   },
   "source": [
    "##### Solution:\n",
    "\n",
    "* There are a total of two sign changes from one term to the next in $f(x)$:\n",
    "$$\n",
    "    f(x) = 2x^4 \\overset{\\overset{1}{\\curvearrowright}}{-} 5x^3 - 12x^2  - 6x \\overset{\\overset{2}{\\curvearrowright}}{+} 4\n",
    "$$"
   ]
  },
  {
   "cell_type": "markdown",
   "metadata": {
    "slideshow": {
     "slide_type": "fragment"
    }
   },
   "source": [
    "* Therefore, the number of possible positive real zeros of $f(x)$ is either $2$ or $0$"
   ]
  },
  {
   "cell_type": "markdown",
   "metadata": {
    "slideshow": {
     "slide_type": "fragment"
    }
   },
   "source": [
    "* There are a total of two sign changes from one term ot the next in $f(-x)$:\n",
    "$$\n",
    "    f(-x) = 2(-x)^4 - 5(-x)^3 - 12(-x)^2 - 6(-x) + 4 \\\\\n",
    "    \\Downarrow \\\\\n",
    "    f(-x) = 2x^4 + 5x^3 \\overset{\\overset{1}{\\curvearrowright}}{-} 12x^2 \\overset{\\overset{2}{\\curvearrowright}}{+} 6x + 4\n",
    "$$"
   ]
  },
  {
   "cell_type": "markdown",
   "metadata": {
    "slideshow": {
     "slide_type": "fragment"
    }
   },
   "source": [
    "* Therefore, the number of possible negative real zeros of $f(x)$ is either $2$ or $0$"
   ]
  },
  {
   "cell_type": "markdown",
   "metadata": {
    "slideshow": {
     "slide_type": "fragment"
    }
   },
   "source": [
    "##### Tips for Solving for All Zeros of a Polynomial Function or Solving a Polynomial Equation\n",
    "\n",
    "* Use the Rational Zero Theorem to explore *possible* rational zeros\n",
    "\n",
    "* Using Descartes' Rule of Signs is not necessary, but may provide insight to which zeros to try first with synthetic division to determine an actual zero or set of zeros\n",
    "\n",
    "* Referring to the graph of the polynomial may also provide insights as to what values to try with synthetic division to determine an actual zero or set of zeros"
   ]
  },
  {
   "cell_type": "markdown",
   "metadata": {
    "slideshow": {
     "slide_type": "fragment"
    }
   },
   "source": [
    "##### Example 7\n",
    "\n",
    "Find all zeros of the function $f(x) = x^3 - 2x^2 - 7x - 4$."
   ]
  },
  {
   "cell_type": "markdown",
   "metadata": {
    "slideshow": {
     "slide_type": "fragment"
    }
   },
   "source": [
    "##### Solution:\n",
    "\n",
    "* First note that $p = -4$ (last/constant coefficient) and $q = 1$ (leading coefficient)"
   ]
  },
  {
   "cell_type": "markdown",
   "metadata": {
    "slideshow": {
     "slide_type": "fragment"
    }
   },
   "source": [
    "* Factors of $p$: $1, 2,$ and $4$\n",
    "\n",
    "* Factors of $q$: $1$"
   ]
  },
  {
   "cell_type": "markdown",
   "metadata": {
    "slideshow": {
     "slide_type": "fragment"
    }
   },
   "source": [
    "* Therefore\n",
    "\\begin{align}\n",
    "    \\text{possible rational zeros} & = \\frac{\\text{factors of $-4$}}{\\text{factors of $1$}} \\\\\n",
    "    & = \\pm \\frac{1}{1}, \\pm \\frac{2}{1}, \\pm \\frac{4}{1} \\\\\n",
    "    & = \\pm 1, \\pm 2, \\pm 4\n",
    "\\end{align}"
   ]
  },
  {
   "cell_type": "markdown",
   "metadata": {
    "slideshow": {
     "slide_type": "fragment"
    }
   },
   "source": [
    "* Using synthetic division with $x = -1$:\n",
    "$$\n",
    "\\begin{array}{c|cccc}\n",
    "    & x^3 & x^2 & x & \\text{const} \\\\\n",
    "    -1 & 1 & -2 & -7 & -4 \\\\\n",
    "    \\hline\n",
    "    & & -1 & 3 & 4 \\\\\n",
    "    \\hline\n",
    "    & 1 & -3 & -4 & 0 \\\\\n",
    "    & x^2 & x & \\text{const} & \\text{remainder}\n",
    "\\end{array}\n",
    "$$\n",
    "\n",
    "* Since the remainder is *zero* we know that $x = -1$ is a zero of the polynomial"
   ]
  },
  {
   "cell_type": "markdown",
   "metadata": {
    "slideshow": {
     "slide_type": "fragment"
    }
   },
   "source": [
    "* This means that $x - (-1) = x + 1$ is a factor (from the Factor Theorem) and the other factor is the result from the synthetic division"
   ]
  },
  {
   "cell_type": "markdown",
   "metadata": {
    "slideshow": {
     "slide_type": "fragment"
    }
   },
   "source": [
    "* Therefore, we need to set the result from the division equal to zero and solve:\n",
    "\n",
    "\\begin{align}\n",
    "    x^2 - 3x - 4 & = 0 \\\\\n",
    "    (x - 4)(x + 1) & = 0 \\\\\n",
    "    & \\Downarrow \\\\\n",
    "    x - 4 & = 0 \\\\\n",
    "    x & = 4 \\\\\n",
    "    & \\text{or} \\\\\n",
    "    x + 1 & = 0 \\\\\n",
    "    x & = -1\n",
    "\\end{align}"
   ]
  },
  {
   "cell_type": "markdown",
   "metadata": {
    "slideshow": {
     "slide_type": "fragment"
    }
   },
   "source": [
    "* So we have a total of three real roots/zeros: $\\boxed{x = -1 \\text{ and } x = 4}$\n",
    "\n",
    "    * Note: $x = -1$ is a zero with multiplicity $2$"
   ]
  },
  {
   "cell_type": "markdown",
   "metadata": {
    "slideshow": {
     "slide_type": "fragment"
    }
   },
   "source": [
    "##### Example 8\n",
    "\n",
    "Find all zeros of the function $f(x) = x^3 - 5x^2 + 17x - 13$."
   ]
  },
  {
   "cell_type": "markdown",
   "metadata": {
    "slideshow": {
     "slide_type": "fragment"
    }
   },
   "source": [
    "##### Solution:\n",
    "\n",
    "* First note that $p = -13$ (last/constant coefficient) and $q = 1$ (leading coefficient)"
   ]
  },
  {
   "cell_type": "markdown",
   "metadata": {
    "slideshow": {
     "slide_type": "fragment"
    }
   },
   "source": [
    "* Factors of $p$: $1$ and $13$\n",
    "\n",
    "* Factors of $q$: $1$"
   ]
  },
  {
   "cell_type": "markdown",
   "metadata": {
    "slideshow": {
     "slide_type": "fragment"
    }
   },
   "source": [
    "* Therefore\n",
    "\\begin{align}\n",
    "    \\text{possible rational zeros} & = \\frac{\\text{factors of $-3$}}{\\text{factors of $1$}} \\\\\n",
    "    & = \\pm \\frac{1}{1}, \\pm \\frac{13}{1} \\\\\n",
    "    & = \\pm 1, \\pm 13\n",
    "\\end{align}"
   ]
  },
  {
   "cell_type": "markdown",
   "metadata": {
    "slideshow": {
     "slide_type": "fragment"
    }
   },
   "source": [
    "* Using synthetic division with $x = 1$:\n",
    "$$\n",
    "\\begin{array}{c|cccc}\n",
    "    & x^3 & x^2 & x & \\text{const} \\\\\n",
    "    1 & 1 & -5 & 17 & -13 \\\\\n",
    "    \\hline\n",
    "    & & 1 & -4 & 13 \\\\\n",
    "    \\hline\n",
    "    & 1 & -4 & 13 & 0 \\\\\n",
    "    & x^2 & x & \\text{const} & \\text{remainder}\n",
    "\\end{array}\n",
    "$$\n",
    "\n",
    "* Since the remainder is *zero* we know that $x = 1$ is a zero of the polynomial"
   ]
  },
  {
   "cell_type": "markdown",
   "metadata": {
    "slideshow": {
     "slide_type": "fragment"
    }
   },
   "source": [
    "* This means that $x - 1$ is a factor (from the Factor Theorem) and the other factor is the result from the synthetic division"
   ]
  },
  {
   "cell_type": "markdown",
   "metadata": {
    "slideshow": {
     "slide_type": "fragment"
    }
   },
   "source": [
    "* Therefore, we need to set the result from the division equal to zero and solve:\n",
    "\n",
    "\\begin{align}\n",
    "    x^2 - 4x + 13 & = 0\n",
    "\\end{align}\n",
    "\n",
    "* This is *not factorable* and therefore we use the quadratic formula with $a = 1, b = -4,$ and $c = 13$:\n",
    "\n",
    "\\begin{align}\n",
    "    x & = \\frac{-b \\pm \\sqrt{b^2 - 4ac}}{2a} \\\\\n",
    "    & = \\frac{-(-4) \\pm \\sqrt{(-4)^2 - 4(1)(13)}}{2(1)} \\\\\n",
    "    & = \\frac{4 \\pm \\sqrt{(16 - 52)}}{2} \\\\\n",
    "    & = \\frac{4 \\pm \\sqrt{-36}}{2} \\\\\n",
    "    & = \\frac{4 \\pm 6i}{2} \\\\\n",
    "    & = \\frac{4}{2} \\pm \\frac{6i}{2} \\\\\n",
    "    x & = 2 \\pm 3i\n",
    "\\end{align}\n",
    "\n",
    "* Since these solutions are not *real* numbers we only have one real zero"
   ]
  },
  {
   "cell_type": "markdown",
   "metadata": {
    "slideshow": {
     "slide_type": "fragment"
    }
   },
   "source": [
    "* So the only real root/zero is $\\boxed{x = 1}$"
   ]
  },
  {
   "cell_type": "markdown",
   "metadata": {
    "slideshow": {
     "slide_type": "fragment"
    }
   },
   "source": [
    "##### Example 9\n",
    "\n",
    "Find all zeros of the function $f(x) = 2x^4 + 2x^3 - 22x^2 - 18x + 36$. A portion of the graph is shown below."
   ]
  },
  {
   "cell_type": "code",
   "execution_count": 1,
   "metadata": {
    "slideshow": {
     "slide_type": "fragment"
    }
   },
   "outputs": [],
   "source": [
    "import warnings\n",
    "warnings.filterwarnings('ignore')\n",
    "import numpy as np\n",
    "import matplotlib.pyplot as plt\n",
    "\n",
    "plt.style.use('fivethirtyeight')"
   ]
  },
  {
   "cell_type": "code",
   "execution_count": 17,
   "metadata": {
    "slideshow": {
     "slide_type": "fragment"
    }
   },
   "outputs": [
    {
     "data": {
      "text/plain": [
       "Text(0.5, 1.0, 'Segment of the Graph of $f(x)$')"
      ]
     },
     "execution_count": 17,
     "metadata": {},
     "output_type": "execute_result"
    },
    {
     "data": {
      "image/png": "[encoded data removed]",
      "text/plain": [
       "<Figure size 1800x1080 with 1 Axes>"
      ]
     },
     "metadata": {},
     "output_type": "display_data"
    }
   ],
   "source": [
    "f = lambda x: 2*x**4 + 2*x**3 - 22*x**2 - 18*x + 36\n",
    "\n",
    "x = np.linspace(-2, 2, 100)\n",
    "y = f(x)\n",
    "\n",
    "fig, ax = plt.subplots(figsize=(25, 15))\n",
    "\n",
    "ax.axhline(y=0, color='k')\n",
    "ax.axvline(x=0, color='k')\n",
    "ax.plot(x, y, color='b')\n",
    "ax.set_xticks(np.arange(-1, 3, 1))\n",
    "ax.set_xticklabels(np.arange(-1, 3, 1), fontsize=25)\n",
    "ax.set_xlim(-1.5, 2)\n",
    "ax.set_yticks(np.arange(-40, 41, 10))\n",
    "ax.set_yticklabels(np.arange(-40, 41, 10), fontsize=25)\n",
    "ax.set_title(r'Segment of the Graph of $f(x)$', fontsize=25)"
   ]
  },
  {
   "cell_type": "markdown",
   "metadata": {
    "slideshow": {
     "slide_type": "fragment"
    }
   },
   "source": [
    "##### Solution:\n",
    "\n",
    "* From the graph we can make an educated guess that one of the zeros is $x = 1$"
   ]
  },
  {
   "cell_type": "markdown",
   "metadata": {
    "slideshow": {
     "slide_type": "fragment"
    }
   },
   "source": [
    "* Using synthetic division with $x = 1$:\n",
    "$$\n",
    "\\begin{array}{c|cccc}\n",
    "    & x^4 & x^3 & x^2 & x & \\text{const} \\\\\n",
    "    1 & 2 & 2 & -22 & -18 & 36 \\\\\n",
    "    \\hline\n",
    "    & & 2 & 4 & -18 & -36 \\\\\n",
    "    \\hline\n",
    "    & 2 & 4 & -18 & -36 & 0 \\\\\n",
    "    & x^3 & x^2 & x & \\text{const} & \\text{remainder}\n",
    "\\end{array}\n",
    "$$\n",
    "\n",
    "* Since the remainder is *zero* we know that $x = 1$ is a zero of the polynomial"
   ]
  },
  {
   "cell_type": "markdown",
   "metadata": {
    "slideshow": {
     "slide_type": "fragment"
    }
   },
   "source": [
    "* This means that $x - 1$ is a factor (from the Factor Theorem) and the other factor is the result from the synthetic division"
   ]
  },
  {
   "cell_type": "markdown",
   "metadata": {
    "slideshow": {
     "slide_type": "fragment"
    }
   },
   "source": [
    "* Therefore, we need to set the result from the division equal to zero and solve:\n",
    "\n",
    "\\begin{align}\n",
    "    2x^3 + 4x^2 - 18x - 36 & = 0 \\\\\n",
    "    2(x^3 + 2x^2 - 9x - 18) & = 0 \\\\\n",
    "    x^3 + 2x^2 - 9x - 18 & = 0 \\quad (\\text{Divide both sides by $2$}) \\\\\n",
    "    x^2(x + 2) - 9(x + 2) & = 0 \\quad (\\text{Factor by grouping}) \\\\\n",
    "    (x^2- 9)(x + 2) & = 0 \\\\\n",
    "    (x- 3)(x + 3)(x + 2) & = 0 \\\\\n",
    "    & \\Downarrow \\\\\n",
    "    x - 3 & = 0 \\\\\n",
    "    x & = 3 \\\\\n",
    "    & \\text{or} \\\\\n",
    "    x + 3 & = 0 \\\\\n",
    "    x & = -3 \\\\\n",
    "    & \\text{or} \\\\\n",
    "    x + 2 & = 0 \\\\\n",
    "    x & = -2\n",
    "\\end{align}"
   ]
  },
  {
   "cell_type": "markdown",
   "metadata": {
    "slideshow": {
     "slide_type": "fragment"
    }
   },
   "source": [
    "* So we have a total of four real roots/zeros: $\\boxed{x = -3, x = -2, x = 1, \\text{ and } x = 3}$"
   ]
  },
  {
   "cell_type": "markdown",
   "metadata": {
    "slideshow": {
     "slide_type": "slide"
    }
   },
   "source": [
    "### End Section"
   ]
  }
 ],
 "metadata": {
  "celltoolbar": "Slideshow",
  "kernelspec": {
   "display_name": "Python 3",
   "language": "python",
   "name": "python3"
  },
  "language_info": {
   "codemirror_mode": {
    "name": "ipython",
    "version": 3
   },
   "file_extension": ".py",
   "mimetype": "text/x-python",
   "name": "python",
   "nbconvert_exporter": "python",
   "pygments_lexer": "ipython3",
   "version": "3.8.8"
  },
  "latex_envs": {
   "LaTeX_envs_menu_present": true,
   "autoclose": false,
   "autocomplete": true,
   "bibliofile": "biblio.bib",
   "cite_by": "apalike",
   "current_citInitial": 1,
   "eqLabelWithNumbers": true,
   "eqNumInitial": 1,
   "hotkeys": {
    "equation": "Ctrl-E",
    "itemize": "Ctrl-I"
   },
   "labels_anchors": false,
   "latex_user_defs": false,
   "report_style_numbering": false,
   "user_envs_cfg": false
  },
  "rise": {
   "enable_chalkboard": true,
   "theme": "sky",
   "transition": "zoom"
  }
 },
 "nbformat": 4,
 "nbformat_minor": 4
}
