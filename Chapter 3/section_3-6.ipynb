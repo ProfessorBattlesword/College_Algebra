{
 "cells": [
  {
   "cell_type": "markdown",
   "metadata": {
    "slideshow": {
     "slide_type": "slide"
    }
   },
   "source": [
    "# Chapter 3: Polynomial and Rational Functions"
   ]
  },
  {
   "cell_type": "markdown",
   "metadata": {
    "slideshow": {
     "slide_type": "slide"
    }
   },
   "source": [
    "### Section 3.6: Polynomial Inequalities\n",
    "\n",
    "##### Objective 1: Solving Polynomial Inequalities"
   ]
  },
  {
   "cell_type": "markdown",
   "metadata": {
    "slideshow": {
     "slide_type": "fragment"
    }
   },
   "source": [
    "##### General Process:\n",
    "\n",
    "1. Move all terms to one side (solve the inequality to obtain a zero on one side)\n",
    "2. Temporarily set the inequality <em>equal</em> to zero (these solutions are what I call \"boundary\" points).\n",
    "3. Graph a number line and indicate where the boundary points are.\n",
    "4. Pick a number between and beyond each boundary point and plug this value into the non-zero side of the inequality (I call these \"test\" numbers).\n",
    "5. Compare each result to zero according to which inequality you have; if the result satisfies the inequality, then the region where that contains the test number used is part of the solution of the inequality.\n",
    "6. Once all regions are tested and accounted for, combine the results to form a single set describing the solution."
   ]
  },
  {
   "cell_type": "markdown",
   "metadata": {
    "slideshow": {
     "slide_type": "slide"
    }
   },
   "source": [
    "##### Example:\n",
    "\n",
    "Solve and graph the solution set on a real number line for the inequality $x^2 - 2x > 3$."
   ]
  },
  {
   "cell_type": "markdown",
   "metadata": {
    "slideshow": {
     "slide_type": "fragment"
    }
   },
   "source": [
    "##### Solution:\n",
    "\n",
    "1. Solve inequality for zero on one side:\n",
    "\\begin{eqnarray}\n",
    "x^2 - 2x & > & 3 \\\\\n",
    "x^2 - 2x \\color{blue}{-3} & > & 3 \\color{blue}{-3} \\\\\n",
    "x^2 - 2x - 3 & > & 0 \\\\\n",
    "\\end{eqnarray}\n",
    "\n",
    "\n",
    "2. Temporarily set equal to zero and solve:\n",
    "\\begin{eqnarray}\n",
    "x^2 - 2x - 3 & \\color{blue}{=} & 0 \\\\\n",
    "\\color{blue}{(x+1)(x-3)} & = & 0 \\\\\n",
    "\\end{eqnarray}\n",
    "\n",
    "So we get $x = -1$ and $x = 3$ for our \"boundary\" points.\n",
    "\n",
    "3. Next we plot a number line and indicate the boundary points:"
   ]
  },
  {
   "cell_type": "code",
   "execution_count": 1,
   "metadata": {
    "slideshow": {
     "slide_type": "fragment"
    }
   },
   "outputs": [
    {
     "data": {
      "text/plain": [
       "[]"
      ]
     },
     "execution_count": 1,
     "metadata": {},
     "output_type": "execute_result"
    },
    {
     "data": {
      "image/png": "[encoded data removed]",
      "text/plain": [
       "<Figure size 432x288 with 1 Axes>"
      ]
     },
     "metadata": {
      "needs_background": "light"
     },
     "output_type": "display_data"
    }
   ],
   "source": [
    "import numpy as np\n",
    "import matplotlib.pyplot as plt\n",
    "\n",
    "%matplotlib inline\n",
    "\n",
    "xmin = -5\n",
    "xmax = 5\n",
    "\n",
    "ymin = -1\n",
    "ymax = 1\n",
    "\n",
    "fig, ax = plt.subplots()\n",
    "ax.axhline(0, color='black', linestyle='-')\n",
    "ax.text(4.5,-.1,'$x$')\n",
    "ax.arrow(-5, 0, -0.1, 0, width=0.015, color='black', clip_on=False, head_width=0.15, head_length=0.15)\n",
    "ax.arrow(5, 0, 0.1, 0, width=0.015, color='black', clip_on=False, head_width=0.15, head_length=0.15)\n",
    "ax.set_ylim(ymin,ymax)\n",
    "ax.set_xlim(xmin,xmax)\n",
    "ax.set_xticks(np.arange(xmin,xmax+1,1))\n",
    "ax.grid()\n",
    "ax.axvline(-1,color='orange',linestyle='--')\n",
    "ax.text(-1,.1,'$x=-1$',color='orange',fontsize=12)\n",
    "ax.axvline(3,color='orange',linestyle='--')\n",
    "ax.text(3,.1,'$x=3$',color='orange',fontsize=12)\n",
    "ax.set_yticks([])"
   ]
  },
  {
   "cell_type": "markdown",
   "metadata": {
    "slideshow": {
     "slide_type": "fragment"
    }
   },
   "source": [
    "4. Some convenient test points might be $\\color{purple}{x=-2}, \\color{purple}{x=0}$, and $\\color{purple}{x=4}$.\n",
    "\n",
    "\n",
    "\n",
    "5. We need to plug these values into the left-hand side of the inequality from part 1. It's often convenient to label the left hand side in function notation. So given the inequality $x^2 - 2x - 3 > 0$, we might say $f(x) = x^2 -2x - 3$ to find $f(\\color{purple}{-2}), f(\\color{purple}{0})$, and $f(\\color{purple}{4})$. We could plug this into a calculator... or... factoring can simplify the process:\n",
    "\n",
    "$f(x) = (x+1)(x-3) \\Rightarrow f(\\color{purple}{-2}) = (-1)(-5) = 5 > 0$ (satisfied)\n",
    "\n",
    "$f(x) = (x+1)(x-3) \\Rightarrow f(\\color{purple}{0}) = (1)(-3) = -3 < 0$ (not satisfied)\n",
    "\n",
    "$f(x) = (x+1)(x-3) \\Rightarrow f(\\color{purple}{4}) = (5)(1) = 5 > 0$ (satisfied)"
   ]
  },
  {
   "cell_type": "code",
   "execution_count": 2,
   "metadata": {
    "slideshow": {
     "slide_type": "fragment"
    }
   },
   "outputs": [
    {
     "data": {
      "text/plain": [
       "[]"
      ]
     },
     "execution_count": 2,
     "metadata": {},
     "output_type": "execute_result"
    },
    {
     "data": {
      "image/png": "[encoded data removed]",
      "text/plain": [
       "<Figure size 432x288 with 1 Axes>"
      ]
     },
     "metadata": {
      "needs_background": "light"
     },
     "output_type": "display_data"
    }
   ],
   "source": [
    "fig, ax = plt.subplots()\n",
    "ax.axhline(0, color='black', linestyle='-')\n",
    "ax.text(4.5,-.1,'$x$')\n",
    "ax.arrow(-5, 0, -0.1, 0, width=0.015, color='black', clip_on=False, head_width=0.15, head_length=0.15)\n",
    "ax.arrow(5, 0, 0.1, 0, width=0.015, color='black', clip_on=False, head_width=0.15, head_length=0.15)\n",
    "ax.set_ylim(ymin,ymax)\n",
    "ax.set_xlim(xmin,xmax)\n",
    "ax.set_xticks(np.arange(xmin,xmax+1,1))\n",
    "ax.grid()\n",
    "ax.axvline(-1,color='orange',linestyle='--')\n",
    "ax.text(-1,.1,'$x=-1$',color='orange',fontsize=12)\n",
    "ax.axvline(3,color='orange',linestyle='--')\n",
    "ax.text(3,.1,'$x=3$',color='orange',fontsize=12)\n",
    "ax.text(0,-.1,'$0$',color='purple',fontsize=12)\n",
    "ax.text(-2,-.1,'$-2$',color='purple',fontsize=12)\n",
    "ax.text(4,-.1,'$4$',color='purple',fontsize=12)\n",
    "ax.text(-4,.5,'satisfied',color='green',fontsize=12)\n",
    "ax.text(4,.5,'satisfied',color='green',fontsize=12)\n",
    "ax.text(0,.5,'not satisfied',color='red',fontsize=12)\n",
    "ax.text(-4,.2,'$\\checkmark$',color='green',fontsize=50)\n",
    "ax.text(4,.2,'$\\checkmark$',color='green',fontsize=50)\n",
    "ax.text(0.5,.2,'x',color='red',fontsize=50)\n",
    "ax.set_yticks([])"
   ]
  },
  {
   "cell_type": "markdown",
   "metadata": {
    "slideshow": {
     "slide_type": "fragment"
    }
   },
   "source": [
    "As we can see, the middle region (between $x=-1$ and $x=3$) does not satisfy the final inequalty in step 1. The other two regions <em>do</em>. So the two regions that satisfy are the values of $x$ that satisfy the original inequality. That is, our solution set is $x < -1$ and $x>3$. In interval notation our solution is then $(-\\infty,-1) \\cup (3,\\infty)$."
   ]
  },
  {
   "cell_type": "markdown",
   "metadata": {
    "slideshow": {
     "slide_type": "fragment"
    }
   },
   "source": [
    "6. Finally, graphing this result gives us the following:"
   ]
  },
  {
   "cell_type": "code",
   "execution_count": 3,
   "metadata": {
    "slideshow": {
     "slide_type": "fragment"
    }
   },
   "outputs": [
    {
     "data": {
      "text/plain": [
       "[]"
      ]
     },
     "execution_count": 3,
     "metadata": {},
     "output_type": "execute_result"
    },
    {
     "data": {
      "image/png": "[encoded data removed]",
      "text/plain": [
       "<Figure size 432x288 with 1 Axes>"
      ]
     },
     "metadata": {
      "needs_background": "light"
     },
     "output_type": "display_data"
    }
   ],
   "source": [
    "fig, ax = plt.subplots()\n",
    "ax.axhline(0, color='black', linestyle='-')\n",
    "ax.text(4.5,-.1,'$x$')\n",
    "ax.arrow(-5, 0, -0.1, 0, width=0.015, color='black', clip_on=False, head_width=0.15, head_length=0.15)\n",
    "ax.arrow(5, 0, 0.1, 0, width=0.015, color='black', clip_on=False, head_width=0.15, head_length=0.15)\n",
    "ax.set_ylim(ymin,ymax)\n",
    "ax.set_xlim(xmin,xmax)\n",
    "ax.set_xticks(np.arange(xmin,xmax+1,1))\n",
    "ax.text(2.91,.25-.04,'(',fontsize=20,color='blue')\n",
    "ax.axhline(.25,0.8,1,color='blue',linestyle='-')\n",
    "ax.arrow(5, .25, 0.1, 0, width=0.015, color='blue', clip_on=False, head_width=0.15, head_length=0.15)\n",
    "ax.text(-1.15,.25-.04,')',fontsize=20,color='blue')\n",
    "ax.axhline(.25,0,.395,color='blue',linestyle='-')\n",
    "ax.arrow(-5, .25, -0.1, 0, width=0.015, color='blue', clip_on=False, head_width=0.15, head_length=0.15)\n",
    "ax.grid()\n",
    "ax.axvline(-1,color='orange',linestyle='--')\n",
    "ax.text(-1,.1,'$x=-1$',color='orange',fontsize=12)\n",
    "ax.axvline(3,color='orange',linestyle='--')\n",
    "ax.text(3,.1,'$x=3$',color='orange',fontsize=12)\n",
    "ax.text(0,-.1,'$0$',color='purple',fontsize=12)\n",
    "ax.text(-2,-.1,'$-2$',color='purple',fontsize=12)\n",
    "ax.text(4,-.1,'$4$',color='purple',fontsize=12)\n",
    "ax.set_yticks([])"
   ]
  },
  {
   "cell_type": "markdown",
   "metadata": {
    "slideshow": {
     "slide_type": "slide"
    }
   },
   "source": [
    "##### Example:\n",
    "\n",
    "Solve and graph the solution set on a real number line for the inequality $x^3 - 4x^2 \\le -4x$."
   ]
  },
  {
   "cell_type": "markdown",
   "metadata": {
    "slideshow": {
     "slide_type": "fragment"
    }
   },
   "source": [
    "##### Solution:\n",
    "\n",
    "Solving:\n",
    "\n",
    "\\begin{eqnarray}\n",
    "x^3 - 4x^2 & \\le & -4x \\\\\n",
    "x^3 - 4x^2 \\color{blue}{+4x} & \\le & -4x \\color{blue}{+4x} \\\\\n",
    "x^3 - 4x^2 +4x & \\le & 0 \\\\\n",
    "\\color{blue}{x}(x^2 - 4x + 4) & \\le & 0 \\\\\n",
    "x\\color{blue}{(x-2)(x-2)} & \\le 0 \\\\\n",
    "x(x-2)^2 & \\le 0\n",
    "\\end{eqnarray}"
   ]
  },
  {
   "cell_type": "markdown",
   "metadata": {
    "slideshow": {
     "slide_type": "fragment"
    }
   },
   "source": [
    "Generally speaking, it's a good idea to just factor once you have zero on one side of the inequality anyway since you will likely need to do this in the following step. Also, we'll assign function notation now: let $f(x) = x(x-2)^2$."
   ]
  },
  {
   "cell_type": "markdown",
   "metadata": {
    "slideshow": {
     "slide_type": "fragment"
    }
   },
   "source": [
    "Temporarily set to zero:\n",
    "\n",
    "$x(x-2)^2 = 0 \\Rightarrow x = 0$ and $x = 2$ are the solutions to this equation, so these values are our boundary points. Now we'll start our plot:"
   ]
  },
  {
   "cell_type": "code",
   "execution_count": 4,
   "metadata": {
    "slideshow": {
     "slide_type": "fragment"
    }
   },
   "outputs": [
    {
     "data": {
      "text/plain": [
       "[]"
      ]
     },
     "execution_count": 4,
     "metadata": {},
     "output_type": "execute_result"
    },
    {
     "data": {
      "image/png": "[encoded data removed]",
      "text/plain": [
       "<Figure size 432x288 with 1 Axes>"
      ]
     },
     "metadata": {
      "needs_background": "light"
     },
     "output_type": "display_data"
    }
   ],
   "source": [
    "xmin = -5\n",
    "xmax = 5\n",
    "\n",
    "ymin = -1\n",
    "ymax = 1\n",
    "\n",
    "fig, ax = plt.subplots()\n",
    "ax.axhline(0, color='black', linestyle='-')\n",
    "ax.text(4.5,-.1,'$x$')\n",
    "ax.arrow(-5, 0, -0.1, 0, width=0.015, color='black', clip_on=False, head_width=0.15, head_length=0.15)\n",
    "ax.arrow(5, 0, 0.1, 0, width=0.015, color='black', clip_on=False, head_width=0.15, head_length=0.15)\n",
    "ax.set_ylim(ymin,ymax)\n",
    "ax.set_xlim(xmin,xmax)\n",
    "ax.set_xticks(np.arange(xmin,xmax+1,1))\n",
    "ax.grid()\n",
    "ax.axvline(0,color='orange',linestyle='-')\n",
    "ax.text(0,.1,'$x=0$',color='orange',fontsize=12)\n",
    "ax.axvline(2,color='orange',linestyle='-')\n",
    "ax.text(2,.1,'$x=2$',color='orange',fontsize=12)\n",
    "ax.set_yticks([])"
   ]
  },
  {
   "cell_type": "markdown",
   "metadata": {
    "slideshow": {
     "slide_type": "fragment"
    }
   },
   "source": [
    "The solid lines here indicate we need to <em>include</em> these boundary points as part of our solution. So we need to keep that in mind as we complete the next step of identifying regions to include in our solution."
   ]
  },
  {
   "cell_type": "markdown",
   "metadata": {
    "slideshow": {
     "slide_type": "fragment"
    }
   },
   "source": [
    "We now pick our test values:\n",
    "\n",
    "Any number to the left of $\\color{orange}{x=0}$; any number between $\\color{orange}{x=0}$ and $\\color{orange}{x=2}$; and any number to the right of $\\color{orange}{x=2}$. So... for our test values we'll go ahead and pick $\\color{purple}{x=-1}$, $\\color{purple}{x=1}$, and $\\color{purple}{x=3}$.\n",
    "\n",
    "Again note that we assigned $f(x) = x(x-2)^2$. So we have $f(\\color{purple}{-1}) = -9 < 0$, $f(\\color{purple}{1}) = 1 > 0$, and $f(\\color{purple}{3}) = 3 > 0$.\n",
    "\n",
    "Graphing this we end up with:"
   ]
  },
  {
   "cell_type": "code",
   "execution_count": 5,
   "metadata": {
    "slideshow": {
     "slide_type": "fragment"
    }
   },
   "outputs": [
    {
     "data": {
      "text/plain": [
       "[]"
      ]
     },
     "execution_count": 5,
     "metadata": {},
     "output_type": "execute_result"
    },
    {
     "data": {
      "image/png": "[encoded data removed]",
      "text/plain": [
       "<Figure size 432x288 with 1 Axes>"
      ]
     },
     "metadata": {
      "needs_background": "light"
     },
     "output_type": "display_data"
    }
   ],
   "source": [
    "fig, ax = plt.subplots()\n",
    "ax.axhline(0, color='black', linestyle='-')\n",
    "ax.text(4.5,-.1,'$x$')\n",
    "ax.arrow(-5, 0, -0.1, 0, width=0.015, color='black', clip_on=False, head_width=0.15, head_length=0.15)\n",
    "ax.arrow(5, 0, 0.1, 0, width=0.015, color='black', clip_on=False, head_width=0.15, head_length=0.15)\n",
    "ax.set_ylim(ymin,ymax)\n",
    "ax.set_xlim(xmin,xmax)\n",
    "ax.set_xticks(np.arange(xmin,xmax+1,1))\n",
    "ax.grid()\n",
    "ax.axvline(0,color='orange',linestyle='-')\n",
    "ax.text(0,.1,'$x=0$',color='orange',fontsize=12)\n",
    "ax.axvline(2,color='orange',linestyle='-')\n",
    "ax.text(2,.1,'$x=2$',color='orange',fontsize=12)\n",
    "ax.text(-2.5,.5,'$\\checkmark$',color='green',fontsize=50)\n",
    "ax.text(2.5,.5,'x',color='red',fontsize=50)\n",
    "ax.text(0.5,.5,'x',color='red',fontsize=50)\n",
    "ax.set_yticks([])"
   ]
  },
  {
   "cell_type": "markdown",
   "metadata": {
    "slideshow": {
     "slide_type": "fragment"
    }
   },
   "source": [
    "So we only have the region to the left of $x=0$, as well as the two boundary points we found earlier (since we have $\\le$).\n",
    "\n",
    "Therefore, our solution set is given by all numbers that satisfy $x \\le 0$ and the value $x=2$. In interval notation: $(-\\infty,0] \\cup \\{ 2 \\}$.\n",
    "\n",
    "Note: whenever we are listing individual values we use the $\\{\\}$ grouping symbols.\n",
    "\n",
    "And graphing the solution:"
   ]
  },
  {
   "cell_type": "code",
   "execution_count": 6,
   "metadata": {
    "slideshow": {
     "slide_type": "fragment"
    }
   },
   "outputs": [
    {
     "data": {
      "text/plain": [
       "[]"
      ]
     },
     "execution_count": 6,
     "metadata": {},
     "output_type": "execute_result"
    },
    {
     "data": {
      "image/png": "[encoded data removed]",
      "text/plain": [
       "<Figure size 432x288 with 1 Axes>"
      ]
     },
     "metadata": {
      "needs_background": "light"
     },
     "output_type": "display_data"
    }
   ],
   "source": [
    "fig, ax = plt.subplots()\n",
    "ax.axhline(0, color='black', linestyle='-')\n",
    "ax.text(4.5,-.1,'$x$')\n",
    "ax.arrow(-5, 0, -0.1, 0, width=0.015, color='black', clip_on=False, head_width=0.15, head_length=0.15)\n",
    "ax.arrow(5, 0, 0.1, 0, width=0.015, color='black', clip_on=False, head_width=0.15, head_length=0.15)\n",
    "ax.set_ylim(ymin,ymax)\n",
    "ax.set_xlim(xmin,xmax)\n",
    "ax.set_xticks(np.arange(xmin,xmax+1,1))\n",
    "ax.text(-.2,.25-0.04,']',fontsize=20,color='blue')\n",
    "ax.axhline(.25,0,.5,color='blue',linestyle='-')\n",
    "ax.arrow(-5, .25, -0.1, 0, width=0.015, color='blue', clip_on=False, head_width=0.15, head_length=0.15)\n",
    "ax.text(2-.28,.25-0.13,'$\\cdot$',fontsize=50,color='blue')\n",
    "ax.grid()\n",
    "ax.axvline(0,color='orange',linestyle='-')\n",
    "ax.text(0,.1,'$x=0$',color='orange',fontsize=12)\n",
    "ax.axvline(2,color='orange',linestyle='-')\n",
    "ax.text(2,.1,'$x=2$',color='orange',fontsize=12)\n",
    "ax.text(1,-.1,'$1$',color='purple',fontsize=12)\n",
    "ax.text(-1,-.1,'$-1$',color='purple',fontsize=12)\n",
    "ax.text(3,-.1,'$3$',color='purple',fontsize=12)\n",
    "ax.set_yticks([])"
   ]
  },
  {
   "cell_type": "markdown",
   "metadata": {
    "slideshow": {
     "slide_type": "slide"
    }
   },
   "source": [
    "##### Example:\n",
    "\n",
    "Solve and graph the inequality: $x^2 < 9$"
   ]
  },
  {
   "cell_type": "markdown",
   "metadata": {
    "slideshow": {
     "slide_type": "fragment"
    }
   },
   "source": [
    "##### Solution:\n",
    "\n",
    "Solving:\n",
    "\n",
    "\\begin{eqnarray}\n",
    "x^2 & < & 9 \\\\\n",
    "x^2 \\color{blue}{-9} & < & 9 \\color{blue}{-9} \\\\\n",
    "x^2 - 9 & < & 0 \\\\\n",
    "\\color{blue}{(x+3)(x-3)} & < & 0\n",
    "\\end{eqnarray}"
   ]
  },
  {
   "cell_type": "markdown",
   "metadata": {
    "slideshow": {
     "slide_type": "fragment"
    }
   },
   "source": [
    "So $\\color{orange}{x = -3}$ and $\\color{orange}{x = 3}$ are our boundary points. We need test points that are between and beyond these points. Possible test numbers might be $\\color{purple}{x=-4}$, $\\color{purple}{x=0}$, and $\\color{purple}{x=4}$."
   ]
  },
  {
   "cell_type": "markdown",
   "metadata": {
    "slideshow": {
     "slide_type": "fragment"
    }
   },
   "source": [
    "So we get\n",
    "\n",
    "$f(\\color{purple}{-4}) = 7 > 0 \\, \\color{red}{X}$\n",
    "\n",
    "$f(\\color{purple}{0}) = -9 < 0 \\, \\color{green}{\\checkmark}$\n",
    "\n",
    "$f(\\color{purple}{4}) = 7 > 0 \\, \\color{red}{X}$\n",
    "\n",
    "So our solution in interval notation is $(-3,3)$.\n",
    "\n",
    "And our graph looks like:"
   ]
  },
  {
   "cell_type": "code",
   "execution_count": 7,
   "metadata": {
    "slideshow": {
     "slide_type": "fragment"
    }
   },
   "outputs": [
    {
     "data": {
      "text/plain": [
       "[]"
      ]
     },
     "execution_count": 7,
     "metadata": {},
     "output_type": "execute_result"
    },
    {
     "data": {
      "image/png": "[encoded data removed]",
      "text/plain": [
       "<Figure size 432x288 with 1 Axes>"
      ]
     },
     "metadata": {
      "needs_background": "light"
     },
     "output_type": "display_data"
    }
   ],
   "source": [
    "fig, ax = plt.subplots()\n",
    "ax.axhline(0, color='black', linestyle='-')\n",
    "ax.text(4.5,-.1,'$x$')\n",
    "ax.arrow(-5, 0, -0.1, 0, width=0.015, color='black', clip_on=False, head_width=0.15, head_length=0.15)\n",
    "ax.arrow(5, 0, 0.1, 0, width=0.015, color='black', clip_on=False, head_width=0.15, head_length=0.15)\n",
    "ax.set_ylim(ymin,ymax)\n",
    "ax.set_xlim(xmin,xmax)\n",
    "ax.set_xticks(np.arange(xmin,xmax+1,1))\n",
    "ax.text(-3-.11,.25-0.04,'(',fontsize=20,color='blue')\n",
    "ax.text(3-.18,.25-0.04,')',fontsize=20,color='blue')\n",
    "ax.axhline(.25,.2,.8,color='blue',linestyle='-')\n",
    "ax.grid()\n",
    "ax.axvline(-3,color='orange',linestyle='-')\n",
    "ax.text(-3,.1,'$x=-3$',color='orange',fontsize=12)\n",
    "ax.axvline(3,color='orange',linestyle='-')\n",
    "ax.text(3,.1,'$x=3$',color='orange',fontsize=12)\n",
    "ax.text(-4,-.1,'$-4$',color='purple',fontsize=12)\n",
    "ax.text(0,-.1,'$0$',color='purple',fontsize=12)\n",
    "ax.text(4,-.1,'$4$',color='purple',fontsize=12)\n",
    "ax.set_yticks([])"
   ]
  },
  {
   "cell_type": "markdown",
   "metadata": {
    "slideshow": {
     "slide_type": "fragment"
    }
   },
   "source": [
    "##### Example:\n",
    "\n",
    "Solve and graph the inequality: $x^3 \\ge 5x^2$."
   ]
  },
  {
   "cell_type": "markdown",
   "metadata": {
    "slideshow": {
     "slide_type": "fragment"
    }
   },
   "source": [
    "##### Solution:\n",
    "\n",
    "Solving:\n",
    "\n",
    "\\begin{eqnarray}\n",
    "x^3 & \\ge & 5x^2 \\\\\n",
    "x^3 \\color{blue}{-5x^2} & \\ge & 5x^2 \\color{blue}{-5x^2} \\\\\n",
    "x^3 - 5x^2 & \\ge & 0 \\\\\n",
    "\\color{blue}{x^2}(x-5) & \\ge & 0 \\\\\n",
    "x^2(x-5) & \\ge & 0\n",
    "\\end{eqnarray}"
   ]
  },
  {
   "cell_type": "markdown",
   "metadata": {
    "slideshow": {
     "slide_type": "fragment"
    }
   },
   "source": [
    "So we have boundary numbers at $\\color{orange}{x=0}$ and $\\color{orange}{x=5}$; with $f(x) = x^2(x-5)$. Possible test numbers are $\\color{purple}{x=-1}$, $\\color{purple}{x=1}$, and $\\color{purple}{x=6}$.\n",
    "\n",
    "$f(\\color{purple}{-1}) = -6 < 0 \\, \\color{red}{X}$\n",
    "\n",
    "$f(\\color{purple}{1}) = -4 < 0 \\, \\color{red}{X}$\n",
    "\n",
    "$f(\\color{purple}{6}) = 36 > 0 \\, \\color{green}{\\checkmark}$\n",
    "\n",
    "This means only numbers larger than or equal to $x=5$ are valid, as well as $x=0$. In interval notation: $\\{0\\} \\cup [5,\\infty)$.\n",
    "\n",
    "And the graph:"
   ]
  },
  {
   "cell_type": "code",
   "execution_count": 9,
   "metadata": {
    "slideshow": {
     "slide_type": "fragment"
    }
   },
   "outputs": [
    {
     "data": {
      "text/plain": [
       "[]"
      ]
     },
     "execution_count": 9,
     "metadata": {},
     "output_type": "execute_result"
    },
    {
     "data": {
      "image/png": "[encoded data removed]",
      "text/plain": [
       "<Figure size 432x288 with 1 Axes>"
      ]
     },
     "metadata": {
      "needs_background": "light"
     },
     "output_type": "display_data"
    }
   ],
   "source": [
    "xmin = -2\n",
    "xmax = 8\n",
    "\n",
    "fig, ax = plt.subplots()\n",
    "ax.axhline(0, color='black', linestyle='-')\n",
    "ax.text(xmax-.5,-.1,'$x$')\n",
    "ax.arrow(xmin, 0, -0.1, 0, width=0.015, color='black', clip_on=False, head_width=0.15, head_length=0.15)\n",
    "ax.arrow(xmax, 0, 0.1, 0, width=0.015, color='black', clip_on=False, head_width=0.15, head_length=0.15)\n",
    "ax.set_ylim(ymin,ymax)\n",
    "ax.set_xlim(xmin,xmax)\n",
    "ax.set_xticks(np.arange(xmin,xmax+1,1))\n",
    "ax.text(5-.1,.25-0.04,'[',fontsize=20,color='blue')\n",
    "ax.axhline(.25,0.7,1,color='blue',linestyle='-')\n",
    "ax.arrow(xmax, .25, 0.1, 0, width=0.015, color='blue', clip_on=False, head_width=0.15, head_length=0.15)\n",
    "# ax.axhline(.25,0,.5,color='blue',linestyle='-')\n",
    "# ax.arrow(xmax, .25, -0.1, 0, width=0.015, color='blue', clip_on=False, head_width=0.15, head_length=0.15)\n",
    "ax.text(0-.28,.25-0.13,'$\\cdot$',fontsize=50,color='blue')\n",
    "ax.grid()\n",
    "ax.axvline(0,color='orange',linestyle='-')\n",
    "ax.text(0,.1,'$x=0$',color='orange',fontsize=12)\n",
    "ax.axvline(5,color='orange',linestyle='-')\n",
    "ax.text(5,.1,'$x=5$',color='orange',fontsize=12)\n",
    "ax.text(1,-.1,'$1$',color='purple',fontsize=12)\n",
    "ax.text(-1,-.1,'$-1$',color='purple',fontsize=12)\n",
    "ax.text(6,-.1,'$6$',color='purple',fontsize=12)\n",
    "ax.set_yticks([])"
   ]
  },
  {
   "cell_type": "markdown",
   "metadata": {
    "slideshow": {
     "slide_type": "slide"
    }
   },
   "source": [
    "##### Example:\n",
    "\n",
    "Solve and graph the inequality: $x^3 \\ge 4x$."
   ]
  },
  {
   "cell_type": "markdown",
   "metadata": {
    "slideshow": {
     "slide_type": "fragment"
    }
   },
   "source": [
    "##### Solution:\n",
    "\n",
    "Solving:\n",
    "\n",
    "\\begin{eqnarray}\n",
    "x^3 & \\ge & 4x \\\\\n",
    "x^3 \\color{blue}{-4x} & \\ge & 4x \\color{blue}{-4x} \\\\\n",
    "x^3 - 4x & \\ge & 0 \\\\\n",
    "\\color{blue}{x}(x^2-4) & \\ge & 0 \\\\\n",
    "x\\color{blue}{(x+2)(x-2)} & \\ge & 0 \\\\\n",
    "x(x+2)(x-2) & \\ge 0\n",
    "\\end{eqnarray}"
   ]
  },
  {
   "cell_type": "markdown",
   "metadata": {
    "slideshow": {
     "slide_type": "fragment"
    }
   },
   "source": [
    "So we have boundary numbers at $x=-2$, $x=0$, and $x=2$ (this means we have <em>four</em> regions to check); with $f(x) = x(x+2)(x-2)$. Possible test numbers are $x=-3$, $x=-1$, $x=1$ and $x=3$.\n",
    "\n",
    "$f(-3) = -15 < 0 \\, \\color{red}{X}$\n",
    "\n",
    "$f(-1) = 3 > 0 \\, \\color{green}{\\checkmark}$\n",
    "\n",
    "$f(1) = -3 < 0 \\, \\color{green}{X}$\n",
    "\n",
    "$f(3) = 15 > 0 \\, \\color{green}{\\checkmark}$\n",
    "\n",
    "This means numbers between $x=-2$ and $x=0$ (and including these values) are valid, as well as all values larger than or equal to $x=2$. In interval notation: $[-2,0] \\cup [2,\\infty)$.\n",
    "\n",
    "And the graph:"
   ]
  },
  {
   "cell_type": "code",
   "execution_count": 10,
   "metadata": {
    "slideshow": {
     "slide_type": "fragment"
    }
   },
   "outputs": [
    {
     "data": {
      "text/plain": [
       "[]"
      ]
     },
     "execution_count": 10,
     "metadata": {},
     "output_type": "execute_result"
    },
    {
     "data": {
      "image/png": "[encoded data removed]",
      "text/plain": [
       "<Figure size 432x288 with 1 Axes>"
      ]
     },
     "metadata": {
      "needs_background": "light"
     },
     "output_type": "display_data"
    }
   ],
   "source": [
    "xmin = -5\n",
    "xmax = 5\n",
    "\n",
    "fig, ax = plt.subplots()\n",
    "ax.axhline(0, color='black', linestyle='-')\n",
    "ax.text(xmax-.5,-.1,'$x$')\n",
    "ax.arrow(xmin, 0, -0.1, 0, width=0.015, color='black', clip_on=False, head_width=0.15, head_length=0.15)\n",
    "ax.arrow(xmax, 0, 0.1, 0, width=0.015, color='black', clip_on=False, head_width=0.15, head_length=0.15)\n",
    "ax.set_ylim(ymin,ymax)\n",
    "ax.set_xlim(xmin,xmax)\n",
    "ax.set_xticks(np.arange(xmin,xmax+1,1))\n",
    "ax.text(2-.1,.25-0.04,'[',fontsize=20,color='blue')\n",
    "ax.axhline(.25,0.7,1,color='blue',linestyle='-')\n",
    "ax.arrow(xmax, .25, 0.1, 0, width=0.015, color='blue', clip_on=False, head_width=0.15, head_length=0.15)\n",
    "ax.axhline(.25,.3,.5,color='blue',linestyle='-')\n",
    "ax.text(-2-.1,.25-0.04,'[',fontsize=20,color='blue')\n",
    "ax.text(0-.18,.25-0.04,']',fontsize=20,color='blue')\n",
    "ax.grid()\n",
    "ax.axvline(-2,color='orange',linestyle='--')\n",
    "ax.text(-2,.1,'$x=-2$',color='orange',fontsize=12)\n",
    "ax.axvline(0,color='orange',linestyle='--')\n",
    "ax.text(0,.1,'$x=0$',color='orange',fontsize=12)\n",
    "ax.axvline(2,color='orange',linestyle='--')\n",
    "ax.text(2,.1,'$x=2$',color='orange',fontsize=12)\n",
    "ax.text(-3,-.1,'$-3$',color='purple',fontsize=12)\n",
    "ax.text(-1,-.1,'$-1$',color='purple',fontsize=12)\n",
    "ax.text(1,-.1,'$1$',color='purple',fontsize=12)\n",
    "ax.text(3,-.1,'$3$',color='purple',fontsize=12)\n",
    "ax.set_yticks([])"
   ]
  },
  {
   "cell_type": "markdown",
   "metadata": {
    "slideshow": {
     "slide_type": "slide"
    }
   },
   "source": [
    "##### End of Section"
   ]
  }
 ],
 "metadata": {
  "celltoolbar": "Slideshow",
  "kernelspec": {
   "display_name": "Python 3",
   "language": "python",
   "name": "python3"
  },
  "language_info": {
   "codemirror_mode": {
    "name": "ipython",
    "version": 3
   },
   "file_extension": ".py",
   "mimetype": "text/x-python",
   "name": "python",
   "nbconvert_exporter": "python",
   "pygments_lexer": "ipython3",
   "version": "3.7.4"
  },
  "rise": {
   "enable_chalkboard": true,
   "theme": "sky",
   "transition": "zoom"
  }
 },
 "nbformat": 4,
 "nbformat_minor": 2
}
